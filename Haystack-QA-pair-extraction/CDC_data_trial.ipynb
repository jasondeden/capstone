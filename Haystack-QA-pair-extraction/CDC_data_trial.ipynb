{
 "cells": [
  {
   "cell_type": "code",
   "execution_count": null,
   "id": "e04def07-ef91-4e5d-887a-65c71489ddff",
   "metadata": {},
   "outputs": [],
   "source": []
  },
  {
   "cell_type": "code",
   "execution_count": 75,
   "id": "7ef5dee8-0f39-4c88-9281-861bc439b24d",
   "metadata": {},
   "outputs": [],
   "source": [
    "import os"
   ]
  },
  {
   "cell_type": "code",
   "execution_count": 76,
   "id": "e44a55bd-22d9-4afa-b0d6-efbddaed83ed",
   "metadata": {},
   "outputs": [],
   "source": [
    "os.chdir('/home/jupyter/haystack')"
   ]
  },
  {
   "cell_type": "code",
   "execution_count": 77,
   "id": "f88fd062-2c0a-464e-afc6-f607b80b58aa",
   "metadata": {},
   "outputs": [
    {
     "name": "stdout",
     "output_type": "stream",
     "text": [
      "/home/jupyter/haystack\n"
     ]
    }
   ],
   "source": [
    "!pwd"
   ]
  },
  {
   "cell_type": "code",
   "execution_count": 78,
   "id": "04574127-698a-49f2-8f95-715dcf931942",
   "metadata": {
    "tags": []
   },
   "outputs": [],
   "source": [
    "import haystack"
   ]
  },
  {
   "cell_type": "code",
   "execution_count": 79,
   "id": "6bea76ca-f96f-4d03-bc7d-6216f2863904",
   "metadata": {},
   "outputs": [],
   "source": [
    "from haystack.document_stores import InMemoryDocumentStore \n",
    "document_store = InMemoryDocumentStore()"
   ]
  },
  {
   "cell_type": "code",
   "execution_count": 80,
   "id": "42b12772-7502-4727-a279-f03eb8848a4a",
   "metadata": {},
   "outputs": [],
   "source": [
    "from haystack.nodes import PDFToTextConverter ##https://haystack.deepset.ai/tutorials/preprocessing"
   ]
  },
  {
   "cell_type": "code",
   "execution_count": 81,
   "id": "610a1875-031d-45e1-83ba-e50d54cdea3f",
   "metadata": {
    "tags": []
   },
   "outputs": [
    {
     "name": "stderr",
     "output_type": "stream",
     "text": [
      "pdftotext version 4.04 [www.xpdfreader.com]\n",
      "Copyright 1996-2022 Glyph & Cog, LLC\n"
     ]
    }
   ],
   "source": [
    "converter = PDFToTextConverter(remove_numeric_tables=True, valid_languages=[\"en\"])"
   ]
  },
  {
   "cell_type": "code",
   "execution_count": 82,
   "id": "1d1f6b6e-85ed-4e36-84a3-4ee0fddb83ae",
   "metadata": {},
   "outputs": [],
   "source": [
    "from haystack.nodes import PreProcessor"
   ]
  },
  {
   "cell_type": "code",
   "execution_count": 83,
   "id": "6b353aa7-f0ea-490d-b337-0951f094d76b",
   "metadata": {},
   "outputs": [],
   "source": [
    "preprocessor = PreProcessor(\n",
    "    clean_empty_lines=True,\n",
    "    clean_whitespace=True,\n",
    "    clean_header_footer=False,\n",
    "    split_by=\"word\",\n",
    "    split_length=100,\n",
    "    split_respect_sentence_boundary=True,\n",
    ")"
   ]
  },
  {
   "cell_type": "code",
   "execution_count": 84,
   "id": "a01e9b3b-9570-412c-bc13-99cc82b3672f",
   "metadata": {},
   "outputs": [],
   "source": [
    "folder_path='gs://covid-data-2022-10-30/CDC_Covid19_Data_2022_10_30/'"
   ]
  },
  {
   "cell_type": "code",
   "execution_count": 85,
   "id": "7d0bee07-3389-4ebe-a70b-c9c9c66e0d29",
   "metadata": {},
   "outputs": [],
   "source": [
    "test_file_path=\"gs://covid-data-2022-10-30/CDC_Covid19_Data_2022_10_30/EUI-FAQ.pdf\""
   ]
  },
  {
   "cell_type": "code",
   "execution_count": 86,
   "id": "f74d5bc7-6b91-45e1-850d-bf10ce20969e",
   "metadata": {},
   "outputs": [],
   "source": [
    "test_file_path2=\"gs://covid-data-2022-10-30/CDC_Covid19_Data_2022_10_30/About COVID-19 _ CDC.pdf\""
   ]
  },
  {
   "cell_type": "code",
   "execution_count": 87,
   "id": "5ecf4317-5f83-4991-ba5b-e6129ad1eaaa",
   "metadata": {},
   "outputs": [],
   "source": [
    "test_file_path3=\"gs://covid-data-2022-10-30/CDC_Covid19_Data_2022_10_30/324160-A-COVID-19_VaccinationPoster_WhatToExpect_card.pdf\""
   ]
  },
  {
   "cell_type": "code",
   "execution_count": 88,
   "id": "e84df1e5-3c34-4485-98be-f83d5e113f41",
   "metadata": {},
   "outputs": [
    {
     "name": "stderr",
     "output_type": "stream",
     "text": [
      "I/O Error: Couldn't open file 'gs://covid-data-2022-10-30/CDC_Covid19_Data_2022_10_30/EUI-FAQ.pdf'\n",
      "WARNING:haystack.nodes.file_converter.pdf:The language for gs://covid-data-2022-10-30/CDC_Covid19_Data_2022_10_30/EUI-FAQ.pdf is not one of ['en']. The file may not have been decoded in the correct text format.\n"
     ]
    }
   ],
   "source": [
    "doc_pdf_1 = converter.convert(file_path='gs://covid-data-2022-10-30/CDC_Covid19_Data_2022_10_30/EUI-FAQ.pdf', meta=None)[0]"
   ]
  },
  {
   "cell_type": "code",
   "execution_count": 89,
   "id": "3afcf463-7b23-44de-a596-df88c5d2383a",
   "metadata": {},
   "outputs": [
    {
     "name": "stdout",
     "output_type": "stream",
     "text": [
      "Copying gs://covid-data-2022-10-30/CDC_Covid19_Data_2022_10_30/EUI-FAQ.pdf...\n",
      "/ [1 files][186.9 KiB/186.9 KiB]                                                \n",
      "Operation completed over 1 objects/186.9 KiB.                                    \n"
     ]
    }
   ],
   "source": [
    "!gsutil cp $test_file_path ."
   ]
  },
  {
   "cell_type": "code",
   "execution_count": 90,
   "id": "0ed9f370-2c6e-4724-9d0f-aa5d62b79386",
   "metadata": {},
   "outputs": [
    {
     "name": "stdout",
     "output_type": "stream",
     "text": [
      "CommandException: No URLs matched: gs://covid-data-2022-10-30/CDC_Covid19_Data_2022_10_30/EIU-FAQ.pdf\n"
     ]
    }
   ],
   "source": [
    "!gsutil cp gs://covid-data-2022-10-30/CDC_Covid19_Data_2022_10_30/EIU-FAQ.pdf ."
   ]
  },
  {
   "cell_type": "code",
   "execution_count": 91,
   "id": "828740aa-e027-4ac2-be4b-d185e53268ff",
   "metadata": {},
   "outputs": [
    {
     "name": "stdout",
     "output_type": "stream",
     "text": [
      "CommandException: No URLs matched: gs://covid-data-2022-10-30/CDC_Covid19_Data_2022_10_30/About\n"
     ]
    }
   ],
   "source": [
    "!gsutil cp gs://covid-data-2022-10-30/CDC_Covid19_Data_2022_10_30/About COVID-19 _ CDC.pdf ."
   ]
  },
  {
   "cell_type": "code",
   "execution_count": null,
   "id": "417a208d-3089-455b-a60b-87a0d9fa302b",
   "metadata": {},
   "outputs": [],
   "source": [
    "### Can copy file but cannot remove"
   ]
  },
  {
   "cell_type": "code",
   "execution_count": 94,
   "id": "92bfcbdc-31a4-4738-ac5a-c1e257831b90",
   "metadata": {},
   "outputs": [
    {
     "name": "stdout",
     "output_type": "stream",
     "text": [
      "Copying gs://covid-data-2022-10-30/CDC_Covid19_Data_2022_10_30/324160-A-COVID-19_VaccinationPoster_WhatToExpect_card.pdf...\n",
      "/ [1 files][ 95.9 KiB/ 95.9 KiB]                                                \n",
      "Operation completed over 1 objects/95.9 KiB.                                     \n"
     ]
    }
   ],
   "source": [
    "!gsutil cp gs://covid-data-2022-10-30/CDC_Covid19_Data_2022_10_30/324160-A-COVID-19_VaccinationPoster_WhatToExpect_card.pdf ."
   ]
  },
  {
   "cell_type": "code",
   "execution_count": 95,
   "id": "df3a02aa-f8b7-4c67-884c-294b3d4be3cb",
   "metadata": {},
   "outputs": [],
   "source": [
    "!rm -rf 324160-A-COVID-19_VaccinationPoster_WhatToExpect_card.pdf"
   ]
  },
  {
   "cell_type": "code",
   "execution_count": null,
   "id": "7db337c8-ef33-44ef-9661-e4bdf907da16",
   "metadata": {},
   "outputs": [],
   "source": []
  },
  {
   "cell_type": "code",
   "execution_count": 30,
   "id": "70eaa597-e762-4568-ae0c-a6d6e12b613e",
   "metadata": {
    "tags": []
   },
   "outputs": [],
   "source": [
    "!gsutil ls gs://covid-data-2022-10-30/CDC_Covid19_Data_2022_10_30/ > file_list"
   ]
  },
  {
   "cell_type": "code",
   "execution_count": 41,
   "id": "f11c06cf-84ba-4ccb-8c2b-224c4aed3eb9",
   "metadata": {},
   "outputs": [],
   "source": [
    "with open(\"file_list\", \"r\") as file_list_of_file_paths:\n",
    "    read_file_paths = file_list_of_file_paths.readlines()\n",
    "file_paths_list = []\n",
    "for line in read_file_paths:\n",
    "    file_paths_list.append(line.replace(\"\\n\", \"\"))"
   ]
  },
  {
   "cell_type": "code",
   "execution_count": 42,
   "id": "6f930bf7-5a6a-4894-93df-6660103cac71",
   "metadata": {
    "collapsed": true,
    "jupyter": {
     "outputs_hidden": true
    },
    "tags": []
   },
   "outputs": [
    {
     "data": {
      "text/plain": [
       "['gs://covid-data-2022-10-30/CDC_Covid19_Data_2022_10_30/324160-A-COVID-19_VaccinationPoster_WhatToExpect_card.pdf',\n",
       " 'gs://covid-data-2022-10-30/CDC_Covid19_Data_2022_10_30/About COVID-19 Vaccines _ CDC.pdf',\n",
       " 'gs://covid-data-2022-10-30/CDC_Covid19_Data_2022_10_30/About COVID-19 _ CDC.pdf',\n",
       " 'gs://covid-data-2022-10-30/CDC_Covid19_Data_2022_10_30/Allergic Reactions after COVID-19 Vaccination _ CDC.pdf',\n",
       " 'gs://covid-data-2022-10-30/CDC_Covid19_Data_2022_10_30/Animals and COVID-19 _ CDC.pdf',\n",
       " 'gs://covid-data-2022-10-30/CDC_Covid19_Data_2022_10_30/Antibodies and COVID-19 _ CDC.pdf',\n",
       " 'gs://covid-data-2022-10-30/CDC_Covid19_Data_2022_10_30/Archive of COVID-19 Vaccination Data Updates _ CDC.pdf',\n",
       " 'gs://covid-data-2022-10-30/CDC_Covid19_Data_2022_10_30/Basics of COVID-19 _ CDC.pdf',\n",
       " 'gs://covid-data-2022-10-30/CDC_Covid19_Data_2022_10_30/Benefits of Getting A COVID-19 Vaccine _ CDC.pdf',\n",
       " 'gs://covid-data-2022-10-30/CDC_Covid19_Data_2022_10_30/Breastfeeding and Caring for Newborns if You Have COVID-19 _ CDC.pdf',\n",
       " 'gs://covid-data-2022-10-30/CDC_Covid19_Data_2022_10_30/COVID-19 Testing_ What You Need to Know _ CDC.pdf',\n",
       " 'gs://covid-data-2022-10-30/CDC_Covid19_Data_2022_10_30/COVID-19 Treatments and Medications _ CDC.pdf',\n",
       " 'gs://covid-data-2022-10-30/CDC_Covid19_Data_2022_10_30/COVID-19 Vaccination Clinical and Professional Resources _ CDC.pdf',\n",
       " 'gs://covid-data-2022-10-30/CDC_Covid19_Data_2022_10_30/COVID-19 Vaccination Data Systems and Data Sources.pdf',\n",
       " 'gs://covid-data-2022-10-30/CDC_Covid19_Data_2022_10_30/COVID-19 Vaccination Data in the United States _ CDC.pdf',\n",
       " 'gs://covid-data-2022-10-30/CDC_Covid19_Data_2022_10_30/COVID-19 Vaccination Federal Retail Pharmacy Partnership Program _ CDC.pdf',\n",
       " 'gs://covid-data-2022-10-30/CDC_Covid19_Data_2022_10_30/COVID-19 Vaccination Interim Clinical Considerations FAQs _ CDC.pdf',\n",
       " 'gs://covid-data-2022-10-30/CDC_Covid19_Data_2022_10_30/COVID-19 Vaccination Provider Requirements and Support _ CDC.pdf',\n",
       " 'gs://covid-data-2022-10-30/CDC_Covid19_Data_2022_10_30/COVID-19 Vaccination for Children and Teens with Disabilities _ Human Development and Disability _ NCBDDD _ CDC.pdf',\n",
       " 'gs://covid-data-2022-10-30/CDC_Covid19_Data_2022_10_30/COVID-19 Vaccine Access in Long-term Care Settings _ CDC.pdf',\n",
       " 'gs://covid-data-2022-10-30/CDC_Covid19_Data_2022_10_30/COVID-19 Vaccine Effectiveness Research _ CDC.pdf',\n",
       " 'gs://covid-data-2022-10-30/CDC_Covid19_Data_2022_10_30/COVID-19 Vaccine Effectiveness _ CDC.pdf',\n",
       " 'gs://covid-data-2022-10-30/CDC_Covid19_Data_2022_10_30/COVID-19 Vaccine Monitoring Systems for Pregnant People _ CDC.pdf',\n",
       " 'gs://covid-data-2022-10-30/CDC_Covid19_Data_2022_10_30/COVID-19 Vaccine Reporting Systems _ CDC.pdf',\n",
       " 'gs://covid-data-2022-10-30/CDC_Covid19_Data_2022_10_30/COVID-19 Vaccine Safety in Children and Teens _ CDC.pdf',\n",
       " 'gs://covid-data-2022-10-30/CDC_Covid19_Data_2022_10_30/COVID-19 Vaccines While Pregnant or Breastfeeding.pdf',\n",
       " 'gs://covid-data-2022-10-30/CDC_Covid19_Data_2022_10_30/COVID-19 Vaccines Work _ CDC.pdf',\n",
       " 'gs://covid-data-2022-10-30/CDC_Covid19_Data_2022_10_30/COVID-19 Vaccines for Long-term Care Residents _ CDC.pdf',\n",
       " 'gs://covid-data-2022-10-30/CDC_Covid19_Data_2022_10_30/COVID-19 Vaccines for People Who Are Moderately or Severely Immunocompromised _ CDC.pdf',\n",
       " 'gs://covid-data-2022-10-30/CDC_Covid19_Data_2022_10_30/COVID-19 Vaccines for People Who Would Like to Have a Baby _ CDC.pdf',\n",
       " 'gs://covid-data-2022-10-30/CDC_Covid19_Data_2022_10_30/COVID-19 by County _ CDC.pdf',\n",
       " 'gs://covid-data-2022-10-30/CDC_Covid19_Data_2022_10_30/COVID-19-immunization-schedule-ages-6months-older.pdf',\n",
       " 'gs://covid-data-2022-10-30/CDC_Covid19_Data_2022_10_30/COVID-19-mRNA-infographic_G_508.pdf',\n",
       " 'gs://covid-data-2022-10-30/CDC_Covid19_Data_2022_10_30/COVID19 - Caring for someone at home _ CDC.pdf',\n",
       " 'gs://covid-data-2022-10-30/CDC_Covid19_Data_2022_10_30/Caring for People with Post-COVID Conditions _ CDC.pdf',\n",
       " 'gs://covid-data-2022-10-30/CDC_Covid19_Data_2022_10_30/Clinical Considerations_ Myocarditis after mRNA COVID-19 Vaccines _ CDC.pdf',\n",
       " 'gs://covid-data-2022-10-30/CDC_Covid19_Data_2022_10_30/Clinical Guidance for COVID-19 Vaccination _ CDC.pdf',\n",
       " 'gs://covid-data-2022-10-30/CDC_Covid19_Data_2022_10_30/Cruise Ship Travel During COVID-19 _ CDC.pdf',\n",
       " 'gs://covid-data-2022-10-30/CDC_Covid19_Data_2022_10_30/Data Definitions for COVID-19 Vaccinations in the United States.pdf',\n",
       " 'gs://covid-data-2022-10-30/CDC_Covid19_Data_2022_10_30/Domestic Travel During COVID-19 _ CDC.pdf',\n",
       " 'gs://covid-data-2022-10-30/CDC_Covid19_Data_2022_10_30/EUI-FAQ.pdf',\n",
       " 'gs://covid-data-2022-10-30/CDC_Covid19_Data_2022_10_30/Ensuring COVID-19 Vaccine Safety in the US _ CDC.pdf',\n",
       " 'gs://covid-data-2022-10-30/CDC_Covid19_Data_2022_10_30/FAQs About Implementing COVID-19 Vaccination Program in Provider Practices _ CDC.pdf',\n",
       " 'gs://covid-data-2022-10-30/CDC_Covid19_Data_2022_10_30/Factors That Affect Your Risk of Getting Very Sick from COVID-19 _ CDC.pdf',\n",
       " 'gs://covid-data-2022-10-30/CDC_Covid19_Data_2022_10_30/Find Free Masks (N95 Respirators) _ CDC.pdf',\n",
       " 'gs://covid-data-2022-10-30/CDC_Covid19_Data_2022_10_30/Free N95 Respirator Manufacturers _ CDC.pdf',\n",
       " 'gs://covid-data-2022-10-30/CDC_Covid19_Data_2022_10_30/Frequently Asked Questions about COVID-19 Vaccination Data _ CDC.pdf',\n",
       " 'gs://covid-data-2022-10-30/CDC_Covid19_Data_2022_10_30/Frequently Asked Questions about COVID-19 Vaccination _ CDC.pdf',\n",
       " 'gs://covid-data-2022-10-30/CDC_Covid19_Data_2022_10_30/Getting Your COVID-19 Vaccine _ CDC.pdf',\n",
       " 'gs://covid-data-2022-10-30/CDC_Covid19_Data_2022_10_30/How CDC Monitors Vaccine Effectiveness _ CDC.pdf',\n",
       " 'gs://covid-data-2022-10-30/CDC_Covid19_Data_2022_10_30/How Coronavirus Spreads _ CDC.pdf',\n",
       " 'gs://covid-data-2022-10-30/CDC_Covid19_Data_2022_10_30/How Do I Find a COVID-19 Vaccine_ _ CDC.pdf',\n",
       " 'gs://covid-data-2022-10-30/CDC_Covid19_Data_2022_10_30/How to Protect Yourself and Others _ CDC.pdf',\n",
       " 'gs://covid-data-2022-10-30/CDC_Covid19_Data_2022_10_30/How to Use Your N95 Respirator _ CDC.pdf',\n",
       " 'gs://covid-data-2022-10-30/CDC_Covid19_Data_2022_10_30/If You Are Sick or Caring for Someone _ CDC.pdf',\n",
       " 'gs://covid-data-2022-10-30/CDC_Covid19_Data_2022_10_30/Improving Ventilation in Your Home _ CDC.pdf',\n",
       " 'gs://covid-data-2022-10-30/CDC_Covid19_Data_2022_10_30/Interactive Home Ventilation Tool _ CDC.pdf',\n",
       " 'gs://covid-data-2022-10-30/CDC_Covid19_Data_2022_10_30/Interim Clinical Considerations for Use of COVID-19 Vaccines_ Appendices, References, and Previous Updates _ CDC.pdf',\n",
       " 'gs://covid-data-2022-10-30/CDC_Covid19_Data_2022_10_30/International Travel to and from the United States _ CDC.pdf',\n",
       " 'gs://covid-data-2022-10-30/CDC_Covid19_Data_2022_10_30/Investigating Long-Term Effects of Myocarditis _ CDC.pdf',\n",
       " 'gs://covid-data-2022-10-30/CDC_Covid19_Data_2022_10_30/Isolation and Precautions for People with COVID-19 _ CDC.pdf',\n",
       " 'gs://covid-data-2022-10-30/CDC_Covid19_Data_2022_10_30/Janssen+COVID-19+Vaccine-Recipient-fact-sheet.pdf',\n",
       " 'gs://covid-data-2022-10-30/CDC_Covid19_Data_2022_10_30/Long COVID or Post-COVID Conditions _ CDC.pdf',\n",
       " 'gs://covid-data-2022-10-30/CDC_Covid19_Data_2022_10_30/Masks and Respirators.pdf',\n",
       " 'gs://covid-data-2022-10-30/CDC_Covid19_Data_2022_10_30/Moderna-Caregiver.pdf',\n",
       " 'gs://covid-data-2022-10-30/CDC_Covid19_Data_2022_10_30/Moderna-HCP.pdf',\n",
       " 'gs://covid-data-2022-10-30/CDC_Covid19_Data_2022_10_30/Monitoring COVID-19 Cases, Hospitalizations, and Deaths by Vaccination Status _ CDC.pdf',\n",
       " 'gs://covid-data-2022-10-30/CDC_Covid19_Data_2022_10_30/Monitoring COVID-19 Vaccine Effectiveness _ CDC.pdf',\n",
       " 'gs://covid-data-2022-10-30/CDC_Covid19_Data_2022_10_30/Myocarditis and Pericarditis After mRNA COVID-19 Vaccination _ CDC.pdf',\n",
       " 'gs://covid-data-2022-10-30/CDC_Covid19_Data_2022_10_30/Myths and Facts about COVID-19 Vaccines _ CDC.pdf',\n",
       " 'gs://covid-data-2022-10-30/CDC_Covid19_Data_2022_10_30/Patient Tips_ Healthcare Provider Appointments for Post-COVID Conditions _ CDC.pdf',\n",
       " 'gs://covid-data-2022-10-30/CDC_Covid19_Data_2022_10_30/People Who Are Immunocompromised _ CDC.pdf',\n",
       " 'gs://covid-data-2022-10-30/CDC_Covid19_Data_2022_10_30/People with Certain Medical Conditions _ CDC.pdf',\n",
       " 'gs://covid-data-2022-10-30/CDC_Covid19_Data_2022_10_30/People with Moderate to Severe Asthma _ CDC.pdf',\n",
       " 'gs://covid-data-2022-10-30/CDC_Covid19_Data_2022_10_30/Pfizer Biontech Recipients and Caregivers 5-11 years of age 10122022.pdf',\n",
       " 'gs://covid-data-2022-10-30/CDC_Covid19_Data_2022_10_30/Pfizer-Caregiver.pdf',\n",
       " 'gs://covid-data-2022-10-30/CDC_Covid19_Data_2022_10_30/Possible Side Effects After Getting a COVID-19 Vaccine _ CDC.pdf',\n",
       " 'gs://covid-data-2022-10-30/CDC_Covid19_Data_2022_10_30/Pregnant and Recently Pregnant People _ CDC.pdf',\n",
       " 'gs://covid-data-2022-10-30/CDC_Covid19_Data_2022_10_30/Recipients and Caregivers 12 years of age and older 08312022.pdf',\n",
       " 'gs://covid-data-2022-10-30/CDC_Covid19_Data_2022_10_30/Reinfections and COVID-19 _ CDC.pdf',\n",
       " 'gs://covid-data-2022-10-30/CDC_Covid19_Data_2022_10_30/Requirement for Proof of COVID-19 Vaccination for Air Passengers _ CDC.pdf',\n",
       " 'gs://covid-data-2022-10-30/CDC_Covid19_Data_2022_10_30/Safety of COVID-19 Vaccines _ CDC.pdf',\n",
       " 'gs://covid-data-2022-10-30/CDC_Covid19_Data_2022_10_30/Selected Adverse Events Reported after COVID-19 Vaccination _ CDC.pdf',\n",
       " 'gs://covid-data-2022-10-30/CDC_Covid19_Data_2022_10_30/Self-Testing At Home or Anywhere _ CDC.pdf',\n",
       " 'gs://covid-data-2022-10-30/CDC_Covid19_Data_2022_10_30/Self-Testing Videos _ CDC.pdf',\n",
       " 'gs://covid-data-2022-10-30/CDC_Covid19_Data_2022_10_30/SoVC_report28.pdf',\n",
       " 'gs://covid-data-2022-10-30/CDC_Covid19_Data_2022_10_30/Stay Up to Date with COVID-19 Vaccines Including Boosters _ CDC.pdf',\n",
       " 'gs://covid-data-2022-10-30/CDC_Covid19_Data_2022_10_30/Symptoms of COVID-19 _ CDC.pdf',\n",
       " 'gs://covid-data-2022-10-30/CDC_Covid19_Data_2022_10_30/Talking to Recipients about COVID-19 Vaccination _ CDC.pdf',\n",
       " 'gs://covid-data-2022-10-30/CDC_Covid19_Data_2022_10_30/Talking with Patients about COVID-19 Vaccination _ CDC.pdf',\n",
       " 'gs://covid-data-2022-10-30/CDC_Covid19_Data_2022_10_30/Training and Education for COVID-19 Vaccination _ CDC.pdf',\n",
       " 'gs://covid-data-2022-10-30/CDC_Covid19_Data_2022_10_30/Transmission _ CDC.pdf',\n",
       " 'gs://covid-data-2022-10-30/CDC_Covid19_Data_2022_10_30/Travel _ CDC.pdf',\n",
       " 'gs://covid-data-2022-10-30/CDC_Covid19_Data_2022_10_30/Travel_ Frequently Asked Questions and Answers _ CDC.pdf',\n",
       " 'gs://covid-data-2022-10-30/CDC_Covid19_Data_2022_10_30/Understanding Exposure Risks _ CDC.pdf',\n",
       " 'gs://covid-data-2022-10-30/CDC_Covid19_Data_2022_10_30/Understanding How COVID-19 Vaccines Work _ CDC.pdf',\n",
       " 'gs://covid-data-2022-10-30/CDC_Covid19_Data_2022_10_30/Understanding Risk _ CDC.pdf',\n",
       " 'gs://covid-data-2022-10-30/CDC_Covid19_Data_2022_10_30/Understanding Variants _ CDC.pdf',\n",
       " 'gs://covid-data-2022-10-30/CDC_Covid19_Data_2022_10_30/Use Masks to Slow the Spread of COVID-19.pdf',\n",
       " 'gs://covid-data-2022-10-30/CDC_Covid19_Data_2022_10_30/Use and Care of Masks _ CDC.pdf',\n",
       " 'gs://covid-data-2022-10-30/CDC_Covid19_Data_2022_10_30/Use of Agency Materials _ Other _ CDC.pdf',\n",
       " 'gs://covid-data-2022-10-30/CDC_Covid19_Data_2022_10_30/V-safe After Vaccination Health Checker _ CDC.pdf',\n",
       " 'gs://covid-data-2022-10-30/CDC_Covid19_Data_2022_10_30/Vaccinate with Confidence COVID-19 Vaccines Strategy for Adults _ CDC.pdf',\n",
       " 'gs://covid-data-2022-10-30/CDC_Covid19_Data_2022_10_30/Vaccinating Dialysis Patients and Healthcare Personnel _ CDC.pdf',\n",
       " 'gs://covid-data-2022-10-30/CDC_Covid19_Data_2022_10_30/Vaccine Adverse Event Reporting System (VAERS) _ CDC.pdf',\n",
       " 'gs://covid-data-2022-10-30/CDC_Covid19_Data_2022_10_30/Vaccine Pregnancy Registry _ CDC.pdf',\n",
       " 'gs://covid-data-2022-10-30/CDC_Covid19_Data_2022_10_30/Variants of the Virus _ CDC.pdf',\n",
       " 'gs://covid-data-2022-10-30/CDC_Covid19_Data_2022_10_30/Viral Testing Tool _ CDC.pdf',\n",
       " 'gs://covid-data-2022-10-30/CDC_Covid19_Data_2022_10_30/Wearing Masks in Travel and Public Transportation Settings _ CDC.pdf',\n",
       " 'gs://covid-data-2022-10-30/CDC_Covid19_Data_2022_10_30/What to Do If You Are Sick _ CDC.pdf',\n",
       " 'gs://covid-data-2022-10-30/CDC_Covid19_Data_2022_10_30/What to Do If You Were Exposed to COVID-19 _ CDC.pdf',\n",
       " 'gs://covid-data-2022-10-30/CDC_Covid19_Data_2022_10_30/Why Children and Teens Should Get Vaccinated Against COVID-19 _ CDC.pdf',\n",
       " 'gs://covid-data-2022-10-30/CDC_Covid19_Data_2022_10_30/appointment-checklist.pdf',\n",
       " 'gs://covid-data-2022-10-30/CDC_Covid19_Data_2022_10_30/bivalent-dose-recipient.pdf',\n",
       " 'gs://covid-data-2022-10-30/CDC_Covid19_Data_2022_10_30/child-age-transition-508.pdf',\n",
       " 'gs://covid-data-2022-10-30/CDC_Covid19_Data_2022_10_30/pfizer-HCP.pdf',\n",
       " 'gs://covid-data-2022-10-30/CDC_Covid19_Data_2022_10_30/pre-vaccination-guidelines.pdf',\n",
       " 'gs://covid-data-2022-10-30/CDC_Covid19_Data_2022_10_30/summary-interim-clinical-considerations.pdf']"
      ]
     },
     "execution_count": 42,
     "metadata": {},
     "output_type": "execute_result"
    }
   ],
   "source": [
    "file_paths_list"
   ]
  },
  {
   "cell_type": "code",
   "execution_count": null,
   "id": "027babdd-0c4e-4cb2-8027-4ab4a6b03889",
   "metadata": {},
   "outputs": [],
   "source": []
  },
  {
   "cell_type": "code",
   "execution_count": 24,
   "id": "9c73041e-a2f6-4715-9da5-3675746adbcb",
   "metadata": {},
   "outputs": [
    {
     "name": "stdout",
     "output_type": "stream",
     "text": [
      "Copying gs://covid-data-2022-10-30/CDC_Covid19_Data_2022_10_30/EUI-FAQ.pdf...\n",
      "/ [1 files][186.9 KiB/186.9 KiB]                                                \n",
      "Operation completed over 1 objects/186.9 KiB.                                    \n"
     ]
    }
   ],
   "source": [
    "!gsutil cp gs://covid-data-2022-10-30/CDC_Covid19_Data_2022_10_30/EUI-FAQ.pdf ."
   ]
  },
  {
   "cell_type": "code",
   "execution_count": 63,
   "id": "b99b5d2a-a8b8-4a8a-8413-d2cc86717564",
   "metadata": {},
   "outputs": [
    {
     "name": "stdout",
     "output_type": "stream",
     "text": [
      "/home/jupyter/haystack\n"
     ]
    }
   ],
   "source": [
    "!pwd"
   ]
  },
  {
   "cell_type": "code",
   "execution_count": 64,
   "id": "1c251069-7a50-4b60-b892-71c65e85c85d",
   "metadata": {},
   "outputs": [],
   "source": [
    "three_file_paths = file_paths_list[:3]"
   ]
  },
  {
   "cell_type": "code",
   "execution_count": 96,
   "id": "201c7a99-8ebd-4a09-a8b1-81bacb8af0cb",
   "metadata": {},
   "outputs": [
    {
     "data": {
      "text/plain": [
       "['gs://covid-data-2022-10-30/CDC_Covid19_Data_2022_10_30/324160-A-COVID-19_VaccinationPoster_WhatToExpect_card.pdf',\n",
       " 'gs://covid-data-2022-10-30/CDC_Covid19_Data_2022_10_30/About COVID-19 Vaccines _ CDC.pdf',\n",
       " 'gs://covid-data-2022-10-30/CDC_Covid19_Data_2022_10_30/About COVID-19 _ CDC.pdf']"
      ]
     },
     "execution_count": 96,
     "metadata": {},
     "output_type": "execute_result"
    }
   ],
   "source": [
    "three_file_paths"
   ]
  },
  {
   "cell_type": "code",
   "execution_count": 107,
   "id": "728f9718-9880-48db-b66d-de10ef0a21af",
   "metadata": {},
   "outputs": [],
   "source": [
    "five_file_paths = file_paths_list[:5]"
   ]
  },
  {
   "cell_type": "code",
   "execution_count": 110,
   "id": "9035e17f-0305-4ed7-be1a-2454053f9335",
   "metadata": {},
   "outputs": [],
   "source": [
    "eight_file_paths = file_paths_list[:8]"
   ]
  },
  {
   "cell_type": "code",
   "execution_count": null,
   "id": "979bbe6a-139e-445c-a7cd-2c527c4053e5",
   "metadata": {},
   "outputs": [],
   "source": [
    "### This is the best cell ever:"
   ]
  },
  {
   "cell_type": "code",
   "execution_count": 112,
   "id": "7517141e-0e45-4aa1-bd63-0d5240bc1c04",
   "metadata": {
    "collapsed": true,
    "jupyter": {
     "outputs_hidden": true
    },
    "tags": []
   },
   "outputs": [
    {
     "name": "stdout",
     "output_type": "stream",
     "text": [
      "gs://covid-data-2022-10-30/CDC_Covid19_Data_2022_10_30/324160-A-COVID-19_VaccinationPoster_WhatToExpect_card.pdf\n",
      "Copying gs://covid-data-2022-10-30/CDC_Covid19_Data_2022_10_30/324160-A-COVID-19_VaccinationPoster_WhatToExpect_card.pdf...\n",
      "/ [1 files][ 95.9 KiB/ 95.9 KiB]                                                \n",
      "Operation completed over 1 objects/95.9 KiB.                                     \n"
     ]
    },
    {
     "name": "stderr",
     "output_type": "stream",
     "text": [
      "Preprocessing: 100%|██████████| 1/1 [00:00<00:00, 1164.76docs/s]"
     ]
    },
    {
     "name": "stdout",
     "output_type": "stream",
     "text": [
      "134\n"
     ]
    },
    {
     "name": "stderr",
     "output_type": "stream",
     "text": [
      "\n"
     ]
    },
    {
     "name": "stdout",
     "output_type": "stream",
     "text": [
      "gs://covid-data-2022-10-30/CDC_Covid19_Data_2022_10_30/About COVID-19 Vaccines _ CDC.pdf\n",
      "Copying gs://covid-data-2022-10-30/CDC_Covid19_Data_2022_10_30/About COVID-19 Vaccines _ CDC.pdf...\n",
      "/ [1 files][189.4 KiB/189.4 KiB]                                                \n",
      "Operation completed over 1 objects/189.4 KiB.                                    \n"
     ]
    },
    {
     "name": "stderr",
     "output_type": "stream",
     "text": [
      "Preprocessing: 100%|██████████| 1/1 [00:00<00:00, 1256.53docs/s]"
     ]
    },
    {
     "name": "stdout",
     "output_type": "stream",
     "text": [
      "134\n"
     ]
    },
    {
     "name": "stderr",
     "output_type": "stream",
     "text": [
      "\n"
     ]
    },
    {
     "name": "stdout",
     "output_type": "stream",
     "text": [
      "gs://covid-data-2022-10-30/CDC_Covid19_Data_2022_10_30/About COVID-19 _ CDC.pdf\n",
      "Copying gs://covid-data-2022-10-30/CDC_Covid19_Data_2022_10_30/About COVID-19 _ CDC.pdf...\n",
      "/ [1 files][251.4 KiB/251.4 KiB]                                                \n",
      "Operation completed over 1 objects/251.4 KiB.                                    \n"
     ]
    },
    {
     "name": "stderr",
     "output_type": "stream",
     "text": [
      "Preprocessing: 100%|██████████| 1/1 [00:00<00:00, 1565.62docs/s]"
     ]
    },
    {
     "name": "stdout",
     "output_type": "stream",
     "text": [
      "134\n"
     ]
    },
    {
     "name": "stderr",
     "output_type": "stream",
     "text": [
      "\n"
     ]
    },
    {
     "name": "stdout",
     "output_type": "stream",
     "text": [
      "gs://covid-data-2022-10-30/CDC_Covid19_Data_2022_10_30/Allergic Reactions after COVID-19 Vaccination _ CDC.pdf\n",
      "Copying gs://covid-data-2022-10-30/CDC_Covid19_Data_2022_10_30/Allergic Reactions after COVID-19 Vaccination _ CDC.pdf...\n",
      "/ [1 files][789.2 KiB/789.2 KiB]                                                \n",
      "Operation completed over 1 objects/789.2 KiB.                                    \n"
     ]
    },
    {
     "name": "stderr",
     "output_type": "stream",
     "text": [
      "Preprocessing: 100%|██████████| 1/1 [00:00<00:00, 496.02docs/s]"
     ]
    },
    {
     "name": "stdout",
     "output_type": "stream",
     "text": [
      "134\n"
     ]
    },
    {
     "name": "stderr",
     "output_type": "stream",
     "text": [
      "\n"
     ]
    },
    {
     "name": "stdout",
     "output_type": "stream",
     "text": [
      "gs://covid-data-2022-10-30/CDC_Covid19_Data_2022_10_30/Animals and COVID-19 _ CDC.pdf\n",
      "Copying gs://covid-data-2022-10-30/CDC_Covid19_Data_2022_10_30/Animals and COVID-19 _ CDC.pdf...\n",
      "/ [1 files][758.9 KiB/758.9 KiB]                                                \n",
      "Operation completed over 1 objects/758.9 KiB.                                    \n"
     ]
    },
    {
     "name": "stderr",
     "output_type": "stream",
     "text": [
      "Preprocessing: 100%|██████████| 1/1 [00:00<00:00, 433.61docs/s]"
     ]
    },
    {
     "name": "stdout",
     "output_type": "stream",
     "text": [
      "134\n"
     ]
    },
    {
     "name": "stderr",
     "output_type": "stream",
     "text": [
      "\n"
     ]
    },
    {
     "name": "stdout",
     "output_type": "stream",
     "text": [
      "gs://covid-data-2022-10-30/CDC_Covid19_Data_2022_10_30/Antibodies and COVID-19 _ CDC.pdf\n",
      "Copying gs://covid-data-2022-10-30/CDC_Covid19_Data_2022_10_30/Antibodies and COVID-19 _ CDC.pdf...\n",
      "/ [1 files][586.9 KiB/586.9 KiB]                                                \n",
      "Operation completed over 1 objects/586.9 KiB.                                    \n"
     ]
    },
    {
     "name": "stderr",
     "output_type": "stream",
     "text": [
      "Preprocessing: 100%|██████████| 1/1 [00:00<00:00, 470.27docs/s]"
     ]
    },
    {
     "name": "stdout",
     "output_type": "stream",
     "text": [
      "134\n"
     ]
    },
    {
     "name": "stderr",
     "output_type": "stream",
     "text": [
      "\n"
     ]
    },
    {
     "name": "stdout",
     "output_type": "stream",
     "text": [
      "gs://covid-data-2022-10-30/CDC_Covid19_Data_2022_10_30/Archive of COVID-19 Vaccination Data Updates _ CDC.pdf\n",
      "Copying gs://covid-data-2022-10-30/CDC_Covid19_Data_2022_10_30/Archive of COVID-19 Vaccination Data Updates _ CDC.pdf...\n",
      "/ [1 files][  4.2 MiB/  4.2 MiB]                                                \n",
      "Operation completed over 1 objects/4.2 MiB.                                      \n"
     ]
    },
    {
     "name": "stderr",
     "output_type": "stream",
     "text": [
      "Preprocessing: 100%|██████████| 1/1 [00:00<00:00, 85.07docs/s]"
     ]
    },
    {
     "name": "stdout",
     "output_type": "stream",
     "text": [
      "134\n"
     ]
    },
    {
     "name": "stderr",
     "output_type": "stream",
     "text": [
      "\n"
     ]
    },
    {
     "name": "stdout",
     "output_type": "stream",
     "text": [
      "gs://covid-data-2022-10-30/CDC_Covid19_Data_2022_10_30/Basics of COVID-19 _ CDC.pdf\n",
      "Copying gs://covid-data-2022-10-30/CDC_Covid19_Data_2022_10_30/Basics of COVID-19 _ CDC.pdf...\n",
      "/ [1 files][ 97.7 KiB/ 97.7 KiB]                                                \n",
      "Operation completed over 1 objects/97.7 KiB.                                     \n"
     ]
    },
    {
     "name": "stderr",
     "output_type": "stream",
     "text": [
      "Preprocessing: 100%|██████████| 1/1 [00:00<00:00, 849.05docs/s]"
     ]
    },
    {
     "name": "stdout",
     "output_type": "stream",
     "text": [
      "134\n"
     ]
    },
    {
     "name": "stderr",
     "output_type": "stream",
     "text": [
      "\n"
     ]
    },
    {
     "name": "stdout",
     "output_type": "stream",
     "text": [
      "gs://covid-data-2022-10-30/CDC_Covid19_Data_2022_10_30/Benefits of Getting A COVID-19 Vaccine _ CDC.pdf\n",
      "Copying gs://covid-data-2022-10-30/CDC_Covid19_Data_2022_10_30/Benefits of Getting A COVID-19 Vaccine _ CDC.pdf...\n",
      "/ [1 files][718.0 KiB/718.0 KiB]                                                \n",
      "Operation completed over 1 objects/718.0 KiB.                                    \n"
     ]
    },
    {
     "name": "stderr",
     "output_type": "stream",
     "text": [
      "Preprocessing: 100%|██████████| 1/1 [00:00<00:00, 508.28docs/s]"
     ]
    },
    {
     "name": "stdout",
     "output_type": "stream",
     "text": [
      "146\n"
     ]
    },
    {
     "name": "stderr",
     "output_type": "stream",
     "text": [
      "\n"
     ]
    },
    {
     "name": "stdout",
     "output_type": "stream",
     "text": [
      "gs://covid-data-2022-10-30/CDC_Covid19_Data_2022_10_30/Breastfeeding and Caring for Newborns if You Have COVID-19 _ CDC.pdf\n",
      "Copying gs://covid-data-2022-10-30/CDC_Covid19_Data_2022_10_30/Breastfeeding and Caring for Newborns if You Have COVID-19 _ CDC.pdf...\n",
      "/ [1 files][  1.6 MiB/  1.6 MiB]                                                \n",
      "Operation completed over 1 objects/1.6 MiB.                                      \n"
     ]
    },
    {
     "name": "stderr",
     "output_type": "stream",
     "text": [
      "Preprocessing: 100%|██████████| 1/1 [00:00<00:00, 360.34docs/s]"
     ]
    },
    {
     "name": "stdout",
     "output_type": "stream",
     "text": [
      "166\n"
     ]
    },
    {
     "name": "stderr",
     "output_type": "stream",
     "text": [
      "\n"
     ]
    },
    {
     "name": "stdout",
     "output_type": "stream",
     "text": [
      "gs://covid-data-2022-10-30/CDC_Covid19_Data_2022_10_30/COVID-19 Testing_ What You Need to Know _ CDC.pdf\n",
      "Copying gs://covid-data-2022-10-30/CDC_Covid19_Data_2022_10_30/COVID-19 Testing_ What You Need to Know _ CDC.pdf...\n",
      "/ [1 files][594.6 KiB/594.6 KiB]                                                \n",
      "Operation completed over 1 objects/594.6 KiB.                                    \n"
     ]
    },
    {
     "name": "stderr",
     "output_type": "stream",
     "text": [
      "Preprocessing: 100%|██████████| 1/1 [00:00<00:00, 390.24docs/s]"
     ]
    },
    {
     "name": "stdout",
     "output_type": "stream",
     "text": [
      "182\n"
     ]
    },
    {
     "name": "stderr",
     "output_type": "stream",
     "text": [
      "\n"
     ]
    },
    {
     "name": "stdout",
     "output_type": "stream",
     "text": [
      "gs://covid-data-2022-10-30/CDC_Covid19_Data_2022_10_30/COVID-19 Treatments and Medications _ CDC.pdf\n",
      "Copying gs://covid-data-2022-10-30/CDC_Covid19_Data_2022_10_30/COVID-19 Treatments and Medications _ CDC.pdf...\n",
      "/ [1 files][791.8 KiB/791.8 KiB]                                                \n",
      "Operation completed over 1 objects/791.8 KiB.                                    \n"
     ]
    },
    {
     "name": "stderr",
     "output_type": "stream",
     "text": [
      "Preprocessing: 100%|██████████| 1/1 [00:00<00:00, 368.54docs/s]"
     ]
    },
    {
     "name": "stdout",
     "output_type": "stream",
     "text": [
      "194\n"
     ]
    },
    {
     "name": "stderr",
     "output_type": "stream",
     "text": [
      "\n"
     ]
    },
    {
     "name": "stdout",
     "output_type": "stream",
     "text": [
      "gs://covid-data-2022-10-30/CDC_Covid19_Data_2022_10_30/COVID-19 Vaccination Clinical and Professional Resources _ CDC.pdf\n",
      "Copying gs://covid-data-2022-10-30/CDC_Covid19_Data_2022_10_30/COVID-19 Vaccination Clinical and Professional Resources _ CDC.pdf...\n",
      "/ [1 files][944.2 KiB/944.2 KiB]                                                \n",
      "Operation completed over 1 objects/944.2 KiB.                                    \n"
     ]
    },
    {
     "name": "stderr",
     "output_type": "stream",
     "text": [
      "Preprocessing: 100%|██████████| 1/1 [00:00<00:00, 1139.14docs/s]"
     ]
    },
    {
     "name": "stdout",
     "output_type": "stream",
     "text": [
      "198\n"
     ]
    },
    {
     "name": "stderr",
     "output_type": "stream",
     "text": [
      "\n"
     ]
    },
    {
     "name": "stdout",
     "output_type": "stream",
     "text": [
      "gs://covid-data-2022-10-30/CDC_Covid19_Data_2022_10_30/COVID-19 Vaccination Data Systems and Data Sources.pdf\n",
      "Copying gs://covid-data-2022-10-30/CDC_Covid19_Data_2022_10_30/COVID-19 Vaccination Data Systems and Data Sources.pdf...\n",
      "/ [1 files][786.6 KiB/786.6 KiB]                                                \n",
      "Operation completed over 1 objects/786.6 KiB.                                    \n"
     ]
    },
    {
     "name": "stderr",
     "output_type": "stream",
     "text": [
      "Preprocessing: 100%|██████████| 1/1 [00:00<00:00, 476.73docs/s]"
     ]
    },
    {
     "name": "stdout",
     "output_type": "stream",
     "text": [
      "212\n"
     ]
    },
    {
     "name": "stderr",
     "output_type": "stream",
     "text": [
      "\n"
     ]
    },
    {
     "name": "stdout",
     "output_type": "stream",
     "text": [
      "gs://covid-data-2022-10-30/CDC_Covid19_Data_2022_10_30/COVID-19 Vaccination Data in the United States _ CDC.pdf\n",
      "Copying gs://covid-data-2022-10-30/CDC_Covid19_Data_2022_10_30/COVID-19 Vaccination Data in the United States _ CDC.pdf...\n",
      "/ [1 files][874.2 KiB/874.2 KiB]                                                \n",
      "Operation completed over 1 objects/874.2 KiB.                                    \n"
     ]
    },
    {
     "name": "stderr",
     "output_type": "stream",
     "text": [
      "Preprocessing: 100%|██████████| 1/1 [00:00<00:00, 852.33docs/s]"
     ]
    },
    {
     "name": "stdout",
     "output_type": "stream",
     "text": [
      "218\n"
     ]
    },
    {
     "name": "stderr",
     "output_type": "stream",
     "text": [
      "\n"
     ]
    },
    {
     "name": "stdout",
     "output_type": "stream",
     "text": [
      "gs://covid-data-2022-10-30/CDC_Covid19_Data_2022_10_30/COVID-19 Vaccination Federal Retail Pharmacy Partnership Program _ CDC.pdf\n",
      "Copying gs://covid-data-2022-10-30/CDC_Covid19_Data_2022_10_30/COVID-19 Vaccination Federal Retail Pharmacy Partnership Program _ CDC.pdf...\n",
      "/ [1 files][268.1 KiB/268.1 KiB]                                                \n",
      "Operation completed over 1 objects/268.1 KiB.                                    \n"
     ]
    },
    {
     "name": "stderr",
     "output_type": "stream",
     "text": [
      "Preprocessing: 100%|██████████| 1/1 [00:00<00:00, 816.81docs/s]"
     ]
    },
    {
     "name": "stdout",
     "output_type": "stream",
     "text": [
      "224\n"
     ]
    },
    {
     "name": "stderr",
     "output_type": "stream",
     "text": [
      "\n"
     ]
    },
    {
     "name": "stdout",
     "output_type": "stream",
     "text": [
      "gs://covid-data-2022-10-30/CDC_Covid19_Data_2022_10_30/COVID-19 Vaccination Interim Clinical Considerations FAQs _ CDC.pdf\n",
      "Copying gs://covid-data-2022-10-30/CDC_Covid19_Data_2022_10_30/COVID-19 Vaccination Interim Clinical Considerations FAQs _ CDC.pdf...\n",
      "/ [1 files][677.5 KiB/677.5 KiB]                                                \n",
      "Operation completed over 1 objects/677.5 KiB.                                    \n"
     ]
    },
    {
     "name": "stderr",
     "output_type": "stream",
     "text": [
      "Preprocessing: 100%|██████████| 1/1 [00:00<00:00, 158.74docs/s]"
     ]
    },
    {
     "name": "stdout",
     "output_type": "stream",
     "text": [
      "265\n"
     ]
    },
    {
     "name": "stderr",
     "output_type": "stream",
     "text": [
      "\n"
     ]
    },
    {
     "name": "stdout",
     "output_type": "stream",
     "text": [
      "gs://covid-data-2022-10-30/CDC_Covid19_Data_2022_10_30/COVID-19 Vaccination Provider Requirements and Support _ CDC.pdf\n",
      "Copying gs://covid-data-2022-10-30/CDC_Covid19_Data_2022_10_30/COVID-19 Vaccination Provider Requirements and Support _ CDC.pdf...\n",
      "/ [1 files][  4.5 MiB/  4.5 MiB]                                                \n",
      "Operation completed over 1 objects/4.5 MiB.                                      \n"
     ]
    },
    {
     "name": "stderr",
     "output_type": "stream",
     "text": [
      "Preprocessing: 100%|██████████| 1/1 [00:00<00:00, 165.91docs/s]"
     ]
    },
    {
     "name": "stdout",
     "output_type": "stream",
     "text": [
      "320\n"
     ]
    },
    {
     "name": "stderr",
     "output_type": "stream",
     "text": [
      "\n"
     ]
    },
    {
     "name": "stdout",
     "output_type": "stream",
     "text": [
      "gs://covid-data-2022-10-30/CDC_Covid19_Data_2022_10_30/COVID-19 Vaccination for Children and Teens with Disabilities _ Human Development and Disability _ NCBDDD _ CDC.pdf\n",
      "Copying gs://covid-data-2022-10-30/CDC_Covid19_Data_2022_10_30/COVID-19 Vaccination for Children and Teens with Disabilities _ Human Development and Disability _ NCBDDD _ CDC.pdf...\n",
      "/ [1 files][324.2 KiB/324.2 KiB]                                                \n",
      "Operation completed over 1 objects/324.2 KiB.                                    \n"
     ]
    },
    {
     "name": "stderr",
     "output_type": "stream",
     "text": [
      "Preprocessing: 100%|██████████| 1/1 [00:00<00:00, 732.25docs/s]"
     ]
    },
    {
     "name": "stdout",
     "output_type": "stream",
     "text": [
      "327\n"
     ]
    },
    {
     "name": "stderr",
     "output_type": "stream",
     "text": [
      "\n"
     ]
    },
    {
     "name": "stdout",
     "output_type": "stream",
     "text": [
      "gs://covid-data-2022-10-30/CDC_Covid19_Data_2022_10_30/COVID-19 Vaccine Access in Long-term Care Settings _ CDC.pdf\n",
      "Copying gs://covid-data-2022-10-30/CDC_Covid19_Data_2022_10_30/COVID-19 Vaccine Access in Long-term Care Settings _ CDC.pdf...\n",
      "/ [1 files][501.8 KiB/501.8 KiB]                                                \n",
      "Operation completed over 1 objects/501.8 KiB.                                    \n"
     ]
    },
    {
     "name": "stderr",
     "output_type": "stream",
     "text": [
      "Preprocessing: 100%|██████████| 1/1 [00:00<00:00, 945.94docs/s]"
     ]
    },
    {
     "name": "stdout",
     "output_type": "stream",
     "text": [
      "332\n"
     ]
    },
    {
     "name": "stderr",
     "output_type": "stream",
     "text": [
      "\n"
     ]
    },
    {
     "name": "stdout",
     "output_type": "stream",
     "text": [
      "gs://covid-data-2022-10-30/CDC_Covid19_Data_2022_10_30/COVID-19 Vaccine Effectiveness Research _ CDC.pdf\n",
      "Copying gs://covid-data-2022-10-30/CDC_Covid19_Data_2022_10_30/COVID-19 Vaccine Effectiveness Research _ CDC.pdf...\n",
      "/ [1 files][854.6 KiB/854.6 KiB]                                                \n",
      "Operation completed over 1 objects/854.6 KiB.                                    \n"
     ]
    },
    {
     "name": "stderr",
     "output_type": "stream",
     "text": [
      "Preprocessing: 100%|██████████| 1/1 [00:00<00:00, 749.12docs/s]"
     ]
    },
    {
     "name": "stdout",
     "output_type": "stream",
     "text": [
      "338\n"
     ]
    },
    {
     "name": "stderr",
     "output_type": "stream",
     "text": [
      "\n"
     ]
    },
    {
     "name": "stdout",
     "output_type": "stream",
     "text": [
      "gs://covid-data-2022-10-30/CDC_Covid19_Data_2022_10_30/COVID-19 Vaccine Effectiveness _ CDC.pdf\n",
      "Copying gs://covid-data-2022-10-30/CDC_Covid19_Data_2022_10_30/COVID-19 Vaccine Effectiveness _ CDC.pdf...\n",
      "/ [1 files][211.6 KiB/211.6 KiB]                                                \n",
      "Operation completed over 1 objects/211.6 KiB.                                    \n"
     ]
    },
    {
     "name": "stderr",
     "output_type": "stream",
     "text": [
      "Preprocessing: 100%|██████████| 1/1 [00:00<00:00, 1180.83docs/s]"
     ]
    },
    {
     "name": "stdout",
     "output_type": "stream",
     "text": [
      "341\n"
     ]
    },
    {
     "name": "stderr",
     "output_type": "stream",
     "text": [
      "\n"
     ]
    },
    {
     "name": "stdout",
     "output_type": "stream",
     "text": [
      "gs://covid-data-2022-10-30/CDC_Covid19_Data_2022_10_30/COVID-19 Vaccine Monitoring Systems for Pregnant People _ CDC.pdf\n",
      "Copying gs://covid-data-2022-10-30/CDC_Covid19_Data_2022_10_30/COVID-19 Vaccine Monitoring Systems for Pregnant People _ CDC.pdf...\n",
      "/ [1 files][428.5 KiB/428.5 KiB]                                                \n",
      "Operation completed over 1 objects/428.5 KiB.                                    \n"
     ]
    },
    {
     "name": "stderr",
     "output_type": "stream",
     "text": [
      "Preprocessing: 100%|██████████| 1/1 [00:00<00:00, 872.54docs/s]"
     ]
    },
    {
     "name": "stdout",
     "output_type": "stream",
     "text": [
      "348\n"
     ]
    },
    {
     "name": "stderr",
     "output_type": "stream",
     "text": [
      "\n"
     ]
    },
    {
     "name": "stdout",
     "output_type": "stream",
     "text": [
      "gs://covid-data-2022-10-30/CDC_Covid19_Data_2022_10_30/COVID-19 Vaccine Reporting Systems _ CDC.pdf\n",
      "Copying gs://covid-data-2022-10-30/CDC_Covid19_Data_2022_10_30/COVID-19 Vaccine Reporting Systems _ CDC.pdf...\n",
      "/ [1 files][396.2 KiB/396.2 KiB]                                                \n",
      "Operation completed over 1 objects/396.2 KiB.                                    \n"
     ]
    },
    {
     "name": "stderr",
     "output_type": "stream",
     "text": [
      "Preprocessing: 100%|██████████| 1/1 [00:00<00:00, 627.14docs/s]"
     ]
    },
    {
     "name": "stdout",
     "output_type": "stream",
     "text": [
      "357\n"
     ]
    },
    {
     "name": "stderr",
     "output_type": "stream",
     "text": [
      "\n"
     ]
    },
    {
     "name": "stdout",
     "output_type": "stream",
     "text": [
      "gs://covid-data-2022-10-30/CDC_Covid19_Data_2022_10_30/COVID-19 Vaccine Safety in Children and Teens _ CDC.pdf\n",
      "Copying gs://covid-data-2022-10-30/CDC_Covid19_Data_2022_10_30/COVID-19 Vaccine Safety in Children and Teens _ CDC.pdf...\n",
      "/ [1 files][168.8 KiB/168.8 KiB]                                                \n",
      "Operation completed over 1 objects/168.8 KiB.                                    \n"
     ]
    },
    {
     "name": "stderr",
     "output_type": "stream",
     "text": [
      "Preprocessing: 100%|██████████| 1/1 [00:00<00:00, 656.59docs/s]"
     ]
    },
    {
     "name": "stdout",
     "output_type": "stream",
     "text": [
      "367\n"
     ]
    },
    {
     "name": "stderr",
     "output_type": "stream",
     "text": [
      "\n"
     ]
    },
    {
     "name": "stdout",
     "output_type": "stream",
     "text": [
      "gs://covid-data-2022-10-30/CDC_Covid19_Data_2022_10_30/COVID-19 Vaccines While Pregnant or Breastfeeding.pdf\n",
      "Copying gs://covid-data-2022-10-30/CDC_Covid19_Data_2022_10_30/COVID-19 Vaccines While Pregnant or Breastfeeding.pdf...\n",
      "/ [1 files][  1.4 MiB/  1.4 MiB]                                                \n",
      "Operation completed over 1 objects/1.4 MiB.                                      \n"
     ]
    },
    {
     "name": "stderr",
     "output_type": "stream",
     "text": [
      "Preprocessing: 100%|██████████| 1/1 [00:00<00:00, 139.30docs/s]"
     ]
    },
    {
     "name": "stdout",
     "output_type": "stream",
     "text": [
      "400\n"
     ]
    },
    {
     "name": "stderr",
     "output_type": "stream",
     "text": [
      "\n"
     ]
    },
    {
     "name": "stdout",
     "output_type": "stream",
     "text": [
      "gs://covid-data-2022-10-30/CDC_Covid19_Data_2022_10_30/COVID-19 Vaccines Work _ CDC.pdf\n",
      "Copying gs://covid-data-2022-10-30/CDC_Covid19_Data_2022_10_30/COVID-19 Vaccines Work _ CDC.pdf...\n",
      "/ [1 files][131.9 KiB/131.9 KiB]                                                \n",
      "Operation completed over 1 objects/131.9 KiB.                                    \n"
     ]
    },
    {
     "name": "stderr",
     "output_type": "stream",
     "text": [
      "Preprocessing: 100%|██████████| 1/1 [00:00<00:00, 791.38docs/s]"
     ]
    },
    {
     "name": "stdout",
     "output_type": "stream",
     "text": [
      "405\n"
     ]
    },
    {
     "name": "stderr",
     "output_type": "stream",
     "text": [
      "\n"
     ]
    },
    {
     "name": "stdout",
     "output_type": "stream",
     "text": [
      "gs://covid-data-2022-10-30/CDC_Covid19_Data_2022_10_30/COVID-19 Vaccines for Long-term Care Residents _ CDC.pdf\n",
      "Copying gs://covid-data-2022-10-30/CDC_Covid19_Data_2022_10_30/COVID-19 Vaccines for Long-term Care Residents _ CDC.pdf...\n",
      "/ [1 files][954.3 KiB/954.3 KiB]                                                \n",
      "Operation completed over 1 objects/954.3 KiB.                                    \n"
     ]
    },
    {
     "name": "stderr",
     "output_type": "stream",
     "text": [
      "Preprocessing: 100%|██████████| 1/1 [00:00<00:00, 594.01docs/s]"
     ]
    },
    {
     "name": "stdout",
     "output_type": "stream",
     "text": [
      "415\n"
     ]
    },
    {
     "name": "stderr",
     "output_type": "stream",
     "text": [
      "\n"
     ]
    },
    {
     "name": "stdout",
     "output_type": "stream",
     "text": [
      "gs://covid-data-2022-10-30/CDC_Covid19_Data_2022_10_30/COVID-19 Vaccines for People Who Are Moderately or Severely Immunocompromised _ CDC.pdf\n",
      "Copying gs://covid-data-2022-10-30/CDC_Covid19_Data_2022_10_30/COVID-19 Vaccines for People Who Are Moderately or Severely Immunocompromised _ CDC.pdf...\n",
      "/ [1 files][859.0 KiB/859.0 KiB]                                                \n",
      "Operation completed over 1 objects/859.0 KiB.                                    \n"
     ]
    },
    {
     "name": "stderr",
     "output_type": "stream",
     "text": [
      "Preprocessing: 100%|██████████| 1/1 [00:00<00:00, 386.25docs/s]"
     ]
    },
    {
     "name": "stdout",
     "output_type": "stream",
     "text": [
      "431\n"
     ]
    },
    {
     "name": "stderr",
     "output_type": "stream",
     "text": [
      "\n"
     ]
    },
    {
     "name": "stdout",
     "output_type": "stream",
     "text": [
      "gs://covid-data-2022-10-30/CDC_Covid19_Data_2022_10_30/COVID-19 Vaccines for People Who Would Like to Have a Baby _ CDC.pdf\n",
      "Copying gs://covid-data-2022-10-30/CDC_Covid19_Data_2022_10_30/COVID-19 Vaccines for People Who Would Like to Have a Baby _ CDC.pdf...\n",
      "/ [1 files][769.1 KiB/769.1 KiB]                                                \n",
      "Operation completed over 1 objects/769.1 KiB.                                    \n"
     ]
    },
    {
     "name": "stderr",
     "output_type": "stream",
     "text": [
      "Preprocessing: 100%|██████████| 1/1 [00:00<00:00, 254.99docs/s]"
     ]
    },
    {
     "name": "stdout",
     "output_type": "stream",
     "text": [
      "446\n"
     ]
    },
    {
     "name": "stderr",
     "output_type": "stream",
     "text": [
      "\n"
     ]
    },
    {
     "name": "stdout",
     "output_type": "stream",
     "text": [
      "gs://covid-data-2022-10-30/CDC_Covid19_Data_2022_10_30/COVID-19 by County _ CDC.pdf\n",
      "Copying gs://covid-data-2022-10-30/CDC_Covid19_Data_2022_10_30/COVID-19 by County _ CDC.pdf...\n",
      "/ [1 files][373.4 KiB/373.4 KiB]                                                \n",
      "Operation completed over 1 objects/373.4 KiB.                                    \n"
     ]
    },
    {
     "name": "stderr",
     "output_type": "stream",
     "text": [
      "Preprocessing: 100%|██████████| 1/1 [00:00<00:00, 765.94docs/s]"
     ]
    },
    {
     "name": "stdout",
     "output_type": "stream",
     "text": [
      "453\n"
     ]
    },
    {
     "name": "stderr",
     "output_type": "stream",
     "text": [
      "\n"
     ]
    },
    {
     "name": "stdout",
     "output_type": "stream",
     "text": [
      "gs://covid-data-2022-10-30/CDC_Covid19_Data_2022_10_30/COVID-19-immunization-schedule-ages-6months-older.pdf\n",
      "Copying gs://covid-data-2022-10-30/CDC_Covid19_Data_2022_10_30/COVID-19-immunization-schedule-ages-6months-older.pdf...\n",
      "/ [1 files][207.1 KiB/207.1 KiB]                                                \n",
      "Operation completed over 1 objects/207.1 KiB.                                    \n"
     ]
    },
    {
     "name": "stderr",
     "output_type": "stream",
     "text": [
      "Preprocessing: 100%|██████████| 1/1 [00:00<00:00, 475.17docs/s]"
     ]
    },
    {
     "name": "stdout",
     "output_type": "stream",
     "text": [
      "467\n"
     ]
    },
    {
     "name": "stderr",
     "output_type": "stream",
     "text": [
      "\n"
     ]
    },
    {
     "name": "stdout",
     "output_type": "stream",
     "text": [
      "gs://covid-data-2022-10-30/CDC_Covid19_Data_2022_10_30/COVID-19-mRNA-infographic_G_508.pdf\n",
      "Copying gs://covid-data-2022-10-30/CDC_Covid19_Data_2022_10_30/COVID-19-mRNA-infographic_G_508.pdf...\n",
      "/ [1 files][175.9 KiB/175.9 KiB]                                                \n",
      "Operation completed over 1 objects/175.9 KiB.                                    \n"
     ]
    },
    {
     "name": "stderr",
     "output_type": "stream",
     "text": [
      "Preprocessing: 100%|██████████| 1/1 [00:00<00:00, 1162.50docs/s]"
     ]
    },
    {
     "name": "stdout",
     "output_type": "stream",
     "text": [
      "469\n"
     ]
    },
    {
     "name": "stderr",
     "output_type": "stream",
     "text": [
      "\n"
     ]
    },
    {
     "name": "stdout",
     "output_type": "stream",
     "text": [
      "gs://covid-data-2022-10-30/CDC_Covid19_Data_2022_10_30/COVID19 - Caring for someone at home _ CDC.pdf\n",
      "Copying gs://covid-data-2022-10-30/CDC_Covid19_Data_2022_10_30/COVID19 - Caring for someone at home _ CDC.pdf...\n",
      "/ [1 files][842.7 KiB/842.7 KiB]                                                \n",
      "Operation completed over 1 objects/842.7 KiB.                                    \n"
     ]
    },
    {
     "name": "stderr",
     "output_type": "stream",
     "text": [
      "Preprocessing: 100%|██████████| 1/1 [00:00<00:00, 319.23docs/s]"
     ]
    },
    {
     "name": "stdout",
     "output_type": "stream",
     "text": [
      "487\n"
     ]
    },
    {
     "name": "stderr",
     "output_type": "stream",
     "text": [
      "\n"
     ]
    },
    {
     "name": "stdout",
     "output_type": "stream",
     "text": [
      "gs://covid-data-2022-10-30/CDC_Covid19_Data_2022_10_30/Caring for People with Post-COVID Conditions _ CDC.pdf\n",
      "Copying gs://covid-data-2022-10-30/CDC_Covid19_Data_2022_10_30/Caring for People with Post-COVID Conditions _ CDC.pdf...\n",
      "/ [1 files][549.2 KiB/549.2 KiB]                                                \n",
      "Operation completed over 1 objects/549.2 KiB.                                    \n"
     ]
    },
    {
     "name": "stderr",
     "output_type": "stream",
     "text": [
      "Preprocessing: 100%|██████████| 1/1 [00:00<00:00, 367.18docs/s]"
     ]
    },
    {
     "name": "stdout",
     "output_type": "stream",
     "text": [
      "501\n"
     ]
    },
    {
     "name": "stderr",
     "output_type": "stream",
     "text": [
      "\n"
     ]
    },
    {
     "name": "stdout",
     "output_type": "stream",
     "text": [
      "gs://covid-data-2022-10-30/CDC_Covid19_Data_2022_10_30/Clinical Considerations_ Myocarditis after mRNA COVID-19 Vaccines _ CDC.pdf\n",
      "Copying gs://covid-data-2022-10-30/CDC_Covid19_Data_2022_10_30/Clinical Considerations_ Myocarditis after mRNA COVID-19 Vaccines _ CDC.pdf...\n",
      "/ [1 files][112.6 KiB/112.6 KiB]                                                \n",
      "Operation completed over 1 objects/112.6 KiB.                                    \n"
     ]
    },
    {
     "name": "stderr",
     "output_type": "stream",
     "text": [
      "Preprocessing: 100%|██████████| 1/1 [00:00<00:00, 654.34docs/s]"
     ]
    },
    {
     "name": "stdout",
     "output_type": "stream",
     "text": [
      "509\n"
     ]
    },
    {
     "name": "stderr",
     "output_type": "stream",
     "text": [
      "\n"
     ]
    },
    {
     "name": "stdout",
     "output_type": "stream",
     "text": [
      "gs://covid-data-2022-10-30/CDC_Covid19_Data_2022_10_30/Clinical Guidance for COVID-19 Vaccination _ CDC.pdf\n",
      "Copying gs://covid-data-2022-10-30/CDC_Covid19_Data_2022_10_30/Clinical Guidance for COVID-19 Vaccination _ CDC.pdf...\n",
      "/ [1 files][  6.4 MiB/  6.4 MiB]                                                \n",
      "Operation completed over 1 objects/6.4 MiB.                                      \n"
     ]
    },
    {
     "name": "stderr",
     "output_type": "stream",
     "text": [
      "Preprocessing: 100%|██████████| 1/1 [00:00<00:00, 78.43docs/s]"
     ]
    },
    {
     "name": "stdout",
     "output_type": "stream",
     "text": [
      "619\n"
     ]
    },
    {
     "name": "stderr",
     "output_type": "stream",
     "text": [
      "\n"
     ]
    },
    {
     "name": "stdout",
     "output_type": "stream",
     "text": [
      "gs://covid-data-2022-10-30/CDC_Covid19_Data_2022_10_30/Cruise Ship Travel During COVID-19 _ CDC.pdf\n",
      "Copying gs://covid-data-2022-10-30/CDC_Covid19_Data_2022_10_30/Cruise Ship Travel During COVID-19 _ CDC.pdf...\n",
      "/ [1 files][615.1 KiB/615.1 KiB]                                                \n",
      "Operation completed over 1 objects/615.1 KiB.                                    \n"
     ]
    },
    {
     "name": "stderr",
     "output_type": "stream",
     "text": [
      "Preprocessing: 100%|██████████| 1/1 [00:00<00:00, 374.42docs/s]"
     ]
    },
    {
     "name": "stdout",
     "output_type": "stream",
     "text": [
      "631\n"
     ]
    },
    {
     "name": "stderr",
     "output_type": "stream",
     "text": [
      "\n"
     ]
    },
    {
     "name": "stdout",
     "output_type": "stream",
     "text": [
      "gs://covid-data-2022-10-30/CDC_Covid19_Data_2022_10_30/Data Definitions for COVID-19 Vaccinations in the United States.pdf\n",
      "Copying gs://covid-data-2022-10-30/CDC_Covid19_Data_2022_10_30/Data Definitions for COVID-19 Vaccinations in the United States.pdf...\n",
      "/ [1 files][627.9 KiB/627.9 KiB]                                                \n",
      "Operation completed over 1 objects/627.9 KiB.                                    \n"
     ]
    },
    {
     "name": "stderr",
     "output_type": "stream",
     "text": [
      "Preprocessing: 100%|██████████| 1/1 [00:00<00:00, 421.79docs/s]"
     ]
    },
    {
     "name": "stdout",
     "output_type": "stream",
     "text": [
      "648\n"
     ]
    },
    {
     "name": "stderr",
     "output_type": "stream",
     "text": [
      "\n"
     ]
    },
    {
     "name": "stdout",
     "output_type": "stream",
     "text": [
      "gs://covid-data-2022-10-30/CDC_Covid19_Data_2022_10_30/Domestic Travel During COVID-19 _ CDC.pdf\n",
      "Copying gs://covid-data-2022-10-30/CDC_Covid19_Data_2022_10_30/Domestic Travel During COVID-19 _ CDC.pdf...\n",
      "/ [1 files][573.8 KiB/573.8 KiB]                                                \n",
      "Operation completed over 1 objects/573.8 KiB.                                    \n"
     ]
    },
    {
     "name": "stderr",
     "output_type": "stream",
     "text": [
      "Preprocessing: 100%|██████████| 1/1 [00:00<00:00, 455.41docs/s]"
     ]
    },
    {
     "name": "stdout",
     "output_type": "stream",
     "text": [
      "658\n"
     ]
    },
    {
     "name": "stderr",
     "output_type": "stream",
     "text": [
      "\n"
     ]
    },
    {
     "name": "stdout",
     "output_type": "stream",
     "text": [
      "gs://covid-data-2022-10-30/CDC_Covid19_Data_2022_10_30/EUI-FAQ.pdf\n",
      "Copying gs://covid-data-2022-10-30/CDC_Covid19_Data_2022_10_30/EUI-FAQ.pdf...\n",
      "/ [1 files][186.9 KiB/186.9 KiB]                                                \n",
      "Operation completed over 1 objects/186.9 KiB.                                    \n"
     ]
    },
    {
     "name": "stderr",
     "output_type": "stream",
     "text": [
      "Preprocessing: 100%|██████████| 1/1 [00:00<00:00, 483.21docs/s]"
     ]
    },
    {
     "name": "stdout",
     "output_type": "stream",
     "text": [
      "680\n"
     ]
    },
    {
     "name": "stderr",
     "output_type": "stream",
     "text": [
      "\n"
     ]
    },
    {
     "name": "stdout",
     "output_type": "stream",
     "text": [
      "gs://covid-data-2022-10-30/CDC_Covid19_Data_2022_10_30/Ensuring COVID-19 Vaccine Safety in the US _ CDC.pdf\n",
      "Copying gs://covid-data-2022-10-30/CDC_Covid19_Data_2022_10_30/Ensuring COVID-19 Vaccine Safety in the US _ CDC.pdf...\n",
      "/ [1 files][225.9 KiB/225.9 KiB]                                                \n",
      "Operation completed over 1 objects/225.9 KiB.                                    \n"
     ]
    },
    {
     "name": "stderr",
     "output_type": "stream",
     "text": [
      "Preprocessing: 100%|██████████| 1/1 [00:00<00:00, 918.19docs/s]"
     ]
    },
    {
     "name": "stdout",
     "output_type": "stream",
     "text": [
      "685\n"
     ]
    },
    {
     "name": "stderr",
     "output_type": "stream",
     "text": [
      "\n"
     ]
    },
    {
     "name": "stdout",
     "output_type": "stream",
     "text": [
      "gs://covid-data-2022-10-30/CDC_Covid19_Data_2022_10_30/FAQs About Implementing COVID-19 Vaccination Program in Provider Practices _ CDC.pdf\n",
      "Copying gs://covid-data-2022-10-30/CDC_Covid19_Data_2022_10_30/FAQs About Implementing COVID-19 Vaccination Program in Provider Practices _ CDC.pdf...\n",
      "/ [1 files][252.1 KiB/252.1 KiB]                                                \n",
      "Operation completed over 1 objects/252.1 KiB.                                    \n"
     ]
    },
    {
     "name": "stderr",
     "output_type": "stream",
     "text": [
      "Preprocessing: 100%|██████████| 1/1 [00:00<00:00, 294.42docs/s]"
     ]
    },
    {
     "name": "stdout",
     "output_type": "stream",
     "text": [
      "703\n"
     ]
    },
    {
     "name": "stderr",
     "output_type": "stream",
     "text": [
      "\n"
     ]
    },
    {
     "name": "stdout",
     "output_type": "stream",
     "text": [
      "gs://covid-data-2022-10-30/CDC_Covid19_Data_2022_10_30/Factors That Affect Your Risk of Getting Very Sick from COVID-19 _ CDC.pdf\n",
      "Copying gs://covid-data-2022-10-30/CDC_Covid19_Data_2022_10_30/Factors That Affect Your Risk of Getting Very Sick from COVID-19 _ CDC.pdf...\n",
      "/ [1 files][737.0 KiB/737.0 KiB]                                                \n",
      "Operation completed over 1 objects/737.0 KiB.                                    \n"
     ]
    },
    {
     "name": "stderr",
     "output_type": "stream",
     "text": [
      "Preprocessing: 100%|██████████| 1/1 [00:00<00:00, 544.79docs/s]"
     ]
    },
    {
     "name": "stdout",
     "output_type": "stream",
     "text": [
      "714\n"
     ]
    },
    {
     "name": "stderr",
     "output_type": "stream",
     "text": [
      "\n"
     ]
    },
    {
     "name": "stdout",
     "output_type": "stream",
     "text": [
      "gs://covid-data-2022-10-30/CDC_Covid19_Data_2022_10_30/Find Free Masks (N95 Respirators) _ CDC.pdf\n",
      "Copying gs://covid-data-2022-10-30/CDC_Covid19_Data_2022_10_30/Find Free Masks (N95 Respirators) _ CDC.pdf...\n",
      "/ [1 files][821.9 KiB/821.9 KiB]                                                \n",
      "Operation completed over 1 objects/821.9 KiB.                                    \n"
     ]
    },
    {
     "name": "stderr",
     "output_type": "stream",
     "text": [
      "Preprocessing: 100%|██████████| 1/1 [00:00<00:00, 1438.38docs/s]"
     ]
    },
    {
     "name": "stdout",
     "output_type": "stream",
     "text": [
      "715\n"
     ]
    },
    {
     "name": "stderr",
     "output_type": "stream",
     "text": [
      "\n"
     ]
    },
    {
     "name": "stdout",
     "output_type": "stream",
     "text": [
      "gs://covid-data-2022-10-30/CDC_Covid19_Data_2022_10_30/Free N95 Respirator Manufacturers _ CDC.pdf\n",
      "Copying gs://covid-data-2022-10-30/CDC_Covid19_Data_2022_10_30/Free N95 Respirator Manufacturers _ CDC.pdf...\n",
      "/ [1 files][  8.5 MiB/  8.5 MiB]                                                \n",
      "Operation completed over 1 objects/8.5 MiB.                                      \n"
     ]
    },
    {
     "name": "stderr",
     "output_type": "stream",
     "text": [
      "Preprocessing: 100%|██████████| 1/1 [00:00<00:00, 1110.78docs/s]"
     ]
    },
    {
     "name": "stdout",
     "output_type": "stream",
     "text": [
      "719\n"
     ]
    },
    {
     "name": "stderr",
     "output_type": "stream",
     "text": [
      "\n"
     ]
    },
    {
     "name": "stdout",
     "output_type": "stream",
     "text": [
      "gs://covid-data-2022-10-30/CDC_Covid19_Data_2022_10_30/Frequently Asked Questions about COVID-19 Vaccination Data _ CDC.pdf\n",
      "Copying gs://covid-data-2022-10-30/CDC_Covid19_Data_2022_10_30/Frequently Asked Questions about COVID-19 Vaccination Data _ CDC.pdf...\n",
      "/ [1 files][437.8 KiB/437.8 KiB]                                                \n",
      "Operation completed over 1 objects/437.8 KiB.                                    \n"
     ]
    },
    {
     "name": "stderr",
     "output_type": "stream",
     "text": [
      "Preprocessing: 100%|██████████| 1/1 [00:00<00:00, 345.75docs/s]"
     ]
    },
    {
     "name": "stdout",
     "output_type": "stream",
     "text": [
      "736\n"
     ]
    },
    {
     "name": "stderr",
     "output_type": "stream",
     "text": [
      "\n"
     ]
    },
    {
     "name": "stdout",
     "output_type": "stream",
     "text": [
      "gs://covid-data-2022-10-30/CDC_Covid19_Data_2022_10_30/Frequently Asked Questions about COVID-19 Vaccination _ CDC.pdf\n",
      "Copying gs://covid-data-2022-10-30/CDC_Covid19_Data_2022_10_30/Frequently Asked Questions about COVID-19 Vaccination _ CDC.pdf...\n",
      "/ [1 files][  1.2 MiB/  1.2 MiB]                                                \n",
      "Operation completed over 1 objects/1.2 MiB.                                      \n"
     ]
    },
    {
     "name": "stderr",
     "output_type": "stream",
     "text": [
      "Preprocessing: 100%|██████████| 1/1 [00:00<00:00, 167.53docs/s]"
     ]
    },
    {
     "name": "stdout",
     "output_type": "stream",
     "text": [
      "773\n"
     ]
    },
    {
     "name": "stderr",
     "output_type": "stream",
     "text": [
      "\n"
     ]
    },
    {
     "name": "stdout",
     "output_type": "stream",
     "text": [
      "gs://covid-data-2022-10-30/CDC_Covid19_Data_2022_10_30/Getting Your COVID-19 Vaccine _ CDC.pdf\n",
      "Copying gs://covid-data-2022-10-30/CDC_Covid19_Data_2022_10_30/Getting Your COVID-19 Vaccine _ CDC.pdf...\n",
      "/ [1 files][  1.3 MiB/  1.3 MiB]                                                \n",
      "Operation completed over 1 objects/1.3 MiB.                                      \n"
     ]
    },
    {
     "name": "stderr",
     "output_type": "stream",
     "text": [
      "Preprocessing: 100%|██████████| 1/1 [00:00<00:00, 329.43docs/s]"
     ]
    },
    {
     "name": "stdout",
     "output_type": "stream",
     "text": [
      "792\n"
     ]
    },
    {
     "name": "stderr",
     "output_type": "stream",
     "text": [
      "\n"
     ]
    },
    {
     "name": "stdout",
     "output_type": "stream",
     "text": [
      "gs://covid-data-2022-10-30/CDC_Covid19_Data_2022_10_30/How CDC Monitors Vaccine Effectiveness _ CDC.pdf\n",
      "Copying gs://covid-data-2022-10-30/CDC_Covid19_Data_2022_10_30/How CDC Monitors Vaccine Effectiveness _ CDC.pdf...\n",
      "/ [1 files][365.1 KiB/365.1 KiB]                                                \n",
      "Operation completed over 1 objects/365.1 KiB.                                    \n"
     ]
    },
    {
     "name": "stderr",
     "output_type": "stream",
     "text": [
      "Preprocessing: 100%|██████████| 1/1 [00:00<00:00, 1271.00docs/s]"
     ]
    },
    {
     "name": "stdout",
     "output_type": "stream",
     "text": [
      "794\n"
     ]
    },
    {
     "name": "stderr",
     "output_type": "stream",
     "text": [
      "\n"
     ]
    },
    {
     "name": "stdout",
     "output_type": "stream",
     "text": [
      "gs://covid-data-2022-10-30/CDC_Covid19_Data_2022_10_30/How Coronavirus Spreads _ CDC.pdf\n",
      "Copying gs://covid-data-2022-10-30/CDC_Covid19_Data_2022_10_30/How Coronavirus Spreads _ CDC.pdf...\n",
      "/ [1 files][268.8 KiB/268.8 KiB]                                                \n",
      "Operation completed over 1 objects/268.8 KiB.                                    \n"
     ]
    },
    {
     "name": "stderr",
     "output_type": "stream",
     "text": [
      "Preprocessing: 100%|██████████| 1/1 [00:00<00:00, 812.38docs/s]"
     ]
    },
    {
     "name": "stdout",
     "output_type": "stream",
     "text": [
      "799\n"
     ]
    },
    {
     "name": "stderr",
     "output_type": "stream",
     "text": [
      "\n"
     ]
    },
    {
     "name": "stdout",
     "output_type": "stream",
     "text": [
      "gs://covid-data-2022-10-30/CDC_Covid19_Data_2022_10_30/How Do I Find a COVID-19 Vaccine_ _ CDC.pdf\n",
      "Copying gs://covid-data-2022-10-30/CDC_Covid19_Data_2022_10_30/How Do I Find a COVID-19 Vaccine_ _ CDC.pdf...\n",
      "/ [1 files][304.3 KiB/304.3 KiB]                                                \n",
      "Operation completed over 1 objects/304.3 KiB.                                    \n"
     ]
    },
    {
     "name": "stderr",
     "output_type": "stream",
     "text": [
      "Preprocessing: 100%|██████████| 1/1 [00:00<00:00, 705.52docs/s]"
     ]
    },
    {
     "name": "stdout",
     "output_type": "stream",
     "text": [
      "803\n"
     ]
    },
    {
     "name": "stderr",
     "output_type": "stream",
     "text": [
      "\n"
     ]
    },
    {
     "name": "stdout",
     "output_type": "stream",
     "text": [
      "gs://covid-data-2022-10-30/CDC_Covid19_Data_2022_10_30/How to Protect Yourself and Others _ CDC.pdf\n",
      "Copying gs://covid-data-2022-10-30/CDC_Covid19_Data_2022_10_30/How to Protect Yourself and Others _ CDC.pdf...\n",
      "/ [1 files][  1.5 MiB/  1.5 MiB]                                                \n",
      "Operation completed over 1 objects/1.5 MiB.                                      \n"
     ]
    },
    {
     "name": "stderr",
     "output_type": "stream",
     "text": [
      "Preprocessing: 100%|██████████| 1/1 [00:00<00:00, 358.30docs/s]"
     ]
    },
    {
     "name": "stdout",
     "output_type": "stream",
     "text": [
      "820\n"
     ]
    },
    {
     "name": "stderr",
     "output_type": "stream",
     "text": [
      "\n"
     ]
    },
    {
     "name": "stdout",
     "output_type": "stream",
     "text": [
      "gs://covid-data-2022-10-30/CDC_Covid19_Data_2022_10_30/How to Use Your N95 Respirator _ CDC.pdf\n",
      "Copying gs://covid-data-2022-10-30/CDC_Covid19_Data_2022_10_30/How to Use Your N95 Respirator _ CDC.pdf...\n",
      "/ [1 files][  2.5 MiB/  2.5 MiB]                                                \n",
      "Operation completed over 1 objects/2.5 MiB.                                      \n"
     ]
    },
    {
     "name": "stderr",
     "output_type": "stream",
     "text": [
      "Preprocessing: 100%|██████████| 1/1 [00:00<00:00, 667.03docs/s]"
     ]
    },
    {
     "name": "stdout",
     "output_type": "stream",
     "text": [
      "827\n"
     ]
    },
    {
     "name": "stderr",
     "output_type": "stream",
     "text": [
      "\n"
     ]
    },
    {
     "name": "stdout",
     "output_type": "stream",
     "text": [
      "gs://covid-data-2022-10-30/CDC_Covid19_Data_2022_10_30/If You Are Sick or Caring for Someone _ CDC.pdf\n",
      "Copying gs://covid-data-2022-10-30/CDC_Covid19_Data_2022_10_30/If You Are Sick or Caring for Someone _ CDC.pdf...\n",
      "/ [1 files][516.8 KiB/516.8 KiB]                                                \n",
      "Operation completed over 1 objects/516.8 KiB.                                    \n"
     ]
    },
    {
     "name": "stderr",
     "output_type": "stream",
     "text": [
      "Preprocessing: 100%|██████████| 1/1 [00:00<00:00, 1396.70docs/s]"
     ]
    },
    {
     "name": "stdout",
     "output_type": "stream",
     "text": [
      "829\n"
     ]
    },
    {
     "name": "stderr",
     "output_type": "stream",
     "text": [
      "\n"
     ]
    },
    {
     "name": "stdout",
     "output_type": "stream",
     "text": [
      "gs://covid-data-2022-10-30/CDC_Covid19_Data_2022_10_30/Improving Ventilation in Your Home _ CDC.pdf\n",
      "Copying gs://covid-data-2022-10-30/CDC_Covid19_Data_2022_10_30/Improving Ventilation in Your Home _ CDC.pdf...\n",
      "/ [1 files][952.4 KiB/952.4 KiB]                                                \n",
      "Operation completed over 1 objects/952.4 KiB.                                    \n"
     ]
    },
    {
     "name": "stderr",
     "output_type": "stream",
     "text": [
      "Preprocessing: 100%|██████████| 1/1 [00:00<00:00, 475.28docs/s]"
     ]
    },
    {
     "name": "stdout",
     "output_type": "stream",
     "text": [
      "840\n"
     ]
    },
    {
     "name": "stderr",
     "output_type": "stream",
     "text": [
      "\n"
     ]
    },
    {
     "name": "stdout",
     "output_type": "stream",
     "text": [
      "gs://covid-data-2022-10-30/CDC_Covid19_Data_2022_10_30/Interactive Home Ventilation Tool _ CDC.pdf\n",
      "Copying gs://covid-data-2022-10-30/CDC_Covid19_Data_2022_10_30/Interactive Home Ventilation Tool _ CDC.pdf...\n",
      "/ [1 files][524.5 KiB/524.5 KiB]                                                \n",
      "Operation completed over 1 objects/524.5 KiB.                                    \n"
     ]
    },
    {
     "name": "stderr",
     "output_type": "stream",
     "text": [
      "Preprocessing: 100%|██████████| 1/1 [00:00<00:00, 724.15docs/s]"
     ]
    },
    {
     "name": "stdout",
     "output_type": "stream",
     "text": [
      "846\n"
     ]
    },
    {
     "name": "stderr",
     "output_type": "stream",
     "text": [
      "\n"
     ]
    },
    {
     "name": "stdout",
     "output_type": "stream",
     "text": [
      "gs://covid-data-2022-10-30/CDC_Covid19_Data_2022_10_30/Interim Clinical Considerations for Use of COVID-19 Vaccines_ Appendices, References, and Previous Updates _ CDC.pdf\n",
      "Copying gs://covid-data-2022-10-30/CDC_Covid19_Data_2022_10_30/Interim Clinical Considerations for Use of COVID-19 Vaccines_ Appendices, References, and Previous Updates _ CDC.pdf...\n",
      "/ [1 files][  3.5 MiB/  3.5 MiB]                                                \n",
      "Operation completed over 1 objects/3.5 MiB.                                      \n"
     ]
    },
    {
     "name": "stderr",
     "output_type": "stream",
     "text": [
      "Preprocessing: 100%|██████████| 1/1 [00:00<00:00, 109.55docs/s]"
     ]
    },
    {
     "name": "stdout",
     "output_type": "stream",
     "text": [
      "916\n"
     ]
    },
    {
     "name": "stderr",
     "output_type": "stream",
     "text": [
      "\n"
     ]
    },
    {
     "name": "stdout",
     "output_type": "stream",
     "text": [
      "gs://covid-data-2022-10-30/CDC_Covid19_Data_2022_10_30/International Travel to and from the United States _ CDC.pdf\n",
      "Copying gs://covid-data-2022-10-30/CDC_Covid19_Data_2022_10_30/International Travel to and from the United States _ CDC.pdf...\n",
      "/ [1 files][805.5 KiB/805.5 KiB]                                                \n",
      "Operation completed over 1 objects/805.5 KiB.                                    \n"
     ]
    },
    {
     "name": "stderr",
     "output_type": "stream",
     "text": [
      "Preprocessing: 100%|██████████| 1/1 [00:00<00:00, 280.07docs/s]"
     ]
    },
    {
     "name": "stdout",
     "output_type": "stream",
     "text": [
      "931\n"
     ]
    },
    {
     "name": "stderr",
     "output_type": "stream",
     "text": [
      "\n"
     ]
    },
    {
     "name": "stdout",
     "output_type": "stream",
     "text": [
      "gs://covid-data-2022-10-30/CDC_Covid19_Data_2022_10_30/Investigating Long-Term Effects of Myocarditis _ CDC.pdf\n",
      "Copying gs://covid-data-2022-10-30/CDC_Covid19_Data_2022_10_30/Investigating Long-Term Effects of Myocarditis _ CDC.pdf...\n",
      "/ [1 files][288.8 KiB/288.8 KiB]                                                \n",
      "Operation completed over 1 objects/288.8 KiB.                                    \n"
     ]
    },
    {
     "name": "stderr",
     "output_type": "stream",
     "text": [
      "Preprocessing: 100%|██████████| 1/1 [00:00<00:00, 767.06docs/s]"
     ]
    },
    {
     "name": "stdout",
     "output_type": "stream",
     "text": [
      "938\n"
     ]
    },
    {
     "name": "stderr",
     "output_type": "stream",
     "text": [
      "\n"
     ]
    },
    {
     "name": "stdout",
     "output_type": "stream",
     "text": [
      "gs://covid-data-2022-10-30/CDC_Covid19_Data_2022_10_30/Isolation and Precautions for People with COVID-19 _ CDC.pdf\n",
      "Copying gs://covid-data-2022-10-30/CDC_Covid19_Data_2022_10_30/Isolation and Precautions for People with COVID-19 _ CDC.pdf...\n",
      "/ [1 files][ 1009 KiB/ 1009 KiB]                                                \n",
      "Operation completed over 1 objects/1009.2 KiB.                                   \n"
     ]
    },
    {
     "name": "stderr",
     "output_type": "stream",
     "text": [
      "Preprocessing: 100%|██████████| 1/1 [00:00<00:00, 318.28docs/s]"
     ]
    },
    {
     "name": "stdout",
     "output_type": "stream",
     "text": [
      "949\n"
     ]
    },
    {
     "name": "stderr",
     "output_type": "stream",
     "text": [
      "\n"
     ]
    },
    {
     "name": "stdout",
     "output_type": "stream",
     "text": [
      "gs://covid-data-2022-10-30/CDC_Covid19_Data_2022_10_30/Janssen+COVID-19+Vaccine-Recipient-fact-sheet.pdf\n",
      "Copying gs://covid-data-2022-10-30/CDC_Covid19_Data_2022_10_30/Janssen+COVID-19+Vaccine-Recipient-fact-sheet.pdf...\n",
      "/ [1 files][312.7 KiB/312.7 KiB]                                                \n",
      "Operation completed over 1 objects/312.7 KiB.                                    \n"
     ]
    },
    {
     "name": "stderr",
     "output_type": "stream",
     "text": [
      "Preprocessing: 100%|██████████| 1/1 [00:00<00:00, 202.80docs/s]"
     ]
    },
    {
     "name": "stdout",
     "output_type": "stream",
     "text": [
      "978\n"
     ]
    },
    {
     "name": "stderr",
     "output_type": "stream",
     "text": [
      "\n"
     ]
    },
    {
     "name": "stdout",
     "output_type": "stream",
     "text": [
      "gs://covid-data-2022-10-30/CDC_Covid19_Data_2022_10_30/Long COVID or Post-COVID Conditions _ CDC.pdf\n",
      "Copying gs://covid-data-2022-10-30/CDC_Covid19_Data_2022_10_30/Long COVID or Post-COVID Conditions _ CDC.pdf...\n",
      "/ [1 files][498.6 KiB/498.6 KiB]                                                \n",
      "Operation completed over 1 objects/498.6 KiB.                                    \n"
     ]
    },
    {
     "name": "stderr",
     "output_type": "stream",
     "text": [
      "Preprocessing: 100%|██████████| 1/1 [00:00<00:00, 302.82docs/s]"
     ]
    },
    {
     "name": "stdout",
     "output_type": "stream",
     "text": [
      "999\n"
     ]
    },
    {
     "name": "stderr",
     "output_type": "stream",
     "text": [
      "\n"
     ]
    },
    {
     "name": "stdout",
     "output_type": "stream",
     "text": [
      "gs://covid-data-2022-10-30/CDC_Covid19_Data_2022_10_30/Masks and Respirators.pdf\n",
      "Copying gs://covid-data-2022-10-30/CDC_Covid19_Data_2022_10_30/Masks and Respirators.pdf...\n",
      "/ [1 files][  1.5 MiB/  1.5 MiB]                                                \n",
      "Operation completed over 1 objects/1.5 MiB.                                      \n"
     ]
    },
    {
     "name": "stderr",
     "output_type": "stream",
     "text": [
      "Preprocessing: 100%|██████████| 1/1 [00:00<00:00, 263.58docs/s]"
     ]
    },
    {
     "name": "stdout",
     "output_type": "stream",
     "text": [
      "1030\n"
     ]
    },
    {
     "name": "stderr",
     "output_type": "stream",
     "text": [
      "\n"
     ]
    },
    {
     "name": "stdout",
     "output_type": "stream",
     "text": [
      "gs://covid-data-2022-10-30/CDC_Covid19_Data_2022_10_30/Moderna-Caregiver.pdf\n",
      "Copying gs://covid-data-2022-10-30/CDC_Covid19_Data_2022_10_30/Moderna-Caregiver.pdf...\n",
      "/ [1 files][237.3 KiB/237.3 KiB]                                                \n",
      "Operation completed over 1 objects/237.3 KiB.                                    \n"
     ]
    },
    {
     "name": "stderr",
     "output_type": "stream",
     "text": [
      "Preprocessing: 100%|██████████| 1/1 [00:00<00:00, 354.22docs/s]"
     ]
    },
    {
     "name": "stdout",
     "output_type": "stream",
     "text": [
      "1054\n"
     ]
    },
    {
     "name": "stderr",
     "output_type": "stream",
     "text": [
      "\n"
     ]
    },
    {
     "name": "stdout",
     "output_type": "stream",
     "text": [
      "gs://covid-data-2022-10-30/CDC_Covid19_Data_2022_10_30/Moderna-HCP.pdf\n",
      "Copying gs://covid-data-2022-10-30/CDC_Covid19_Data_2022_10_30/Moderna-HCP.pdf...\n",
      "/ [1 files][336.8 KiB/336.8 KiB]                                                \n",
      "Operation completed over 1 objects/336.8 KiB.                                    \n"
     ]
    },
    {
     "name": "stderr",
     "output_type": "stream",
     "text": [
      "Preprocessing: 100%|██████████| 1/1 [00:00<00:00, 113.51docs/s]"
     ]
    },
    {
     "name": "stdout",
     "output_type": "stream",
     "text": [
      "1114\n"
     ]
    },
    {
     "name": "stderr",
     "output_type": "stream",
     "text": [
      "\n"
     ]
    },
    {
     "name": "stdout",
     "output_type": "stream",
     "text": [
      "gs://covid-data-2022-10-30/CDC_Covid19_Data_2022_10_30/Monitoring COVID-19 Cases, Hospitalizations, and Deaths by Vaccination Status _ CDC.pdf\n",
      "Copying gs://covid-data-2022-10-30/CDC_Covid19_Data_2022_10_30/Monitoring COVID-19 Cases, Hospitalizations, and Deaths by Vaccination Status _ CDC.pdf...\n",
      "/ [1 files][296.4 KiB/296.4 KiB]                                                \n",
      "Operation completed over 1 objects/296.4 KiB.                                    \n"
     ]
    },
    {
     "name": "stderr",
     "output_type": "stream",
     "text": [
      "Preprocessing: 100%|██████████| 1/1 [00:00<00:00, 798.61docs/s]"
     ]
    },
    {
     "name": "stdout",
     "output_type": "stream",
     "text": [
      "1119\n"
     ]
    },
    {
     "name": "stderr",
     "output_type": "stream",
     "text": [
      "\n"
     ]
    },
    {
     "name": "stdout",
     "output_type": "stream",
     "text": [
      "gs://covid-data-2022-10-30/CDC_Covid19_Data_2022_10_30/Monitoring COVID-19 Vaccine Effectiveness _ CDC.pdf\n",
      "Copying gs://covid-data-2022-10-30/CDC_Covid19_Data_2022_10_30/Monitoring COVID-19 Vaccine Effectiveness _ CDC.pdf...\n",
      "/ [1 files][230.0 KiB/230.0 KiB]                                                \n",
      "Operation completed over 1 objects/230.0 KiB.                                    \n"
     ]
    },
    {
     "name": "stderr",
     "output_type": "stream",
     "text": [
      "Preprocessing: 100%|██████████| 1/1 [00:00<00:00, 1236.16docs/s]"
     ]
    },
    {
     "name": "stdout",
     "output_type": "stream",
     "text": [
      "1122\n"
     ]
    },
    {
     "name": "stderr",
     "output_type": "stream",
     "text": [
      "\n"
     ]
    },
    {
     "name": "stdout",
     "output_type": "stream",
     "text": [
      "gs://covid-data-2022-10-30/CDC_Covid19_Data_2022_10_30/Myocarditis and Pericarditis After mRNA COVID-19 Vaccination _ CDC.pdf\n",
      "Copying gs://covid-data-2022-10-30/CDC_Covid19_Data_2022_10_30/Myocarditis and Pericarditis After mRNA COVID-19 Vaccination _ CDC.pdf...\n",
      "/ [1 files][310.7 KiB/310.7 KiB]                                                \n",
      "Operation completed over 1 objects/310.7 KiB.                                    \n"
     ]
    },
    {
     "name": "stderr",
     "output_type": "stream",
     "text": [
      "Preprocessing: 100%|██████████| 1/1 [00:00<00:00, 888.25docs/s]"
     ]
    },
    {
     "name": "stdout",
     "output_type": "stream",
     "text": [
      "1127\n"
     ]
    },
    {
     "name": "stderr",
     "output_type": "stream",
     "text": [
      "\n"
     ]
    },
    {
     "name": "stdout",
     "output_type": "stream",
     "text": [
      "gs://covid-data-2022-10-30/CDC_Covid19_Data_2022_10_30/Myths and Facts about COVID-19 Vaccines _ CDC.pdf\n",
      "Copying gs://covid-data-2022-10-30/CDC_Covid19_Data_2022_10_30/Myths and Facts about COVID-19 Vaccines _ CDC.pdf...\n",
      "/ [1 files][  1.9 MiB/  1.9 MiB]                                                \n",
      "Operation completed over 1 objects/1.9 MiB.                                      \n"
     ]
    },
    {
     "name": "stderr",
     "output_type": "stream",
     "text": [
      "Preprocessing: 100%|██████████| 1/1 [00:00<00:00, 267.94docs/s]"
     ]
    },
    {
     "name": "stdout",
     "output_type": "stream",
     "text": [
      "1146\n"
     ]
    },
    {
     "name": "stderr",
     "output_type": "stream",
     "text": [
      "\n"
     ]
    },
    {
     "name": "stdout",
     "output_type": "stream",
     "text": [
      "gs://covid-data-2022-10-30/CDC_Covid19_Data_2022_10_30/Patient Tips_ Healthcare Provider Appointments for Post-COVID Conditions _ CDC.pdf\n",
      "Copying gs://covid-data-2022-10-30/CDC_Covid19_Data_2022_10_30/Patient Tips_ Healthcare Provider Appointments for Post-COVID Conditions _ CDC.pdf...\n",
      "/ [1 files][  1.4 MiB/  1.4 MiB]                                                \n",
      "Operation completed over 1 objects/1.4 MiB.                                      \n"
     ]
    },
    {
     "name": "stderr",
     "output_type": "stream",
     "text": [
      "Preprocessing: 100%|██████████| 1/1 [00:00<00:00, 421.45docs/s]"
     ]
    },
    {
     "name": "stdout",
     "output_type": "stream",
     "text": [
      "1162\n"
     ]
    },
    {
     "name": "stderr",
     "output_type": "stream",
     "text": [
      "\n"
     ]
    },
    {
     "name": "stdout",
     "output_type": "stream",
     "text": [
      "gs://covid-data-2022-10-30/CDC_Covid19_Data_2022_10_30/People Who Are Immunocompromised _ CDC.pdf\n",
      "Copying gs://covid-data-2022-10-30/CDC_Covid19_Data_2022_10_30/People Who Are Immunocompromised _ CDC.pdf...\n",
      "/ [1 files][296.2 KiB/296.2 KiB]                                                \n",
      "Operation completed over 1 objects/296.2 KiB.                                    \n"
     ]
    },
    {
     "name": "stderr",
     "output_type": "stream",
     "text": [
      "Preprocessing: 100%|██████████| 1/1 [00:00<00:00, 338.22docs/s]"
     ]
    },
    {
     "name": "stdout",
     "output_type": "stream",
     "text": [
      "1180\n"
     ]
    },
    {
     "name": "stderr",
     "output_type": "stream",
     "text": [
      "\n"
     ]
    },
    {
     "name": "stdout",
     "output_type": "stream",
     "text": [
      "gs://covid-data-2022-10-30/CDC_Covid19_Data_2022_10_30/People with Certain Medical Conditions _ CDC.pdf\n",
      "Copying gs://covid-data-2022-10-30/CDC_Covid19_Data_2022_10_30/People with Certain Medical Conditions _ CDC.pdf...\n",
      "/ [1 files][674.5 KiB/674.5 KiB]                                                \n",
      "Operation completed over 1 objects/674.5 KiB.                                    \n"
     ]
    },
    {
     "name": "stderr",
     "output_type": "stream",
     "text": [
      "Preprocessing: 100%|██████████| 1/1 [00:00<00:00, 250.81docs/s]"
     ]
    },
    {
     "name": "stdout",
     "output_type": "stream",
     "text": [
      "1214\n"
     ]
    },
    {
     "name": "stderr",
     "output_type": "stream",
     "text": [
      "\n"
     ]
    },
    {
     "name": "stdout",
     "output_type": "stream",
     "text": [
      "gs://covid-data-2022-10-30/CDC_Covid19_Data_2022_10_30/People with Moderate to Severe Asthma _ CDC.pdf\n",
      "Copying gs://covid-data-2022-10-30/CDC_Covid19_Data_2022_10_30/People with Moderate to Severe Asthma _ CDC.pdf...\n",
      "/ [1 files][351.2 KiB/351.2 KiB]                                                \n",
      "Operation completed over 1 objects/351.2 KiB.                                    \n"
     ]
    },
    {
     "name": "stderr",
     "output_type": "stream",
     "text": [
      "Preprocessing: 100%|██████████| 1/1 [00:00<00:00, 509.14docs/s]"
     ]
    },
    {
     "name": "stdout",
     "output_type": "stream",
     "text": [
      "1223\n"
     ]
    },
    {
     "name": "stderr",
     "output_type": "stream",
     "text": [
      "\n"
     ]
    },
    {
     "name": "stdout",
     "output_type": "stream",
     "text": [
      "gs://covid-data-2022-10-30/CDC_Covid19_Data_2022_10_30/Pfizer Biontech Recipients and Caregivers 5-11 years of age 10122022.pdf\n",
      "Copying gs://covid-data-2022-10-30/CDC_Covid19_Data_2022_10_30/Pfizer Biontech Recipients and Caregivers 5-11 years of age 10122022.pdf...\n",
      "/ [1 files][667.8 KiB/667.8 KiB]                                                \n",
      "Operation completed over 1 objects/667.8 KiB.                                    \n"
     ]
    },
    {
     "name": "stderr",
     "output_type": "stream",
     "text": [
      "Syntax Warning: Invalid entry in bfchar block in ToUnicode CMap\n",
      "Syntax Warning: Invalid entry in bfchar block in ToUnicode CMap\n",
      "Syntax Warning: Invalid entry in bfchar block in ToUnicode CMap\n",
      "Syntax Warning: Invalid entry in bfchar block in ToUnicode CMap\n",
      "Syntax Warning: Invalid entry in bfchar block in ToUnicode CMap\n",
      "Syntax Warning: Invalid entry in bfchar block in ToUnicode CMap\n",
      "Syntax Warning: Invalid entry in bfchar block in ToUnicode CMap\n",
      "Syntax Warning: Invalid entry in bfchar block in ToUnicode CMap\n",
      "Syntax Warning: Invalid entry in bfchar block in ToUnicode CMap\n",
      "Syntax Warning: Invalid entry in bfchar block in ToUnicode CMap\n",
      "Syntax Warning: Invalid entry in bfchar block in ToUnicode CMap\n",
      "Syntax Warning: Invalid entry in bfchar block in ToUnicode CMap\n",
      "Syntax Warning: Invalid entry in bfchar block in ToUnicode CMap\n",
      "Syntax Warning: Invalid entry in bfchar block in ToUnicode CMap\n",
      "Syntax Warning: Invalid entry in bfchar block in ToUnicode CMap\n",
      "Syntax Warning: Invalid entry in bfchar block in ToUnicode CMap\n",
      "Syntax Warning: Invalid entry in bfchar block in ToUnicode CMap\n",
      "Syntax Warning: Invalid entry in bfchar block in ToUnicode CMap\n",
      "Syntax Warning: Invalid entry in bfchar block in ToUnicode CMap\n",
      "Syntax Warning: Invalid entry in bfchar block in ToUnicode CMap\n",
      "Syntax Warning: Invalid entry in bfchar block in ToUnicode CMap\n",
      "Syntax Warning: Invalid entry in bfchar block in ToUnicode CMap\n",
      "Syntax Warning: Invalid entry in bfchar block in ToUnicode CMap\n",
      "Syntax Warning: Invalid entry in bfchar block in ToUnicode CMap\n",
      "Syntax Warning: Invalid entry in bfchar block in ToUnicode CMap\n",
      "Syntax Warning: Invalid entry in bfchar block in ToUnicode CMap\n",
      "Syntax Warning: Invalid entry in bfchar block in ToUnicode CMap\n",
      "Syntax Warning: Invalid entry in bfchar block in ToUnicode CMap\n",
      "Syntax Warning: Invalid entry in bfchar block in ToUnicode CMap\n",
      "Syntax Warning: Invalid entry in bfchar block in ToUnicode CMap\n",
      "Syntax Warning: Invalid entry in bfchar block in ToUnicode CMap\n",
      "Syntax Warning: Invalid entry in bfchar block in ToUnicode CMap\n",
      "Syntax Warning: Invalid entry in bfchar block in ToUnicode CMap\n",
      "Syntax Warning: Invalid entry in bfchar block in ToUnicode CMap\n",
      "Syntax Warning: Invalid entry in bfchar block in ToUnicode CMap\n",
      "Syntax Warning: Invalid entry in bfchar block in ToUnicode CMap\n",
      "Syntax Warning: Invalid entry in bfchar block in ToUnicode CMap\n",
      "Syntax Warning: Invalid entry in bfchar block in ToUnicode CMap\n",
      "Syntax Warning: Invalid entry in bfchar block in ToUnicode CMap\n",
      "Syntax Warning: Invalid entry in bfchar block in ToUnicode CMap\n",
      "Syntax Warning: Invalid entry in bfchar block in ToUnicode CMap\n",
      "Syntax Warning: Invalid entry in bfchar block in ToUnicode CMap\n",
      "Syntax Warning: Invalid entry in bfchar block in ToUnicode CMap\n",
      "Syntax Warning: Invalid entry in bfchar block in ToUnicode CMap\n",
      "Syntax Warning: Invalid entry in bfchar block in ToUnicode CMap\n",
      "Syntax Warning: Invalid entry in bfchar block in ToUnicode CMap\n",
      "Syntax Warning: Invalid entry in bfchar block in ToUnicode CMap\n",
      "Syntax Warning: Invalid entry in bfchar block in ToUnicode CMap\n",
      "Syntax Warning: Invalid entry in bfchar block in ToUnicode CMap\n",
      "Syntax Warning: Invalid entry in bfchar block in ToUnicode CMap\n",
      "Syntax Warning: Invalid entry in bfchar block in ToUnicode CMap\n",
      "Syntax Warning: Invalid entry in bfchar block in ToUnicode CMap\n",
      "Syntax Warning: Invalid entry in bfchar block in ToUnicode CMap\n",
      "Syntax Warning: Invalid entry in bfchar block in ToUnicode CMap\n",
      "Syntax Warning: Invalid entry in bfchar block in ToUnicode CMap\n",
      "Syntax Warning: Invalid entry in bfchar block in ToUnicode CMap\n",
      "Syntax Warning: Invalid entry in bfchar block in ToUnicode CMap\n",
      "Syntax Warning: Invalid entry in bfchar block in ToUnicode CMap\n",
      "Syntax Warning: Invalid entry in bfchar block in ToUnicode CMap\n",
      "Syntax Warning: Invalid entry in bfchar block in ToUnicode CMap\n",
      "Syntax Warning: Invalid entry in bfchar block in ToUnicode CMap\n",
      "Syntax Warning: Invalid entry in bfchar block in ToUnicode CMap\n",
      "Syntax Warning: Invalid entry in bfchar block in ToUnicode CMap\n",
      "Syntax Warning: Invalid entry in bfchar block in ToUnicode CMap\n",
      "Syntax Warning: Invalid entry in bfchar block in ToUnicode CMap\n",
      "Syntax Warning: Invalid entry in bfchar block in ToUnicode CMap\n",
      "Syntax Warning: Invalid entry in bfchar block in ToUnicode CMap\n",
      "Syntax Warning: Invalid entry in bfchar block in ToUnicode CMap\n",
      "Syntax Warning: Invalid entry in bfchar block in ToUnicode CMap\n",
      "Syntax Warning: Invalid entry in bfchar block in ToUnicode CMap\n",
      "Syntax Warning: Invalid entry in bfchar block in ToUnicode CMap\n",
      "Syntax Warning: Invalid entry in bfchar block in ToUnicode CMap\n",
      "Syntax Warning: Invalid entry in bfchar block in ToUnicode CMap\n",
      "Syntax Warning: Invalid entry in bfchar block in ToUnicode CMap\n",
      "Syntax Warning: Invalid entry in bfchar block in ToUnicode CMap\n",
      "Syntax Warning: Invalid entry in bfchar block in ToUnicode CMap\n",
      "Syntax Warning: Invalid entry in bfchar block in ToUnicode CMap\n",
      "Syntax Warning: Invalid entry in bfchar block in ToUnicode CMap\n",
      "Syntax Warning: Invalid entry in bfchar block in ToUnicode CMap\n",
      "Syntax Warning: Invalid entry in bfchar block in ToUnicode CMap\n",
      "Syntax Warning: Invalid entry in bfchar block in ToUnicode CMap\n",
      "Syntax Warning: Invalid entry in bfchar block in ToUnicode CMap\n",
      "Syntax Warning: Invalid entry in bfchar block in ToUnicode CMap\n",
      "Syntax Warning: Invalid entry in bfchar block in ToUnicode CMap\n",
      "Syntax Warning: Invalid entry in bfchar block in ToUnicode CMap\n",
      "Syntax Warning: Invalid entry in bfchar block in ToUnicode CMap\n",
      "Syntax Warning: Invalid entry in bfchar block in ToUnicode CMap\n",
      "Syntax Warning: Invalid entry in bfchar block in ToUnicode CMap\n",
      "Syntax Warning: Invalid entry in bfchar block in ToUnicode CMap\n",
      "Syntax Warning: Invalid entry in bfchar block in ToUnicode CMap\n",
      "Syntax Warning: Invalid entry in bfchar block in ToUnicode CMap\n",
      "Syntax Warning: Invalid entry in bfchar block in ToUnicode CMap\n",
      "Syntax Warning: Invalid entry in bfchar block in ToUnicode CMap\n",
      "Syntax Warning: Invalid entry in bfchar block in ToUnicode CMap\n",
      "Syntax Warning: Invalid entry in bfchar block in ToUnicode CMap\n",
      "Syntax Warning: Invalid entry in bfchar block in ToUnicode CMap\n",
      "Syntax Warning: Invalid entry in bfchar block in ToUnicode CMap\n",
      "Syntax Warning: Invalid entry in bfchar block in ToUnicode CMap\n",
      "Syntax Warning: Invalid entry in bfchar block in ToUnicode CMap\n",
      "Syntax Warning: Invalid entry in bfchar block in ToUnicode CMap\n",
      "Syntax Warning: Invalid entry in bfchar block in ToUnicode CMap\n",
      "Syntax Warning: Invalid entry in bfchar block in ToUnicode CMap\n",
      "Syntax Warning: Invalid entry in bfchar block in ToUnicode CMap\n",
      "Syntax Warning: Invalid entry in bfchar block in ToUnicode CMap\n",
      "Syntax Warning: Invalid entry in bfchar block in ToUnicode CMap\n",
      "Syntax Warning: Invalid entry in bfchar block in ToUnicode CMap\n",
      "Syntax Warning: Invalid entry in bfchar block in ToUnicode CMap\n",
      "Syntax Warning: Invalid entry in bfchar block in ToUnicode CMap\n",
      "Syntax Warning: Invalid entry in bfchar block in ToUnicode CMap\n",
      "Syntax Warning: Invalid entry in bfchar block in ToUnicode CMap\n",
      "Syntax Warning: Invalid entry in bfchar block in ToUnicode CMap\n",
      "Syntax Warning: Invalid entry in bfchar block in ToUnicode CMap\n",
      "Syntax Warning: Invalid entry in bfchar block in ToUnicode CMap\n",
      "Syntax Warning: Invalid entry in bfchar block in ToUnicode CMap\n",
      "Syntax Warning: Invalid entry in bfchar block in ToUnicode CMap\n",
      "Syntax Warning: Invalid entry in bfchar block in ToUnicode CMap\n",
      "Syntax Warning: Invalid entry in bfchar block in ToUnicode CMap\n",
      "Syntax Warning: Invalid entry in bfchar block in ToUnicode CMap\n",
      "Syntax Warning: Invalid entry in bfchar block in ToUnicode CMap\n",
      "Syntax Warning: Invalid entry in bfchar block in ToUnicode CMap\n",
      "Preprocessing: 100%|██████████| 1/1 [00:00<00:00, 203.05docs/s]"
     ]
    },
    {
     "name": "stdout",
     "output_type": "stream",
     "text": [
      "1252\n"
     ]
    },
    {
     "name": "stderr",
     "output_type": "stream",
     "text": [
      "\n"
     ]
    },
    {
     "name": "stdout",
     "output_type": "stream",
     "text": [
      "gs://covid-data-2022-10-30/CDC_Covid19_Data_2022_10_30/Pfizer-Caregiver.pdf\n",
      "Copying gs://covid-data-2022-10-30/CDC_Covid19_Data_2022_10_30/Pfizer-Caregiver.pdf...\n",
      "/ [1 files][219.7 KiB/219.7 KiB]                                                \n",
      "Operation completed over 1 objects/219.7 KiB.                                    \n"
     ]
    },
    {
     "name": "stderr",
     "output_type": "stream",
     "text": [
      "Preprocessing: 100%|██████████| 1/1 [00:00<00:00, 359.29docs/s]"
     ]
    },
    {
     "name": "stdout",
     "output_type": "stream",
     "text": [
      "1275\n"
     ]
    },
    {
     "name": "stderr",
     "output_type": "stream",
     "text": [
      "\n"
     ]
    },
    {
     "name": "stdout",
     "output_type": "stream",
     "text": [
      "gs://covid-data-2022-10-30/CDC_Covid19_Data_2022_10_30/Possible Side Effects After Getting a COVID-19 Vaccine _ CDC.pdf\n",
      "Copying gs://covid-data-2022-10-30/CDC_Covid19_Data_2022_10_30/Possible Side Effects After Getting a COVID-19 Vaccine _ CDC.pdf...\n",
      "/ [1 files][456.9 KiB/456.9 KiB]                                                \n",
      "Operation completed over 1 objects/456.9 KiB.                                    \n"
     ]
    },
    {
     "name": "stderr",
     "output_type": "stream",
     "text": [
      "Preprocessing: 100%|██████████| 1/1 [00:00<00:00, 671.63docs/s]"
     ]
    },
    {
     "name": "stdout",
     "output_type": "stream",
     "text": [
      "1284\n"
     ]
    },
    {
     "name": "stderr",
     "output_type": "stream",
     "text": [
      "\n"
     ]
    },
    {
     "name": "stdout",
     "output_type": "stream",
     "text": [
      "gs://covid-data-2022-10-30/CDC_Covid19_Data_2022_10_30/Pregnant and Recently Pregnant People _ CDC.pdf\n",
      "Copying gs://covid-data-2022-10-30/CDC_Covid19_Data_2022_10_30/Pregnant and Recently Pregnant People _ CDC.pdf...\n",
      "/ [1 files][  1.8 MiB/  1.8 MiB]                                                \n",
      "Operation completed over 1 objects/1.8 MiB.                                      \n"
     ]
    },
    {
     "name": "stderr",
     "output_type": "stream",
     "text": [
      "Preprocessing: 100%|██████████| 1/1 [00:00<00:00, 322.32docs/s]\n"
     ]
    },
    {
     "name": "stdout",
     "output_type": "stream",
     "text": [
      "1302\n",
      "gs://covid-data-2022-10-30/CDC_Covid19_Data_2022_10_30/Recipients and Caregivers 12 years of age and older 08312022.pdf\n",
      "Copying gs://covid-data-2022-10-30/CDC_Covid19_Data_2022_10_30/Recipients and Caregivers 12 years of age and older 08312022.pdf...\n",
      "/ [1 files][676.3 KiB/676.3 KiB]                                                \n",
      "Operation completed over 1 objects/676.3 KiB.                                    \n"
     ]
    },
    {
     "name": "stderr",
     "output_type": "stream",
     "text": [
      "Syntax Warning: Invalid entry in bfchar block in ToUnicode CMap\n",
      "Syntax Warning: Invalid entry in bfchar block in ToUnicode CMap\n",
      "Syntax Warning: Invalid entry in bfchar block in ToUnicode CMap\n",
      "Syntax Warning: Invalid entry in bfchar block in ToUnicode CMap\n",
      "Syntax Warning: Invalid entry in bfchar block in ToUnicode CMap\n",
      "Syntax Warning: Invalid entry in bfchar block in ToUnicode CMap\n",
      "Syntax Warning: Invalid entry in bfchar block in ToUnicode CMap\n",
      "Syntax Warning: Invalid entry in bfchar block in ToUnicode CMap\n",
      "Syntax Warning: Invalid entry in bfchar block in ToUnicode CMap\n",
      "Syntax Warning: Invalid entry in bfchar block in ToUnicode CMap\n",
      "Syntax Warning: Invalid entry in bfchar block in ToUnicode CMap\n",
      "Syntax Warning: Invalid entry in bfchar block in ToUnicode CMap\n",
      "Syntax Warning: Invalid entry in bfchar block in ToUnicode CMap\n",
      "Syntax Warning: Invalid entry in bfchar block in ToUnicode CMap\n",
      "Syntax Warning: Invalid entry in bfchar block in ToUnicode CMap\n",
      "Syntax Warning: Invalid entry in bfchar block in ToUnicode CMap\n",
      "Syntax Warning: Invalid entry in bfchar block in ToUnicode CMap\n",
      "Syntax Warning: Invalid entry in bfchar block in ToUnicode CMap\n",
      "Syntax Warning: Invalid entry in bfchar block in ToUnicode CMap\n",
      "Syntax Warning: Invalid entry in bfchar block in ToUnicode CMap\n",
      "Syntax Warning: Invalid entry in bfchar block in ToUnicode CMap\n",
      "Syntax Warning: Invalid entry in bfchar block in ToUnicode CMap\n",
      "Syntax Warning: Invalid entry in bfchar block in ToUnicode CMap\n",
      "Syntax Warning: Invalid entry in bfchar block in ToUnicode CMap\n",
      "Syntax Warning: Invalid entry in bfchar block in ToUnicode CMap\n",
      "Syntax Warning: Invalid entry in bfchar block in ToUnicode CMap\n",
      "Syntax Warning: Invalid entry in bfchar block in ToUnicode CMap\n",
      "Syntax Warning: Invalid entry in bfchar block in ToUnicode CMap\n",
      "Syntax Warning: Invalid entry in bfchar block in ToUnicode CMap\n",
      "Syntax Warning: Invalid entry in bfchar block in ToUnicode CMap\n",
      "Syntax Warning: Invalid entry in bfchar block in ToUnicode CMap\n",
      "Syntax Warning: Invalid entry in bfchar block in ToUnicode CMap\n",
      "Syntax Warning: Invalid entry in bfchar block in ToUnicode CMap\n",
      "Syntax Warning: Invalid entry in bfchar block in ToUnicode CMap\n",
      "Syntax Warning: Invalid entry in bfchar block in ToUnicode CMap\n",
      "Syntax Warning: Invalid entry in bfchar block in ToUnicode CMap\n",
      "Syntax Warning: Invalid entry in bfchar block in ToUnicode CMap\n",
      "Syntax Warning: Invalid entry in bfchar block in ToUnicode CMap\n",
      "Syntax Warning: Invalid entry in bfchar block in ToUnicode CMap\n",
      "Syntax Warning: Invalid entry in bfchar block in ToUnicode CMap\n",
      "Syntax Warning: Invalid entry in bfchar block in ToUnicode CMap\n",
      "Syntax Warning: Invalid entry in bfchar block in ToUnicode CMap\n",
      "Syntax Warning: Invalid entry in bfchar block in ToUnicode CMap\n",
      "Syntax Warning: Invalid entry in bfchar block in ToUnicode CMap\n",
      "Syntax Warning: Invalid entry in bfchar block in ToUnicode CMap\n",
      "Syntax Warning: Invalid entry in bfchar block in ToUnicode CMap\n",
      "Syntax Warning: Invalid entry in bfchar block in ToUnicode CMap\n",
      "Syntax Warning: Invalid entry in bfchar block in ToUnicode CMap\n",
      "Syntax Warning: Invalid entry in bfchar block in ToUnicode CMap\n",
      "Syntax Warning: Invalid entry in bfchar block in ToUnicode CMap\n",
      "Syntax Warning: Invalid entry in bfchar block in ToUnicode CMap\n",
      "Syntax Warning: Invalid entry in bfchar block in ToUnicode CMap\n",
      "Syntax Warning: Invalid entry in bfchar block in ToUnicode CMap\n",
      "Syntax Warning: Invalid entry in bfchar block in ToUnicode CMap\n",
      "Syntax Warning: Invalid entry in bfchar block in ToUnicode CMap\n",
      "Syntax Warning: Invalid entry in bfchar block in ToUnicode CMap\n",
      "Syntax Warning: Invalid entry in bfchar block in ToUnicode CMap\n",
      "Syntax Warning: Invalid entry in bfchar block in ToUnicode CMap\n",
      "Syntax Warning: Invalid entry in bfchar block in ToUnicode CMap\n",
      "Syntax Warning: Invalid entry in bfchar block in ToUnicode CMap\n",
      "Syntax Warning: Invalid entry in bfchar block in ToUnicode CMap\n",
      "Syntax Warning: Invalid entry in bfchar block in ToUnicode CMap\n",
      "Syntax Warning: Invalid entry in bfchar block in ToUnicode CMap\n",
      "Syntax Warning: Invalid entry in bfchar block in ToUnicode CMap\n",
      "Syntax Warning: Invalid entry in bfchar block in ToUnicode CMap\n",
      "Syntax Warning: Invalid entry in bfchar block in ToUnicode CMap\n",
      "Syntax Warning: Invalid entry in bfchar block in ToUnicode CMap\n",
      "Syntax Warning: Invalid entry in bfchar block in ToUnicode CMap\n",
      "Syntax Warning: Invalid entry in bfchar block in ToUnicode CMap\n",
      "Syntax Warning: Invalid entry in bfchar block in ToUnicode CMap\n",
      "Syntax Warning: Invalid entry in bfchar block in ToUnicode CMap\n",
      "Syntax Warning: Invalid entry in bfchar block in ToUnicode CMap\n",
      "Syntax Warning: Invalid entry in bfchar block in ToUnicode CMap\n",
      "Syntax Warning: Invalid entry in bfchar block in ToUnicode CMap\n",
      "Syntax Warning: Invalid entry in bfchar block in ToUnicode CMap\n",
      "Syntax Warning: Invalid entry in bfchar block in ToUnicode CMap\n",
      "Syntax Warning: Invalid entry in bfchar block in ToUnicode CMap\n",
      "Syntax Warning: Invalid entry in bfchar block in ToUnicode CMap\n",
      "Syntax Warning: Invalid entry in bfchar block in ToUnicode CMap\n",
      "Syntax Warning: Invalid entry in bfchar block in ToUnicode CMap\n",
      "Syntax Warning: Invalid entry in bfchar block in ToUnicode CMap\n",
      "Syntax Warning: Invalid entry in bfchar block in ToUnicode CMap\n",
      "Syntax Warning: Invalid entry in bfchar block in ToUnicode CMap\n",
      "Syntax Warning: Invalid entry in bfchar block in ToUnicode CMap\n",
      "Syntax Warning: Invalid entry in bfchar block in ToUnicode CMap\n",
      "Syntax Warning: Invalid entry in bfchar block in ToUnicode CMap\n",
      "Syntax Warning: Invalid entry in bfchar block in ToUnicode CMap\n",
      "Syntax Warning: Invalid entry in bfchar block in ToUnicode CMap\n",
      "Syntax Warning: Invalid entry in bfchar block in ToUnicode CMap\n",
      "Syntax Warning: Invalid entry in bfchar block in ToUnicode CMap\n",
      "Syntax Warning: Invalid entry in bfchar block in ToUnicode CMap\n",
      "Syntax Warning: Invalid entry in bfchar block in ToUnicode CMap\n",
      "Syntax Warning: Invalid entry in bfchar block in ToUnicode CMap\n",
      "Syntax Warning: Invalid entry in bfchar block in ToUnicode CMap\n",
      "Syntax Warning: Invalid entry in bfchar block in ToUnicode CMap\n",
      "Syntax Warning: Invalid entry in bfchar block in ToUnicode CMap\n",
      "Syntax Warning: Invalid entry in bfchar block in ToUnicode CMap\n",
      "Syntax Warning: Invalid entry in bfchar block in ToUnicode CMap\n",
      "Syntax Warning: Invalid entry in bfchar block in ToUnicode CMap\n",
      "Syntax Warning: Invalid entry in bfchar block in ToUnicode CMap\n",
      "Syntax Warning: Invalid entry in bfchar block in ToUnicode CMap\n",
      "Syntax Warning: Invalid entry in bfchar block in ToUnicode CMap\n",
      "Syntax Warning: Invalid entry in bfchar block in ToUnicode CMap\n",
      "Syntax Warning: Invalid entry in bfchar block in ToUnicode CMap\n",
      "Syntax Warning: Invalid entry in bfchar block in ToUnicode CMap\n",
      "Syntax Warning: Invalid entry in bfchar block in ToUnicode CMap\n",
      "Syntax Warning: Invalid entry in bfchar block in ToUnicode CMap\n",
      "Syntax Warning: Invalid entry in bfchar block in ToUnicode CMap\n",
      "Syntax Warning: Invalid entry in bfchar block in ToUnicode CMap\n",
      "Syntax Warning: Invalid entry in bfchar block in ToUnicode CMap\n",
      "Syntax Warning: Invalid entry in bfchar block in ToUnicode CMap\n",
      "Syntax Warning: Invalid entry in bfchar block in ToUnicode CMap\n",
      "Syntax Warning: Invalid entry in bfchar block in ToUnicode CMap\n",
      "Syntax Warning: Invalid entry in bfchar block in ToUnicode CMap\n",
      "Syntax Warning: Invalid entry in bfchar block in ToUnicode CMap\n",
      "Syntax Warning: Invalid entry in bfchar block in ToUnicode CMap\n",
      "Syntax Warning: Invalid entry in bfchar block in ToUnicode CMap\n",
      "Syntax Warning: Invalid entry in bfchar block in ToUnicode CMap\n",
      "Syntax Warning: Invalid entry in bfchar block in ToUnicode CMap\n",
      "Syntax Warning: Invalid entry in bfchar block in ToUnicode CMap\n",
      "Syntax Warning: Invalid entry in bfchar block in ToUnicode CMap\n",
      "Syntax Warning: Invalid entry in bfchar block in ToUnicode CMap\n",
      "Syntax Warning: Invalid entry in bfchar block in ToUnicode CMap\n",
      "Syntax Warning: Invalid entry in bfchar block in ToUnicode CMap\n",
      "Syntax Warning: Invalid entry in bfchar block in ToUnicode CMap\n",
      "Syntax Warning: Invalid entry in bfchar block in ToUnicode CMap\n",
      "Syntax Warning: Invalid entry in bfchar block in ToUnicode CMap\n",
      "Syntax Warning: Invalid entry in bfchar block in ToUnicode CMap\n",
      "Syntax Warning: Invalid entry in bfchar block in ToUnicode CMap\n",
      "Syntax Warning: Invalid entry in bfchar block in ToUnicode CMap\n",
      "Syntax Warning: Invalid entry in bfchar block in ToUnicode CMap\n",
      "Syntax Warning: Invalid entry in bfchar block in ToUnicode CMap\n",
      "Syntax Warning: Invalid entry in bfchar block in ToUnicode CMap\n",
      "Syntax Warning: Invalid entry in bfchar block in ToUnicode CMap\n",
      "Syntax Warning: Invalid entry in bfchar block in ToUnicode CMap\n",
      "Preprocessing: 100%|██████████| 1/1 [00:00<00:00, 208.83docs/s]"
     ]
    },
    {
     "name": "stdout",
     "output_type": "stream",
     "text": [
      "1332\n"
     ]
    },
    {
     "name": "stderr",
     "output_type": "stream",
     "text": [
      "\n"
     ]
    },
    {
     "name": "stdout",
     "output_type": "stream",
     "text": [
      "gs://covid-data-2022-10-30/CDC_Covid19_Data_2022_10_30/Reinfections and COVID-19 _ CDC.pdf\n",
      "Copying gs://covid-data-2022-10-30/CDC_Covid19_Data_2022_10_30/Reinfections and COVID-19 _ CDC.pdf...\n",
      "/ [1 files][133.2 KiB/133.2 KiB]                                                \n",
      "Operation completed over 1 objects/133.2 KiB.                                    \n"
     ]
    },
    {
     "name": "stderr",
     "output_type": "stream",
     "text": [
      "Preprocessing: 100%|██████████| 1/1 [00:00<00:00, 918.59docs/s]"
     ]
    },
    {
     "name": "stdout",
     "output_type": "stream",
     "text": [
      "1338\n"
     ]
    },
    {
     "name": "stderr",
     "output_type": "stream",
     "text": [
      "\n"
     ]
    },
    {
     "name": "stdout",
     "output_type": "stream",
     "text": [
      "gs://covid-data-2022-10-30/CDC_Covid19_Data_2022_10_30/Requirement for Proof of COVID-19 Vaccination for Air Passengers _ CDC.pdf\n",
      "Copying gs://covid-data-2022-10-30/CDC_Covid19_Data_2022_10_30/Requirement for Proof of COVID-19 Vaccination for Air Passengers _ CDC.pdf...\n",
      "/ [1 files][  1.4 MiB/  1.4 MiB]                                                \n",
      "Operation completed over 1 objects/1.4 MiB.                                      \n"
     ]
    },
    {
     "name": "stderr",
     "output_type": "stream",
     "text": [
      "Preprocessing: 100%|██████████| 1/1 [00:00<00:00, 113.01docs/s]"
     ]
    },
    {
     "name": "stdout",
     "output_type": "stream",
     "text": [
      "1406\n"
     ]
    },
    {
     "name": "stderr",
     "output_type": "stream",
     "text": [
      "\n"
     ]
    },
    {
     "name": "stdout",
     "output_type": "stream",
     "text": [
      "gs://covid-data-2022-10-30/CDC_Covid19_Data_2022_10_30/Safety of COVID-19 Vaccines _ CDC.pdf\n",
      "Copying gs://covid-data-2022-10-30/CDC_Covid19_Data_2022_10_30/Safety of COVID-19 Vaccines _ CDC.pdf...\n",
      "/ [1 files][710.0 KiB/710.0 KiB]                                                \n",
      "Operation completed over 1 objects/710.0 KiB.                                    \n"
     ]
    },
    {
     "name": "stderr",
     "output_type": "stream",
     "text": [
      "Preprocessing: 100%|██████████| 1/1 [00:00<00:00, 542.18docs/s]"
     ]
    },
    {
     "name": "stdout",
     "output_type": "stream",
     "text": [
      "1415\n"
     ]
    },
    {
     "name": "stderr",
     "output_type": "stream",
     "text": [
      "\n"
     ]
    },
    {
     "name": "stdout",
     "output_type": "stream",
     "text": [
      "gs://covid-data-2022-10-30/CDC_Covid19_Data_2022_10_30/Selected Adverse Events Reported after COVID-19 Vaccination _ CDC.pdf\n",
      "Copying gs://covid-data-2022-10-30/CDC_Covid19_Data_2022_10_30/Selected Adverse Events Reported after COVID-19 Vaccination _ CDC.pdf...\n",
      "/ [1 files][860.7 KiB/860.7 KiB]                                                \n",
      "Operation completed over 1 objects/860.7 KiB.                                    \n"
     ]
    },
    {
     "name": "stderr",
     "output_type": "stream",
     "text": [
      "Preprocessing: 100%|██████████| 1/1 [00:00<00:00, 486.13docs/s]"
     ]
    },
    {
     "name": "stdout",
     "output_type": "stream",
     "text": [
      "1428\n"
     ]
    },
    {
     "name": "stderr",
     "output_type": "stream",
     "text": [
      "\n"
     ]
    },
    {
     "name": "stdout",
     "output_type": "stream",
     "text": [
      "gs://covid-data-2022-10-30/CDC_Covid19_Data_2022_10_30/Self-Testing At Home or Anywhere _ CDC.pdf\n",
      "Copying gs://covid-data-2022-10-30/CDC_Covid19_Data_2022_10_30/Self-Testing At Home or Anywhere _ CDC.pdf...\n",
      "/ [1 files][  1.6 MiB/  1.6 MiB]                                                \n",
      "Operation completed over 1 objects/1.6 MiB.                                      \n"
     ]
    },
    {
     "name": "stderr",
     "output_type": "stream",
     "text": [
      "Preprocessing: 100%|██████████| 1/1 [00:00<00:00, 306.85docs/s]"
     ]
    },
    {
     "name": "stdout",
     "output_type": "stream",
     "text": [
      "1440\n"
     ]
    },
    {
     "name": "stderr",
     "output_type": "stream",
     "text": [
      "\n"
     ]
    },
    {
     "name": "stdout",
     "output_type": "stream",
     "text": [
      "gs://covid-data-2022-10-30/CDC_Covid19_Data_2022_10_30/Self-Testing Videos _ CDC.pdf\n",
      "Copying gs://covid-data-2022-10-30/CDC_Covid19_Data_2022_10_30/Self-Testing Videos _ CDC.pdf...\n",
      "/ [1 files][ 10.8 MiB/ 10.8 MiB]                                                \n",
      "Operation completed over 1 objects/10.8 MiB.                                     \n"
     ]
    },
    {
     "name": "stderr",
     "output_type": "stream",
     "text": [
      "Preprocessing: 100%|██████████| 1/1 [00:00<00:00, 1176.52docs/s]"
     ]
    },
    {
     "name": "stdout",
     "output_type": "stream",
     "text": [
      "1442\n"
     ]
    },
    {
     "name": "stderr",
     "output_type": "stream",
     "text": [
      "\n"
     ]
    },
    {
     "name": "stdout",
     "output_type": "stream",
     "text": [
      "gs://covid-data-2022-10-30/CDC_Covid19_Data_2022_10_30/SoVC_report28.pdf\n",
      "Copying gs://covid-data-2022-10-30/CDC_Covid19_Data_2022_10_30/SoVC_report28.pdf...\n",
      "/ [1 files][934.0 KiB/934.0 KiB]                                                \n",
      "Operation completed over 1 objects/934.0 KiB.                                    \n"
     ]
    },
    {
     "name": "stderr",
     "output_type": "stream",
     "text": [
      "Preprocessing: 100%|██████████| 1/1 [00:00<00:00, 210.57docs/s]"
     ]
    },
    {
     "name": "stdout",
     "output_type": "stream",
     "text": [
      "1488\n"
     ]
    },
    {
     "name": "stderr",
     "output_type": "stream",
     "text": [
      "\n"
     ]
    },
    {
     "name": "stdout",
     "output_type": "stream",
     "text": [
      "gs://covid-data-2022-10-30/CDC_Covid19_Data_2022_10_30/Stay Up to Date with COVID-19 Vaccines Including Boosters _ CDC.pdf\n",
      "Copying gs://covid-data-2022-10-30/CDC_Covid19_Data_2022_10_30/Stay Up to Date with COVID-19 Vaccines Including Boosters _ CDC.pdf...\n",
      "/ [1 files][  4.7 MiB/  4.7 MiB]                                                \n",
      "Operation completed over 1 objects/4.7 MiB.                                      \n"
     ]
    },
    {
     "name": "stderr",
     "output_type": "stream",
     "text": [
      "Preprocessing: 100%|██████████| 1/1 [00:00<00:00, 293.39docs/s]"
     ]
    },
    {
     "name": "stdout",
     "output_type": "stream",
     "text": [
      "1514\n"
     ]
    },
    {
     "name": "stderr",
     "output_type": "stream",
     "text": [
      "\n"
     ]
    },
    {
     "name": "stdout",
     "output_type": "stream",
     "text": [
      "gs://covid-data-2022-10-30/CDC_Covid19_Data_2022_10_30/Symptoms of COVID-19 _ CDC.pdf\n",
      "Copying gs://covid-data-2022-10-30/CDC_Covid19_Data_2022_10_30/Symptoms of COVID-19 _ CDC.pdf...\n",
      "/ [1 files][993.3 KiB/993.3 KiB]                                                \n",
      "Operation completed over 1 objects/993.3 KiB.                                    \n"
     ]
    },
    {
     "name": "stderr",
     "output_type": "stream",
     "text": [
      "Preprocessing: 100%|██████████| 1/1 [00:00<00:00, 896.79docs/s]"
     ]
    },
    {
     "name": "stdout",
     "output_type": "stream",
     "text": [
      "1519\n"
     ]
    },
    {
     "name": "stderr",
     "output_type": "stream",
     "text": [
      "\n"
     ]
    },
    {
     "name": "stdout",
     "output_type": "stream",
     "text": [
      "gs://covid-data-2022-10-30/CDC_Covid19_Data_2022_10_30/Talking to Recipients about COVID-19 Vaccination _ CDC.pdf\n",
      "Copying gs://covid-data-2022-10-30/CDC_Covid19_Data_2022_10_30/Talking to Recipients about COVID-19 Vaccination _ CDC.pdf...\n",
      "/ [1 files][ 1010 KiB/ 1010 KiB]                                                \n",
      "Operation completed over 1 objects/1010.2 KiB.                                   \n"
     ]
    },
    {
     "name": "stderr",
     "output_type": "stream",
     "text": [
      "Preprocessing: 100%|██████████| 1/1 [00:00<00:00, 1097.70docs/s]"
     ]
    },
    {
     "name": "stdout",
     "output_type": "stream",
     "text": [
      "1522\n"
     ]
    },
    {
     "name": "stderr",
     "output_type": "stream",
     "text": [
      "\n"
     ]
    },
    {
     "name": "stdout",
     "output_type": "stream",
     "text": [
      "gs://covid-data-2022-10-30/CDC_Covid19_Data_2022_10_30/Talking with Patients about COVID-19 Vaccination _ CDC.pdf\n",
      "Copying gs://covid-data-2022-10-30/CDC_Covid19_Data_2022_10_30/Talking with Patients about COVID-19 Vaccination _ CDC.pdf...\n",
      "/ [1 files][563.5 KiB/563.5 KiB]                                                \n",
      "Operation completed over 1 objects/563.5 KiB.                                    \n"
     ]
    },
    {
     "name": "stderr",
     "output_type": "stream",
     "text": [
      "Preprocessing: 100%|██████████| 1/1 [00:00<00:00, 636.27docs/s]"
     ]
    },
    {
     "name": "stdout",
     "output_type": "stream",
     "text": [
      "1531\n"
     ]
    },
    {
     "name": "stderr",
     "output_type": "stream",
     "text": [
      "\n"
     ]
    },
    {
     "name": "stdout",
     "output_type": "stream",
     "text": [
      "gs://covid-data-2022-10-30/CDC_Covid19_Data_2022_10_30/Training and Education for COVID-19 Vaccination _ CDC.pdf\n",
      "Copying gs://covid-data-2022-10-30/CDC_Covid19_Data_2022_10_30/Training and Education for COVID-19 Vaccination _ CDC.pdf...\n",
      "/ [1 files][  1.4 MiB/  1.4 MiB]                                                \n",
      "Operation completed over 1 objects/1.4 MiB.                                      \n"
     ]
    },
    {
     "name": "stderr",
     "output_type": "stream",
     "text": [
      "Preprocessing: 100%|██████████| 1/1 [00:00<00:00, 663.55docs/s]"
     ]
    },
    {
     "name": "stdout",
     "output_type": "stream",
     "text": [
      "1542\n"
     ]
    },
    {
     "name": "stderr",
     "output_type": "stream",
     "text": [
      "\n"
     ]
    },
    {
     "name": "stdout",
     "output_type": "stream",
     "text": [
      "gs://covid-data-2022-10-30/CDC_Covid19_Data_2022_10_30/Transmission _ CDC.pdf\n",
      "Copying gs://covid-data-2022-10-30/CDC_Covid19_Data_2022_10_30/Transmission _ CDC.pdf...\n",
      "/ [1 files][292.2 KiB/292.2 KiB]                                                \n",
      "Operation completed over 1 objects/292.2 KiB.                                    \n"
     ]
    },
    {
     "name": "stderr",
     "output_type": "stream",
     "text": [
      "Preprocessing: 100%|██████████| 1/1 [00:00<00:00, 1122.07docs/s]"
     ]
    },
    {
     "name": "stdout",
     "output_type": "stream",
     "text": [
      "1544\n"
     ]
    },
    {
     "name": "stderr",
     "output_type": "stream",
     "text": [
      "\n"
     ]
    },
    {
     "name": "stdout",
     "output_type": "stream",
     "text": [
      "gs://covid-data-2022-10-30/CDC_Covid19_Data_2022_10_30/Travel _ CDC.pdf\n",
      "Copying gs://covid-data-2022-10-30/CDC_Covid19_Data_2022_10_30/Travel _ CDC.pdf...\n",
      "/ [1 files][991.8 KiB/991.8 KiB]                                                \n",
      "Operation completed over 1 objects/991.8 KiB.                                    \n"
     ]
    },
    {
     "name": "stderr",
     "output_type": "stream",
     "text": [
      "Preprocessing: 100%|██████████| 1/1 [00:00<00:00, 669.80docs/s]"
     ]
    },
    {
     "name": "stdout",
     "output_type": "stream",
     "text": [
      "1552\n"
     ]
    },
    {
     "name": "stderr",
     "output_type": "stream",
     "text": [
      "\n"
     ]
    },
    {
     "name": "stdout",
     "output_type": "stream",
     "text": [
      "gs://covid-data-2022-10-30/CDC_Covid19_Data_2022_10_30/Travel_ Frequently Asked Questions and Answers _ CDC.pdf\n",
      "Copying gs://covid-data-2022-10-30/CDC_Covid19_Data_2022_10_30/Travel_ Frequently Asked Questions and Answers _ CDC.pdf...\n",
      "/ [1 files][130.8 KiB/130.8 KiB]                                                \n",
      "Operation completed over 1 objects/130.8 KiB.                                    \n"
     ]
    },
    {
     "name": "stderr",
     "output_type": "stream",
     "text": [
      "Preprocessing: 100%|██████████| 1/1 [00:00<00:00, 476.68docs/s]"
     ]
    },
    {
     "name": "stdout",
     "output_type": "stream",
     "text": [
      "1563\n"
     ]
    },
    {
     "name": "stderr",
     "output_type": "stream",
     "text": [
      "\n"
     ]
    },
    {
     "name": "stdout",
     "output_type": "stream",
     "text": [
      "gs://covid-data-2022-10-30/CDC_Covid19_Data_2022_10_30/Understanding Exposure Risks _ CDC.pdf\n",
      "Copying gs://covid-data-2022-10-30/CDC_Covid19_Data_2022_10_30/Understanding Exposure Risks _ CDC.pdf...\n",
      "/ [1 files][  1.3 MiB/  1.3 MiB]                                                \n",
      "Operation completed over 1 objects/1.3 MiB.                                      \n"
     ]
    },
    {
     "name": "stderr",
     "output_type": "stream",
     "text": [
      "Preprocessing: 100%|██████████| 1/1 [00:00<00:00, 826.95docs/s]"
     ]
    },
    {
     "name": "stdout",
     "output_type": "stream",
     "text": [
      "1568\n"
     ]
    },
    {
     "name": "stderr",
     "output_type": "stream",
     "text": [
      "\n"
     ]
    },
    {
     "name": "stdout",
     "output_type": "stream",
     "text": [
      "gs://covid-data-2022-10-30/CDC_Covid19_Data_2022_10_30/Understanding How COVID-19 Vaccines Work _ CDC.pdf\n",
      "Copying gs://covid-data-2022-10-30/CDC_Covid19_Data_2022_10_30/Understanding How COVID-19 Vaccines Work _ CDC.pdf...\n",
      "/ [1 files][646.0 KiB/646.0 KiB]                                                \n",
      "Operation completed over 1 objects/646.0 KiB.                                    \n"
     ]
    },
    {
     "name": "stderr",
     "output_type": "stream",
     "text": [
      "Preprocessing: 100%|██████████| 1/1 [00:00<00:00, 283.36docs/s]"
     ]
    },
    {
     "name": "stdout",
     "output_type": "stream",
     "text": [
      "1589\n"
     ]
    },
    {
     "name": "stderr",
     "output_type": "stream",
     "text": [
      "\n"
     ]
    },
    {
     "name": "stdout",
     "output_type": "stream",
     "text": [
      "gs://covid-data-2022-10-30/CDC_Covid19_Data_2022_10_30/Understanding Risk _ CDC.pdf\n",
      "Copying gs://covid-data-2022-10-30/CDC_Covid19_Data_2022_10_30/Understanding Risk _ CDC.pdf...\n",
      "/ [1 files][ 95.4 KiB/ 95.4 KiB]                                                \n",
      "Operation completed over 1 objects/95.4 KiB.                                     \n"
     ]
    },
    {
     "name": "stderr",
     "output_type": "stream",
     "text": [
      "Preprocessing: 100%|██████████| 1/1 [00:00<00:00, 1329.41docs/s]"
     ]
    },
    {
     "name": "stdout",
     "output_type": "stream",
     "text": [
      "1591\n"
     ]
    },
    {
     "name": "stderr",
     "output_type": "stream",
     "text": [
      "\n"
     ]
    },
    {
     "name": "stdout",
     "output_type": "stream",
     "text": [
      "gs://covid-data-2022-10-30/CDC_Covid19_Data_2022_10_30/Understanding Variants _ CDC.pdf\n",
      "Copying gs://covid-data-2022-10-30/CDC_Covid19_Data_2022_10_30/Understanding Variants _ CDC.pdf...\n",
      "/ [1 files][461.6 KiB/461.6 KiB]                                                \n",
      "Operation completed over 1 objects/461.6 KiB.                                    \n"
     ]
    },
    {
     "name": "stderr",
     "output_type": "stream",
     "text": [
      "Preprocessing: 100%|██████████| 1/1 [00:00<00:00, 780.92docs/s]"
     ]
    },
    {
     "name": "stdout",
     "output_type": "stream",
     "text": [
      "1595\n"
     ]
    },
    {
     "name": "stderr",
     "output_type": "stream",
     "text": [
      "\n"
     ]
    },
    {
     "name": "stdout",
     "output_type": "stream",
     "text": [
      "gs://covid-data-2022-10-30/CDC_Covid19_Data_2022_10_30/Use Masks to Slow the Spread of COVID-19.pdf\n",
      "Copying gs://covid-data-2022-10-30/CDC_Covid19_Data_2022_10_30/Use Masks to Slow the Spread of COVID-19.pdf...\n",
      "/ [1 files][273.2 KiB/273.2 KiB]                                                \n",
      "Operation completed over 1 objects/273.2 KiB.                                    \n"
     ]
    },
    {
     "name": "stderr",
     "output_type": "stream",
     "text": [
      "Preprocessing: 100%|██████████| 1/1 [00:00<00:00, 1453.83docs/s]"
     ]
    },
    {
     "name": "stdout",
     "output_type": "stream",
     "text": [
      "1597\n"
     ]
    },
    {
     "name": "stderr",
     "output_type": "stream",
     "text": [
      "\n"
     ]
    },
    {
     "name": "stdout",
     "output_type": "stream",
     "text": [
      "gs://covid-data-2022-10-30/CDC_Covid19_Data_2022_10_30/Use and Care of Masks _ CDC.pdf\n",
      "Copying gs://covid-data-2022-10-30/CDC_Covid19_Data_2022_10_30/Use and Care of Masks _ CDC.pdf...\n",
      "/ [1 files][ 1008 KiB/ 1008 KiB]                                                \n",
      "Operation completed over 1 objects/1008.8 KiB.                                   \n"
     ]
    },
    {
     "name": "stderr",
     "output_type": "stream",
     "text": [
      "Preprocessing: 100%|██████████| 1/1 [00:00<00:00, 430.23docs/s]"
     ]
    },
    {
     "name": "stdout",
     "output_type": "stream",
     "text": [
      "1611\n"
     ]
    },
    {
     "name": "stderr",
     "output_type": "stream",
     "text": [
      "\n"
     ]
    },
    {
     "name": "stdout",
     "output_type": "stream",
     "text": [
      "gs://covid-data-2022-10-30/CDC_Covid19_Data_2022_10_30/Use of Agency Materials _ Other _ CDC.pdf\n",
      "Copying gs://covid-data-2022-10-30/CDC_Covid19_Data_2022_10_30/Use of Agency Materials _ Other _ CDC.pdf...\n",
      "/ [1 files][247.7 KiB/247.7 KiB]                                                \n",
      "Operation completed over 1 objects/247.7 KiB.                                    \n"
     ]
    },
    {
     "name": "stderr",
     "output_type": "stream",
     "text": [
      "Preprocessing: 100%|██████████| 1/1 [00:00<00:00, 645.48docs/s]"
     ]
    },
    {
     "name": "stdout",
     "output_type": "stream",
     "text": [
      "1618\n"
     ]
    },
    {
     "name": "stderr",
     "output_type": "stream",
     "text": [
      "\n"
     ]
    },
    {
     "name": "stdout",
     "output_type": "stream",
     "text": [
      "gs://covid-data-2022-10-30/CDC_Covid19_Data_2022_10_30/V-safe After Vaccination Health Checker _ CDC.pdf\n",
      "Copying gs://covid-data-2022-10-30/CDC_Covid19_Data_2022_10_30/V-safe After Vaccination Health Checker _ CDC.pdf...\n",
      "/ [1 files][845.9 KiB/845.9 KiB]                                                \n",
      "Operation completed over 1 objects/845.9 KiB.                                    \n"
     ]
    },
    {
     "name": "stderr",
     "output_type": "stream",
     "text": [
      "Preprocessing: 100%|██████████| 1/1 [00:00<00:00, 756.96docs/s]"
     ]
    },
    {
     "name": "stdout",
     "output_type": "stream",
     "text": [
      "1625\n"
     ]
    },
    {
     "name": "stderr",
     "output_type": "stream",
     "text": [
      "\n"
     ]
    },
    {
     "name": "stdout",
     "output_type": "stream",
     "text": [
      "gs://covid-data-2022-10-30/CDC_Covid19_Data_2022_10_30/Vaccinate with Confidence COVID-19 Vaccines Strategy for Adults _ CDC.pdf\n",
      "Copying gs://covid-data-2022-10-30/CDC_Covid19_Data_2022_10_30/Vaccinate with Confidence COVID-19 Vaccines Strategy for Adults _ CDC.pdf...\n",
      "/ [1 files][691.7 KiB/691.7 KiB]                                                \n",
      "Operation completed over 1 objects/691.7 KiB.                                    \n"
     ]
    },
    {
     "name": "stderr",
     "output_type": "stream",
     "text": [
      "Preprocessing: 100%|██████████| 1/1 [00:00<00:00, 912.00docs/s]"
     ]
    },
    {
     "name": "stdout",
     "output_type": "stream",
     "text": [
      "1630\n"
     ]
    },
    {
     "name": "stderr",
     "output_type": "stream",
     "text": [
      "\n"
     ]
    },
    {
     "name": "stdout",
     "output_type": "stream",
     "text": [
      "gs://covid-data-2022-10-30/CDC_Covid19_Data_2022_10_30/Vaccinating Dialysis Patients and Healthcare Personnel _ CDC.pdf\n",
      "Copying gs://covid-data-2022-10-30/CDC_Covid19_Data_2022_10_30/Vaccinating Dialysis Patients and Healthcare Personnel _ CDC.pdf...\n",
      "/ [1 files][189.5 KiB/189.5 KiB]                                                \n",
      "Operation completed over 1 objects/189.5 KiB.                                    \n"
     ]
    },
    {
     "name": "stderr",
     "output_type": "stream",
     "text": [
      "Preprocessing: 100%|██████████| 1/1 [00:00<00:00, 627.61docs/s]"
     ]
    },
    {
     "name": "stdout",
     "output_type": "stream",
     "text": [
      "1638\n"
     ]
    },
    {
     "name": "stderr",
     "output_type": "stream",
     "text": [
      "\n"
     ]
    },
    {
     "name": "stdout",
     "output_type": "stream",
     "text": [
      "gs://covid-data-2022-10-30/CDC_Covid19_Data_2022_10_30/Vaccine Adverse Event Reporting System (VAERS) _ CDC.pdf\n",
      "Copying gs://covid-data-2022-10-30/CDC_Covid19_Data_2022_10_30/Vaccine Adverse Event Reporting System (VAERS) _ CDC.pdf...\n",
      "/ [1 files][847.2 KiB/847.2 KiB]                                                \n",
      "Operation completed over 1 objects/847.2 KiB.                                    \n"
     ]
    },
    {
     "name": "stderr",
     "output_type": "stream",
     "text": [
      "Preprocessing: 100%|██████████| 1/1 [00:00<00:00, 786.48docs/s]"
     ]
    },
    {
     "name": "stdout",
     "output_type": "stream",
     "text": [
      "1644\n"
     ]
    },
    {
     "name": "stderr",
     "output_type": "stream",
     "text": [
      "\n"
     ]
    },
    {
     "name": "stdout",
     "output_type": "stream",
     "text": [
      "gs://covid-data-2022-10-30/CDC_Covid19_Data_2022_10_30/Vaccine Pregnancy Registry _ CDC.pdf\n",
      "Copying gs://covid-data-2022-10-30/CDC_Covid19_Data_2022_10_30/Vaccine Pregnancy Registry _ CDC.pdf...\n",
      "/ [1 files][468.1 KiB/468.1 KiB]                                                \n",
      "Operation completed over 1 objects/468.1 KiB.                                    \n"
     ]
    },
    {
     "name": "stderr",
     "output_type": "stream",
     "text": [
      "Preprocessing: 100%|██████████| 1/1 [00:00<00:00, 527.25docs/s]"
     ]
    },
    {
     "name": "stdout",
     "output_type": "stream",
     "text": [
      "1656\n"
     ]
    },
    {
     "name": "stderr",
     "output_type": "stream",
     "text": [
      "\n"
     ]
    },
    {
     "name": "stdout",
     "output_type": "stream",
     "text": [
      "gs://covid-data-2022-10-30/CDC_Covid19_Data_2022_10_30/Variants of the Virus _ CDC.pdf\n",
      "Copying gs://covid-data-2022-10-30/CDC_Covid19_Data_2022_10_30/Variants of the Virus _ CDC.pdf...\n",
      "/ [1 files][828.3 KiB/828.3 KiB]                                                \n",
      "Operation completed over 1 objects/828.3 KiB.                                    \n"
     ]
    },
    {
     "name": "stderr",
     "output_type": "stream",
     "text": [
      "Preprocessing: 100%|██████████| 1/1 [00:00<00:00, 723.28docs/s]"
     ]
    },
    {
     "name": "stdout",
     "output_type": "stream",
     "text": [
      "1663\n"
     ]
    },
    {
     "name": "stderr",
     "output_type": "stream",
     "text": [
      "\n"
     ]
    },
    {
     "name": "stdout",
     "output_type": "stream",
     "text": [
      "gs://covid-data-2022-10-30/CDC_Covid19_Data_2022_10_30/Viral Testing Tool _ CDC.pdf\n",
      "Copying gs://covid-data-2022-10-30/CDC_Covid19_Data_2022_10_30/Viral Testing Tool _ CDC.pdf...\n",
      "/ [1 files][335.3 KiB/335.3 KiB]                                                \n",
      "Operation completed over 1 objects/335.3 KiB.                                    \n"
     ]
    },
    {
     "name": "stderr",
     "output_type": "stream",
     "text": [
      "Preprocessing: 100%|██████████| 1/1 [00:00<00:00, 1301.77docs/s]"
     ]
    },
    {
     "name": "stdout",
     "output_type": "stream",
     "text": [
      "1666\n"
     ]
    },
    {
     "name": "stderr",
     "output_type": "stream",
     "text": [
      "\n"
     ]
    },
    {
     "name": "stdout",
     "output_type": "stream",
     "text": [
      "gs://covid-data-2022-10-30/CDC_Covid19_Data_2022_10_30/Wearing Masks in Travel and Public Transportation Settings _ CDC.pdf\n",
      "Copying gs://covid-data-2022-10-30/CDC_Covid19_Data_2022_10_30/Wearing Masks in Travel and Public Transportation Settings _ CDC.pdf...\n",
      "/ [1 files][302.9 KiB/302.9 KiB]                                                \n",
      "Operation completed over 1 objects/302.9 KiB.                                    \n"
     ]
    },
    {
     "name": "stderr",
     "output_type": "stream",
     "text": [
      "Preprocessing: 100%|██████████| 1/1 [00:00<00:00, 564.74docs/s]"
     ]
    },
    {
     "name": "stdout",
     "output_type": "stream",
     "text": [
      "1678\n"
     ]
    },
    {
     "name": "stderr",
     "output_type": "stream",
     "text": [
      "\n"
     ]
    },
    {
     "name": "stdout",
     "output_type": "stream",
     "text": [
      "gs://covid-data-2022-10-30/CDC_Covid19_Data_2022_10_30/What to Do If You Are Sick _ CDC.pdf\n",
      "Copying gs://covid-data-2022-10-30/CDC_Covid19_Data_2022_10_30/What to Do If You Are Sick _ CDC.pdf...\n",
      "/ [1 files][  2.0 MiB/  2.0 MiB]                                                \n",
      "Operation completed over 1 objects/2.0 MiB.                                      \n"
     ]
    },
    {
     "name": "stderr",
     "output_type": "stream",
     "text": [
      "Preprocessing: 100%|██████████| 1/1 [00:00<00:00, 340.47docs/s]"
     ]
    },
    {
     "name": "stdout",
     "output_type": "stream",
     "text": [
      "1694\n"
     ]
    },
    {
     "name": "stderr",
     "output_type": "stream",
     "text": [
      "\n"
     ]
    },
    {
     "name": "stdout",
     "output_type": "stream",
     "text": [
      "gs://covid-data-2022-10-30/CDC_Covid19_Data_2022_10_30/What to Do If You Were Exposed to COVID-19 _ CDC.pdf\n",
      "Copying gs://covid-data-2022-10-30/CDC_Covid19_Data_2022_10_30/What to Do If You Were Exposed to COVID-19 _ CDC.pdf...\n",
      "/ [1 files][623.4 KiB/623.4 KiB]                                                \n",
      "Operation completed over 1 objects/623.4 KiB.                                    \n"
     ]
    },
    {
     "name": "stderr",
     "output_type": "stream",
     "text": [
      "Preprocessing: 100%|██████████| 1/1 [00:00<00:00, 913.19docs/s]"
     ]
    },
    {
     "name": "stdout",
     "output_type": "stream",
     "text": [
      "1700\n"
     ]
    },
    {
     "name": "stderr",
     "output_type": "stream",
     "text": [
      "\n"
     ]
    },
    {
     "name": "stdout",
     "output_type": "stream",
     "text": [
      "gs://covid-data-2022-10-30/CDC_Covid19_Data_2022_10_30/Why Children and Teens Should Get Vaccinated Against COVID-19 _ CDC.pdf\n",
      "Copying gs://covid-data-2022-10-30/CDC_Covid19_Data_2022_10_30/Why Children and Teens Should Get Vaccinated Against COVID-19 _ CDC.pdf...\n",
      "/ [1 files][490.2 KiB/490.2 KiB]                                                \n",
      "Operation completed over 1 objects/490.2 KiB.                                    \n"
     ]
    },
    {
     "name": "stderr",
     "output_type": "stream",
     "text": [
      "Preprocessing: 100%|██████████| 1/1 [00:00<00:00, 515.71docs/s]"
     ]
    },
    {
     "name": "stdout",
     "output_type": "stream",
     "text": [
      "1709\n"
     ]
    },
    {
     "name": "stderr",
     "output_type": "stream",
     "text": [
      "\n"
     ]
    },
    {
     "name": "stdout",
     "output_type": "stream",
     "text": [
      "gs://covid-data-2022-10-30/CDC_Covid19_Data_2022_10_30/appointment-checklist.pdf\n",
      "Copying gs://covid-data-2022-10-30/CDC_Covid19_Data_2022_10_30/appointment-checklist.pdf...\n",
      "/ [1 files][100.0 KiB/100.0 KiB]                                                \n",
      "Operation completed over 1 objects/100.0 KiB.                                    \n"
     ]
    },
    {
     "name": "stderr",
     "output_type": "stream",
     "text": [
      "Preprocessing: 100%|██████████| 1/1 [00:00<00:00, 803.20docs/s]"
     ]
    },
    {
     "name": "stdout",
     "output_type": "stream",
     "text": [
      "1712\n"
     ]
    },
    {
     "name": "stderr",
     "output_type": "stream",
     "text": [
      "\n"
     ]
    },
    {
     "name": "stdout",
     "output_type": "stream",
     "text": [
      "gs://covid-data-2022-10-30/CDC_Covid19_Data_2022_10_30/bivalent-dose-recipient.pdf\n",
      "Copying gs://covid-data-2022-10-30/CDC_Covid19_Data_2022_10_30/bivalent-dose-recipient.pdf...\n",
      "/ [1 files][190.4 KiB/190.4 KiB]                                                \n",
      "Operation completed over 1 objects/190.4 KiB.                                    \n"
     ]
    },
    {
     "name": "stderr",
     "output_type": "stream",
     "text": [
      "Preprocessing: 100%|██████████| 1/1 [00:00<00:00, 220.16docs/s]"
     ]
    },
    {
     "name": "stdout",
     "output_type": "stream",
     "text": [
      "1744\n"
     ]
    },
    {
     "name": "stderr",
     "output_type": "stream",
     "text": [
      "\n"
     ]
    },
    {
     "name": "stdout",
     "output_type": "stream",
     "text": [
      "gs://covid-data-2022-10-30/CDC_Covid19_Data_2022_10_30/child-age-transition-508.pdf\n",
      "Copying gs://covid-data-2022-10-30/CDC_Covid19_Data_2022_10_30/child-age-transition-508.pdf...\n",
      "/ [1 files][240.7 KiB/240.7 KiB]                                                \n",
      "Operation completed over 1 objects/240.7 KiB.                                    \n"
     ]
    },
    {
     "name": "stderr",
     "output_type": "stream",
     "text": [
      "Preprocessing: 100%|██████████| 1/1 [00:00<00:00, 646.07docs/s]"
     ]
    },
    {
     "name": "stdout",
     "output_type": "stream",
     "text": [
      "1757\n"
     ]
    },
    {
     "name": "stderr",
     "output_type": "stream",
     "text": [
      "\n"
     ]
    },
    {
     "name": "stdout",
     "output_type": "stream",
     "text": [
      "gs://covid-data-2022-10-30/CDC_Covid19_Data_2022_10_30/pfizer-HCP.pdf\n",
      "Copying gs://covid-data-2022-10-30/CDC_Covid19_Data_2022_10_30/pfizer-HCP.pdf...\n",
      "/ [1 files][348.6 KiB/348.6 KiB]                                                \n",
      "Operation completed over 1 objects/348.6 KiB.                                    \n"
     ]
    },
    {
     "name": "stderr",
     "output_type": "stream",
     "text": [
      "Preprocessing: 100%|██████████| 1/1 [00:00<00:00, 101.46docs/s]"
     ]
    },
    {
     "name": "stdout",
     "output_type": "stream",
     "text": [
      "1820\n"
     ]
    },
    {
     "name": "stderr",
     "output_type": "stream",
     "text": [
      "\n"
     ]
    },
    {
     "name": "stdout",
     "output_type": "stream",
     "text": [
      "gs://covid-data-2022-10-30/CDC_Covid19_Data_2022_10_30/pre-vaccination-guidelines.pdf\n",
      "Copying gs://covid-data-2022-10-30/CDC_Covid19_Data_2022_10_30/pre-vaccination-guidelines.pdf...\n",
      "/ [1 files][187.5 KiB/187.5 KiB]                                                \n",
      "Operation completed over 1 objects/187.5 KiB.                                    \n"
     ]
    },
    {
     "name": "stderr",
     "output_type": "stream",
     "text": [
      "Preprocessing: 100%|██████████| 1/1 [00:00<00:00, 289.18docs/s]"
     ]
    },
    {
     "name": "stdout",
     "output_type": "stream",
     "text": [
      "1845\n"
     ]
    },
    {
     "name": "stderr",
     "output_type": "stream",
     "text": [
      "\n"
     ]
    },
    {
     "name": "stdout",
     "output_type": "stream",
     "text": [
      "gs://covid-data-2022-10-30/CDC_Covid19_Data_2022_10_30/summary-interim-clinical-considerations.pdf\n",
      "Copying gs://covid-data-2022-10-30/CDC_Covid19_Data_2022_10_30/summary-interim-clinical-considerations.pdf...\n",
      "/ [1 files][175.2 KiB/175.2 KiB]                                                \n",
      "Operation completed over 1 objects/175.2 KiB.                                    \n"
     ]
    },
    {
     "name": "stderr",
     "output_type": "stream",
     "text": [
      "Preprocessing: 100%|██████████| 1/1 [00:00<00:00, 373.03docs/s]"
     ]
    },
    {
     "name": "stdout",
     "output_type": "stream",
     "text": [
      "1865\n"
     ]
    },
    {
     "name": "stderr",
     "output_type": "stream",
     "text": [
      "\n"
     ]
    }
   ],
   "source": [
    "for file_path in file_paths_list:\n",
    "    print(file_path)\n",
    "    !gsutil cp \"$file_path\" pdf_to_process.pdf\n",
    "    #local_file_path = file_path.replace(\"gs://covid-data-2022-10-30/CDC_Covid19_Data_2022_10_30/\", \"\")\n",
    "    #print(local_file_path)\n",
    "    doc_pdf_conv = converter.convert(file_path=\"pdf_to_process.pdf\", meta=None)[0]\n",
    "    doc_process = preprocessor.process([doc_pdf_conv])\n",
    "    document_store.write_documents(doc_process)\n",
    "    print(document_store.get_document_count())\n",
    "    !rm -rf pdf_to_process.pdf"
   ]
  },
  {
   "cell_type": "code",
   "execution_count": 109,
   "id": "12717353-81bf-47bc-bdae-8dcc743e2e93",
   "metadata": {
    "collapsed": true,
    "jupyter": {
     "outputs_hidden": true
    },
    "tags": []
   },
   "outputs": [
    {
     "data": {
      "text/plain": [
       "[<Document: {'content': 'cdc.gov/coronavirus\\nWhat to Expect after Getting a COVID-19 Vaccine\\nThe COVID-19 shot may cause side effects in some people. Side effects should go away in a few days. On the arm where you got the shot:\\n• Pain\\n• Redness\\n• Swelling\\nIf you are sore where you got the shot:\\n• Apply a clean, cool, wet washcloth over the area\\n• Use or move your arm gently\\nIf you have a fever:\\n• Drink a lot of water\\n• Get plenty of rest\\n• Dress lightly\\nIf you have pain, headache, or fever, ask a healthcare provider (or facility\\nstaff) if you can have medicine.', 'content_type': 'text', 'score': None, 'meta': {'_split_id': 0}, 'embedding': None, 'id': 'f059e215ee14a89be75d577ec5ad4eb2'}>,\n",
       " <Document: {'content': 'Even after your COVID-19 vaccination, when you are in a correctional facility, it’s important\\nto continue wearing a well-fitting mask, try to stay at least 6 feet away from others as\\nmuch as possible, and wash your hands often. Side effects may make\\nyou feel a little sick or\\neven make it hard to\\ndo daily activities, but\\nthey should go away\\nin a few days. vaccination rates and\\nensure that staff and\\nresidents stay up to date\\non their COVID-19 vaccines. COVID-19 vaccines may\\nnot fully protect you\\nuntil a week or two after\\nyour final shot. It takes\\ntime for your body to\\nbuild protection after\\nany vaccination.', 'content_type': 'text', 'score': None, 'meta': {'_split_id': 1}, 'embedding': None, 'id': 'd7bba6b692a38859debc1bf7955686d5'}>,\n",
       " <Document: {'content': 'Ask the facility healthcare provider (or facility staff) for help if:\\n• The redness or pain where you got the shot gets worse after 24 hours\\n• Your side effects are worrying you\\n• Your side effects do not seem to be going away after a few days\\nIn the rest of your body:\\n• Fever\\n• Chills\\n• Tiredness\\n• Headache\\n• Muscle pain\\n• Nausea\\nCOMMON SIDE EFFECTS\\nHELPFUL TIPS\\nREMEMBER', 'content_type': 'text', 'score': None, 'meta': {'_split_id': 2}, 'embedding': None, 'id': 'a2ebbe91c5fbc2888446cd5e8e0e63c8'}>,\n",
       " <Document: {'content': '10/30/22, 9:34 AM About COVID-19 Vaccines | CDC\\nEspañol | Other Languages\\nAbout COVID-19 Vaccines\\nCOVID-19 vaccines are safe and effective. CDC recommends COVID-19 vaccines for everyone 6 months and older and boosters\\nfor everyone 5 years and older, if eligible. Learn about the different vaccines available. To find a COVID-19 vaccine near you: Search vaccines.gov, text your zip\\ncode to 438829, or call 1-800-232-0233 to find COVID-19 vaccine locations near you. Benefits of Getting Vaccinated\\nFrequently Asked Questions\\n•\\n•\\n•\\n•\\nGetting a COVID-19 vaccine is fast, easy, and free. Learn how to find a COVID-19 vaccine near you, and get your vaccine\\ntoday!', 'content_type': 'text', 'score': None, 'meta': {'_split_id': 0}, 'embedding': None, 'id': '81fd262a74141ee213c771449bcfd8a4'}>,\n",
       " <Document: {'content': '\\uf294 Vaccine Data\\nVaccine Data\\n›\\nReporting Vaccine Data\\n›\\n\\uf3c2 How Vaccines Get to You\\nDeveloping COVID-19 vaccines\\n›\\n\\uf2ff For Healthcare and Public Health\\nUse of COVID-19 Vaccines in the United States: Interim Clinical Considerations\\nLast Updated July 13, 2022', 'content_type': 'text', 'score': None, 'meta': {'_split_id': 1}, 'embedding': None, 'id': 'da98716b643874423d2b1e104481ee65'}>,\n",
       " <Document: {'content': 'Español | Other Languages\\nGet the facts about COVID-19 and the virus that causes it, including how it spreads and new variants. CDC is reviewing this page to align with updated guidance. Protect Your Family Members\\nCDC recommends COVID-19 vaccines for everyone 6 months and older and boosters for\\neveryone 5 years and older, if eligible.', 'content_type': 'text', 'score': None, 'meta': {'_split_id': 0}, 'embedding': None, 'id': '5ae09f6b7c89da2d1b5973d4cf686c0c'}>,\n",
       " <Document: {'content': 'Some people in your family may need to take more\\nsteps to be better protected from COVID-19, including\\nAnyone not up to date with their COVID-19 vaccines\\nPeople with weakened immune systems or underlying medical conditions\\n•\\n•\\nProtect Yourself & Others\\nHow It Spreads\\nVariants of the Virus\\nStress & Coping\\nAnimals & COVID-19\\nBasics of COVID-19\\n\\uf1aa\\n\\uf1aa\\n\\uf1aa\\n\\uf1aa\\n\\uf1aa\\n\\uf1aa\\nLast Updated Jan. 24, 2022', 'content_type': 'text', 'score': None, 'meta': {'_split_id': 1}, 'embedding': None, 'id': '948373cea621f6816d541c171e687f1b'}>,\n",
       " <Document: {'content': '10/30/22, 9:31 AM Allergic Reactions after COVID-19 Vaccination | CDC\\nEspañol | Other Languages\\nAllergic Reactions after COVID-19 Vaccination\\nIf You Are Having a Severe Allergic Reaction to a COVID-19\\nVaccine\\nSevere allergic reactions to vaccines are rare but can happen. If you get a COVID-19 vaccine and you think you might be\\nhaving a severe allergic reaction after leaving the vaccination provider site, seek immediate medical care by calling 911. A severe allergic reaction can cause:\\ndifficulty breathing or wheezing,\\na drop in blood pressure,\\nswelling of the tongue or throat, or\\na generalized rash or hives, which may include mucus membranes.', 'content_type': 'text', 'score': None, 'meta': {'_split_id': 0}, 'embedding': None, 'id': 'cb7973e637cb213634c54a9aa03f5427'}>,\n",
       " <Document: {'content': 'If You Had a Severe Allergic Reaction to a COVID-19 Vaccine\\nThe Pfizer-BioNTech and Moderna COVID-19 vaccines are messenger RNA vaccines, also called mRNA vaccines. Johnson & Johnson’s/Janssen(J&J/Janssen) COVID-19 vaccine is a viral vector vaccine. Novavax COVID-19 vaccine is a protein subunit vaccine. If you had a severe allergic reaction after receiving a particular type of COVID-19 vaccine (either mRNA, protein subunit,\\nor viral vector), you should not get another dose of that type of vaccine. CDC recommends that people getting a booster get an mRNA COVID-19 vaccine (Pfizer-BioNTech or Moderna).', 'content_type': 'text', 'score': None, 'meta': {'_split_id': 1}, 'embedding': None, 'id': '194fe3206a0c67ecf603064b7338c8ad'}>,\n",
       " <Document: {'content': 'However, if\\nyou had a severe allergic reaction after a dose of an mRNA COVID-19 vaccine or if you have had a severe allergic reaction to\\nany ingredient in an mRNA COVID-19 vaccine, you may be able to get the J&J/Janssen COVID-19 vaccine. Learn about getting a different type of COVID-19 vaccine after an allergic reaction.', 'content_type': 'text', 'score': None, 'meta': {'_split_id': 2}, 'embedding': None, 'id': 'e34dcd35e8a2caef68ba59a67638ebb3'}>,\n",
       " <Document: {'content': 'If You Have Had an Immediate Allergic Reaction to Other\\nVaccines or Injectables\\nIf you have had an immediate allergic reaction (a reaction that started within 4 hours) to any vaccine other than a COVID-19\\nvaccine or any injectable therapy, you may still be able to get a COVID-19 vaccine. However, your doctor may refer you to an\\nallergy and immunology specialist for additional care or advice.', 'content_type': 'text', 'score': None, 'meta': {'_split_id': 3}, 'embedding': None, 'id': '7ff7f8b5d8e85b1fdbe91110fda87436'}>,\n",
       " <Document: {'content': 'If You Had a Non-severe Allergic Reaction to a COVID-19 Vaccine\\n•\\n•\\n•\\n•\\n•\\n•\\n•\\n•\\x0c10/30/22, 9:31 AM Allergic Reactions after COVID-19 Vaccination | CDC\\nIf you had an immediate allergic reaction (a reaction that started within 4 hours of getting vaccinated) to a COVID-19 vaccine,\\nbut the reaction was not considered severe by a medical professional, you likely can receive another dose of the same vaccine\\nunder certain conditions. Your doctor may refer you to an allergy and immunology specialist for additional care or advice.', 'content_type': 'text', 'score': None, 'meta': {'_split_id': 4}, 'embedding': None, 'id': 'ecaf712d2fb2b519784ccb0aca7b73d5'}>,\n",
       " <Document: {'content': 'If You Had a Rash on the Arm where You Got a COVID-19 Shot\\nIf you had a red, itchy, swollen, or painful rash where you got a COVID-19 shot, you should still get another shot at the\\nscheduled date and time. This applies to second, additional, or booster shots. Your vaccination provider may recommend that\\nyou get your next COVID-19 vaccine in the opposite arm, if possible. These rashes can start a few days to more than a week after your shot and are sometimes quite large.', 'content_type': 'text', 'score': None, 'meta': {'_split_id': 5}, 'embedding': None, 'id': 'eaa55a44539a58015dfeabf50ee6816f'}>,\n",
       " <Document: {'content': 'These rashes are also\\nknown as “COVID arm.” Tell your vaccination provider that you experienced a rash or “COVID arm” after your shot. Your\\nvaccination provider may recommend that you get your next COVID-19 vaccine in the opposite arm if possible. If the rash is itchy, you can take an antihistamine. If it is painful, you can take a pain medication like acetaminophen or a non-\\nsteroidal anti-inflammatory drug (NSAID). Safeguards Are in Place\\nEveryone who gets a COVID-19 vaccine should be monitored on site for at least 15 minutes after vaccination.', 'content_type': 'text', 'score': None, 'meta': {'_split_id': 6}, 'embedding': None, 'id': '99f603a81c35490975e6c53a77505766'}>,\n",
       " <Document: {'content': 'You should be monitored for 30 minutes if:\\nYou have had a severe allergic reaction called anaphylaxis due to any cause. You have had any type of immediate (within 4 hours) allergic reaction to a non-COVID-19 vaccine or injectable\\ntherapy. You had a severe allergic reaction to one type of COVID-19 vaccine (for example, an mRNA vaccine) and are now\\nreceiving another type of COVID-19 vaccine (for example, a viral vector). This vaccination should only be done in a\\nhealth clinic, medical facility, or doctor’s office.', 'content_type': 'text', 'score': None, 'meta': {'_split_id': 7}, 'embedding': None, 'id': '239afa78157bc2a3e3e9faf635e5ed97'}>,\n",
       " <Document: {'content': 'You had an immediate (within 4 hours) allergic reaction that was not severe from a previous dose of that type of\\nCOVID-19 vaccine. This vaccination should only be done in a health clinic, medical facility, or doctor’s office. CDC Is Monitoring Reports of Severe Allergic Reactions\\nIf someone has a severe allergic reaction after getting vaccinated, their vaccination provider will send a report to the Vaccine\\nAdverse Event Reporting System (VAERS). VAERS is a national system that collects reports from healthcare professionals,\\nvaccine manufacturers, and the public about adverse events that happen after vaccination.', 'content_type': 'text', 'score': None, 'meta': {'_split_id': 8}, 'embedding': None, 'id': '7f367bb0227a59b0bf5f06f13849d734'}>,\n",
       " <Document: {'content': 'Reports of adverse events that are\\nunexpected, appear to happen more often than expected, or have unusual patterns are followed up with specific studies. Learn more about how CDC and federal partners are monitoring the safety of COVID-19 vaccines in the United States,\\nincluding reports of selected adverse events after COVID-19 vaccination. •\\n•\\n-\\n-\\n-\\n-\\nVaccination providers should have appropriate personnel, medications, and equipment—such as epinephrine,\\nantihistamines, blood pressure monitor, and timing devices to check your pulse—at all COVID-19 vaccination provider\\nsites. If you experience a severe allergic reaction after getting a COVID-19 vaccine, vaccination providers can provide care\\nrapidly and call for emergency medical services.', 'content_type': 'text', 'score': None, 'meta': {'_split_id': 9}, 'embedding': None, 'id': 'a591319cbeea9146749734234f05d143'}>,\n",
       " <Document: {'content': 'You should continue to be monitored in a medical facility for at least\\nseveral hours.', 'content_type': 'text', 'score': None, 'meta': {'_split_id': 10}, 'embedding': None, 'id': 'bc13643233cbdda84af71544d63d64ed'}>,\n",
       " <Document: {'content': '\\uf209\\nRelated Pages\\nInformation about COVID-19 Vaccines for People with Allergies\\n›\\nPossible Side Effects\\n›\\nEnsuring the Safety of COVID-19 Vaccines\\n›\\x0c10/30/22, 9:31 AM Allergic Reactions after COVID-19 Vaccination | CDC\\n\\uf2ff For Healthcare Professionals\\nInterim Considerations: Preparing for the Potential Management of Anaphylaxis at COVID-19\\nVaccination Sites\\nInterim Clinical Considerations for Use of mRNA COVID-19 Vaccines Currently Authorized in the United\\nStates\\nCOVID-19 Clinical Resources\\n•\\n•\\n•\\nMore Information\\nResearch\\nAllergic Reactions Including Anaphylaxis After Receipt of the First Dose of Pfizer-BioNTech COVID-19 Vaccine — United\\nAllergic Reactions Including Anaphylaxis After Receipt of the First Dose of Moderna COVID-19 Vaccine — United States,\\nMore Information\\nVaccine Adverse Event Reporting System (VAERS)\\nCOVID-19 Vaccine Safety Publications\\n\\uf209\\nLast Updated July 20, 2022', 'content_type': 'text', 'score': None, 'meta': {'_split_id': 11}, 'embedding': None, 'id': '8e49fd6e064ee564dea7a243c32b0b3b'}>,\n",
       " <Document: {'content': '10/30/22, 9:37 AM Animals and COVID-19 | CDC\\nEspañol | Other Languages\\nAnimals and COVID-19\\nCDC is reviewing this page to align with updated guidance. What You Need to Know\\nThe risk of animals spreading SARS-CoV-2, the virus that causes COVID-19, to people is low. The virus can spread from people to animals during close contact. More studies and surveillance are needed to understand how SARS-CoV-2 is spread between people and animals. People with suspected or confirmed COVID-19 should avoid contact with animals, including pets, livestock, and\\nwildlife.', 'content_type': 'text', 'score': None, 'meta': {'_split_id': 0}, 'embedding': None, 'id': '2d2d93f3f938c4d227de4e00cd007b9d'}>,\n",
       " <Document: {'content': '•\\n•\\n•\\n•\\nFor Pet Owners, Veterinarians, & Public Health Officials\\nPet Owners\\nand Others\\nHandling\\nAnimals\\nPets and\\nAnimals\\nFrequently\\nAsked\\nQuestions\\nAnimal\\nTesting\\nGuidance\\nOne Health\\nToolkit for\\nHealth\\nOfficials\\nManaging\\nCompanion\\nAnimals with\\n•\\n•\\n•\\n•\\nCoronaviruses are a large family of viruses. Some coronaviruses cause cold-like illnesses in people, while others cause illness\\nin certain types of animals, such as cattle, camels, and bats. Some coronaviruses, such as canine and feline coronaviruses,\\ninfect only animals and do not infect people. Some coronaviruses that infect animals can be spread to people and then\\nspread between people, but this is rare. This is what happened with SARS-CoV-2, which likely originated in bats.', 'content_type': 'text', 'score': None, 'meta': {'_split_id': 1}, 'embedding': None, 'id': '2ad87233769032e29ecca90d80ffa575'}>,\n",
       " <Document: {'content': '10/30/22, 9:37 AM Animals and COVID-19 | CDC\\nRisk of people spreading SARS-CoV-2 to animals\\nAnimals infected with SARS-CoV-2 have been documented around the world. Most of these animals became infected after\\ncontact with people with COVID-19, including owners, caretakers, or others who were in close contact. We don’t yet know all\\nof the animals that can get infected. Animals reported infected worldwide include\\nCompanion animals, including pet cats, dogs, hamsters, and ferrets. Animals in zoos and sanctuaries, including several types of big cats (e.g., lions, tigers, snow leopards), otters, non-human\\nprimates, a binturong, a coatimundi, a fishing cat, hyenas, hippopotamuses, and manatees.', 'content_type': 'text', 'score': None, 'meta': {'_split_id': 2}, 'embedding': None, 'id': '87101b9d6ca6bf13c9d14fb3245669a0'}>,\n",
       " <Document: {'content': 'Mink on mink farms. Wildlife, including white-tailed deer, mule deer, a black-tailed marmoset, a giant anteater, and wild mink near mink\\nfarms. For information on how to protect pets and animals, visit\\nWhat You Should Know about COVID-19 and Pets\\nCompanion Animals with COVID-19: Toolkit for Health Officials\\nReducing Risk of Spreading COVID-19 between People and Wildlife\\nRisk of animals spreading SARS-CoV-2 to people\\nThere is no evidence that animals play a significant role in spreading SARS-CoV-2, the virus that causes COVID-19, to people. There have been a few reports of infected mammalian animals spreading the virus to people during close contact, but this is\\nrare.', 'content_type': 'text', 'score': None, 'meta': {'_split_id': 3}, 'embedding': None, 'id': '8aad37bad5e1f65c77e0155868940a8b'}>,\n",
       " <Document: {'content': 'These cases include farmed mink in Europe and the United States, white-tailed deer in Canada, pet hamsters in Hong\\nKong, and a cat in Thailand. In most of these cases, the animals were known to be first infected by a person who had COVID-\\n19. It’s important to remember that people are much more likely to get COVID-19 from other people than from animals. There is\\nno need to euthanize or otherwise harm animals infected with SARS-CoV-2. There is a possibility that the virus could infect animals, mutate, and a new strain could spread back to people and then\\namong people (called spillback).', 'content_type': 'text', 'score': None, 'meta': {'_split_id': 4}, 'embedding': None, 'id': '72882d2ae816b477bfdc8b82b72c3827'}>,\n",
       " <Document: {'content': 'More studies and surveillance are needed to track variants and mutations and to understand\\nhow SARS-CoV-2 spreads between people and animals. Mink and SARS-CoV-2\\nIn the United States, respiratory disease and increases in mink deaths have been seen on most affected mink farms. However, some infected mink might also appear healthy. Infected workers likely introduced SARS-CoV-2 to mink on the farms,\\nand the virus then began to spread among the mink. Once the virus is introduced on a farm, spread can occur between mink,\\nas well as from mink to other animals on the farm (dogs, cats).', 'content_type': 'text', 'score': None, 'meta': {'_split_id': 5}, 'embedding': None, 'id': '2d1d238b3ff66b07dc27e6073b9e840e'}>,\n",
       " <Document: {'content': 'One wild mink and a small number of escaped farm mink\\ntrapped near affected farms in Utah and Oregon were found to be infected with SARS-CoV-2. Although there is no evidence that mink are playing a significant role in the spread of SARS-CoV-2 to people, there is a\\npossibility of mink spreading SARS-CoV-2 to people and other animals on mink farms. Mink-to-human spread of SARS-CoV-2\\nhas been reported in the Netherlands, Denmark, and Poland, and data suggest it might have occurred in the United States. People can spread SARS-CoV-2 to animals, especially during close contact.', 'content_type': 'text', 'score': None, 'meta': {'_split_id': 6}, 'embedding': None, 'id': 'b06129ce4bee31b367178f3956c53e5c'}>,\n",
       " <Document: {'content': '•\\n•\\n•\\n•\\n•\\n•\\n•\\nThe risk of animals spreading COVID-19 to people is considered low. SARS-CoV-2 has been reported in farmed mink in multiple countries. Currently, there is no evidence that mink are playing\\na significant role in the spread of COVID-19 to people. 10/30/22, 9:37 AM Animals and COVID-19 | CDC\\nInvestigations found that mink from a Michigan farm and a small number of people were infected with SARS-CoV-2 that\\ncontained unique mink-related mutations (changes in the virus’s genetic material). This suggests mink-to-human spread\\nmight have occurred.', 'content_type': 'text', 'score': None, 'meta': {'_split_id': 7}, 'embedding': None, 'id': 'b52ae7fa4556e6a248c14822ad874f72'}>,\n",
       " <Document: {'content': 'Finding these mutations in mink on the Michigan farm is not unexpected because they have been seen before in mink\\nfrom farms in the Netherlands and Denmark, and also in people linked to mink farms worldwide. To confirm the spread of SARS-CoV-2 from mink to people, public health officials would need more information on the\\nepidemiology and genetics of the virus in mink, mink farm workers, and the communities around mink farms. These results highlight the importance of routinely studying the genetic material of SARS-CoV-2 in susceptible animal\\npopulations like mink, as well as in people.', 'content_type': 'text', 'score': None, 'meta': {'_split_id': 8}, 'embedding': None, 'id': '11df74a8cf591564413db47aae7ad791'}>,\n",
       " <Document: {'content': '•\\n•\\n•\\n•\\nGuidance is available to protect worker and animal health, developed collaboratively by the U.S. Department of\\nAgriculture (USDA), CDC, and state animal and public health partners using a One Health approach:\\nPrevent Introduction of SARS-CoV-2 on Mink Farms: Interim SARS-CoV-2 Guidance and Recommendations for Farmed\\nMink and Other Mustelids\\nResponse and Containment Guidelines: Interim Guidance for Animal Health and Public Health Officials Managing Farmed\\nMink and other Farmed Mustelids with SARS-CoV-2\\n\\uf20c \\uf209\\n\\uf20c \\uf209\\nResearch on animals and COVID-19\\nMany studies have been done to learn more about how this virus can affect different animals, including if they are susceptible\\nto infection and if they can spread infection to other animals.', 'content_type': 'text', 'score': None, 'meta': {'_split_id': 9}, 'embedding': None, 'id': 'b90829ff3c739f76090ba19ee477ffb'}>,\n",
       " <Document: {'content': 'Studies on animals do not show whether animals can spread\\ninfection to people. Based on these studies, we know that invertebrates, birds, reptiles, and amphibians are not susceptible to infection with\\nSARS-CoV-2. What CDC is doing\\nSince the beginning of the pandemic, CDC has been leading efforts to improve our understanding of how SARS-CoV-2 affects\\nanimals and how the virus might spread between people and animals. CDC has also worked to improve coordination of\\nfederal, state, and other One Health partners.', 'content_type': 'text', 'score': None, 'meta': {'_split_id': 10}, 'embedding': None, 'id': '29f05dec404999d3cd435185664abe1b'}>,\n",
       " <Document: {'content': 'CDC leads the One Health Federal Interagency COVID-19 Coordination (OH-FICC) Group, which brings together public\\nhealth, animal health, and environmental health representatives from more than 20 federal agencies to collaborate and\\nexchange information on the One Health aspects of COVID-19. For example, the group researches and develops\\nguidance on the connection between people and pets, wildlife, zoo animals, and livestock; animal diagnostics and\\ntesting; and environmental health issues relevant to COVID-19. CDC leads the regular State-Federal One Health Update Call to bring local, state, tribal, and territorial partners together\\nwith OH-FICC members.', 'content_type': 'text', 'score': None, 'meta': {'_split_id': 11}, 'embedding': None, 'id': '1d3b1c63a6123b0a9188b7b3d6a888ac'}>,\n",
       " <Document: {'content': 'CDC, USDA, state public health and animal health officials, and academic partners are working in some states to conduct\\nactive surveillance (proactive testing) of SARS-CoV-2 in pets, including cats, dogs, and other small mammals, that had\\ncontact with a person with COVID-19. CDC deployed One Health teams to multiple states to support state and local departments of health and agriculture,\\nfederal partners, and others in conducting on-farm investigations into SARS-CoV-2 in people, mink, and other animals\\n(domestic and wildlife).', 'content_type': 'text', 'score': None, 'meta': {'_split_id': 12}, 'embedding': None, 'id': '8f2d869d86005bae756cbe5cf44ac6e5'}>,\n",
       " <Document: {'content': 'The teams collected samples from animals on the farms and from people working on the farms\\nd i di iti\\nUSDA maintains a list of all animals and mink farms in the United States with SARS-CoV-2 infections confirmed by their\\nNational Veterinary Services Laboratories. \\uf209\\nMore studies and surveillance are needed to understand if and how different animals could be affected by COVID-19. •\\n•\\n•\\n•\\x0c10/30/22, 9:37 AM Animals and COVID-19 | CDC\\nand in surrounding communities.', 'content_type': 'text', 'score': None, 'meta': {'_split_id': 13}, 'embedding': None, 'id': '1ae78230c6cc0968e84179e2e0c08ccb'}>,\n",
       " <Document: {'content': 'Related Pages\\nReducing the Risk of SARS-CoV-2 Spreading between People and Wildlife\\n›\\nWhat You Should Know about COVID-19 and Pets\\n›\\nMore Information\\nInformation on Bringing an Animal into the United States\\nWorld Organisation for Animal Health: COVID-19 Events in\\nAnimals\\nUSDA: Confirmed cases of SARS-CoV-2 in Animals in the\\nUnited States\\nUSDA: Coronavirus Disease 2019\\nFDA: Coronavirus Disease 2019\\n\\uf209\\n\\uf209\\n\\uf209\\n\\uf209\\nMedia Announcements\\nConfirmation of COVID-19 in a Canada Lynx at a Pennsylvania Zoo\\nConfirmation of COVID-19 in Hyenas at a Colorado Zoo\\nConfirmation of COVID-19 in a Coatimundi at an Illinois Zoo\\nConfirmation of COVID-19 in a Binturong and a Fishing Cat at an Illinois Zoo\\nConfirmation of COVID-19 in Ferret in Florida\\nConfirmation of COVID-19 in Deer in Ohio\\nTexas A&M Research Uncovers First Known COVID-19 UK Variant In Animals\\nConfirmation of COVID-19 in a Snow Leopard at a Kentucky Zoo\\u200b\\nUSDA Confirms SARS-CoV-2 in Mink in Utah\\nConfirmation of COVID-19 in Pet Dog in New York\\nConfirmation of COVID-19 in Two Pet Cats in New York\\nUSDA Statement on the Confirmation of COVID-19 Infection in a Tiger in New York\\n• \\uf209\\n• \\uf209\\n• \\uf209\\n• \\uf209\\n• \\uf209\\n• \\uf209\\n• \\uf209\\n• \\uf209\\n• \\uf209\\n• \\uf209\\n•\\n• \\uf209\\nLast Updated July 5, 2022', 'content_type': 'text', 'score': None, 'meta': {'_split_id': 14}, 'embedding': None, 'id': 'fbfc8570be618f0cf8b459c2eb2c8f7a'}>]"
      ]
     },
     "execution_count": 109,
     "metadata": {},
     "output_type": "execute_result"
    }
   ],
   "source": [
    "document_store.get_all_documents()"
   ]
  },
  {
   "cell_type": "code",
   "execution_count": 47,
   "id": "8a8154d8-0bc2-4ff4-ab60-9ec8b27f1647",
   "metadata": {
    "collapsed": true,
    "jupyter": {
     "outputs_hidden": true
    },
    "tags": []
   },
   "outputs": [
    {
     "name": "stderr",
     "output_type": "stream",
     "text": [
      "I/O Error: Couldn't open file 'gs://covid-data-2022-10-30/CDC_Covid19_Data_2022_10_30/324160-A-COVID-19_VaccinationPoster_WhatToExpect_card.pdf'\n",
      "WARNING:haystack.nodes.file_converter.pdf:The language for gs://covid-data-2022-10-30/CDC_Covid19_Data_2022_10_30/324160-A-COVID-19_VaccinationPoster_WhatToExpect_card.pdf is not one of ['en']. The file may not have been decoded in the correct text format.\n",
      "Preprocessing: 100%|██████████| 1/1 [00:00<00:00, 2809.31docs/s]\n",
      "I/O Error: Couldn't open file 'gs://covid-data-2022-10-30/CDC_Covid19_Data_2022_10_30/About COVID-19 Vaccines _ CDC.pdf'\n",
      "WARNING:haystack.nodes.file_converter.pdf:The language for gs://covid-data-2022-10-30/CDC_Covid19_Data_2022_10_30/About COVID-19 Vaccines _ CDC.pdf is not one of ['en']. The file may not have been decoded in the correct text format.\n"
     ]
    },
    {
     "name": "stdout",
     "output_type": "stream",
     "text": [
      "n_docs_input: 1\n",
      "n_docs_output: 0\n"
     ]
    },
    {
     "name": "stderr",
     "output_type": "stream",
     "text": [
      "Preprocessing: 100%|██████████| 1/1 [00:00<00:00, 2498.10docs/s]\n",
      "I/O Error: Couldn't open file 'gs://covid-data-2022-10-30/CDC_Covid19_Data_2022_10_30/About COVID-19 _ CDC.pdf'\n",
      "WARNING:haystack.nodes.file_converter.pdf:The language for gs://covid-data-2022-10-30/CDC_Covid19_Data_2022_10_30/About COVID-19 _ CDC.pdf is not one of ['en']. The file may not have been decoded in the correct text format.\n"
     ]
    },
    {
     "name": "stdout",
     "output_type": "stream",
     "text": [
      "n_docs_input: 1\n",
      "n_docs_output: 0\n"
     ]
    },
    {
     "name": "stderr",
     "output_type": "stream",
     "text": [
      "Preprocessing: 100%|██████████| 1/1 [00:00<00:00, 3315.66docs/s]\n",
      "I/O Error: Couldn't open file 'gs://covid-data-2022-10-30/CDC_Covid19_Data_2022_10_30/Allergic Reactions after COVID-19 Vaccination _ CDC.pdf'\n",
      "WARNING:haystack.nodes.file_converter.pdf:The language for gs://covid-data-2022-10-30/CDC_Covid19_Data_2022_10_30/Allergic Reactions after COVID-19 Vaccination _ CDC.pdf is not one of ['en']. The file may not have been decoded in the correct text format.\n"
     ]
    },
    {
     "name": "stdout",
     "output_type": "stream",
     "text": [
      "n_docs_input: 1\n",
      "n_docs_output: 0\n"
     ]
    },
    {
     "name": "stderr",
     "output_type": "stream",
     "text": [
      "Preprocessing: 100%|██████████| 1/1 [00:00<00:00, 2559.06docs/s]\n",
      "I/O Error: Couldn't open file 'gs://covid-data-2022-10-30/CDC_Covid19_Data_2022_10_30/Animals and COVID-19 _ CDC.pdf'\n",
      "WARNING:haystack.nodes.file_converter.pdf:The language for gs://covid-data-2022-10-30/CDC_Covid19_Data_2022_10_30/Animals and COVID-19 _ CDC.pdf is not one of ['en']. The file may not have been decoded in the correct text format.\n"
     ]
    },
    {
     "name": "stdout",
     "output_type": "stream",
     "text": [
      "n_docs_input: 1\n",
      "n_docs_output: 0\n"
     ]
    },
    {
     "name": "stderr",
     "output_type": "stream",
     "text": [
      "Preprocessing: 100%|██████████| 1/1 [00:00<00:00, 2603.54docs/s]\n",
      "I/O Error: Couldn't open file 'gs://covid-data-2022-10-30/CDC_Covid19_Data_2022_10_30/Antibodies and COVID-19 _ CDC.pdf'\n",
      "WARNING:haystack.nodes.file_converter.pdf:The language for gs://covid-data-2022-10-30/CDC_Covid19_Data_2022_10_30/Antibodies and COVID-19 _ CDC.pdf is not one of ['en']. The file may not have been decoded in the correct text format.\n"
     ]
    },
    {
     "name": "stdout",
     "output_type": "stream",
     "text": [
      "n_docs_input: 1\n",
      "n_docs_output: 0\n"
     ]
    },
    {
     "name": "stderr",
     "output_type": "stream",
     "text": [
      "Preprocessing: 100%|██████████| 1/1 [00:00<00:00, 2351.07docs/s]\n",
      "I/O Error: Couldn't open file 'gs://covid-data-2022-10-30/CDC_Covid19_Data_2022_10_30/Archive of COVID-19 Vaccination Data Updates _ CDC.pdf'\n",
      "WARNING:haystack.nodes.file_converter.pdf:The language for gs://covid-data-2022-10-30/CDC_Covid19_Data_2022_10_30/Archive of COVID-19 Vaccination Data Updates _ CDC.pdf is not one of ['en']. The file may not have been decoded in the correct text format.\n"
     ]
    },
    {
     "name": "stdout",
     "output_type": "stream",
     "text": [
      "n_docs_input: 1\n",
      "n_docs_output: 0\n"
     ]
    },
    {
     "name": "stderr",
     "output_type": "stream",
     "text": [
      "Preprocessing: 100%|██████████| 1/1 [00:00<00:00, 2592.28docs/s]\n",
      "I/O Error: Couldn't open file 'gs://covid-data-2022-10-30/CDC_Covid19_Data_2022_10_30/Basics of COVID-19 _ CDC.pdf'\n",
      "WARNING:haystack.nodes.file_converter.pdf:The language for gs://covid-data-2022-10-30/CDC_Covid19_Data_2022_10_30/Basics of COVID-19 _ CDC.pdf is not one of ['en']. The file may not have been decoded in the correct text format.\n"
     ]
    },
    {
     "name": "stdout",
     "output_type": "stream",
     "text": [
      "n_docs_input: 1\n",
      "n_docs_output: 0\n"
     ]
    },
    {
     "name": "stderr",
     "output_type": "stream",
     "text": [
      "Preprocessing: 100%|██████████| 1/1 [00:00<00:00, 2543.54docs/s]\n",
      "I/O Error: Couldn't open file 'gs://covid-data-2022-10-30/CDC_Covid19_Data_2022_10_30/Benefits of Getting A COVID-19 Vaccine _ CDC.pdf'\n",
      "WARNING:haystack.nodes.file_converter.pdf:The language for gs://covid-data-2022-10-30/CDC_Covid19_Data_2022_10_30/Benefits of Getting A COVID-19 Vaccine _ CDC.pdf is not one of ['en']. The file may not have been decoded in the correct text format.\n"
     ]
    },
    {
     "name": "stdout",
     "output_type": "stream",
     "text": [
      "n_docs_input: 1\n",
      "n_docs_output: 0\n"
     ]
    },
    {
     "name": "stderr",
     "output_type": "stream",
     "text": [
      "Preprocessing: 100%|██████████| 1/1 [00:00<00:00, 2728.89docs/s]\n",
      "I/O Error: Couldn't open file 'gs://covid-data-2022-10-30/CDC_Covid19_Data_2022_10_30/Breastfeeding and Caring for Newborns if You Have COVID-19 _ CDC.pdf'\n",
      "WARNING:haystack.nodes.file_converter.pdf:The language for gs://covid-data-2022-10-30/CDC_Covid19_Data_2022_10_30/Breastfeeding and Caring for Newborns if You Have COVID-19 _ CDC.pdf is not one of ['en']. The file may not have been decoded in the correct text format.\n"
     ]
    },
    {
     "name": "stdout",
     "output_type": "stream",
     "text": [
      "n_docs_input: 1\n",
      "n_docs_output: 0\n"
     ]
    },
    {
     "name": "stderr",
     "output_type": "stream",
     "text": [
      "Preprocessing: 100%|██████████| 1/1 [00:00<00:00, 2993.79docs/s]\n",
      "I/O Error: Couldn't open file 'gs://covid-data-2022-10-30/CDC_Covid19_Data_2022_10_30/COVID-19 Testing_ What You Need to Know _ CDC.pdf'\n",
      "WARNING:haystack.nodes.file_converter.pdf:The language for gs://covid-data-2022-10-30/CDC_Covid19_Data_2022_10_30/COVID-19 Testing_ What You Need to Know _ CDC.pdf is not one of ['en']. The file may not have been decoded in the correct text format.\n"
     ]
    },
    {
     "name": "stdout",
     "output_type": "stream",
     "text": [
      "n_docs_input: 1\n",
      "n_docs_output: 0\n"
     ]
    },
    {
     "name": "stderr",
     "output_type": "stream",
     "text": [
      "Preprocessing: 100%|██████████| 1/1 [00:00<00:00, 2668.13docs/s]\n"
     ]
    },
    {
     "name": "stdout",
     "output_type": "stream",
     "text": [
      "n_docs_input: 1\n",
      "n_docs_output: 0\n"
     ]
    },
    {
     "name": "stderr",
     "output_type": "stream",
     "text": [
      "I/O Error: Couldn't open file 'gs://covid-data-2022-10-30/CDC_Covid19_Data_2022_10_30/COVID-19 Treatments and Medications _ CDC.pdf'\n",
      "WARNING:haystack.nodes.file_converter.pdf:The language for gs://covid-data-2022-10-30/CDC_Covid19_Data_2022_10_30/COVID-19 Treatments and Medications _ CDC.pdf is not one of ['en']. The file may not have been decoded in the correct text format.\n",
      "Preprocessing: 100%|██████████| 1/1 [00:00<00:00, 2570.04docs/s]\n"
     ]
    },
    {
     "name": "stdout",
     "output_type": "stream",
     "text": [
      "n_docs_input: 1\n",
      "n_docs_output: 0\n"
     ]
    },
    {
     "name": "stderr",
     "output_type": "stream",
     "text": [
      "I/O Error: Couldn't open file 'gs://covid-data-2022-10-30/CDC_Covid19_Data_2022_10_30/COVID-19 Vaccination Clinical and Professional Resources _ CDC.pdf'\n",
      "WARNING:haystack.nodes.file_converter.pdf:The language for gs://covid-data-2022-10-30/CDC_Covid19_Data_2022_10_30/COVID-19 Vaccination Clinical and Professional Resources _ CDC.pdf is not one of ['en']. The file may not have been decoded in the correct text format.\n",
      "Preprocessing: 100%|██████████| 1/1 [00:00<00:00, 2475.98docs/s]\n"
     ]
    },
    {
     "name": "stdout",
     "output_type": "stream",
     "text": [
      "n_docs_input: 1\n",
      "n_docs_output: 0\n"
     ]
    },
    {
     "name": "stderr",
     "output_type": "stream",
     "text": [
      "I/O Error: Couldn't open file 'gs://covid-data-2022-10-30/CDC_Covid19_Data_2022_10_30/COVID-19 Vaccination Data Systems and Data Sources.pdf'\n",
      "WARNING:haystack.nodes.file_converter.pdf:The language for gs://covid-data-2022-10-30/CDC_Covid19_Data_2022_10_30/COVID-19 Vaccination Data Systems and Data Sources.pdf is not one of ['en']. The file may not have been decoded in the correct text format.\n",
      "Preprocessing: 100%|██████████| 1/1 [00:00<00:00, 2910.69docs/s]\n"
     ]
    },
    {
     "name": "stdout",
     "output_type": "stream",
     "text": [
      "n_docs_input: 1\n",
      "n_docs_output: 0\n"
     ]
    },
    {
     "name": "stderr",
     "output_type": "stream",
     "text": [
      "I/O Error: Couldn't open file 'gs://covid-data-2022-10-30/CDC_Covid19_Data_2022_10_30/COVID-19 Vaccination Data in the United States _ CDC.pdf'\n",
      "WARNING:haystack.nodes.file_converter.pdf:The language for gs://covid-data-2022-10-30/CDC_Covid19_Data_2022_10_30/COVID-19 Vaccination Data in the United States _ CDC.pdf is not one of ['en']. The file may not have been decoded in the correct text format.\n",
      "Preprocessing: 100%|██████████| 1/1 [00:00<00:00, 3111.50docs/s]\n",
      "I/O Error: Couldn't open file 'gs://covid-data-2022-10-30/CDC_Covid19_Data_2022_10_30/COVID-19 Vaccination Federal Retail Pharmacy Partnership Program _ CDC.pdf'\n",
      "WARNING:haystack.nodes.file_converter.pdf:The language for gs://covid-data-2022-10-30/CDC_Covid19_Data_2022_10_30/COVID-19 Vaccination Federal Retail Pharmacy Partnership Program _ CDC.pdf is not one of ['en']. The file may not have been decoded in the correct text format.\n"
     ]
    },
    {
     "name": "stdout",
     "output_type": "stream",
     "text": [
      "n_docs_input: 1\n",
      "n_docs_output: 0\n"
     ]
    },
    {
     "name": "stderr",
     "output_type": "stream",
     "text": [
      "Preprocessing: 100%|██████████| 1/1 [00:00<00:00, 2537.39docs/s]\n"
     ]
    },
    {
     "name": "stdout",
     "output_type": "stream",
     "text": [
      "n_docs_input: 1\n",
      "n_docs_output: 0\n"
     ]
    },
    {
     "name": "stderr",
     "output_type": "stream",
     "text": [
      "I/O Error: Couldn't open file 'gs://covid-data-2022-10-30/CDC_Covid19_Data_2022_10_30/COVID-19 Vaccination Interim Clinical Considerations FAQs _ CDC.pdf'\n",
      "WARNING:haystack.nodes.file_converter.pdf:The language for gs://covid-data-2022-10-30/CDC_Covid19_Data_2022_10_30/COVID-19 Vaccination Interim Clinical Considerations FAQs _ CDC.pdf is not one of ['en']. The file may not have been decoded in the correct text format.\n",
      "Preprocessing: 100%|██████████| 1/1 [00:00<00:00, 3339.41docs/s]\n"
     ]
    },
    {
     "name": "stdout",
     "output_type": "stream",
     "text": [
      "n_docs_input: 1\n",
      "n_docs_output: 0\n"
     ]
    },
    {
     "name": "stderr",
     "output_type": "stream",
     "text": [
      "I/O Error: Couldn't open file 'gs://covid-data-2022-10-30/CDC_Covid19_Data_2022_10_30/COVID-19 Vaccination Provider Requirements and Support _ CDC.pdf'\n",
      "WARNING:haystack.nodes.file_converter.pdf:The language for gs://covid-data-2022-10-30/CDC_Covid19_Data_2022_10_30/COVID-19 Vaccination Provider Requirements and Support _ CDC.pdf is not one of ['en']. The file may not have been decoded in the correct text format.\n",
      "Preprocessing: 100%|██████████| 1/1 [00:00<00:00, 3382.50docs/s]\n"
     ]
    },
    {
     "name": "stdout",
     "output_type": "stream",
     "text": [
      "n_docs_input: 1\n",
      "n_docs_output: 0\n"
     ]
    },
    {
     "name": "stderr",
     "output_type": "stream",
     "text": [
      "I/O Error: Couldn't open file 'gs://covid-data-2022-10-30/CDC_Covid19_Data_2022_10_30/COVID-19 Vaccination for Children and Teens with Disabilities _ Human Development and Disability _ NCBDDD _ CDC.pdf'\n",
      "WARNING:haystack.nodes.file_converter.pdf:The language for gs://covid-data-2022-10-30/CDC_Covid19_Data_2022_10_30/COVID-19 Vaccination for Children and Teens with Disabilities _ Human Development and Disability _ NCBDDD _ CDC.pdf is not one of ['en']. The file may not have been decoded in the correct text format.\n",
      "Preprocessing: 100%|██████████| 1/1 [00:00<00:00, 2304.56docs/s]\n"
     ]
    },
    {
     "name": "stdout",
     "output_type": "stream",
     "text": [
      "n_docs_input: 1\n",
      "n_docs_output: 0\n"
     ]
    },
    {
     "name": "stderr",
     "output_type": "stream",
     "text": [
      "I/O Error: Couldn't open file 'gs://covid-data-2022-10-30/CDC_Covid19_Data_2022_10_30/COVID-19 Vaccine Access in Long-term Care Settings _ CDC.pdf'\n",
      "WARNING:haystack.nodes.file_converter.pdf:The language for gs://covid-data-2022-10-30/CDC_Covid19_Data_2022_10_30/COVID-19 Vaccine Access in Long-term Care Settings _ CDC.pdf is not one of ['en']. The file may not have been decoded in the correct text format.\n",
      "Preprocessing: 100%|██████████| 1/1 [00:00<00:00, 1685.14docs/s]\n"
     ]
    },
    {
     "name": "stdout",
     "output_type": "stream",
     "text": [
      "n_docs_input: 1\n",
      "n_docs_output: 0\n"
     ]
    },
    {
     "name": "stderr",
     "output_type": "stream",
     "text": [
      "I/O Error: Couldn't open file 'gs://covid-data-2022-10-30/CDC_Covid19_Data_2022_10_30/COVID-19 Vaccine Effectiveness Research _ CDC.pdf'\n",
      "WARNING:haystack.nodes.file_converter.pdf:The language for gs://covid-data-2022-10-30/CDC_Covid19_Data_2022_10_30/COVID-19 Vaccine Effectiveness Research _ CDC.pdf is not one of ['en']. The file may not have been decoded in the correct text format.\n",
      "Preprocessing: 100%|██████████| 1/1 [00:00<00:00, 3179.91docs/s]\n"
     ]
    },
    {
     "name": "stdout",
     "output_type": "stream",
     "text": [
      "n_docs_input: 1\n",
      "n_docs_output: 0\n"
     ]
    },
    {
     "name": "stderr",
     "output_type": "stream",
     "text": [
      "I/O Error: Couldn't open file 'gs://covid-data-2022-10-30/CDC_Covid19_Data_2022_10_30/COVID-19 Vaccine Effectiveness _ CDC.pdf'\n",
      "WARNING:haystack.nodes.file_converter.pdf:The language for gs://covid-data-2022-10-30/CDC_Covid19_Data_2022_10_30/COVID-19 Vaccine Effectiveness _ CDC.pdf is not one of ['en']. The file may not have been decoded in the correct text format.\n",
      "Preprocessing: 100%|██████████| 1/1 [00:00<00:00, 2686.93docs/s]\n"
     ]
    },
    {
     "name": "stdout",
     "output_type": "stream",
     "text": [
      "n_docs_input: 1\n",
      "n_docs_output: 0\n"
     ]
    },
    {
     "name": "stderr",
     "output_type": "stream",
     "text": [
      "I/O Error: Couldn't open file 'gs://covid-data-2022-10-30/CDC_Covid19_Data_2022_10_30/COVID-19 Vaccine Monitoring Systems for Pregnant People _ CDC.pdf'\n",
      "WARNING:haystack.nodes.file_converter.pdf:The language for gs://covid-data-2022-10-30/CDC_Covid19_Data_2022_10_30/COVID-19 Vaccine Monitoring Systems for Pregnant People _ CDC.pdf is not one of ['en']. The file may not have been decoded in the correct text format.\n",
      "Preprocessing: 100%|██████████| 1/1 [00:00<00:00, 3081.78docs/s]\n",
      "I/O Error: Couldn't open file 'gs://covid-data-2022-10-30/CDC_Covid19_Data_2022_10_30/COVID-19 Vaccine Reporting Systems _ CDC.pdf'\n"
     ]
    },
    {
     "name": "stdout",
     "output_type": "stream",
     "text": [
      "n_docs_input: 1\n",
      "n_docs_output: 0\n"
     ]
    },
    {
     "name": "stderr",
     "output_type": "stream",
     "text": [
      "WARNING:haystack.nodes.file_converter.pdf:The language for gs://covid-data-2022-10-30/CDC_Covid19_Data_2022_10_30/COVID-19 Vaccine Reporting Systems _ CDC.pdf is not one of ['en']. The file may not have been decoded in the correct text format.\n",
      "Preprocessing: 100%|██████████| 1/1 [00:00<00:00, 3472.11docs/s]\n"
     ]
    },
    {
     "name": "stdout",
     "output_type": "stream",
     "text": [
      "n_docs_input: 1\n",
      "n_docs_output: 0\n"
     ]
    },
    {
     "name": "stderr",
     "output_type": "stream",
     "text": [
      "I/O Error: Couldn't open file 'gs://covid-data-2022-10-30/CDC_Covid19_Data_2022_10_30/COVID-19 Vaccine Safety in Children and Teens _ CDC.pdf'\n",
      "WARNING:haystack.nodes.file_converter.pdf:The language for gs://covid-data-2022-10-30/CDC_Covid19_Data_2022_10_30/COVID-19 Vaccine Safety in Children and Teens _ CDC.pdf is not one of ['en']. The file may not have been decoded in the correct text format.\n",
      "Preprocessing: 100%|██████████| 1/1 [00:00<00:00, 2520.62docs/s]\n"
     ]
    },
    {
     "name": "stdout",
     "output_type": "stream",
     "text": [
      "n_docs_input: 1\n",
      "n_docs_output: 0\n"
     ]
    },
    {
     "name": "stderr",
     "output_type": "stream",
     "text": [
      "I/O Error: Couldn't open file 'gs://covid-data-2022-10-30/CDC_Covid19_Data_2022_10_30/COVID-19 Vaccines While Pregnant or Breastfeeding.pdf'\n",
      "WARNING:haystack.nodes.file_converter.pdf:The language for gs://covid-data-2022-10-30/CDC_Covid19_Data_2022_10_30/COVID-19 Vaccines While Pregnant or Breastfeeding.pdf is not one of ['en']. The file may not have been decoded in the correct text format.\n",
      "Preprocessing: 100%|██████████| 1/1 [00:00<00:00, 3313.04docs/s]\n"
     ]
    },
    {
     "name": "stdout",
     "output_type": "stream",
     "text": [
      "n_docs_input: 1\n",
      "n_docs_output: 0\n"
     ]
    },
    {
     "name": "stderr",
     "output_type": "stream",
     "text": [
      "I/O Error: Couldn't open file 'gs://covid-data-2022-10-30/CDC_Covid19_Data_2022_10_30/COVID-19 Vaccines Work _ CDC.pdf'\n",
      "WARNING:haystack.nodes.file_converter.pdf:The language for gs://covid-data-2022-10-30/CDC_Covid19_Data_2022_10_30/COVID-19 Vaccines Work _ CDC.pdf is not one of ['en']. The file may not have been decoded in the correct text format.\n",
      "Preprocessing: 100%|██████████| 1/1 [00:00<00:00, 1608.25docs/s]\n"
     ]
    },
    {
     "name": "stdout",
     "output_type": "stream",
     "text": [
      "n_docs_input: 1\n",
      "n_docs_output: 0\n"
     ]
    },
    {
     "name": "stderr",
     "output_type": "stream",
     "text": [
      "I/O Error: Couldn't open file 'gs://covid-data-2022-10-30/CDC_Covid19_Data_2022_10_30/COVID-19 Vaccines for Long-term Care Residents _ CDC.pdf'\n",
      "WARNING:haystack.nodes.file_converter.pdf:The language for gs://covid-data-2022-10-30/CDC_Covid19_Data_2022_10_30/COVID-19 Vaccines for Long-term Care Residents _ CDC.pdf is not one of ['en']. The file may not have been decoded in the correct text format.\n",
      "Preprocessing: 100%|██████████| 1/1 [00:00<00:00, 3279.36docs/s]\n"
     ]
    },
    {
     "name": "stdout",
     "output_type": "stream",
     "text": [
      "n_docs_input: 1\n",
      "n_docs_output: 0\n"
     ]
    },
    {
     "name": "stderr",
     "output_type": "stream",
     "text": [
      "I/O Error: Couldn't open file 'gs://covid-data-2022-10-30/CDC_Covid19_Data_2022_10_30/COVID-19 Vaccines for People Who Are Moderately or Severely Immunocompromised _ CDC.pdf'\n",
      "WARNING:haystack.nodes.file_converter.pdf:The language for gs://covid-data-2022-10-30/CDC_Covid19_Data_2022_10_30/COVID-19 Vaccines for People Who Are Moderately or Severely Immunocompromised _ CDC.pdf is not one of ['en']. The file may not have been decoded in the correct text format.\n",
      "Preprocessing: 100%|██████████| 1/1 [00:00<00:00, 2458.56docs/s]\n"
     ]
    },
    {
     "name": "stdout",
     "output_type": "stream",
     "text": [
      "n_docs_input: 1\n",
      "n_docs_output: 0\n"
     ]
    },
    {
     "name": "stderr",
     "output_type": "stream",
     "text": [
      "I/O Error: Couldn't open file 'gs://covid-data-2022-10-30/CDC_Covid19_Data_2022_10_30/COVID-19 Vaccines for People Who Would Like to Have a Baby _ CDC.pdf'\n",
      "WARNING:haystack.nodes.file_converter.pdf:The language for gs://covid-data-2022-10-30/CDC_Covid19_Data_2022_10_30/COVID-19 Vaccines for People Who Would Like to Have a Baby _ CDC.pdf is not one of ['en']. The file may not have been decoded in the correct text format.\n",
      "Preprocessing: 100%|██████████| 1/1 [00:00<00:00, 2796.20docs/s]\n"
     ]
    },
    {
     "name": "stdout",
     "output_type": "stream",
     "text": [
      "n_docs_input: 1\n",
      "n_docs_output: 0\n"
     ]
    },
    {
     "name": "stderr",
     "output_type": "stream",
     "text": [
      "I/O Error: Couldn't open file 'gs://covid-data-2022-10-30/CDC_Covid19_Data_2022_10_30/COVID-19 by County _ CDC.pdf'\n",
      "WARNING:haystack.nodes.file_converter.pdf:The language for gs://covid-data-2022-10-30/CDC_Covid19_Data_2022_10_30/COVID-19 by County _ CDC.pdf is not one of ['en']. The file may not have been decoded in the correct text format.\n",
      "Preprocessing: 100%|██████████| 1/1 [00:00<00:00, 2299.51docs/s]\n"
     ]
    },
    {
     "name": "stdout",
     "output_type": "stream",
     "text": [
      "n_docs_input: 1\n",
      "n_docs_output: 0\n"
     ]
    },
    {
     "name": "stderr",
     "output_type": "stream",
     "text": [
      "I/O Error: Couldn't open file 'gs://covid-data-2022-10-30/CDC_Covid19_Data_2022_10_30/COVID-19-immunization-schedule-ages-6months-older.pdf'\n",
      "WARNING:haystack.nodes.file_converter.pdf:The language for gs://covid-data-2022-10-30/CDC_Covid19_Data_2022_10_30/COVID-19-immunization-schedule-ages-6months-older.pdf is not one of ['en']. The file may not have been decoded in the correct text format.\n",
      "Preprocessing: 100%|██████████| 1/1 [00:00<00:00, 2449.94docs/s]\n"
     ]
    },
    {
     "name": "stdout",
     "output_type": "stream",
     "text": [
      "n_docs_input: 1\n",
      "n_docs_output: 0\n"
     ]
    },
    {
     "name": "stderr",
     "output_type": "stream",
     "text": [
      "I/O Error: Couldn't open file 'gs://covid-data-2022-10-30/CDC_Covid19_Data_2022_10_30/COVID-19-mRNA-infographic_G_508.pdf'\n",
      "WARNING:haystack.nodes.file_converter.pdf:The language for gs://covid-data-2022-10-30/CDC_Covid19_Data_2022_10_30/COVID-19-mRNA-infographic_G_508.pdf is not one of ['en']. The file may not have been decoded in the correct text format.\n",
      "Preprocessing: 100%|██████████| 1/1 [00:00<00:00, 2886.65docs/s]\n"
     ]
    },
    {
     "name": "stdout",
     "output_type": "stream",
     "text": [
      "n_docs_input: 1\n",
      "n_docs_output: 0\n"
     ]
    },
    {
     "name": "stderr",
     "output_type": "stream",
     "text": [
      "I/O Error: Couldn't open file 'gs://covid-data-2022-10-30/CDC_Covid19_Data_2022_10_30/COVID19 - Caring for someone at home _ CDC.pdf'\n",
      "WARNING:haystack.nodes.file_converter.pdf:The language for gs://covid-data-2022-10-30/CDC_Covid19_Data_2022_10_30/COVID19 - Caring for someone at home _ CDC.pdf is not one of ['en']. The file may not have been decoded in the correct text format.\n",
      "Preprocessing: 100%|██████████| 1/1 [00:00<00:00, 2280.75docs/s]\n"
     ]
    },
    {
     "name": "stdout",
     "output_type": "stream",
     "text": [
      "n_docs_input: 1\n",
      "n_docs_output: 0\n"
     ]
    },
    {
     "name": "stderr",
     "output_type": "stream",
     "text": [
      "I/O Error: Couldn't open file 'gs://covid-data-2022-10-30/CDC_Covid19_Data_2022_10_30/Caring for People with Post-COVID Conditions _ CDC.pdf'\n",
      "WARNING:haystack.nodes.file_converter.pdf:The language for gs://covid-data-2022-10-30/CDC_Covid19_Data_2022_10_30/Caring for People with Post-COVID Conditions _ CDC.pdf is not one of ['en']. The file may not have been decoded in the correct text format.\n",
      "Preprocessing: 100%|██████████| 1/1 [00:00<00:00, 3342.07docs/s]\n",
      "I/O Error: Couldn't open file 'gs://covid-data-2022-10-30/CDC_Covid19_Data_2022_10_30/Clinical Considerations_ Myocarditis after mRNA COVID-19 Vaccines _ CDC.pdf'\n",
      "WARNING:haystack.nodes.file_converter.pdf:The language for gs://covid-data-2022-10-30/CDC_Covid19_Data_2022_10_30/Clinical Considerations_ Myocarditis after mRNA COVID-19 Vaccines _ CDC.pdf is not one of ['en']. The file may not have been decoded in the correct text format.\n"
     ]
    },
    {
     "name": "stdout",
     "output_type": "stream",
     "text": [
      "n_docs_input: 1\n",
      "n_docs_output: 0\n"
     ]
    },
    {
     "name": "stderr",
     "output_type": "stream",
     "text": [
      "Preprocessing: 100%|██████████| 1/1 [00:00<00:00, 2335.36docs/s]\n"
     ]
    },
    {
     "name": "stdout",
     "output_type": "stream",
     "text": [
      "n_docs_input: 1\n",
      "n_docs_output: 0\n"
     ]
    },
    {
     "name": "stderr",
     "output_type": "stream",
     "text": [
      "I/O Error: Couldn't open file 'gs://covid-data-2022-10-30/CDC_Covid19_Data_2022_10_30/Clinical Guidance for COVID-19 Vaccination _ CDC.pdf'\n",
      "WARNING:haystack.nodes.file_converter.pdf:The language for gs://covid-data-2022-10-30/CDC_Covid19_Data_2022_10_30/Clinical Guidance for COVID-19 Vaccination _ CDC.pdf is not one of ['en']. The file may not have been decoded in the correct text format.\n",
      "Preprocessing: 100%|██████████| 1/1 [00:00<00:00, 2513.06docs/s]\n",
      "I/O Error: Couldn't open file 'gs://covid-data-2022-10-30/CDC_Covid19_Data_2022_10_30/Cruise Ship Travel During COVID-19 _ CDC.pdf'\n",
      "WARNING:haystack.nodes.file_converter.pdf:The language for gs://covid-data-2022-10-30/CDC_Covid19_Data_2022_10_30/Cruise Ship Travel During COVID-19 _ CDC.pdf is not one of ['en']. The file may not have been decoded in the correct text format.\n"
     ]
    },
    {
     "name": "stdout",
     "output_type": "stream",
     "text": [
      "n_docs_input: 1\n",
      "n_docs_output: 0\n"
     ]
    },
    {
     "name": "stderr",
     "output_type": "stream",
     "text": [
      "Preprocessing: 100%|██████████| 1/1 [00:00<00:00, 3024.01docs/s]\n",
      "I/O Error: Couldn't open file 'gs://covid-data-2022-10-30/CDC_Covid19_Data_2022_10_30/Data Definitions for COVID-19 Vaccinations in the United States.pdf'\n",
      "WARNING:haystack.nodes.file_converter.pdf:The language for gs://covid-data-2022-10-30/CDC_Covid19_Data_2022_10_30/Data Definitions for COVID-19 Vaccinations in the United States.pdf is not one of ['en']. The file may not have been decoded in the correct text format.\n"
     ]
    },
    {
     "name": "stdout",
     "output_type": "stream",
     "text": [
      "n_docs_input: 1\n",
      "n_docs_output: 0\n"
     ]
    },
    {
     "name": "stderr",
     "output_type": "stream",
     "text": [
      "Preprocessing: 100%|██████████| 1/1 [00:00<00:00, 3002.37docs/s]\n"
     ]
    },
    {
     "name": "stdout",
     "output_type": "stream",
     "text": [
      "n_docs_input: 1\n",
      "n_docs_output: 0\n"
     ]
    },
    {
     "name": "stderr",
     "output_type": "stream",
     "text": [
      "I/O Error: Couldn't open file 'gs://covid-data-2022-10-30/CDC_Covid19_Data_2022_10_30/Domestic Travel During COVID-19 _ CDC.pdf'\n",
      "WARNING:haystack.nodes.file_converter.pdf:The language for gs://covid-data-2022-10-30/CDC_Covid19_Data_2022_10_30/Domestic Travel During COVID-19 _ CDC.pdf is not one of ['en']. The file may not have been decoded in the correct text format.\n",
      "Preprocessing: 100%|██████████| 1/1 [00:00<00:00, 2559.06docs/s]\n"
     ]
    },
    {
     "name": "stdout",
     "output_type": "stream",
     "text": [
      "n_docs_input: 1\n",
      "n_docs_output: 0\n"
     ]
    },
    {
     "name": "stderr",
     "output_type": "stream",
     "text": [
      "I/O Error: Couldn't open file 'gs://covid-data-2022-10-30/CDC_Covid19_Data_2022_10_30/EUI-FAQ.pdf'\n",
      "WARNING:haystack.nodes.file_converter.pdf:The language for gs://covid-data-2022-10-30/CDC_Covid19_Data_2022_10_30/EUI-FAQ.pdf is not one of ['en']. The file may not have been decoded in the correct text format.\n",
      "Preprocessing: 100%|██████████| 1/1 [00:00<00:00, 3243.85docs/s]\n"
     ]
    },
    {
     "name": "stdout",
     "output_type": "stream",
     "text": [
      "n_docs_input: 1\n",
      "n_docs_output: 0\n"
     ]
    },
    {
     "name": "stderr",
     "output_type": "stream",
     "text": [
      "I/O Error: Couldn't open file 'gs://covid-data-2022-10-30/CDC_Covid19_Data_2022_10_30/Ensuring COVID-19 Vaccine Safety in the US _ CDC.pdf'\n",
      "WARNING:haystack.nodes.file_converter.pdf:The language for gs://covid-data-2022-10-30/CDC_Covid19_Data_2022_10_30/Ensuring COVID-19 Vaccine Safety in the US _ CDC.pdf is not one of ['en']. The file may not have been decoded in the correct text format.\n",
      "Preprocessing: 100%|██████████| 1/1 [00:00<00:00, 3024.01docs/s]\n",
      "I/O Error: Couldn't open file 'gs://covid-data-2022-10-30/CDC_Covid19_Data_2022_10_30/FAQs About Implementing COVID-19 Vaccination Program in Provider Practices _ CDC.pdf'\n",
      "WARNING:haystack.nodes.file_converter.pdf:The language for gs://covid-data-2022-10-30/CDC_Covid19_Data_2022_10_30/FAQs About Implementing COVID-19 Vaccination Program in Provider Practices _ CDC.pdf is not one of ['en']. The file may not have been decoded in the correct text format.\n"
     ]
    },
    {
     "name": "stdout",
     "output_type": "stream",
     "text": [
      "n_docs_input: 1\n",
      "n_docs_output: 0\n"
     ]
    },
    {
     "name": "stderr",
     "output_type": "stream",
     "text": [
      "Preprocessing: 100%|██████████| 1/1 [00:00<00:00, 2279.51docs/s]\n"
     ]
    },
    {
     "name": "stdout",
     "output_type": "stream",
     "text": [
      "n_docs_input: 1\n",
      "n_docs_output: 0\n"
     ]
    },
    {
     "name": "stderr",
     "output_type": "stream",
     "text": [
      "I/O Error: Couldn't open file 'gs://covid-data-2022-10-30/CDC_Covid19_Data_2022_10_30/Factors That Affect Your Risk of Getting Very Sick from COVID-19 _ CDC.pdf'\n",
      "WARNING:haystack.nodes.file_converter.pdf:The language for gs://covid-data-2022-10-30/CDC_Covid19_Data_2022_10_30/Factors That Affect Your Risk of Getting Very Sick from COVID-19 _ CDC.pdf is not one of ['en']. The file may not have been decoded in the correct text format.\n",
      "Preprocessing: 100%|██████████| 1/1 [00:00<00:00, 2839.75docs/s]\n"
     ]
    },
    {
     "name": "stdout",
     "output_type": "stream",
     "text": [
      "n_docs_input: 1\n",
      "n_docs_output: 0\n"
     ]
    },
    {
     "name": "stderr",
     "output_type": "stream",
     "text": [
      "I/O Error: Couldn't open file 'gs://covid-data-2022-10-30/CDC_Covid19_Data_2022_10_30/Find Free Masks (N95 Respirators) _ CDC.pdf'\n",
      "WARNING:haystack.nodes.file_converter.pdf:The language for gs://covid-data-2022-10-30/CDC_Covid19_Data_2022_10_30/Find Free Masks (N95 Respirators) _ CDC.pdf is not one of ['en']. The file may not have been decoded in the correct text format.\n",
      "Preprocessing: 100%|██████████| 1/1 [00:00<00:00, 2322.43docs/s]\n"
     ]
    },
    {
     "name": "stdout",
     "output_type": "stream",
     "text": [
      "n_docs_input: 1\n",
      "n_docs_output: 0\n"
     ]
    },
    {
     "name": "stderr",
     "output_type": "stream",
     "text": [
      "I/O Error: Couldn't open file 'gs://covid-data-2022-10-30/CDC_Covid19_Data_2022_10_30/Free N95 Respirator Manufacturers _ CDC.pdf'\n",
      "WARNING:haystack.nodes.file_converter.pdf:The language for gs://covid-data-2022-10-30/CDC_Covid19_Data_2022_10_30/Free N95 Respirator Manufacturers _ CDC.pdf is not one of ['en']. The file may not have been decoded in the correct text format.\n",
      "Preprocessing: 100%|██████████| 1/1 [00:00<00:00, 2366.99docs/s]\n"
     ]
    },
    {
     "name": "stdout",
     "output_type": "stream",
     "text": [
      "n_docs_input: 1\n",
      "n_docs_output: 0\n"
     ]
    },
    {
     "name": "stderr",
     "output_type": "stream",
     "text": [
      "I/O Error: Couldn't open file 'gs://covid-data-2022-10-30/CDC_Covid19_Data_2022_10_30/Frequently Asked Questions about COVID-19 Vaccination Data _ CDC.pdf'\n",
      "WARNING:haystack.nodes.file_converter.pdf:The language for gs://covid-data-2022-10-30/CDC_Covid19_Data_2022_10_30/Frequently Asked Questions about COVID-19 Vaccination Data _ CDC.pdf is not one of ['en']. The file may not have been decoded in the correct text format.\n",
      "Preprocessing: 100%|██████████| 1/1 [00:00<00:00, 2619.80docs/s]\n"
     ]
    },
    {
     "name": "stdout",
     "output_type": "stream",
     "text": [
      "n_docs_input: 1\n",
      "n_docs_output: 0\n"
     ]
    },
    {
     "name": "stderr",
     "output_type": "stream",
     "text": [
      "I/O Error: Couldn't open file 'gs://covid-data-2022-10-30/CDC_Covid19_Data_2022_10_30/Frequently Asked Questions about COVID-19 Vaccination _ CDC.pdf'\n",
      "WARNING:haystack.nodes.file_converter.pdf:The language for gs://covid-data-2022-10-30/CDC_Covid19_Data_2022_10_30/Frequently Asked Questions about COVID-19 Vaccination _ CDC.pdf is not one of ['en']. The file may not have been decoded in the correct text format.\n",
      "Preprocessing: 100%|██████████| 1/1 [00:00<00:00, 2900.63docs/s]\n",
      "I/O Error: Couldn't open file 'gs://covid-data-2022-10-30/CDC_Covid19_Data_2022_10_30/Getting Your COVID-19 Vaccine _ CDC.pdf'\n",
      "WARNING:haystack.nodes.file_converter.pdf:The language for gs://covid-data-2022-10-30/CDC_Covid19_Data_2022_10_30/Getting Your COVID-19 Vaccine _ CDC.pdf is not one of ['en']. The file may not have been decoded in the correct text format.\n"
     ]
    },
    {
     "name": "stdout",
     "output_type": "stream",
     "text": [
      "n_docs_input: 1\n",
      "n_docs_output: 0\n"
     ]
    },
    {
     "name": "stderr",
     "output_type": "stream",
     "text": [
      "Preprocessing: 100%|██████████| 1/1 [00:00<00:00, 3194.44docs/s]\n",
      "I/O Error: Couldn't open file 'gs://covid-data-2022-10-30/CDC_Covid19_Data_2022_10_30/How CDC Monitors Vaccine Effectiveness _ CDC.pdf'\n",
      "WARNING:haystack.nodes.file_converter.pdf:The language for gs://covid-data-2022-10-30/CDC_Covid19_Data_2022_10_30/How CDC Monitors Vaccine Effectiveness _ CDC.pdf is not one of ['en']. The file may not have been decoded in the correct text format.\n"
     ]
    },
    {
     "name": "stdout",
     "output_type": "stream",
     "text": [
      "n_docs_input: 1\n",
      "n_docs_output: 0\n"
     ]
    },
    {
     "name": "stderr",
     "output_type": "stream",
     "text": [
      "Preprocessing: 100%|██████████| 1/1 [00:00<00:00, 2029.17docs/s]\n"
     ]
    },
    {
     "name": "stdout",
     "output_type": "stream",
     "text": [
      "n_docs_input: 1\n",
      "n_docs_output: 0\n"
     ]
    },
    {
     "name": "stderr",
     "output_type": "stream",
     "text": [
      "I/O Error: Couldn't open file 'gs://covid-data-2022-10-30/CDC_Covid19_Data_2022_10_30/How Coronavirus Spreads _ CDC.pdf'\n",
      "WARNING:haystack.nodes.file_converter.pdf:The language for gs://covid-data-2022-10-30/CDC_Covid19_Data_2022_10_30/How Coronavirus Spreads _ CDC.pdf is not one of ['en']. The file may not have been decoded in the correct text format.\n",
      "Preprocessing: 100%|██████████| 1/1 [00:00<00:00, 2545.09docs/s]\n"
     ]
    },
    {
     "name": "stdout",
     "output_type": "stream",
     "text": [
      "n_docs_input: 1\n",
      "n_docs_output: 0\n"
     ]
    },
    {
     "name": "stderr",
     "output_type": "stream",
     "text": [
      "I/O Error: Couldn't open file 'gs://covid-data-2022-10-30/CDC_Covid19_Data_2022_10_30/How Do I Find a COVID-19 Vaccine_ _ CDC.pdf'\n",
      "WARNING:haystack.nodes.file_converter.pdf:The language for gs://covid-data-2022-10-30/CDC_Covid19_Data_2022_10_30/How Do I Find a COVID-19 Vaccine_ _ CDC.pdf is not one of ['en']. The file may not have been decoded in the correct text format.\n",
      "Preprocessing: 100%|██████████| 1/1 [00:00<00:00, 2293.22docs/s]\n"
     ]
    },
    {
     "name": "stdout",
     "output_type": "stream",
     "text": [
      "n_docs_input: 1\n",
      "n_docs_output: 0\n"
     ]
    },
    {
     "name": "stderr",
     "output_type": "stream",
     "text": [
      "I/O Error: Couldn't open file 'gs://covid-data-2022-10-30/CDC_Covid19_Data_2022_10_30/How to Protect Yourself and Others _ CDC.pdf'\n",
      "WARNING:haystack.nodes.file_converter.pdf:The language for gs://covid-data-2022-10-30/CDC_Covid19_Data_2022_10_30/How to Protect Yourself and Others _ CDC.pdf is not one of ['en']. The file may not have been decoded in the correct text format.\n",
      "Preprocessing: 100%|██████████| 1/1 [00:00<00:00, 3421.13docs/s]\n"
     ]
    },
    {
     "name": "stdout",
     "output_type": "stream",
     "text": [
      "n_docs_input: 1\n",
      "n_docs_output: 0\n"
     ]
    },
    {
     "name": "stderr",
     "output_type": "stream",
     "text": [
      "I/O Error: Couldn't open file 'gs://covid-data-2022-10-30/CDC_Covid19_Data_2022_10_30/How to Use Your N95 Respirator _ CDC.pdf'\n",
      "WARNING:haystack.nodes.file_converter.pdf:The language for gs://covid-data-2022-10-30/CDC_Covid19_Data_2022_10_30/How to Use Your N95 Respirator _ CDC.pdf is not one of ['en']. The file may not have been decoded in the correct text format.\n",
      "Preprocessing: 100%|██████████| 1/1 [00:00<00:00, 3187.16docs/s]\n"
     ]
    },
    {
     "name": "stdout",
     "output_type": "stream",
     "text": [
      "n_docs_input: 1\n",
      "n_docs_output: 0\n"
     ]
    },
    {
     "name": "stderr",
     "output_type": "stream",
     "text": [
      "I/O Error: Couldn't open file 'gs://covid-data-2022-10-30/CDC_Covid19_Data_2022_10_30/If You Are Sick or Caring for Someone _ CDC.pdf'\n",
      "WARNING:haystack.nodes.file_converter.pdf:The language for gs://covid-data-2022-10-30/CDC_Covid19_Data_2022_10_30/If You Are Sick or Caring for Someone _ CDC.pdf is not one of ['en']. The file may not have been decoded in the correct text format.\n",
      "Preprocessing: 100%|██████████| 1/1 [00:00<00:00, 2291.97docs/s]\n"
     ]
    },
    {
     "name": "stdout",
     "output_type": "stream",
     "text": [
      "n_docs_input: 1\n",
      "n_docs_output: 0\n"
     ]
    },
    {
     "name": "stderr",
     "output_type": "stream",
     "text": [
      "I/O Error: Couldn't open file 'gs://covid-data-2022-10-30/CDC_Covid19_Data_2022_10_30/Improving Ventilation in Your Home _ CDC.pdf'\n",
      "WARNING:haystack.nodes.file_converter.pdf:The language for gs://covid-data-2022-10-30/CDC_Covid19_Data_2022_10_30/Improving Ventilation in Your Home _ CDC.pdf is not one of ['en']. The file may not have been decoded in the correct text format.\n",
      "Preprocessing: 100%|██████████| 1/1 [00:00<00:00, 2759.41docs/s]\n"
     ]
    },
    {
     "name": "stdout",
     "output_type": "stream",
     "text": [
      "n_docs_input: 1\n",
      "n_docs_output: 0\n"
     ]
    },
    {
     "name": "stderr",
     "output_type": "stream",
     "text": [
      "I/O Error: Couldn't open file 'gs://covid-data-2022-10-30/CDC_Covid19_Data_2022_10_30/Interactive Home Ventilation Tool _ CDC.pdf'\n",
      "WARNING:haystack.nodes.file_converter.pdf:The language for gs://covid-data-2022-10-30/CDC_Covid19_Data_2022_10_30/Interactive Home Ventilation Tool _ CDC.pdf is not one of ['en']. The file may not have been decoded in the correct text format.\n",
      "Preprocessing: 100%|██████████| 1/1 [00:00<00:00, 2951.66docs/s]\n"
     ]
    },
    {
     "name": "stdout",
     "output_type": "stream",
     "text": [
      "n_docs_input: 1\n",
      "n_docs_output: 0\n"
     ]
    },
    {
     "name": "stderr",
     "output_type": "stream",
     "text": [
      "I/O Error: Couldn't open file 'gs://covid-data-2022-10-30/CDC_Covid19_Data_2022_10_30/Interim Clinical Considerations for Use of COVID-19 Vaccines_ Appendices, References, and Previous Updates _ CDC.pdf'\n",
      "WARNING:haystack.nodes.file_converter.pdf:The language for gs://covid-data-2022-10-30/CDC_Covid19_Data_2022_10_30/Interim Clinical Considerations for Use of COVID-19 Vaccines_ Appendices, References, and Previous Updates _ CDC.pdf is not one of ['en']. The file may not have been decoded in the correct text format.\n",
      "Preprocessing: 100%|██████████| 1/1 [00:00<00:00, 3052.62docs/s]\n"
     ]
    },
    {
     "name": "stdout",
     "output_type": "stream",
     "text": [
      "n_docs_input: 1\n",
      "n_docs_output: 0\n"
     ]
    },
    {
     "name": "stderr",
     "output_type": "stream",
     "text": [
      "I/O Error: Couldn't open file 'gs://covid-data-2022-10-30/CDC_Covid19_Data_2022_10_30/International Travel to and from the United States _ CDC.pdf'\n",
      "WARNING:haystack.nodes.file_converter.pdf:The language for gs://covid-data-2022-10-30/CDC_Covid19_Data_2022_10_30/International Travel to and from the United States _ CDC.pdf is not one of ['en']. The file may not have been decoded in the correct text format.\n",
      "Preprocessing: 100%|██████████| 1/1 [00:00<00:00, 2437.13docs/s]\n"
     ]
    },
    {
     "name": "stdout",
     "output_type": "stream",
     "text": [
      "n_docs_input: 1\n",
      "n_docs_output: 0\n"
     ]
    },
    {
     "name": "stderr",
     "output_type": "stream",
     "text": [
      "I/O Error: Couldn't open file 'gs://covid-data-2022-10-30/CDC_Covid19_Data_2022_10_30/Investigating Long-Term Effects of Myocarditis _ CDC.pdf'\n",
      "WARNING:haystack.nodes.file_converter.pdf:The language for gs://covid-data-2022-10-30/CDC_Covid19_Data_2022_10_30/Investigating Long-Term Effects of Myocarditis _ CDC.pdf is not one of ['en']. The file may not have been decoded in the correct text format.\n",
      "Preprocessing: 100%|██████████| 1/1 [00:00<00:00, 2894.62docs/s]\n"
     ]
    },
    {
     "name": "stdout",
     "output_type": "stream",
     "text": [
      "n_docs_input: 1\n",
      "n_docs_output: 0\n"
     ]
    },
    {
     "name": "stderr",
     "output_type": "stream",
     "text": [
      "I/O Error: Couldn't open file 'gs://covid-data-2022-10-30/CDC_Covid19_Data_2022_10_30/Isolation and Precautions for People with COVID-19 _ CDC.pdf'\n",
      "WARNING:haystack.nodes.file_converter.pdf:The language for gs://covid-data-2022-10-30/CDC_Covid19_Data_2022_10_30/Isolation and Precautions for People with COVID-19 _ CDC.pdf is not one of ['en']. The file may not have been decoded in the correct text format.\n",
      "Preprocessing: 100%|██████████| 1/1 [00:00<00:00, 2434.30docs/s]\n"
     ]
    },
    {
     "name": "stdout",
     "output_type": "stream",
     "text": [
      "n_docs_input: 1\n",
      "n_docs_output: 0\n"
     ]
    },
    {
     "name": "stderr",
     "output_type": "stream",
     "text": [
      "I/O Error: Couldn't open file 'gs://covid-data-2022-10-30/CDC_Covid19_Data_2022_10_30/Janssen+COVID-19+Vaccine-Recipient-fact-sheet.pdf'\n",
      "WARNING:haystack.nodes.file_converter.pdf:The language for gs://covid-data-2022-10-30/CDC_Covid19_Data_2022_10_30/Janssen+COVID-19+Vaccine-Recipient-fact-sheet.pdf is not one of ['en']. The file may not have been decoded in the correct text format.\n",
      "Preprocessing: 100%|██████████| 1/1 [00:00<00:00, 2531.26docs/s]\n"
     ]
    },
    {
     "name": "stdout",
     "output_type": "stream",
     "text": [
      "n_docs_input: 1\n",
      "n_docs_output: 0\n"
     ]
    },
    {
     "name": "stderr",
     "output_type": "stream",
     "text": [
      "I/O Error: Couldn't open file 'gs://covid-data-2022-10-30/CDC_Covid19_Data_2022_10_30/Long COVID or Post-COVID Conditions _ CDC.pdf'\n",
      "WARNING:haystack.nodes.file_converter.pdf:The language for gs://covid-data-2022-10-30/CDC_Covid19_Data_2022_10_30/Long COVID or Post-COVID Conditions _ CDC.pdf is not one of ['en']. The file may not have been decoded in the correct text format.\n",
      "Preprocessing: 100%|██████████| 1/1 [00:00<00:00, 2824.45docs/s]\n"
     ]
    },
    {
     "name": "stdout",
     "output_type": "stream",
     "text": [
      "n_docs_input: 1\n",
      "n_docs_output: 0\n"
     ]
    },
    {
     "name": "stderr",
     "output_type": "stream",
     "text": [
      "I/O Error: Couldn't open file 'gs://covid-data-2022-10-30/CDC_Covid19_Data_2022_10_30/Masks and Respirators.pdf'\n",
      "WARNING:haystack.nodes.file_converter.pdf:The language for gs://covid-data-2022-10-30/CDC_Covid19_Data_2022_10_30/Masks and Respirators.pdf is not one of ['en']. The file may not have been decoded in the correct text format.\n",
      "Preprocessing: 100%|██████████| 1/1 [00:00<00:00, 3274.24docs/s]\n"
     ]
    },
    {
     "name": "stdout",
     "output_type": "stream",
     "text": [
      "n_docs_input: 1\n",
      "n_docs_output: 0\n"
     ]
    },
    {
     "name": "stderr",
     "output_type": "stream",
     "text": [
      "I/O Error: Couldn't open file 'gs://covid-data-2022-10-30/CDC_Covid19_Data_2022_10_30/Moderna-Caregiver.pdf'\n",
      "WARNING:haystack.nodes.file_converter.pdf:The language for gs://covid-data-2022-10-30/CDC_Covid19_Data_2022_10_30/Moderna-Caregiver.pdf is not one of ['en']. The file may not have been decoded in the correct text format.\n",
      "Preprocessing: 100%|██████████| 1/1 [00:00<00:00, 2614.90docs/s]\n"
     ]
    },
    {
     "name": "stdout",
     "output_type": "stream",
     "text": [
      "n_docs_input: 1\n",
      "n_docs_output: 0\n"
     ]
    },
    {
     "name": "stderr",
     "output_type": "stream",
     "text": [
      "I/O Error: Couldn't open file 'gs://covid-data-2022-10-30/CDC_Covid19_Data_2022_10_30/Moderna-HCP.pdf'\n",
      "WARNING:haystack.nodes.file_converter.pdf:The language for gs://covid-data-2022-10-30/CDC_Covid19_Data_2022_10_30/Moderna-HCP.pdf is not one of ['en']. The file may not have been decoded in the correct text format.\n",
      "Preprocessing: 100%|██████████| 1/1 [00:00<00:00, 2753.98docs/s]\n"
     ]
    },
    {
     "name": "stdout",
     "output_type": "stream",
     "text": [
      "n_docs_input: 1\n",
      "n_docs_output: 0\n"
     ]
    },
    {
     "name": "stderr",
     "output_type": "stream",
     "text": [
      "I/O Error: Couldn't open file 'gs://covid-data-2022-10-30/CDC_Covid19_Data_2022_10_30/Monitoring COVID-19 Cases, Hospitalizations, and Deaths by Vaccination Status _ CDC.pdf'\n",
      "WARNING:haystack.nodes.file_converter.pdf:The language for gs://covid-data-2022-10-30/CDC_Covid19_Data_2022_10_30/Monitoring COVID-19 Cases, Hospitalizations, and Deaths by Vaccination Status _ CDC.pdf is not one of ['en']. The file may not have been decoded in the correct text format.\n",
      "Preprocessing: 100%|██████████| 1/1 [00:00<00:00, 3100.00docs/s]\n"
     ]
    },
    {
     "name": "stdout",
     "output_type": "stream",
     "text": [
      "n_docs_input: 1\n",
      "n_docs_output: 0\n"
     ]
    },
    {
     "name": "stderr",
     "output_type": "stream",
     "text": [
      "I/O Error: Couldn't open file 'gs://covid-data-2022-10-30/CDC_Covid19_Data_2022_10_30/Monitoring COVID-19 Vaccine Effectiveness _ CDC.pdf'\n",
      "WARNING:haystack.nodes.file_converter.pdf:The language for gs://covid-data-2022-10-30/CDC_Covid19_Data_2022_10_30/Monitoring COVID-19 Vaccine Effectiveness _ CDC.pdf is not one of ['en']. The file may not have been decoded in the correct text format.\n",
      "Preprocessing: 100%|██████████| 1/1 [00:00<00:00, 3151.24docs/s]\n",
      "I/O Error: Couldn't open file 'gs://covid-data-2022-10-30/CDC_Covid19_Data_2022_10_30/Myocarditis and Pericarditis After mRNA COVID-19 Vaccination _ CDC.pdf'\n"
     ]
    },
    {
     "name": "stdout",
     "output_type": "stream",
     "text": [
      "n_docs_input: 1\n",
      "n_docs_output: 0\n"
     ]
    },
    {
     "name": "stderr",
     "output_type": "stream",
     "text": [
      "WARNING:haystack.nodes.file_converter.pdf:The language for gs://covid-data-2022-10-30/CDC_Covid19_Data_2022_10_30/Myocarditis and Pericarditis After mRNA COVID-19 Vaccination _ CDC.pdf is not one of ['en']. The file may not have been decoded in the correct text format.\n",
      "Preprocessing: 100%|██████████| 1/1 [00:00<00:00, 3238.84docs/s]\n"
     ]
    },
    {
     "name": "stdout",
     "output_type": "stream",
     "text": [
      "n_docs_input: 1\n",
      "n_docs_output: 0\n"
     ]
    },
    {
     "name": "stderr",
     "output_type": "stream",
     "text": [
      "I/O Error: Couldn't open file 'gs://covid-data-2022-10-30/CDC_Covid19_Data_2022_10_30/Myths and Facts about COVID-19 Vaccines _ CDC.pdf'\n",
      "WARNING:haystack.nodes.file_converter.pdf:The language for gs://covid-data-2022-10-30/CDC_Covid19_Data_2022_10_30/Myths and Facts about COVID-19 Vaccines _ CDC.pdf is not one of ['en']. The file may not have been decoded in the correct text format.\n",
      "Preprocessing: 100%|██████████| 1/1 [00:00<00:00, 3008.83docs/s]\n"
     ]
    },
    {
     "name": "stdout",
     "output_type": "stream",
     "text": [
      "n_docs_input: 1\n",
      "n_docs_output: 0\n"
     ]
    },
    {
     "name": "stderr",
     "output_type": "stream",
     "text": [
      "I/O Error: Couldn't open file 'gs://covid-data-2022-10-30/CDC_Covid19_Data_2022_10_30/Patient Tips_ Healthcare Provider Appointments for Post-COVID Conditions _ CDC.pdf'\n",
      "WARNING:haystack.nodes.file_converter.pdf:The language for gs://covid-data-2022-10-30/CDC_Covid19_Data_2022_10_30/Patient Tips_ Healthcare Provider Appointments for Post-COVID Conditions _ CDC.pdf is not one of ['en']. The file may not have been decoded in the correct text format.\n",
      "Preprocessing: 100%|██████████| 1/1 [00:00<00:00, 3100.00docs/s]\n",
      "I/O Error: Couldn't open file 'gs://covid-data-2022-10-30/CDC_Covid19_Data_2022_10_30/People Who Are Immunocompromised _ CDC.pdf'\n",
      "WARNING:haystack.nodes.file_converter.pdf:The language for gs://covid-data-2022-10-30/CDC_Covid19_Data_2022_10_30/People Who Are Immunocompromised _ CDC.pdf is not one of ['en']. The file may not have been decoded in the correct text format.\n"
     ]
    },
    {
     "name": "stdout",
     "output_type": "stream",
     "text": [
      "n_docs_input: 1\n",
      "n_docs_output: 0\n"
     ]
    },
    {
     "name": "stderr",
     "output_type": "stream",
     "text": [
      "Preprocessing: 100%|██████████| 1/1 [00:00<00:00, 3331.46docs/s]\n"
     ]
    },
    {
     "name": "stdout",
     "output_type": "stream",
     "text": [
      "n_docs_input: 1\n",
      "n_docs_output: 0\n"
     ]
    },
    {
     "name": "stderr",
     "output_type": "stream",
     "text": [
      "I/O Error: Couldn't open file 'gs://covid-data-2022-10-30/CDC_Covid19_Data_2022_10_30/People with Certain Medical Conditions _ CDC.pdf'\n",
      "WARNING:haystack.nodes.file_converter.pdf:The language for gs://covid-data-2022-10-30/CDC_Covid19_Data_2022_10_30/People with Certain Medical Conditions _ CDC.pdf is not one of ['en']. The file may not have been decoded in the correct text format.\n",
      "Preprocessing: 100%|██████████| 1/1 [00:00<00:00, 2851.33docs/s]\n"
     ]
    },
    {
     "name": "stdout",
     "output_type": "stream",
     "text": [
      "n_docs_input: 1\n",
      "n_docs_output: 0\n"
     ]
    },
    {
     "name": "stderr",
     "output_type": "stream",
     "text": [
      "I/O Error: Couldn't open file 'gs://covid-data-2022-10-30/CDC_Covid19_Data_2022_10_30/People with Moderate to Severe Asthma _ CDC.pdf'\n",
      "WARNING:haystack.nodes.file_converter.pdf:The language for gs://covid-data-2022-10-30/CDC_Covid19_Data_2022_10_30/People with Moderate to Severe Asthma _ CDC.pdf is not one of ['en']. The file may not have been decoded in the correct text format.\n",
      "Preprocessing: 100%|██████████| 1/1 [00:00<00:00, 3618.90docs/s]\n",
      "I/O Error: Couldn't open file 'gs://covid-data-2022-10-30/CDC_Covid19_Data_2022_10_30/Pfizer Biontech Recipients and Caregivers 5-11 years of age 10122022.pdf'\n"
     ]
    },
    {
     "name": "stdout",
     "output_type": "stream",
     "text": [
      "n_docs_input: 1\n",
      "n_docs_output: 0\n"
     ]
    },
    {
     "name": "stderr",
     "output_type": "stream",
     "text": [
      "WARNING:haystack.nodes.file_converter.pdf:The language for gs://covid-data-2022-10-30/CDC_Covid19_Data_2022_10_30/Pfizer Biontech Recipients and Caregivers 5-11 years of age 10122022.pdf is not one of ['en']. The file may not have been decoded in the correct text format.\n",
      "Preprocessing: 100%|██████████| 1/1 [00:00<00:00, 3134.76docs/s]\n",
      "I/O Error: Couldn't open file 'gs://covid-data-2022-10-30/CDC_Covid19_Data_2022_10_30/Pfizer-Caregiver.pdf'\n",
      "WARNING:haystack.nodes.file_converter.pdf:The language for gs://covid-data-2022-10-30/CDC_Covid19_Data_2022_10_30/Pfizer-Caregiver.pdf is not one of ['en']. The file may not have been decoded in the correct text format.\n"
     ]
    },
    {
     "name": "stdout",
     "output_type": "stream",
     "text": [
      "n_docs_input: 1\n",
      "n_docs_output: 0\n"
     ]
    },
    {
     "name": "stderr",
     "output_type": "stream",
     "text": [
      "Preprocessing: 100%|██████████| 1/1 [00:00<00:00, 3279.36docs/s]\n",
      "I/O Error: Couldn't open file 'gs://covid-data-2022-10-30/CDC_Covid19_Data_2022_10_30/Possible Side Effects After Getting a COVID-19 Vaccine _ CDC.pdf'\n",
      "WARNING:haystack.nodes.file_converter.pdf:The language for gs://covid-data-2022-10-30/CDC_Covid19_Data_2022_10_30/Possible Side Effects After Getting a COVID-19 Vaccine _ CDC.pdf is not one of ['en']. The file may not have been decoded in the correct text format.\n"
     ]
    },
    {
     "name": "stdout",
     "output_type": "stream",
     "text": [
      "n_docs_input: 1\n",
      "n_docs_output: 0\n"
     ]
    },
    {
     "name": "stderr",
     "output_type": "stream",
     "text": [
      "Preprocessing: 100%|██████████| 1/1 [00:00<00:00, 2431.48docs/s]\n",
      "I/O Error: Couldn't open file 'gs://covid-data-2022-10-30/CDC_Covid19_Data_2022_10_30/Pregnant and Recently Pregnant People _ CDC.pdf'\n",
      "WARNING:haystack.nodes.file_converter.pdf:The language for gs://covid-data-2022-10-30/CDC_Covid19_Data_2022_10_30/Pregnant and Recently Pregnant People _ CDC.pdf is not one of ['en']. The file may not have been decoded in the correct text format.\n"
     ]
    },
    {
     "name": "stdout",
     "output_type": "stream",
     "text": [
      "n_docs_input: 1\n",
      "n_docs_output: 0\n"
     ]
    },
    {
     "name": "stderr",
     "output_type": "stream",
     "text": [
      "Preprocessing: 100%|██████████| 1/1 [00:00<00:00, 2634.61docs/s]\n"
     ]
    },
    {
     "name": "stdout",
     "output_type": "stream",
     "text": [
      "n_docs_input: 1\n",
      "n_docs_output: 0\n"
     ]
    },
    {
     "name": "stderr",
     "output_type": "stream",
     "text": [
      "I/O Error: Couldn't open file 'gs://covid-data-2022-10-30/CDC_Covid19_Data_2022_10_30/Recipients and Caregivers 12 years of age and older 08312022.pdf'\n",
      "WARNING:haystack.nodes.file_converter.pdf:The language for gs://covid-data-2022-10-30/CDC_Covid19_Data_2022_10_30/Recipients and Caregivers 12 years of age and older 08312022.pdf is not one of ['en']. The file may not have been decoded in the correct text format.\n",
      "Preprocessing: 100%|██████████| 1/1 [00:00<00:00, 3612.66docs/s]\n",
      "I/O Error: Couldn't open file 'gs://covid-data-2022-10-30/CDC_Covid19_Data_2022_10_30/Reinfections and COVID-19 _ CDC.pdf'\n",
      "WARNING:haystack.nodes.file_converter.pdf:The language for gs://covid-data-2022-10-30/CDC_Covid19_Data_2022_10_30/Reinfections and COVID-19 _ CDC.pdf is not one of ['en']. The file may not have been decoded in the correct text format.\n"
     ]
    },
    {
     "name": "stdout",
     "output_type": "stream",
     "text": [
      "n_docs_input: 1\n",
      "n_docs_output: 0\n"
     ]
    },
    {
     "name": "stderr",
     "output_type": "stream",
     "text": [
      "Preprocessing: 100%|██████████| 1/1 [00:00<00:00, 3034.95docs/s]\n"
     ]
    },
    {
     "name": "stdout",
     "output_type": "stream",
     "text": [
      "n_docs_input: 1\n",
      "n_docs_output: 0\n"
     ]
    },
    {
     "name": "stderr",
     "output_type": "stream",
     "text": [
      "I/O Error: Couldn't open file 'gs://covid-data-2022-10-30/CDC_Covid19_Data_2022_10_30/Requirement for Proof of COVID-19 Vaccination for Air Passengers _ CDC.pdf'\n",
      "WARNING:haystack.nodes.file_converter.pdf:The language for gs://covid-data-2022-10-30/CDC_Covid19_Data_2022_10_30/Requirement for Proof of COVID-19 Vaccination for Air Passengers _ CDC.pdf is not one of ['en']. The file may not have been decoded in the correct text format.\n",
      "Preprocessing: 100%|██████████| 1/1 [00:00<00:00, 2896.62docs/s]\n",
      "I/O Error: Couldn't open file 'gs://covid-data-2022-10-30/CDC_Covid19_Data_2022_10_30/Safety of COVID-19 Vaccines _ CDC.pdf'\n",
      "WARNING:haystack.nodes.file_converter.pdf:The language for gs://covid-data-2022-10-30/CDC_Covid19_Data_2022_10_30/Safety of COVID-19 Vaccines _ CDC.pdf is not one of ['en']. The file may not have been decoded in the correct text format.\n"
     ]
    },
    {
     "name": "stdout",
     "output_type": "stream",
     "text": [
      "n_docs_input: 1\n",
      "n_docs_output: 0\n"
     ]
    },
    {
     "name": "stderr",
     "output_type": "stream",
     "text": [
      "Preprocessing: 100%|██████████| 1/1 [00:00<00:00, 3440.77docs/s]\n",
      "I/O Error: Couldn't open file 'gs://covid-data-2022-10-30/CDC_Covid19_Data_2022_10_30/Selected Adverse Events Reported after COVID-19 Vaccination _ CDC.pdf'\n",
      "WARNING:haystack.nodes.file_converter.pdf:The language for gs://covid-data-2022-10-30/CDC_Covid19_Data_2022_10_30/Selected Adverse Events Reported after COVID-19 Vaccination _ CDC.pdf is not one of ['en']. The file may not have been decoded in the correct text format.\n"
     ]
    },
    {
     "name": "stdout",
     "output_type": "stream",
     "text": [
      "n_docs_input: 1\n",
      "n_docs_output: 0\n"
     ]
    },
    {
     "name": "stderr",
     "output_type": "stream",
     "text": [
      "Preprocessing: 100%|██████████| 1/1 [00:00<00:00, 3374.34docs/s]\n"
     ]
    },
    {
     "name": "stdout",
     "output_type": "stream",
     "text": [
      "n_docs_input: 1\n",
      "n_docs_output: 0\n"
     ]
    },
    {
     "name": "stderr",
     "output_type": "stream",
     "text": [
      "I/O Error: Couldn't open file 'gs://covid-data-2022-10-30/CDC_Covid19_Data_2022_10_30/Self-Testing At Home or Anywhere _ CDC.pdf'\n",
      "WARNING:haystack.nodes.file_converter.pdf:The language for gs://covid-data-2022-10-30/CDC_Covid19_Data_2022_10_30/Self-Testing At Home or Anywhere _ CDC.pdf is not one of ['en']. The file may not have been decoded in the correct text format.\n",
      "Preprocessing: 100%|██████████| 1/1 [00:00<00:00, 3300.00docs/s]\n"
     ]
    },
    {
     "name": "stdout",
     "output_type": "stream",
     "text": [
      "n_docs_input: 1\n",
      "n_docs_output: 0\n"
     ]
    },
    {
     "name": "stderr",
     "output_type": "stream",
     "text": [
      "I/O Error: Couldn't open file 'gs://covid-data-2022-10-30/CDC_Covid19_Data_2022_10_30/Self-Testing Videos _ CDC.pdf'\n",
      "WARNING:haystack.nodes.file_converter.pdf:The language for gs://covid-data-2022-10-30/CDC_Covid19_Data_2022_10_30/Self-Testing Videos _ CDC.pdf is not one of ['en']. The file may not have been decoded in the correct text format.\n",
      "Preprocessing: 100%|██████████| 1/1 [00:00<00:00, 3194.44docs/s]\n"
     ]
    },
    {
     "name": "stdout",
     "output_type": "stream",
     "text": [
      "n_docs_input: 1\n",
      "n_docs_output: 0\n"
     ]
    },
    {
     "name": "stderr",
     "output_type": "stream",
     "text": [
      "I/O Error: Couldn't open file 'gs://covid-data-2022-10-30/CDC_Covid19_Data_2022_10_30/SoVC_report28.pdf'\n",
      "WARNING:haystack.nodes.file_converter.pdf:The language for gs://covid-data-2022-10-30/CDC_Covid19_Data_2022_10_30/SoVC_report28.pdf is not one of ['en']. The file may not have been decoded in the correct text format.\n",
      "Preprocessing: 100%|██████████| 1/1 [00:00<00:00, 3002.37docs/s]\n"
     ]
    },
    {
     "name": "stdout",
     "output_type": "stream",
     "text": [
      "n_docs_input: 1\n",
      "n_docs_output: 0\n"
     ]
    },
    {
     "name": "stderr",
     "output_type": "stream",
     "text": [
      "I/O Error: Couldn't open file 'gs://covid-data-2022-10-30/CDC_Covid19_Data_2022_10_30/Stay Up to Date with COVID-19 Vaccines Including Boosters _ CDC.pdf'\n",
      "WARNING:haystack.nodes.file_converter.pdf:The language for gs://covid-data-2022-10-30/CDC_Covid19_Data_2022_10_30/Stay Up to Date with COVID-19 Vaccines Including Boosters _ CDC.pdf is not one of ['en']. The file may not have been decoded in the correct text format.\n",
      "Preprocessing: 100%|██████████| 1/1 [00:00<00:00, 2774.01docs/s]\n"
     ]
    },
    {
     "name": "stdout",
     "output_type": "stream",
     "text": [
      "n_docs_input: 1\n",
      "n_docs_output: 0\n"
     ]
    },
    {
     "name": "stderr",
     "output_type": "stream",
     "text": [
      "I/O Error: Couldn't open file 'gs://covid-data-2022-10-30/CDC_Covid19_Data_2022_10_30/Symptoms of COVID-19 _ CDC.pdf'\n",
      "WARNING:haystack.nodes.file_converter.pdf:The language for gs://covid-data-2022-10-30/CDC_Covid19_Data_2022_10_30/Symptoms of COVID-19 _ CDC.pdf is not one of ['en']. The file may not have been decoded in the correct text format.\n",
      "Preprocessing: 100%|██████████| 1/1 [00:00<00:00, 3625.15docs/s]\n"
     ]
    },
    {
     "name": "stdout",
     "output_type": "stream",
     "text": [
      "n_docs_input: 1\n",
      "n_docs_output: 0\n"
     ]
    },
    {
     "name": "stderr",
     "output_type": "stream",
     "text": [
      "I/O Error: Couldn't open file 'gs://covid-data-2022-10-30/CDC_Covid19_Data_2022_10_30/Talking to Recipients about COVID-19 Vaccination _ CDC.pdf'\n",
      "WARNING:haystack.nodes.file_converter.pdf:The language for gs://covid-data-2022-10-30/CDC_Covid19_Data_2022_10_30/Talking to Recipients about COVID-19 Vaccination _ CDC.pdf is not one of ['en']. The file may not have been decoded in the correct text format.\n",
      "Preprocessing: 100%|██████████| 1/1 [00:00<00:00, 2349.75docs/s]\n"
     ]
    },
    {
     "name": "stdout",
     "output_type": "stream",
     "text": [
      "n_docs_input: 1\n",
      "n_docs_output: 0\n"
     ]
    },
    {
     "name": "stderr",
     "output_type": "stream",
     "text": [
      "I/O Error: Couldn't open file 'gs://covid-data-2022-10-30/CDC_Covid19_Data_2022_10_30/Talking with Patients about COVID-19 Vaccination _ CDC.pdf'\n",
      "WARNING:haystack.nodes.file_converter.pdf:The language for gs://covid-data-2022-10-30/CDC_Covid19_Data_2022_10_30/Talking with Patients about COVID-19 Vaccination _ CDC.pdf is not one of ['en']. The file may not have been decoded in the correct text format.\n",
      "Preprocessing: 100%|██████████| 1/1 [00:00<00:00, 2377.72docs/s]\n"
     ]
    },
    {
     "name": "stdout",
     "output_type": "stream",
     "text": [
      "n_docs_input: 1\n",
      "n_docs_output: 0\n"
     ]
    },
    {
     "name": "stderr",
     "output_type": "stream",
     "text": [
      "I/O Error: Couldn't open file 'gs://covid-data-2022-10-30/CDC_Covid19_Data_2022_10_30/Training and Education for COVID-19 Vaccination _ CDC.pdf'\n",
      "WARNING:haystack.nodes.file_converter.pdf:The language for gs://covid-data-2022-10-30/CDC_Covid19_Data_2022_10_30/Training and Education for COVID-19 Vaccination _ CDC.pdf is not one of ['en']. The file may not have been decoded in the correct text format.\n",
      "Preprocessing: 100%|██████████| 1/1 [00:00<00:00, 2888.64docs/s]\n"
     ]
    },
    {
     "name": "stdout",
     "output_type": "stream",
     "text": [
      "n_docs_input: 1\n",
      "n_docs_output: 0\n"
     ]
    },
    {
     "name": "stderr",
     "output_type": "stream",
     "text": [
      "I/O Error: Couldn't open file 'gs://covid-data-2022-10-30/CDC_Covid19_Data_2022_10_30/Transmission _ CDC.pdf'\n",
      "WARNING:haystack.nodes.file_converter.pdf:The language for gs://covid-data-2022-10-30/CDC_Covid19_Data_2022_10_30/Transmission _ CDC.pdf is not one of ['en']. The file may not have been decoded in the correct text format.\n",
      "Preprocessing: 100%|██████████| 1/1 [00:00<00:00, 3123.09docs/s]\n"
     ]
    },
    {
     "name": "stdout",
     "output_type": "stream",
     "text": [
      "n_docs_input: 1\n",
      "n_docs_output: 0\n"
     ]
    },
    {
     "name": "stderr",
     "output_type": "stream",
     "text": [
      "I/O Error: Couldn't open file 'gs://covid-data-2022-10-30/CDC_Covid19_Data_2022_10_30/Travel _ CDC.pdf'\n",
      "WARNING:haystack.nodes.file_converter.pdf:The language for gs://covid-data-2022-10-30/CDC_Covid19_Data_2022_10_30/Travel _ CDC.pdf is not one of ['en']. The file may not have been decoded in the correct text format.\n",
      "Preprocessing: 100%|██████████| 1/1 [00:00<00:00, 3211.57docs/s]\n"
     ]
    },
    {
     "name": "stdout",
     "output_type": "stream",
     "text": [
      "n_docs_input: 1\n",
      "n_docs_output: 0\n"
     ]
    },
    {
     "name": "stderr",
     "output_type": "stream",
     "text": [
      "I/O Error: Couldn't open file 'gs://covid-data-2022-10-30/CDC_Covid19_Data_2022_10_30/Travel_ Frequently Asked Questions and Answers _ CDC.pdf'\n",
      "WARNING:haystack.nodes.file_converter.pdf:The language for gs://covid-data-2022-10-30/CDC_Covid19_Data_2022_10_30/Travel_ Frequently Asked Questions and Answers _ CDC.pdf is not one of ['en']. The file may not have been decoded in the correct text format.\n",
      "Preprocessing: 100%|██████████| 1/1 [00:00<00:00, 2811.20docs/s]\n",
      "I/O Error: Couldn't open file 'gs://covid-data-2022-10-30/CDC_Covid19_Data_2022_10_30/Understanding Exposure Risks _ CDC.pdf'\n",
      "WARNING:haystack.nodes.file_converter.pdf:The language for gs://covid-data-2022-10-30/CDC_Covid19_Data_2022_10_30/Understanding Exposure Risks _ CDC.pdf is not one of ['en']. The file may not have been decoded in the correct text format.\n"
     ]
    },
    {
     "name": "stdout",
     "output_type": "stream",
     "text": [
      "n_docs_input: 1\n",
      "n_docs_output: 0\n"
     ]
    },
    {
     "name": "stderr",
     "output_type": "stream",
     "text": [
      "Preprocessing: 100%|██████████| 1/1 [00:00<00:00, 2752.17docs/s]\n"
     ]
    },
    {
     "name": "stdout",
     "output_type": "stream",
     "text": [
      "n_docs_input: 1\n",
      "n_docs_output: 0\n"
     ]
    },
    {
     "name": "stderr",
     "output_type": "stream",
     "text": [
      "I/O Error: Couldn't open file 'gs://covid-data-2022-10-30/CDC_Covid19_Data_2022_10_30/Understanding How COVID-19 Vaccines Work _ CDC.pdf'\n",
      "WARNING:haystack.nodes.file_converter.pdf:The language for gs://covid-data-2022-10-30/CDC_Covid19_Data_2022_10_30/Understanding How COVID-19 Vaccines Work _ CDC.pdf is not one of ['en']. The file may not have been decoded in the correct text format.\n",
      "Preprocessing: 100%|██████████| 1/1 [00:00<00:00, 3418.34docs/s]\n",
      "I/O Error: Couldn't open file 'gs://covid-data-2022-10-30/CDC_Covid19_Data_2022_10_30/Understanding Risk _ CDC.pdf'\n",
      "WARNING:haystack.nodes.file_converter.pdf:The language for gs://covid-data-2022-10-30/CDC_Covid19_Data_2022_10_30/Understanding Risk _ CDC.pdf is not one of ['en']. The file may not have been decoded in the correct text format.\n"
     ]
    },
    {
     "name": "stdout",
     "output_type": "stream",
     "text": [
      "n_docs_input: 1\n",
      "n_docs_output: 0\n"
     ]
    },
    {
     "name": "stderr",
     "output_type": "stream",
     "text": [
      "Preprocessing: 100%|██████████| 1/1 [00:00<00:00, 3292.23docs/s]\n"
     ]
    },
    {
     "name": "stdout",
     "output_type": "stream",
     "text": [
      "n_docs_input: 1\n",
      "n_docs_output: 0\n"
     ]
    },
    {
     "name": "stderr",
     "output_type": "stream",
     "text": [
      "I/O Error: Couldn't open file 'gs://covid-data-2022-10-30/CDC_Covid19_Data_2022_10_30/Understanding Variants _ CDC.pdf'\n",
      "WARNING:haystack.nodes.file_converter.pdf:The language for gs://covid-data-2022-10-30/CDC_Covid19_Data_2022_10_30/Understanding Variants _ CDC.pdf is not one of ['en']. The file may not have been decoded in the correct text format.\n",
      "Preprocessing: 100%|██████████| 1/1 [00:00<00:00, 3151.24docs/s]\n"
     ]
    },
    {
     "name": "stdout",
     "output_type": "stream",
     "text": [
      "n_docs_input: 1\n",
      "n_docs_output: 0\n"
     ]
    },
    {
     "name": "stderr",
     "output_type": "stream",
     "text": [
      "I/O Error: Couldn't open file 'gs://covid-data-2022-10-30/CDC_Covid19_Data_2022_10_30/Use Masks to Slow the Spread of COVID-19.pdf'\n",
      "WARNING:haystack.nodes.file_converter.pdf:The language for gs://covid-data-2022-10-30/CDC_Covid19_Data_2022_10_30/Use Masks to Slow the Spread of COVID-19.pdf is not one of ['en']. The file may not have been decoded in the correct text format.\n",
      "Preprocessing: 100%|██████████| 1/1 [00:00<00:00, 2766.69docs/s]\n"
     ]
    },
    {
     "name": "stdout",
     "output_type": "stream",
     "text": [
      "n_docs_input: 1\n",
      "n_docs_output: 0\n"
     ]
    },
    {
     "name": "stderr",
     "output_type": "stream",
     "text": [
      "I/O Error: Couldn't open file 'gs://covid-data-2022-10-30/CDC_Covid19_Data_2022_10_30/Use and Care of Masks _ CDC.pdf'\n",
      "WARNING:haystack.nodes.file_converter.pdf:The language for gs://covid-data-2022-10-30/CDC_Covid19_Data_2022_10_30/Use and Care of Masks _ CDC.pdf is not one of ['en']. The file may not have been decoded in the correct text format.\n",
      "Preprocessing: 100%|██████████| 1/1 [00:00<00:00, 2671.53docs/s]\n"
     ]
    },
    {
     "name": "stdout",
     "output_type": "stream",
     "text": [
      "n_docs_input: 1\n",
      "n_docs_output: 0\n"
     ]
    },
    {
     "name": "stderr",
     "output_type": "stream",
     "text": [
      "I/O Error: Couldn't open file 'gs://covid-data-2022-10-30/CDC_Covid19_Data_2022_10_30/Use of Agency Materials _ Other _ CDC.pdf'\n",
      "WARNING:haystack.nodes.file_converter.pdf:The language for gs://covid-data-2022-10-30/CDC_Covid19_Data_2022_10_30/Use of Agency Materials _ Other _ CDC.pdf is not one of ['en']. The file may not have been decoded in the correct text format.\n",
      "Preprocessing: 100%|██████████| 1/1 [00:00<00:00, 2584.29docs/s]\n"
     ]
    },
    {
     "name": "stdout",
     "output_type": "stream",
     "text": [
      "n_docs_input: 1\n",
      "n_docs_output: 0\n"
     ]
    },
    {
     "name": "stderr",
     "output_type": "stream",
     "text": [
      "I/O Error: Couldn't open file 'gs://covid-data-2022-10-30/CDC_Covid19_Data_2022_10_30/V-safe After Vaccination Health Checker _ CDC.pdf'\n",
      "WARNING:haystack.nodes.file_converter.pdf:The language for gs://covid-data-2022-10-30/CDC_Covid19_Data_2022_10_30/V-safe After Vaccination Health Checker _ CDC.pdf is not one of ['en']. The file may not have been decoded in the correct text format.\n",
      "Preprocessing: 100%|██████████| 1/1 [00:00<00:00, 3148.88docs/s]\n"
     ]
    },
    {
     "name": "stdout",
     "output_type": "stream",
     "text": [
      "n_docs_input: 1\n",
      "n_docs_output: 0\n"
     ]
    },
    {
     "name": "stderr",
     "output_type": "stream",
     "text": [
      "I/O Error: Couldn't open file 'gs://covid-data-2022-10-30/CDC_Covid19_Data_2022_10_30/Vaccinate with Confidence COVID-19 Vaccines Strategy for Adults _ CDC.pdf'\n",
      "WARNING:haystack.nodes.file_converter.pdf:The language for gs://covid-data-2022-10-30/CDC_Covid19_Data_2022_10_30/Vaccinate with Confidence COVID-19 Vaccines Strategy for Adults _ CDC.pdf is not one of ['en']. The file may not have been decoded in the correct text format.\n",
      "Preprocessing: 100%|██████████| 1/1 [00:00<00:00, 3095.43docs/s]\n"
     ]
    },
    {
     "name": "stdout",
     "output_type": "stream",
     "text": [
      "n_docs_input: 1\n",
      "n_docs_output: 0\n"
     ]
    },
    {
     "name": "stderr",
     "output_type": "stream",
     "text": [
      "I/O Error: Couldn't open file 'gs://covid-data-2022-10-30/CDC_Covid19_Data_2022_10_30/Vaccinating Dialysis Patients and Healthcare Personnel _ CDC.pdf'\n",
      "WARNING:haystack.nodes.file_converter.pdf:The language for gs://covid-data-2022-10-30/CDC_Covid19_Data_2022_10_30/Vaccinating Dialysis Patients and Healthcare Personnel _ CDC.pdf is not one of ['en']. The file may not have been decoded in the correct text format.\n",
      "Preprocessing: 100%|██████████| 1/1 [00:00<00:00, 2545.09docs/s]\n"
     ]
    },
    {
     "name": "stdout",
     "output_type": "stream",
     "text": [
      "n_docs_input: 1\n",
      "n_docs_output: 0\n"
     ]
    },
    {
     "name": "stderr",
     "output_type": "stream",
     "text": [
      "I/O Error: Couldn't open file 'gs://covid-data-2022-10-30/CDC_Covid19_Data_2022_10_30/Vaccine Adverse Event Reporting System (VAERS) _ CDC.pdf'\n",
      "WARNING:haystack.nodes.file_converter.pdf:The language for gs://covid-data-2022-10-30/CDC_Covid19_Data_2022_10_30/Vaccine Adverse Event Reporting System (VAERS) _ CDC.pdf is not one of ['en']. The file may not have been decoded in the correct text format.\n",
      "Preprocessing: 100%|██████████| 1/1 [00:00<00:00, 2394.01docs/s]\n"
     ]
    },
    {
     "name": "stdout",
     "output_type": "stream",
     "text": [
      "n_docs_input: 1\n",
      "n_docs_output: 0\n"
     ]
    },
    {
     "name": "stderr",
     "output_type": "stream",
     "text": [
      "I/O Error: Couldn't open file 'gs://covid-data-2022-10-30/CDC_Covid19_Data_2022_10_30/Vaccine Pregnancy Registry _ CDC.pdf'\n",
      "WARNING:haystack.nodes.file_converter.pdf:The language for gs://covid-data-2022-10-30/CDC_Covid19_Data_2022_10_30/Vaccine Pregnancy Registry _ CDC.pdf is not one of ['en']. The file may not have been decoded in the correct text format.\n",
      "Preprocessing: 100%|██████████| 1/1 [00:00<00:00, 2882.68docs/s]\n"
     ]
    },
    {
     "name": "stdout",
     "output_type": "stream",
     "text": [
      "n_docs_input: 1\n",
      "n_docs_output: 0\n"
     ]
    },
    {
     "name": "stderr",
     "output_type": "stream",
     "text": [
      "I/O Error: Couldn't open file 'gs://covid-data-2022-10-30/CDC_Covid19_Data_2022_10_30/Variants of the Virus _ CDC.pdf'\n",
      "WARNING:haystack.nodes.file_converter.pdf:The language for gs://covid-data-2022-10-30/CDC_Covid19_Data_2022_10_30/Variants of the Virus _ CDC.pdf is not one of ['en']. The file may not have been decoded in the correct text format.\n",
      "Preprocessing: 100%|██████████| 1/1 [00:00<00:00, 2916.76docs/s]\n"
     ]
    },
    {
     "name": "stdout",
     "output_type": "stream",
     "text": [
      "n_docs_input: 1\n",
      "n_docs_output: 0\n"
     ]
    },
    {
     "name": "stderr",
     "output_type": "stream",
     "text": [
      "I/O Error: Couldn't open file 'gs://covid-data-2022-10-30/CDC_Covid19_Data_2022_10_30/Viral Testing Tool _ CDC.pdf'\n",
      "WARNING:haystack.nodes.file_converter.pdf:The language for gs://covid-data-2022-10-30/CDC_Covid19_Data_2022_10_30/Viral Testing Tool _ CDC.pdf is not one of ['en']. The file may not have been decoded in the correct text format.\n",
      "Preprocessing: 100%|██████████| 1/1 [00:00<00:00, 3093.14docs/s]\n"
     ]
    },
    {
     "name": "stdout",
     "output_type": "stream",
     "text": [
      "n_docs_input: 1\n",
      "n_docs_output: 0\n"
     ]
    },
    {
     "name": "stderr",
     "output_type": "stream",
     "text": [
      "I/O Error: Couldn't open file 'gs://covid-data-2022-10-30/CDC_Covid19_Data_2022_10_30/Wearing Masks in Travel and Public Transportation Settings _ CDC.pdf'\n",
      "WARNING:haystack.nodes.file_converter.pdf:The language for gs://covid-data-2022-10-30/CDC_Covid19_Data_2022_10_30/Wearing Masks in Travel and Public Transportation Settings _ CDC.pdf is not one of ['en']. The file may not have been decoded in the correct text format.\n",
      "Preprocessing: 100%|██████████| 1/1 [00:00<00:00, 3246.37docs/s]\n"
     ]
    },
    {
     "name": "stdout",
     "output_type": "stream",
     "text": [
      "n_docs_input: 1\n",
      "n_docs_output: 0\n"
     ]
    },
    {
     "name": "stderr",
     "output_type": "stream",
     "text": [
      "I/O Error: Couldn't open file 'gs://covid-data-2022-10-30/CDC_Covid19_Data_2022_10_30/What to Do If You Are Sick _ CDC.pdf'\n",
      "WARNING:haystack.nodes.file_converter.pdf:The language for gs://covid-data-2022-10-30/CDC_Covid19_Data_2022_10_30/What to Do If You Are Sick _ CDC.pdf is not one of ['en']. The file may not have been decoded in the correct text format.\n",
      "Preprocessing: 100%|██████████| 1/1 [00:00<00:00, 2966.27docs/s]\n"
     ]
    },
    {
     "name": "stdout",
     "output_type": "stream",
     "text": [
      "n_docs_input: 1\n",
      "n_docs_output: 0\n"
     ]
    },
    {
     "name": "stderr",
     "output_type": "stream",
     "text": [
      "I/O Error: Couldn't open file 'gs://covid-data-2022-10-30/CDC_Covid19_Data_2022_10_30/What to Do If You Were Exposed to COVID-19 _ CDC.pdf'\n",
      "WARNING:haystack.nodes.file_converter.pdf:The language for gs://covid-data-2022-10-30/CDC_Covid19_Data_2022_10_30/What to Do If You Were Exposed to COVID-19 _ CDC.pdf is not one of ['en']. The file may not have been decoded in the correct text format.\n",
      "Preprocessing: 100%|██████████| 1/1 [00:00<00:00, 1943.61docs/s]\n"
     ]
    },
    {
     "name": "stdout",
     "output_type": "stream",
     "text": [
      "n_docs_input: 1\n",
      "n_docs_output: 0\n"
     ]
    },
    {
     "name": "stderr",
     "output_type": "stream",
     "text": [
      "I/O Error: Couldn't open file 'gs://covid-data-2022-10-30/CDC_Covid19_Data_2022_10_30/Why Children and Teens Should Get Vaccinated Against COVID-19 _ CDC.pdf'\n",
      "WARNING:haystack.nodes.file_converter.pdf:The language for gs://covid-data-2022-10-30/CDC_Covid19_Data_2022_10_30/Why Children and Teens Should Get Vaccinated Against COVID-19 _ CDC.pdf is not one of ['en']. The file may not have been decoded in the correct text format.\n",
      "Preprocessing: 100%|██████████| 1/1 [00:00<00:00, 3090.87docs/s]\n"
     ]
    },
    {
     "name": "stdout",
     "output_type": "stream",
     "text": [
      "n_docs_input: 1\n",
      "n_docs_output: 0\n"
     ]
    },
    {
     "name": "stderr",
     "output_type": "stream",
     "text": [
      "I/O Error: Couldn't open file 'gs://covid-data-2022-10-30/CDC_Covid19_Data_2022_10_30/appointment-checklist.pdf'\n",
      "WARNING:haystack.nodes.file_converter.pdf:The language for gs://covid-data-2022-10-30/CDC_Covid19_Data_2022_10_30/appointment-checklist.pdf is not one of ['en']. The file may not have been decoded in the correct text format.\n",
      "Preprocessing: 100%|██████████| 1/1 [00:00<00:00, 3310.42docs/s]\n"
     ]
    },
    {
     "name": "stdout",
     "output_type": "stream",
     "text": [
      "n_docs_input: 1\n",
      "n_docs_output: 0\n"
     ]
    },
    {
     "name": "stderr",
     "output_type": "stream",
     "text": [
      "I/O Error: Couldn't open file 'gs://covid-data-2022-10-30/CDC_Covid19_Data_2022_10_30/bivalent-dose-recipient.pdf'\n",
      "WARNING:haystack.nodes.file_converter.pdf:The language for gs://covid-data-2022-10-30/CDC_Covid19_Data_2022_10_30/bivalent-dose-recipient.pdf is not one of ['en']. The file may not have been decoded in the correct text format.\n",
      "Preprocessing: 100%|██████████| 1/1 [00:00<00:00, 3429.52docs/s]\n"
     ]
    },
    {
     "name": "stdout",
     "output_type": "stream",
     "text": [
      "n_docs_input: 1\n",
      "n_docs_output: 0\n"
     ]
    },
    {
     "name": "stderr",
     "output_type": "stream",
     "text": [
      "I/O Error: Couldn't open file 'gs://covid-data-2022-10-30/CDC_Covid19_Data_2022_10_30/child-age-transition-508.pdf'\n",
      "WARNING:haystack.nodes.file_converter.pdf:The language for gs://covid-data-2022-10-30/CDC_Covid19_Data_2022_10_30/child-age-transition-508.pdf is not one of ['en']. The file may not have been decoded in the correct text format.\n",
      "Preprocessing: 100%|██████████| 1/1 [00:00<00:00, 2828.26docs/s]\n"
     ]
    },
    {
     "name": "stdout",
     "output_type": "stream",
     "text": [
      "n_docs_input: 1\n",
      "n_docs_output: 0\n"
     ]
    },
    {
     "name": "stderr",
     "output_type": "stream",
     "text": [
      "I/O Error: Couldn't open file 'gs://covid-data-2022-10-30/CDC_Covid19_Data_2022_10_30/pfizer-HCP.pdf'\n",
      "WARNING:haystack.nodes.file_converter.pdf:The language for gs://covid-data-2022-10-30/CDC_Covid19_Data_2022_10_30/pfizer-HCP.pdf is not one of ['en']. The file may not have been decoded in the correct text format.\n",
      "Preprocessing: 100%|██████████| 1/1 [00:00<00:00, 2628.01docs/s]\n"
     ]
    },
    {
     "name": "stdout",
     "output_type": "stream",
     "text": [
      "n_docs_input: 1\n",
      "n_docs_output: 0\n"
     ]
    },
    {
     "name": "stderr",
     "output_type": "stream",
     "text": [
      "I/O Error: Couldn't open file 'gs://covid-data-2022-10-30/CDC_Covid19_Data_2022_10_30/pre-vaccination-guidelines.pdf'\n",
      "WARNING:haystack.nodes.file_converter.pdf:The language for gs://covid-data-2022-10-30/CDC_Covid19_Data_2022_10_30/pre-vaccination-guidelines.pdf is not one of ['en']. The file may not have been decoded in the correct text format.\n",
      "Preprocessing: 100%|██████████| 1/1 [00:00<00:00, 2435.72docs/s]\n"
     ]
    },
    {
     "name": "stdout",
     "output_type": "stream",
     "text": [
      "n_docs_input: 1\n",
      "n_docs_output: 0\n"
     ]
    },
    {
     "name": "stderr",
     "output_type": "stream",
     "text": [
      "I/O Error: Couldn't open file 'gs://covid-data-2022-10-30/CDC_Covid19_Data_2022_10_30/summary-interim-clinical-considerations.pdf'\n",
      "WARNING:haystack.nodes.file_converter.pdf:The language for gs://covid-data-2022-10-30/CDC_Covid19_Data_2022_10_30/summary-interim-clinical-considerations.pdf is not one of ['en']. The file may not have been decoded in the correct text format.\n",
      "Preprocessing: 100%|██████████| 1/1 [00:00<00:00, 3355.44docs/s]\n"
     ]
    },
    {
     "name": "stdout",
     "output_type": "stream",
     "text": [
      "n_docs_input: 1\n",
      "n_docs_output: 0\n"
     ]
    }
   ],
   "source": [
    "doc_process_all = []\n",
    "\n",
    "for file_path in file_paths_list:\n",
    "    #!gsutil cp file_path .\n",
    "    #local_file_path = file_path.replace(\"gs://covid-data-2022-10-30/CDC_Covid19_Data_2022_10_30/\", \"\"))\n",
    "    #doc_pdf_conv = converter.convert(file_path=local_file_path, meta=None)[0]\n",
    "    #doc_process = preprocessor.process([doc_pdf_conv])\n",
    "    #!gsutil rm -rf local_file_path\n",
    "    #print(f\"n_docs_input: 1\\nn_docs_output: {len(doc_process)}\")\n",
    "    #doc_process_all.append(doc_process)"
   ]
  },
  {
   "cell_type": "code",
   "execution_count": 113,
   "id": "a98d189e-9bbf-45d4-81be-31f7da972f0a",
   "metadata": {},
   "outputs": [],
   "source": [
    "from haystack.nodes import QuestionGenerator, FARMReader \n",
    "#https://www.deepset.ai/blog/generate-questions-automatically-for-faster-annotation\n",
    "#Note - copy/paste on my mac required replacing all \" \" - read in as different character"
   ]
  },
  {
   "cell_type": "code",
   "execution_count": 114,
   "id": "2ff33af4-6a38-45ae-a0a9-78980fcdb68c",
   "metadata": {},
   "outputs": [
    {
     "name": "stderr",
     "output_type": "stream",
     "text": [
      "Using sep_token, but it is not set yet.\n"
     ]
    }
   ],
   "source": [
    "question_generator = QuestionGenerator()\n",
    "reader = FARMReader(\"deepset/roberta-base-squad2\")"
   ]
  },
  {
   "cell_type": "code",
   "execution_count": 115,
   "id": "fa6481a3-3927-4322-879e-d58b93e3edd9",
   "metadata": {},
   "outputs": [],
   "source": [
    "from haystack.pipelines import QuestionAnswerGenerationPipeline #blog post has a typo, lists pipeline as singular"
   ]
  },
  {
   "cell_type": "code",
   "execution_count": 116,
   "id": "4d54f204-379c-4c41-9f5a-312a72deae96",
   "metadata": {},
   "outputs": [],
   "source": [
    "qag_pipeline = QuestionAnswerGenerationPipeline(question_generator, reader)"
   ]
  },
  {
   "cell_type": "code",
   "execution_count": 118,
   "id": "bc225fdb-714e-4ad7-839f-9c1b49c36f45",
   "metadata": {
    "collapsed": true,
    "jupyter": {
     "outputs_hidden": true
    },
    "tags": []
   },
   "outputs": [
    {
     "name": "stderr",
     "output_type": "stream",
     "text": [
      "Inferencing Samples: 100%|██████████| 1/1 [00:02<00:00,  2.85s/ Batches]\n",
      "Inferencing Samples: 100%|██████████| 1/1 [00:02<00:00,  2.47s/ Batches]\n",
      "Inferencing Samples: 100%|██████████| 1/1 [00:01<00:00,  1.74s/ Batches]\n",
      "Inferencing Samples: 100%|██████████| 1/1 [00:01<00:00,  1.76s/ Batches]\n",
      "Inferencing Samples: 100%|██████████| 1/1 [00:00<00:00,  1.40 Batches/s]\n",
      "Inferencing Samples: 100%|██████████| 1/1 [00:01<00:00,  1.41s/ Batches]\n",
      "Inferencing Samples: 100%|██████████| 1/1 [00:02<00:00,  2.26s/ Batches]\n",
      "Inferencing Samples: 100%|██████████| 1/1 [00:02<00:00,  2.11s/ Batches]\n",
      "Inferencing Samples: 100%|██████████| 1/1 [00:01<00:00,  1.86s/ Batches]\n",
      "Inferencing Samples: 100%|██████████| 1/1 [00:01<00:00,  1.08s/ Batches]\n",
      "Inferencing Samples: 100%|██████████| 1/1 [00:01<00:00,  1.41s/ Batches]\n",
      "Inferencing Samples: 100%|██████████| 1/1 [00:01<00:00,  1.75s/ Batches]\n",
      "Inferencing Samples: 100%|██████████| 1/1 [00:01<00:00,  1.03s/ Batches]\n",
      "Inferencing Samples: 100%|██████████| 1/1 [00:02<00:00,  2.09s/ Batches]\n",
      "Inferencing Samples: 100%|██████████| 1/1 [00:02<00:00,  2.12s/ Batches]\n",
      "Inferencing Samples: 100%|██████████| 1/1 [00:01<00:00,  1.41s/ Batches]\n",
      "Inferencing Samples: 100%|██████████| 1/1 [00:02<00:00,  2.08s/ Batches]\n",
      "Inferencing Samples: 100%|██████████| 1/1 [00:00<00:00,  2.62 Batches/s]\n",
      "Inferencing Samples: 100%|██████████| 1/1 [00:04<00:00,  4.26s/ Batches]\n",
      "Inferencing Samples: 100%|██████████| 1/1 [00:01<00:00,  1.56s/ Batches]\n",
      "Inferencing Samples: 100%|██████████| 1/1 [00:01<00:00,  1.74s/ Batches]\n",
      "Inferencing Samples: 100%|██████████| 1/1 [00:02<00:00,  2.81s/ Batches]\n",
      "Inferencing Samples: 100%|██████████| 1/1 [00:02<00:00,  2.75s/ Batches]\n",
      "Inferencing Samples: 100%|██████████| 1/1 [00:02<00:00,  2.79s/ Batches]\n",
      "Inferencing Samples: 100%|██████████| 1/1 [00:02<00:00,  2.76s/ Batches]\n",
      "Inferencing Samples: 100%|██████████| 1/1 [00:02<00:00,  2.40s/ Batches]\n",
      "Inferencing Samples: 100%|██████████| 1/1 [00:01<00:00,  1.78s/ Batches]\n",
      "Inferencing Samples: 100%|██████████| 1/1 [00:02<00:00,  2.37s/ Batches]\n",
      "Inferencing Samples: 100%|██████████| 1/1 [00:02<00:00,  2.05s/ Batches]\n",
      "Inferencing Samples: 100%|██████████| 1/1 [00:01<00:00,  1.72s/ Batches]\n",
      "Inferencing Samples: 100%|██████████| 1/1 [00:01<00:00,  1.72s/ Batches]\n",
      "Inferencing Samples: 100%|██████████| 1/1 [00:01<00:00,  1.84s/ Batches]\n",
      "Inferencing Samples: 100%|██████████| 1/1 [00:01<00:00,  1.02s/ Batches]\n",
      "Inferencing Samples: 100%|██████████| 1/1 [00:16<00:00, 16.58s/ Batches]\n",
      "Inferencing Samples: 100%|██████████| 1/1 [00:02<00:00,  2.05s/ Batches]\n",
      "Inferencing Samples: 100%|██████████| 1/1 [00:01<00:00,  1.69s/ Batches]\n",
      "Inferencing Samples: 100%|██████████| 1/1 [00:02<00:00,  2.03s/ Batches]\n",
      "Inferencing Samples: 100%|██████████| 1/1 [00:02<00:00,  2.41s/ Batches]\n",
      "Inferencing Samples: 100%|██████████| 1/1 [00:02<00:00,  2.37s/ Batches]\n",
      "Inferencing Samples: 100%|██████████| 1/1 [00:02<00:00,  2.01s/ Batches]\n",
      "Inferencing Samples: 100%|██████████| 1/1 [00:01<00:00,  1.39s/ Batches]\n",
      "Inferencing Samples: 100%|██████████| 1/1 [00:02<00:00,  2.08s/ Batches]\n",
      "Inferencing Samples: 100%|██████████| 1/1 [00:01<00:00,  1.70s/ Batches]\n",
      "Inferencing Samples: 100%|██████████| 1/1 [00:01<00:00,  1.38s/ Batches]\n",
      "Inferencing Samples: 100%|██████████| 1/1 [00:02<00:00,  2.06s/ Batches]\n",
      "Inferencing Samples: 100%|██████████| 1/1 [00:01<00:00,  1.72s/ Batches]\n",
      "Inferencing Samples: 100%|██████████| 1/1 [00:01<00:00,  1.36s/ Batches]\n",
      "Inferencing Samples: 100%|██████████| 1/1 [00:02<00:00,  2.03s/ Batches]\n",
      "Inferencing Samples: 100%|██████████| 1/1 [00:02<00:00,  2.38s/ Batches]\n",
      "Inferencing Samples: 100%|██████████| 1/1 [00:03<00:00,  3.02s/ Batches]\n",
      "Inferencing Samples: 100%|██████████| 1/1 [00:01<00:00,  1.38s/ Batches]\n",
      "Inferencing Samples: 100%|██████████| 1/1 [00:01<00:00,  1.37s/ Batches]\n",
      "Inferencing Samples: 100%|██████████| 1/1 [00:02<00:00,  2.38s/ Batches]\n",
      "Inferencing Samples: 100%|██████████| 1/1 [00:02<00:00,  2.51s/ Batches]\n",
      "Inferencing Samples: 100%|██████████| 1/1 [00:02<00:00,  2.39s/ Batches]\n",
      "Inferencing Samples: 100%|██████████| 1/1 [00:02<00:00,  2.37s/ Batches]\n",
      "Inferencing Samples: 100%|██████████| 1/1 [00:01<00:00,  1.72s/ Batches]\n",
      "Inferencing Samples: 100%|██████████| 1/1 [00:02<00:00,  2.06s/ Batches]\n",
      "Inferencing Samples: 100%|██████████| 1/1 [00:01<00:00,  1.66s/ Batches]\n",
      "Inferencing Samples: 100%|██████████| 1/1 [00:02<00:00,  2.37s/ Batches]\n",
      "Inferencing Samples: 100%|██████████| 1/1 [00:02<00:00,  2.13s/ Batches]\n",
      "Inferencing Samples: 100%|██████████| 1/1 [00:02<00:00,  2.33s/ Batches]\n",
      "Inferencing Samples: 100%|██████████| 1/1 [00:01<00:00,  1.70s/ Batches]\n",
      "Inferencing Samples: 100%|██████████| 1/1 [00:01<00:00,  1.36s/ Batches]\n",
      "Inferencing Samples: 100%|██████████| 1/1 [00:02<00:00,  2.97s/ Batches]\n",
      "Inferencing Samples: 100%|██████████| 1/1 [00:02<00:00,  2.05s/ Batches]\n",
      "Inferencing Samples: 100%|██████████| 1/1 [00:02<00:00,  2.36s/ Batches]\n",
      "Inferencing Samples: 100%|██████████| 1/1 [00:01<00:00,  1.71s/ Batches]\n",
      "Inferencing Samples: 100%|██████████| 1/1 [00:01<00:00,  1.71s/ Batches]\n",
      "Inferencing Samples: 100%|██████████| 1/1 [00:01<00:00,  1.71s/ Batches]\n",
      "Inferencing Samples: 100%|██████████| 1/1 [00:01<00:00,  1.75s/ Batches]\n",
      "Inferencing Samples: 100%|██████████| 1/1 [00:01<00:00,  1.69s/ Batches]\n",
      "Inferencing Samples: 100%|██████████| 1/1 [00:02<00:00,  2.01s/ Batches]\n",
      "Inferencing Samples: 100%|██████████| 1/1 [00:02<00:00,  2.34s/ Batches]\n",
      "Inferencing Samples: 100%|██████████| 1/1 [00:02<00:00,  2.02s/ Batches]\n",
      "Inferencing Samples: 100%|██████████| 1/1 [00:01<00:00,  1.74s/ Batches]\n",
      "Inferencing Samples: 100%|██████████| 1/1 [00:02<00:00,  2.41s/ Batches]\n",
      "Inferencing Samples: 100%|██████████| 1/1 [00:02<00:00,  2.02s/ Batches]\n",
      "Inferencing Samples: 100%|██████████| 1/1 [00:02<00:00,  2.92s/ Batches]\n",
      "Inferencing Samples: 100%|██████████| 1/1 [00:02<00:00,  2.73s/ Batches]\n",
      "Inferencing Samples: 100%|██████████| 1/1 [00:01<00:00,  1.73s/ Batches]\n",
      "Inferencing Samples: 100%|██████████| 1/1 [00:01<00:00,  1.72s/ Batches]\n",
      "Inferencing Samples: 100%|██████████| 1/1 [00:01<00:00,  1.68s/ Batches]\n",
      "Inferencing Samples: 100%|██████████| 1/1 [00:02<00:00,  2.03s/ Batches]\n",
      "Inferencing Samples: 100%|██████████| 1/1 [00:01<00:00,  1.70s/ Batches]\n",
      "Inferencing Samples: 100%|██████████| 1/1 [00:03<00:00,  3.37s/ Batches]\n",
      "Inferencing Samples: 100%|██████████| 1/1 [00:02<00:00,  2.75s/ Batches]\n",
      "Inferencing Samples: 100%|██████████| 1/1 [00:02<00:00,  2.05s/ Batches]\n",
      "Inferencing Samples: 100%|██████████| 1/1 [00:01<00:00,  1.71s/ Batches]\n",
      "Inferencing Samples: 100%|██████████| 1/1 [00:01<00:00,  1.72s/ Batches]\n",
      "Inferencing Samples: 100%|██████████| 1/1 [00:01<00:00,  1.71s/ Batches]\n",
      "Inferencing Samples: 100%|██████████| 1/1 [00:02<00:00,  2.04s/ Batches]\n",
      "Inferencing Samples: 100%|██████████| 1/1 [00:02<00:00,  2.02s/ Batches]\n",
      "Inferencing Samples: 100%|██████████| 1/1 [00:01<00:00,  1.38s/ Batches]\n",
      "Inferencing Samples: 100%|██████████| 1/1 [00:01<00:00,  1.74s/ Batches]\n",
      "Inferencing Samples: 100%|██████████| 1/1 [00:02<00:00,  2.02s/ Batches]\n",
      "Inferencing Samples: 100%|██████████| 1/1 [00:01<00:00,  1.38s/ Batches]\n",
      "Inferencing Samples: 100%|██████████| 1/1 [00:02<00:00,  2.04s/ Batches]\n",
      "Inferencing Samples: 100%|██████████| 1/1 [00:02<00:00,  2.11s/ Batches]\n",
      "Inferencing Samples: 100%|██████████| 1/1 [00:02<00:00,  2.01s/ Batches]\n",
      "Inferencing Samples: 100%|██████████| 1/1 [00:02<00:00,  2.70s/ Batches]\n",
      "Inferencing Samples: 100%|██████████| 1/1 [00:02<00:00,  2.06s/ Batches]\n",
      "Inferencing Samples: 100%|██████████| 1/1 [00:02<00:00,  2.03s/ Batches]\n",
      "Inferencing Samples: 100%|██████████| 1/1 [00:02<00:00,  2.41s/ Batches]\n",
      "Inferencing Samples: 100%|██████████| 1/1 [00:02<00:00,  2.02s/ Batches]\n",
      "Inferencing Samples: 100%|██████████| 1/1 [00:01<00:00,  1.40s/ Batches]\n",
      "Inferencing Samples: 100%|██████████| 1/1 [00:01<00:00,  1.72s/ Batches]\n",
      "Inferencing Samples: 100%|██████████| 1/1 [00:02<00:00,  2.06s/ Batches]\n",
      "Inferencing Samples: 100%|██████████| 1/1 [00:02<00:00,  2.41s/ Batches]\n",
      "Inferencing Samples: 100%|██████████| 1/1 [00:01<00:00,  1.36s/ Batches]\n",
      "Inferencing Samples: 100%|██████████| 1/1 [00:02<00:00,  2.08s/ Batches]\n",
      "Inferencing Samples: 100%|██████████| 1/1 [00:02<00:00,  2.05s/ Batches]\n",
      "Inferencing Samples: 100%|██████████| 1/1 [00:02<00:00,  2.41s/ Batches]\n",
      "Inferencing Samples: 100%|██████████| 1/1 [00:02<00:00,  2.00s/ Batches]\n",
      "Inferencing Samples: 100%|██████████| 1/1 [00:02<00:00,  2.72s/ Batches]\n",
      "Inferencing Samples: 100%|██████████| 1/1 [00:01<00:00,  1.70s/ Batches]\n",
      "Inferencing Samples: 100%|██████████| 1/1 [00:02<00:00,  2.41s/ Batches]\n",
      "Inferencing Samples: 100%|██████████| 1/1 [00:02<00:00,  2.06s/ Batches]\n",
      "Inferencing Samples: 100%|██████████| 1/1 [00:02<00:00,  2.43s/ Batches]\n",
      "Inferencing Samples: 100%|██████████| 1/1 [00:02<00:00,  2.34s/ Batches]\n",
      "Inferencing Samples: 100%|██████████| 1/1 [00:02<00:00,  2.41s/ Batches]\n",
      "Inferencing Samples: 100%|██████████| 1/1 [00:02<00:00,  2.39s/ Batches]\n",
      "Inferencing Samples: 100%|██████████| 1/1 [00:01<00:00,  1.37s/ Batches]\n",
      "Inferencing Samples: 100%|██████████| 1/1 [00:01<00:00,  1.99s/ Batches]\n",
      "Inferencing Samples: 100%|██████████| 1/1 [00:01<00:00,  1.70s/ Batches]\n",
      "Inferencing Samples: 100%|██████████| 1/1 [00:02<00:00,  2.04s/ Batches]\n",
      "Inferencing Samples: 100%|██████████| 1/1 [00:02<00:00,  2.03s/ Batches]\n",
      "Inferencing Samples: 100%|██████████| 1/1 [00:02<00:00,  2.00s/ Batches]\n",
      "Inferencing Samples: 100%|██████████| 1/1 [00:01<00:00,  1.68s/ Batches]\n",
      "Inferencing Samples: 100%|██████████| 1/1 [00:02<00:00,  2.70s/ Batches]\n",
      "Inferencing Samples: 100%|██████████| 1/1 [00:02<00:00,  2.72s/ Batches]\n",
      "Inferencing Samples: 100%|██████████| 1/1 [00:02<00:00,  2.39s/ Batches]\n",
      "Inferencing Samples: 100%|██████████| 1/1 [00:02<00:00,  2.00s/ Batches]\n",
      "Inferencing Samples: 100%|██████████| 1/1 [00:01<00:00,  1.81s/ Batches]\n",
      "Inferencing Samples: 100%|██████████| 1/1 [00:02<00:00,  2.16s/ Batches]\n",
      "Inferencing Samples: 100%|██████████| 1/1 [00:02<00:00,  2.04s/ Batches]\n",
      "Inferencing Samples: 100%|██████████| 1/1 [00:02<00:00,  2.03s/ Batches]\n",
      "Inferencing Samples: 100%|██████████| 1/1 [00:02<00:00,  2.06s/ Batches]\n",
      "Inferencing Samples: 100%|██████████| 1/1 [00:01<00:00,  1.37s/ Batches]\n",
      "Inferencing Samples: 100%|██████████| 1/1 [00:01<00:00,  1.35s/ Batches]\n",
      "Inferencing Samples: 100%|██████████| 1/1 [00:01<00:00,  1.39s/ Batches]\n",
      "Inferencing Samples: 100%|██████████| 1/1 [00:02<00:00,  2.06s/ Batches]\n",
      "Inferencing Samples: 100%|██████████| 1/1 [00:01<00:00,  1.06s/ Batches]\n",
      "Inferencing Samples: 100%|██████████| 1/1 [00:02<00:00,  2.36s/ Batches]\n",
      "Inferencing Samples: 100%|██████████| 1/1 [00:02<00:00,  2.53s/ Batches]\n",
      "Inferencing Samples: 100%|██████████| 1/1 [00:01<00:00,  1.41s/ Batches]\n",
      "Inferencing Samples: 100%|██████████| 1/1 [00:01<00:00,  1.73s/ Batches]\n",
      "Inferencing Samples: 100%|██████████| 1/1 [00:01<00:00,  1.73s/ Batches]\n",
      "Inferencing Samples: 100%|██████████| 1/1 [00:01<00:00,  1.82s/ Batches]\n",
      "Inferencing Samples: 100%|██████████| 1/1 [00:01<00:00,  1.75s/ Batches]\n",
      "Inferencing Samples: 100%|██████████| 1/1 [00:01<00:00,  1.77s/ Batches]\n",
      "Inferencing Samples: 100%|██████████| 1/1 [00:02<00:00,  2.77s/ Batches]\n",
      "Inferencing Samples: 100%|██████████| 1/1 [00:02<00:00,  2.06s/ Batches]\n",
      "Inferencing Samples: 100%|██████████| 1/1 [00:01<00:00,  1.74s/ Batches]\n",
      "Inferencing Samples: 100%|██████████| 1/1 [00:01<00:00,  1.75s/ Batches]\n",
      "Inferencing Samples: 100%|██████████| 1/1 [00:02<00:00,  2.44s/ Batches]\n",
      "Inferencing Samples: 100%|██████████| 1/1 [00:02<00:00,  2.34s/ Batches]\n",
      "Inferencing Samples: 100%|██████████| 1/1 [00:01<00:00,  1.76s/ Batches]\n",
      "Inferencing Samples: 100%|██████████| 1/1 [00:02<00:00,  2.18s/ Batches]\n",
      "Inferencing Samples: 100%|██████████| 1/1 [00:01<00:00,  1.91s/ Batches]\n",
      "Inferencing Samples: 100%|██████████| 1/1 [00:01<00:00,  1.72s/ Batches]\n",
      "Inferencing Samples: 100%|██████████| 1/1 [00:02<00:00,  2.42s/ Batches]\n",
      "Inferencing Samples: 100%|██████████| 1/1 [00:01<00:00,  1.74s/ Batches]\n",
      "Inferencing Samples: 100%|██████████| 1/1 [00:01<00:00,  1.42s/ Batches]\n",
      "Inferencing Samples: 100%|██████████| 1/1 [00:02<00:00,  2.23s/ Batches]\n",
      "Inferencing Samples: 100%|██████████| 1/1 [00:01<00:00,  1.48s/ Batches]\n",
      "Inferencing Samples: 100%|██████████| 1/1 [00:02<00:00,  2.87s/ Batches]\n",
      "Inferencing Samples: 100%|██████████| 1/1 [00:01<00:00,  1.82s/ Batches]\n",
      "Inferencing Samples: 100%|██████████| 1/1 [00:02<00:00,  2.13s/ Batches]\n",
      "Inferencing Samples: 100%|██████████| 1/1 [00:02<00:00,  2.47s/ Batches]\n",
      "Inferencing Samples: 100%|██████████| 1/1 [00:02<00:00,  2.40s/ Batches]\n",
      "Inferencing Samples: 100%|██████████| 1/1 [00:02<00:00,  2.01s/ Batches]\n",
      "Inferencing Samples: 100%|██████████| 1/1 [00:01<00:00,  1.75s/ Batches]\n",
      "Inferencing Samples: 100%|██████████| 1/1 [00:01<00:00,  1.39s/ Batches]\n",
      "Inferencing Samples: 100%|██████████| 1/1 [00:01<00:00,  1.44s/ Batches]\n",
      "Inferencing Samples: 100%|██████████| 1/1 [00:02<00:00,  2.48s/ Batches]\n",
      "Inferencing Samples: 100%|██████████| 1/1 [00:02<00:00,  2.08s/ Batches]\n",
      "Inferencing Samples: 100%|██████████| 1/1 [00:02<00:00,  2.11s/ Batches]\n",
      "Inferencing Samples: 100%|██████████| 1/1 [00:01<00:00,  1.74s/ Batches]\n",
      "Inferencing Samples: 100%|██████████| 1/1 [00:02<00:00,  2.08s/ Batches]\n",
      "Inferencing Samples: 100%|██████████| 1/1 [00:00<00:00,  1.44 Batches/s]\n",
      "Inferencing Samples: 100%|██████████| 1/1 [00:01<00:00,  1.73s/ Batches]\n",
      "Inferencing Samples: 100%|██████████| 1/1 [00:02<00:00,  2.08s/ Batches]\n",
      "Inferencing Samples: 100%|██████████| 1/1 [00:01<00:00,  1.37s/ Batches]\n",
      "Inferencing Samples: 100%|██████████| 1/1 [00:01<00:00,  1.87s/ Batches]\n",
      "Inferencing Samples: 100%|██████████| 1/1 [00:02<00:00,  2.15s/ Batches]\n",
      "Inferencing Samples: 100%|██████████| 1/1 [00:01<00:00,  1.76s/ Batches]\n",
      "Inferencing Samples: 100%|██████████| 1/1 [00:04<00:00,  4.20s/ Batches]\n",
      "Inferencing Samples: 100%|██████████| 1/1 [00:02<00:00,  2.03s/ Batches]\n",
      "Inferencing Samples: 100%|██████████| 1/1 [00:02<00:00,  2.12s/ Batches]\n",
      "Inferencing Samples: 100%|██████████| 1/1 [00:02<00:00,  2.04s/ Batches]\n",
      "Inferencing Samples: 100%|██████████| 1/1 [00:01<00:00,  1.68s/ Batches]\n",
      "Inferencing Samples: 100%|██████████| 1/1 [00:02<00:00,  2.38s/ Batches]\n",
      "Inferencing Samples: 100%|██████████| 1/1 [00:01<00:00,  1.03s/ Batches]\n",
      "Inferencing Samples: 100%|██████████| 1/1 [00:01<00:00,  1.44s/ Batches]\n",
      "Inferencing Samples: 100%|██████████| 1/1 [00:00<00:00,  1.46 Batches/s]\n",
      "Inferencing Samples: 100%|██████████| 1/1 [00:02<00:00,  2.08s/ Batches]\n",
      "Inferencing Samples: 100%|██████████| 1/1 [00:02<00:00,  2.04s/ Batches]\n",
      "Inferencing Samples: 100%|██████████| 1/1 [00:01<00:00,  1.08s/ Batches]\n",
      "Inferencing Samples: 100%|██████████| 1/1 [00:01<00:00,  1.36s/ Batches]\n",
      "Inferencing Samples: 100%|██████████| 1/1 [00:02<00:00,  2.08s/ Batches]\n",
      "Inferencing Samples: 100%|██████████| 1/1 [00:01<00:00,  1.39s/ Batches]\n",
      "Inferencing Samples: 100%|██████████| 1/1 [00:01<00:00,  1.75s/ Batches]\n",
      "Inferencing Samples: 100%|██████████| 1/1 [00:00<00:00,  1.44 Batches/s]\n",
      "Inferencing Samples: 100%|██████████| 1/1 [00:02<00:00,  2.07s/ Batches]\n",
      "Inferencing Samples: 100%|██████████| 1/1 [00:02<00:00,  2.04s/ Batches]\n",
      "Inferencing Samples: 100%|██████████| 1/1 [00:02<00:00,  2.07s/ Batches]\n",
      "Inferencing Samples: 100%|██████████| 1/1 [00:01<00:00,  1.73s/ Batches]\n",
      "Inferencing Samples: 100%|██████████| 1/1 [00:02<00:00,  2.69s/ Batches]\n",
      "Inferencing Samples: 100%|██████████| 1/1 [00:02<00:00,  2.74s/ Batches]\n",
      "Inferencing Samples: 100%|██████████| 1/1 [00:02<00:00,  2.10s/ Batches]\n",
      "Inferencing Samples: 100%|██████████| 1/1 [00:01<00:00,  1.36s/ Batches]\n",
      "Inferencing Samples: 100%|██████████| 1/1 [00:01<00:00,  1.35s/ Batches]\n",
      "Inferencing Samples: 100%|██████████| 1/1 [00:01<00:00,  1.41s/ Batches]\n",
      "Inferencing Samples: 100%|██████████| 1/1 [00:01<00:00,  1.88s/ Batches]\n",
      "Inferencing Samples: 100%|██████████| 1/1 [00:04<00:00,  4.20s/ Batches]\n",
      "Inferencing Samples: 100%|██████████| 1/1 [00:01<00:00,  1.38s/ Batches]\n",
      "Inferencing Samples: 100%|██████████| 1/1 [00:02<00:00,  2.19s/ Batches]\n",
      "Inferencing Samples: 100%|██████████| 1/1 [00:02<00:00,  2.07s/ Batches]\n",
      "Inferencing Samples: 100%|██████████| 1/1 [00:01<00:00,  1.76s/ Batches]\n",
      "Inferencing Samples: 100%|██████████| 1/1 [00:01<00:00,  1.01s/ Batches]\n",
      "Inferencing Samples: 100%|██████████| 1/1 [00:01<00:00,  1.71s/ Batches]\n",
      "Inferencing Samples: 100%|██████████| 1/1 [00:02<00:00,  2.39s/ Batches]\n",
      "Inferencing Samples: 100%|██████████| 1/1 [00:01<00:00,  1.06s/ Batches]\n",
      "Inferencing Samples: 100%|██████████| 1/1 [00:01<00:00,  1.86s/ Batches]\n",
      "Inferencing Samples: 100%|██████████| 1/1 [00:01<00:00,  1.49s/ Batches]\n",
      "Inferencing Samples: 100%|██████████| 1/1 [00:01<00:00,  1.36s/ Batches]\n",
      "Inferencing Samples: 100%|██████████| 1/1 [00:02<00:00,  2.40s/ Batches]\n",
      "Inferencing Samples: 100%|██████████| 1/1 [00:02<00:00,  2.37s/ Batches]\n",
      "Inferencing Samples: 100%|██████████| 1/1 [00:02<00:00,  2.39s/ Batches]\n",
      "Inferencing Samples: 100%|██████████| 1/1 [00:02<00:00,  2.06s/ Batches]\n",
      "Inferencing Samples: 100%|██████████| 1/1 [00:01<00:00,  1.73s/ Batches]\n",
      "Inferencing Samples: 100%|██████████| 1/1 [00:01<00:00,  1.46s/ Batches]\n",
      "Inferencing Samples: 100%|██████████| 1/1 [00:02<00:00,  2.22s/ Batches]\n",
      "Inferencing Samples: 100%|██████████| 1/1 [00:01<00:00,  1.04s/ Batches]\n",
      "Inferencing Samples: 100%|██████████| 1/1 [00:01<00:00,  1.36s/ Batches]\n",
      "Inferencing Samples: 100%|██████████| 1/1 [00:02<00:00,  2.01s/ Batches]\n",
      "Inferencing Samples: 100%|██████████| 1/1 [00:02<00:00,  2.13s/ Batches]\n",
      "Inferencing Samples: 100%|██████████| 1/1 [00:02<00:00,  2.00s/ Batches]\n",
      "Inferencing Samples: 100%|██████████| 1/1 [00:01<00:00,  1.75s/ Batches]\n",
      "Inferencing Samples: 100%|██████████| 1/1 [00:02<00:00,  2.43s/ Batches]\n",
      "Inferencing Samples: 100%|██████████| 1/1 [00:02<00:00,  2.10s/ Batches]\n",
      "Inferencing Samples: 100%|██████████| 1/1 [00:01<00:00,  1.40s/ Batches]\n",
      "Inferencing Samples: 100%|██████████| 1/1 [00:02<00:00,  2.17s/ Batches]\n",
      "Inferencing Samples: 100%|██████████| 1/1 [00:01<00:00,  1.76s/ Batches]\n",
      "Inferencing Samples: 100%|██████████| 1/1 [00:02<00:00,  2.10s/ Batches]\n",
      "Inferencing Samples: 100%|██████████| 1/1 [00:02<00:00,  2.44s/ Batches]\n",
      "Inferencing Samples: 100%|██████████| 1/1 [00:01<00:00,  1.39s/ Batches]\n",
      "Inferencing Samples: 100%|██████████| 1/1 [00:01<00:00,  1.43s/ Batches]\n",
      "Inferencing Samples: 100%|██████████| 1/1 [00:01<00:00,  1.73s/ Batches]\n",
      "Inferencing Samples: 100%|██████████| 1/1 [00:01<00:00,  1.78s/ Batches]\n",
      "Inferencing Samples: 100%|██████████| 1/1 [00:02<00:00,  2.09s/ Batches]\n",
      "Inferencing Samples: 100%|██████████| 1/1 [00:02<00:00,  2.13s/ Batches]\n",
      "Inferencing Samples: 100%|██████████| 1/1 [00:02<00:00,  2.12s/ Batches]\n",
      "Inferencing Samples: 100%|██████████| 1/1 [00:01<00:00,  1.39s/ Batches]\n",
      "Inferencing Samples: 100%|██████████| 1/1 [00:01<00:00,  1.37s/ Batches]\n",
      "Inferencing Samples: 100%|██████████| 1/1 [00:01<00:00,  1.36s/ Batches]\n",
      "Inferencing Samples: 100%|██████████| 1/1 [00:02<00:00,  2.76s/ Batches]\n",
      "Inferencing Samples: 100%|██████████| 1/1 [00:01<00:00,  1.73s/ Batches]\n",
      "Inferencing Samples: 100%|██████████| 1/1 [00:01<00:00,  1.75s/ Batches]\n",
      "Inferencing Samples: 100%|██████████| 1/1 [00:02<00:00,  2.03s/ Batches]\n",
      "Inferencing Samples: 100%|██████████| 1/1 [00:02<00:00,  2.45s/ Batches]\n",
      "Inferencing Samples: 100%|██████████| 1/1 [00:02<00:00,  2.03s/ Batches]\n",
      "Inferencing Samples: 100%|██████████| 1/1 [00:02<00:00,  2.37s/ Batches]\n",
      "Inferencing Samples: 100%|██████████| 1/1 [00:01<00:00,  1.70s/ Batches]\n",
      "Inferencing Samples: 100%|██████████| 1/1 [00:02<00:00,  2.36s/ Batches]\n",
      "Inferencing Samples: 100%|██████████| 1/1 [00:01<00:00,  1.72s/ Batches]\n",
      "Inferencing Samples: 100%|██████████| 1/1 [00:00<00:00,  1.44 Batches/s]\n",
      "Inferencing Samples: 100%|██████████| 1/1 [00:01<00:00,  1.03s/ Batches]\n",
      "Inferencing Samples: 100%|██████████| 1/1 [00:02<00:00,  2.39s/ Batches]\n",
      "Inferencing Samples: 100%|██████████| 1/1 [00:01<00:00,  1.73s/ Batches]\n",
      "Inferencing Samples: 100%|██████████| 1/1 [00:01<00:00,  1.83s/ Batches]\n",
      "Inferencing Samples: 100%|██████████| 1/1 [00:01<00:00,  1.67s/ Batches]\n",
      "Inferencing Samples: 100%|██████████| 1/1 [00:02<00:00,  2.03s/ Batches]\n",
      "Inferencing Samples: 100%|██████████| 1/1 [00:01<00:00,  1.32s/ Batches]\n",
      "Inferencing Samples: 100%|██████████| 1/1 [00:00<00:00,  1.52 Batches/s]\n",
      "Inferencing Samples: 100%|██████████| 1/1 [00:01<00:00,  1.62s/ Batches]\n",
      "Inferencing Samples: 100%|██████████| 1/1 [00:01<00:00,  1.94s/ Batches]\n",
      "Inferencing Samples: 100%|██████████| 1/1 [00:01<00:00,  1.30s/ Batches]\n",
      "Inferencing Samples: 100%|██████████| 1/1 [00:00<00:00,  1.48 Batches/s]\n",
      "Inferencing Samples: 100%|██████████| 1/1 [00:00<00:00,  1.51 Batches/s]\n",
      "Inferencing Samples: 100%|██████████| 1/1 [00:01<00:00,  1.34s/ Batches]\n",
      "Inferencing Samples: 100%|██████████| 1/1 [00:01<00:00,  1.66s/ Batches]\n",
      "Inferencing Samples: 100%|██████████| 1/1 [00:01<00:00,  1.34s/ Batches]\n",
      "Inferencing Samples: 100%|██████████| 1/1 [00:00<00:00,  1.46 Batches/s]\n",
      "Inferencing Samples: 100%|██████████| 1/1 [00:13<00:00, 13.83s/ Batches]\n",
      "Inferencing Samples: 100%|██████████| 1/1 [00:00<00:00,  1.54 Batches/s]\n",
      "Inferencing Samples: 100%|██████████| 1/1 [00:02<00:00,  2.25s/ Batches]\n",
      "Inferencing Samples: 100%|██████████| 1/1 [00:00<00:00,  1.51 Batches/s]\n",
      "Inferencing Samples: 100%|██████████| 1/1 [00:10<00:00, 10.07s/ Batches]\n",
      "Inferencing Samples: 100%|██████████| 1/1 [00:02<00:00,  2.23s/ Batches]\n",
      "Inferencing Samples: 100%|██████████| 1/1 [00:01<00:00,  1.30s/ Batches]\n",
      "Inferencing Samples: 100%|██████████| 1/1 [00:00<00:00,  1.02 Batches/s]\n",
      "Inferencing Samples: 100%|██████████| 1/1 [00:01<00:00,  1.33s/ Batches]\n",
      "Inferencing Samples: 100%|██████████| 1/1 [00:01<00:00,  1.37s/ Batches]\n",
      "Inferencing Samples: 100%|██████████| 1/1 [00:02<00:00,  2.32s/ Batches]\n",
      "Inferencing Samples: 100%|██████████| 1/1 [00:02<00:00,  2.36s/ Batches]\n",
      "Inferencing Samples: 100%|██████████| 1/1 [00:01<00:00,  1.62s/ Batches]\n",
      "Inferencing Samples: 100%|██████████| 1/1 [00:05<00:00,  5.71s/ Batches]\n",
      "Inferencing Samples: 100%|██████████| 1/1 [00:01<00:00,  1.29s/ Batches]\n",
      "Inferencing Samples: 100%|██████████| 1/1 [00:01<00:00,  1.33s/ Batches]\n",
      "Inferencing Samples: 100%|██████████| 1/1 [00:00<00:00,  1.51 Batches/s]\n",
      "Inferencing Samples: 100%|██████████| 1/1 [00:06<00:00,  6.16s/ Batches]\n",
      "Inferencing Samples: 100%|██████████| 1/1 [00:00<00:00,  1.47 Batches/s]\n",
      "Inferencing Samples: 100%|██████████| 1/1 [00:01<00:00,  1.63s/ Batches]\n",
      "Inferencing Samples: 100%|██████████| 1/1 [00:01<00:00,  1.65s/ Batches]\n",
      "Inferencing Samples: 100%|██████████| 1/1 [00:01<00:00,  1.65s/ Batches]\n",
      "Inferencing Samples: 100%|██████████| 1/1 [00:01<00:00,  1.31s/ Batches]\n",
      "Inferencing Samples: 100%|██████████| 1/1 [00:01<00:00,  1.31s/ Batches]\n",
      "Inferencing Samples: 100%|██████████| 1/1 [00:00<00:00,  1.04 Batches/s]\n",
      "Inferencing Samples: 100%|██████████| 1/1 [00:01<00:00,  1.64s/ Batches]\n",
      "Inferencing Samples: 100%|██████████| 1/1 [00:02<00:00,  2.64s/ Batches]\n",
      "Inferencing Samples: 100%|██████████| 1/1 [00:01<00:00,  1.68s/ Batches]\n",
      "Inferencing Samples: 100%|██████████| 1/1 [00:02<00:00,  2.34s/ Batches]\n",
      "Inferencing Samples: 100%|██████████| 1/1 [00:01<00:00,  1.98s/ Batches]\n",
      "Inferencing Samples: 100%|██████████| 1/1 [00:02<00:00,  2.61s/ Batches]\n",
      "Inferencing Samples: 100%|██████████| 1/1 [00:01<00:00,  1.94s/ Batches]\n",
      "Inferencing Samples: 100%|██████████| 1/1 [00:01<00:00,  1.62s/ Batches]\n",
      "Inferencing Samples: 100%|██████████| 1/1 [00:01<00:00,  1.30s/ Batches]\n",
      "Inferencing Samples: 100%|██████████| 3/3 [00:46<00:00, 15.61s/ Batches]\n",
      "Inferencing Samples: 100%|██████████| 1/1 [00:14<00:00, 14.80s/ Batches]\n",
      "Inferencing Samples: 100%|██████████| 1/1 [00:07<00:00,  7.70s/ Batches]\n",
      "Inferencing Samples: 100%|██████████| 1/1 [00:00<00:00,  1.40 Batches/s]\n",
      "Inferencing Samples: 100%|██████████| 1/1 [00:01<00:00,  1.70s/ Batches]\n",
      "Inferencing Samples: 100%|██████████| 1/1 [00:01<00:00,  1.30s/ Batches]\n",
      "Inferencing Samples: 100%|██████████| 1/1 [00:01<00:00,  1.66s/ Batches]\n",
      "Inferencing Samples: 100%|██████████| 1/1 [00:01<00:00,  1.64s/ Batches]\n",
      "Inferencing Samples: 100%|██████████| 1/1 [00:01<00:00,  1.98s/ Batches]\n",
      "Inferencing Samples: 100%|██████████| 1/1 [00:01<00:00,  1.97s/ Batches]\n",
      "Inferencing Samples: 100%|██████████| 1/1 [00:01<00:00,  1.65s/ Batches]\n",
      "Inferencing Samples: 100%|██████████| 1/1 [00:00<00:00,  2.94 Batches/s]\n",
      "Inferencing Samples: 100%|██████████| 1/1 [00:02<00:00,  2.66s/ Batches]\n",
      "Inferencing Samples: 100%|██████████| 1/1 [00:00<00:00,  1.49 Batches/s]\n",
      "Inferencing Samples: 100%|██████████| 1/1 [00:01<00:00,  1.61s/ Batches]\n",
      "Inferencing Samples: 100%|██████████| 1/1 [00:01<00:00,  1.97s/ Batches]\n",
      "Inferencing Samples: 100%|██████████| 1/1 [00:01<00:00,  1.60s/ Batches]\n",
      "Inferencing Samples: 100%|██████████| 1/1 [00:00<00:00,  1.03 Batches/s]\n",
      "Inferencing Samples: 100%|██████████| 1/1 [00:00<00:00,  1.01 Batches/s]\n",
      "Inferencing Samples: 100%|██████████| 1/1 [00:02<00:00,  2.56s/ Batches]\n",
      "Inferencing Samples: 100%|██████████| 1/1 [00:01<00:00,  1.96s/ Batches]\n",
      "Inferencing Samples: 100%|██████████| 1/1 [00:00<00:00,  1.01 Batches/s]\n",
      "Inferencing Samples: 100%|██████████| 1/1 [00:05<00:00,  5.02s/ Batches]\n",
      "Inferencing Samples: 100%|██████████| 1/1 [00:01<00:00,  1.96s/ Batches]\n",
      "Inferencing Samples: 100%|██████████| 1/1 [00:02<00:00,  2.61s/ Batches]\n",
      "Inferencing Samples: 100%|██████████| 1/1 [00:02<00:00,  2.63s/ Batches]\n",
      "Inferencing Samples: 100%|██████████| 1/1 [00:01<00:00,  1.30s/ Batches]\n",
      "Inferencing Samples: 100%|██████████| 1/1 [00:01<00:00,  1.60s/ Batches]\n",
      "Inferencing Samples: 100%|██████████| 1/1 [00:01<00:00,  1.95s/ Batches]\n",
      "Inferencing Samples: 100%|██████████| 1/1 [00:02<00:00,  2.62s/ Batches]\n",
      "Inferencing Samples: 100%|██████████| 1/1 [00:01<00:00,  1.32s/ Batches]\n",
      "Inferencing Samples: 100%|██████████| 1/1 [00:16<00:00, 16.11s/ Batches]\n",
      "Inferencing Samples: 100%|██████████| 1/1 [00:00<00:00,  1.03 Batches/s]\n",
      "Inferencing Samples: 100%|██████████| 1/1 [00:01<00:00,  1.66s/ Batches]\n",
      "Inferencing Samples: 100%|██████████| 1/1 [00:01<00:00,  1.66s/ Batches]\n",
      "Inferencing Samples: 100%|██████████| 1/1 [00:01<00:00,  1.30s/ Batches]\n",
      "Inferencing Samples: 100%|██████████| 1/1 [00:01<00:00,  1.30s/ Batches]\n",
      "Inferencing Samples: 100%|██████████| 1/1 [00:01<00:00,  1.29s/ Batches]\n",
      "Inferencing Samples: 100%|██████████| 1/1 [00:02<00:00,  2.46s/ Batches]\n",
      "Inferencing Samples: 100%|██████████| 1/1 [00:01<00:00,  1.34s/ Batches]\n",
      "Inferencing Samples: 100%|██████████| 1/1 [00:01<00:00,  1.64s/ Batches]\n",
      "Inferencing Samples: 100%|██████████| 1/1 [00:01<00:00,  1.30s/ Batches]\n",
      "Inferencing Samples: 100%|██████████| 1/1 [00:01<00:00,  1.54s/ Batches]\n",
      "Inferencing Samples: 100%|██████████| 1/1 [00:02<00:00,  2.07s/ Batches]\n",
      "Inferencing Samples: 100%|██████████| 1/1 [00:01<00:00,  1.72s/ Batches]\n",
      "Inferencing Samples: 100%|██████████| 1/1 [00:01<00:00,  1.49s/ Batches]\n",
      "Inferencing Samples: 100%|██████████| 1/1 [00:01<00:00,  1.51s/ Batches]\n",
      "Inferencing Samples: 100%|██████████| 1/1 [00:01<00:00,  1.88s/ Batches]\n",
      "Inferencing Samples: 100%|██████████| 1/1 [00:01<00:00,  1.81s/ Batches]\n",
      "Inferencing Samples: 100%|██████████| 1/1 [00:02<00:00,  2.39s/ Batches]\n",
      "Inferencing Samples: 100%|██████████| 1/1 [00:01<00:00,  1.38s/ Batches]\n",
      "Inferencing Samples: 100%|██████████| 1/1 [00:02<00:00,  2.83s/ Batches]\n",
      "Inferencing Samples: 100%|██████████| 1/1 [00:01<00:00,  1.35s/ Batches]\n",
      "Inferencing Samples: 100%|██████████| 1/1 [00:02<00:00,  2.02s/ Batches]\n",
      "Inferencing Samples: 100%|██████████| 1/1 [00:01<00:00,  1.32s/ Batches]\n",
      "Inferencing Samples: 100%|██████████| 1/1 [00:00<00:00,  1.45 Batches/s]\n",
      "Inferencing Samples: 100%|██████████| 1/1 [00:02<00:00,  2.39s/ Batches]\n",
      "Inferencing Samples: 100%|██████████| 1/1 [00:03<00:00,  3.34s/ Batches]\n",
      "Inferencing Samples: 100%|██████████| 1/1 [00:02<00:00,  2.68s/ Batches]\n",
      "Inferencing Samples: 100%|██████████| 1/1 [00:03<00:00,  3.37s/ Batches]\n",
      "Inferencing Samples: 100%|██████████| 1/1 [00:02<00:00,  2.72s/ Batches]\n",
      "Inferencing Samples: 100%|██████████| 1/1 [00:01<00:00,  1.97s/ Batches]\n",
      "Inferencing Samples: 100%|██████████| 1/1 [00:05<00:00,  5.62s/ Batches]\n",
      "Inferencing Samples: 100%|██████████| 1/1 [00:03<00:00,  3.33s/ Batches]\n",
      "Inferencing Samples: 100%|██████████| 1/1 [00:05<00:00,  5.31s/ Batches]\n",
      "Inferencing Samples: 100%|██████████| 1/1 [00:04<00:00,  4.19s/ Batches]\n",
      "Inferencing Samples: 100%|██████████| 1/1 [00:01<00:00,  1.33s/ Batches]\n",
      "Inferencing Samples: 100%|██████████| 1/1 [00:01<00:00,  1.96s/ Batches]\n",
      "Inferencing Samples: 100%|██████████| 1/1 [00:01<00:00,  1.30s/ Batches]\n",
      "Inferencing Samples: 100%|██████████| 1/1 [00:01<00:00,  1.31s/ Batches]\n",
      "Inferencing Samples: 100%|██████████| 1/1 [00:01<00:00,  1.61s/ Batches]\n",
      "Inferencing Samples: 100%|██████████| 1/1 [00:01<00:00,  1.62s/ Batches]\n",
      "Inferencing Samples: 100%|██████████| 1/1 [00:01<00:00,  1.66s/ Batches]\n",
      "Inferencing Samples: 100%|██████████| 1/1 [00:01<00:00,  1.81s/ Batches]\n",
      "Inferencing Samples: 100%|██████████| 1/1 [00:01<00:00,  1.95s/ Batches]\n",
      "Inferencing Samples: 100%|██████████| 1/1 [00:01<00:00,  1.63s/ Batches]\n",
      "Inferencing Samples: 100%|██████████| 1/1 [00:01<00:00,  1.96s/ Batches]\n",
      "Inferencing Samples: 100%|██████████| 1/1 [00:01<00:00,  1.62s/ Batches]\n",
      "Inferencing Samples: 100%|██████████| 1/1 [00:02<00:00,  2.32s/ Batches]\n",
      "Inferencing Samples: 100%|██████████| 1/1 [00:01<00:00,  1.61s/ Batches]\n",
      "Inferencing Samples: 100%|██████████| 1/1 [00:00<00:00,  1.04 Batches/s]\n",
      "Inferencing Samples: 100%|██████████| 1/1 [00:01<00:00,  1.66s/ Batches]\n",
      "Inferencing Samples: 100%|██████████| 1/1 [00:01<00:00,  1.63s/ Batches]\n",
      "Inferencing Samples: 100%|██████████| 1/1 [00:00<00:00,  1.03 Batches/s]\n",
      "Inferencing Samples: 100%|██████████| 5/5 [01:13<00:00, 14.60s/ Batches]\n",
      "Inferencing Samples: 100%|██████████| 1/1 [00:02<00:00,  2.27s/ Batches]\n",
      "Inferencing Samples: 100%|██████████| 1/1 [00:01<00:00,  1.69s/ Batches]\n",
      "Inferencing Samples: 100%|██████████| 1/1 [00:02<00:00,  2.44s/ Batches]\n",
      "Inferencing Samples: 100%|██████████| 1/1 [00:01<00:00,  1.29s/ Batches]\n",
      "Inferencing Samples: 100%|██████████| 1/1 [00:05<00:00,  5.55s/ Batches]\n",
      "Inferencing Samples: 100%|██████████| 1/1 [00:01<00:00,  1.63s/ Batches]\n",
      "Inferencing Samples: 100%|██████████| 1/1 [00:00<00:00,  1.00 Batches/s]\n",
      "Inferencing Samples: 100%|██████████| 1/1 [00:02<00:00,  2.25s/ Batches]\n",
      "Inferencing Samples: 100%|██████████| 1/1 [00:01<00:00,  1.30s/ Batches]\n",
      "Inferencing Samples: 100%|██████████| 1/1 [00:01<00:00,  1.34s/ Batches]\n",
      "Inferencing Samples: 100%|██████████| 1/1 [00:01<00:00,  1.66s/ Batches]\n",
      "Inferencing Samples: 100%|██████████| 1/1 [00:01<00:00,  1.33s/ Batches]\n",
      "Inferencing Samples: 100%|██████████| 1/1 [00:01<00:00,  1.48s/ Batches]\n",
      "Inferencing Samples: 100%|██████████| 1/1 [00:01<00:00,  1.32s/ Batches]\n",
      "Inferencing Samples: 100%|██████████| 1/1 [00:01<00:00,  1.61s/ Batches]\n",
      "Inferencing Samples: 100%|██████████| 1/1 [00:01<00:00,  1.33s/ Batches]\n",
      "Inferencing Samples: 100%|██████████| 1/1 [00:01<00:00,  1.67s/ Batches]\n",
      "Inferencing Samples: 100%|██████████| 1/1 [00:01<00:00,  1.96s/ Batches]\n",
      "Inferencing Samples: 100%|██████████| 1/1 [00:01<00:00,  1.92s/ Batches]\n",
      "Inferencing Samples: 100%|██████████| 1/1 [00:01<00:00,  1.64s/ Batches]\n",
      "Inferencing Samples: 100%|██████████| 1/1 [00:01<00:00,  1.32s/ Batches]\n",
      "Inferencing Samples: 100%|██████████| 1/1 [00:02<00:00,  2.66s/ Batches]\n",
      "Inferencing Samples: 100%|██████████| 1/1 [00:06<00:00,  6.24s/ Batches]\n",
      "Inferencing Samples: 100%|██████████| 1/1 [00:01<00:00,  1.97s/ Batches]\n",
      "Inferencing Samples: 100%|██████████| 1/1 [00:01<00:00,  1.67s/ Batches]\n",
      "Inferencing Samples: 100%|██████████| 1/1 [00:02<00:00,  2.32s/ Batches]\n",
      "Inferencing Samples: 100%|██████████| 1/1 [00:01<00:00,  1.97s/ Batches]\n",
      "Inferencing Samples: 100%|██████████| 1/1 [00:01<00:00,  1.28s/ Batches]\n",
      "Inferencing Samples: 100%|██████████| 1/1 [00:01<00:00,  1.64s/ Batches]\n",
      "Inferencing Samples: 100%|██████████| 1/1 [00:01<00:00,  1.97s/ Batches]\n",
      "Inferencing Samples: 100%|██████████| 1/1 [00:02<00:00,  2.31s/ Batches]\n",
      "Inferencing Samples: 100%|██████████| 1/1 [00:02<00:00,  2.31s/ Batches]\n",
      "Inferencing Samples: 100%|██████████| 1/1 [00:02<00:00,  2.04s/ Batches]\n",
      "Inferencing Samples: 100%|██████████| 1/1 [00:00<00:00,  1.47 Batches/s]\n",
      "Inferencing Samples: 100%|██████████| 1/1 [00:00<00:00,  1.50 Batches/s]\n",
      "Inferencing Samples: 100%|██████████| 2/2 [00:34<00:00, 17.29s/ Batches]\n",
      "Inferencing Samples: 100%|██████████| 1/1 [00:02<00:00,  2.60s/ Batches]\n",
      "Inferencing Samples: 100%|██████████| 1/1 [00:01<00:00,  1.66s/ Batches]\n",
      "Inferencing Samples: 100%|██████████| 1/1 [00:01<00:00,  1.98s/ Batches]\n",
      "Inferencing Samples: 100%|██████████| 1/1 [00:00<00:00,  2.96 Batches/s]\n",
      "Inferencing Samples: 100%|██████████| 1/1 [00:06<00:00,  6.27s/ Batches]\n",
      "Inferencing Samples: 100%|██████████| 1/1 [00:02<00:00,  2.62s/ Batches]\n",
      "Inferencing Samples: 100%|██████████| 1/1 [00:02<00:00,  2.30s/ Batches]\n",
      "Inferencing Samples: 100%|██████████| 1/1 [00:01<00:00,  1.33s/ Batches]\n",
      "Inferencing Samples: 100%|██████████| 1/1 [00:00<00:00,  1.04 Batches/s]\n",
      "Inferencing Samples: 100%|██████████| 1/1 [00:02<00:00,  2.30s/ Batches]\n",
      "Inferencing Samples: 100%|██████████| 2/2 [00:20<00:00, 10.13s/ Batches]\n",
      "Inferencing Samples: 100%|██████████| 1/1 [00:01<00:00,  1.98s/ Batches]\n",
      "Inferencing Samples: 100%|██████████| 1/1 [00:02<00:00,  2.30s/ Batches]\n",
      "Inferencing Samples: 100%|██████████| 1/1 [00:01<00:00,  1.65s/ Batches]\n",
      "Inferencing Samples: 100%|██████████| 1/1 [00:01<00:00,  1.32s/ Batches]\n",
      "Inferencing Samples: 100%|██████████| 1/1 [00:02<00:00,  2.59s/ Batches]\n",
      "Inferencing Samples: 100%|██████████| 1/1 [00:01<00:00,  1.63s/ Batches]\n",
      "Inferencing Samples: 100%|██████████| 1/1 [00:01<00:00,  1.98s/ Batches]\n",
      "Inferencing Samples: 100%|██████████| 1/1 [00:02<00:00,  2.02s/ Batches]\n",
      "Inferencing Samples: 100%|██████████| 1/1 [00:02<00:00,  2.00s/ Batches]\n",
      "Inferencing Samples: 100%|██████████| 1/1 [00:01<00:00,  1.31s/ Batches]\n",
      "Inferencing Samples: 100%|██████████| 1/1 [00:02<00:00,  2.28s/ Batches]\n",
      "Inferencing Samples: 100%|██████████| 1/1 [00:01<00:00,  1.62s/ Batches]\n",
      "Inferencing Samples: 100%|██████████| 1/1 [00:01<00:00,  1.68s/ Batches]\n",
      "Inferencing Samples: 100%|██████████| 1/1 [00:01<00:00,  1.01s/ Batches]\n",
      "Inferencing Samples: 100%|██████████| 1/1 [00:01<00:00,  1.96s/ Batches]\n",
      "Inferencing Samples: 100%|██████████| 1/1 [00:02<00:00,  2.57s/ Batches]\n",
      "Inferencing Samples: 100%|██████████| 1/1 [00:01<00:00,  1.94s/ Batches]\n",
      "Inferencing Samples: 100%|██████████| 1/1 [00:02<00:00,  2.29s/ Batches]\n",
      "Inferencing Samples: 100%|██████████| 1/1 [00:02<00:00,  2.69s/ Batches]\n",
      "Inferencing Samples: 100%|██████████| 1/1 [00:02<00:00,  2.06s/ Batches]\n",
      "Inferencing Samples: 100%|██████████| 1/1 [00:00<00:00,  1.50 Batches/s]\n",
      "Inferencing Samples: 100%|██████████| 1/1 [00:01<00:00,  1.94s/ Batches]\n",
      "Inferencing Samples: 100%|██████████| 1/1 [00:01<00:00,  1.01s/ Batches]\n",
      "Inferencing Samples: 100%|██████████| 1/1 [00:01<00:00,  1.67s/ Batches]\n",
      "Inferencing Samples: 100%|██████████| 1/1 [00:01<00:00,  1.96s/ Batches]\n",
      "Inferencing Samples: 100%|██████████| 1/1 [00:01<00:00,  1.35s/ Batches]\n",
      "Inferencing Samples: 100%|██████████| 1/1 [00:02<00:00,  2.01s/ Batches]\n",
      "Inferencing Samples: 100%|██████████| 1/1 [00:03<00:00,  3.29s/ Batches]\n",
      "Inferencing Samples: 100%|██████████| 1/1 [00:01<00:00,  1.64s/ Batches]\n",
      "Inferencing Samples: 100%|██████████| 1/1 [00:01<00:00,  1.99s/ Batches]\n",
      "Inferencing Samples: 100%|██████████| 1/1 [00:01<00:00,  1.68s/ Batches]\n",
      "Inferencing Samples: 100%|██████████| 1/1 [00:01<00:00,  1.33s/ Batches]\n",
      "Inferencing Samples: 100%|██████████| 1/1 [00:01<00:00,  1.32s/ Batches]\n",
      "Inferencing Samples: 100%|██████████| 1/1 [00:01<00:00,  1.29s/ Batches]\n",
      "Inferencing Samples: 100%|██████████| 1/1 [00:01<00:00,  1.99s/ Batches]\n",
      "Inferencing Samples: 100%|██████████| 1/1 [00:01<00:00,  1.33s/ Batches]\n",
      "Inferencing Samples: 100%|██████████| 1/1 [00:02<00:00,  2.32s/ Batches]\n",
      "Inferencing Samples: 100%|██████████| 1/1 [00:02<00:00,  2.30s/ Batches]\n",
      "Inferencing Samples: 100%|██████████| 1/1 [00:01<00:00,  1.63s/ Batches]\n",
      "Inferencing Samples: 100%|██████████| 1/1 [00:02<00:00,  2.37s/ Batches]\n",
      "Inferencing Samples: 100%|██████████| 1/1 [00:02<00:00,  2.00s/ Batches]\n",
      "Inferencing Samples: 100%|██████████| 1/1 [00:01<00:00,  1.33s/ Batches]\n",
      "Inferencing Samples: 100%|██████████| 1/1 [00:01<00:00,  1.01s/ Batches]\n",
      "Inferencing Samples: 100%|██████████| 1/1 [00:04<00:00,  4.12s/ Batches]\n",
      "Inferencing Samples: 100%|██████████| 1/1 [00:01<00:00,  1.65s/ Batches]\n",
      "Inferencing Samples: 100%|██████████| 1/1 [00:04<00:00,  4.70s/ Batches]\n",
      "Inferencing Samples: 100%|██████████| 1/1 [00:00<00:00,  2.94 Batches/s]\n",
      "Inferencing Samples: 100%|██████████| 2/2 [00:19<00:00,  9.97s/ Batches]\n",
      "Inferencing Samples: 100%|██████████| 1/1 [00:01<00:00,  1.63s/ Batches]\n",
      "Inferencing Samples: 100%|██████████| 1/1 [00:01<00:00,  1.63s/ Batches]\n",
      "Inferencing Samples: 100%|██████████| 1/1 [00:02<00:00,  2.59s/ Batches]\n",
      "Inferencing Samples: 100%|██████████| 1/1 [00:01<00:00,  1.60s/ Batches]\n",
      "Inferencing Samples: 100%|██████████| 1/1 [00:01<00:00,  1.32s/ Batches]\n",
      "Inferencing Samples: 100%|██████████| 1/1 [00:01<00:00,  1.36s/ Batches]\n",
      "Inferencing Samples: 100%|██████████| 1/1 [00:02<00:00,  2.35s/ Batches]\n",
      "Inferencing Samples: 100%|██████████| 1/1 [00:01<00:00,  1.31s/ Batches]\n",
      "Inferencing Samples: 100%|██████████| 1/1 [00:02<00:00,  2.28s/ Batches]\n",
      "Inferencing Samples: 100%|██████████| 1/1 [00:02<00:00,  2.33s/ Batches]\n",
      "Inferencing Samples: 100%|██████████| 1/1 [00:02<00:00,  2.94s/ Batches]\n",
      "Inferencing Samples: 100%|██████████| 1/1 [00:02<00:00,  2.31s/ Batches]\n",
      "Inferencing Samples: 100%|██████████| 1/1 [00:01<00:00,  1.94s/ Batches]\n",
      "Inferencing Samples: 100%|██████████| 1/1 [00:01<00:00,  1.97s/ Batches]\n",
      "Inferencing Samples: 100%|██████████| 1/1 [00:01<00:00,  1.99s/ Batches]\n",
      "Inferencing Samples: 100%|██████████| 1/1 [00:01<00:00,  1.04s/ Batches]\n",
      "Inferencing Samples: 100%|██████████| 1/1 [00:12<00:00, 12.79s/ Batches]\n",
      "Inferencing Samples: 100%|██████████| 1/1 [00:01<00:00,  1.95s/ Batches]\n",
      "Inferencing Samples: 100%|██████████| 1/1 [00:01<00:00,  1.65s/ Batches]\n",
      "Inferencing Samples: 100%|██████████| 1/1 [00:02<00:00,  2.60s/ Batches]\n",
      "Inferencing Samples: 100%|██████████| 1/1 [00:02<00:00,  2.36s/ Batches]\n",
      "Inferencing Samples: 100%|██████████| 1/1 [00:01<00:00,  1.64s/ Batches]\n",
      "Inferencing Samples: 100%|██████████| 1/1 [00:02<00:00,  2.02s/ Batches]\n",
      "Inferencing Samples: 100%|██████████| 1/1 [00:01<00:00,  1.66s/ Batches]\n",
      "Inferencing Samples: 100%|██████████| 1/1 [00:01<00:00,  1.60s/ Batches]\n",
      "Inferencing Samples: 100%|██████████| 1/1 [00:01<00:00,  2.00s/ Batches]\n",
      "Inferencing Samples: 100%|██████████| 1/1 [00:02<00:00,  2.31s/ Batches]\n",
      "Inferencing Samples: 100%|██████████| 1/1 [00:02<00:00,  2.66s/ Batches]\n",
      "Inferencing Samples: 100%|██████████| 1/1 [00:01<00:00,  1.95s/ Batches]\n",
      "Inferencing Samples: 100%|██████████| 1/1 [00:01<00:00,  1.31s/ Batches]\n",
      "Inferencing Samples: 100%|██████████| 1/1 [00:02<00:00,  2.32s/ Batches]\n",
      "Inferencing Samples: 100%|██████████| 1/1 [00:01<00:00,  1.65s/ Batches]\n",
      "Inferencing Samples: 100%|██████████| 1/1 [00:00<00:00,  1.02 Batches/s]\n",
      "Inferencing Samples: 100%|██████████| 1/1 [00:09<00:00,  9.41s/ Batches]\n",
      "Inferencing Samples: 100%|██████████| 1/1 [00:01<00:00,  1.30s/ Batches]\n",
      "Inferencing Samples: 100%|██████████| 1/1 [00:02<00:00,  2.29s/ Batches]\n",
      "Inferencing Samples: 100%|██████████| 1/1 [00:02<00:00,  2.30s/ Batches]\n",
      "Inferencing Samples: 100%|██████████| 1/1 [00:00<00:00,  1.46 Batches/s]\n",
      "Inferencing Samples: 100%|██████████| 1/1 [00:12<00:00, 12.64s/ Batches]\n",
      "Inferencing Samples: 100%|██████████| 1/1 [00:01<00:00,  2.00s/ Batches]\n",
      "Inferencing Samples: 100%|██████████| 1/1 [00:01<00:00,  1.96s/ Batches]\n",
      "Inferencing Samples: 100%|██████████| 1/1 [00:00<00:00,  1.02 Batches/s]\n",
      "Inferencing Samples: 100%|██████████| 1/1 [00:00<00:00,  1.01 Batches/s]\n",
      "Inferencing Samples: 100%|██████████| 1/1 [00:01<00:00,  1.68s/ Batches]\n",
      "Inferencing Samples: 100%|██████████| 1/1 [00:02<00:00,  2.31s/ Batches]\n",
      "Inferencing Samples: 100%|██████████| 1/1 [00:01<00:00,  1.46s/ Batches]\n",
      "Inferencing Samples: 100%|██████████| 1/1 [00:01<00:00,  1.62s/ Batches]\n",
      "Inferencing Samples: 100%|██████████| 1/1 [00:00<00:00,  1.51 Batches/s]\n",
      "Inferencing Samples: 100%|██████████| 1/1 [00:01<00:00,  2.00s/ Batches]\n",
      "Inferencing Samples: 100%|██████████| 1/1 [00:01<00:00,  1.34s/ Batches]\n",
      "Inferencing Samples: 100%|██████████| 1/1 [00:01<00:00,  1.66s/ Batches]\n",
      "Inferencing Samples: 100%|██████████| 1/1 [00:02<00:00,  2.00s/ Batches]\n",
      "Inferencing Samples: 100%|██████████| 1/1 [00:01<00:00,  1.61s/ Batches]\n",
      "Inferencing Samples: 100%|██████████| 1/1 [00:04<00:00,  4.79s/ Batches]\n",
      "Inferencing Samples: 100%|██████████| 1/1 [00:02<00:00,  2.15s/ Batches]\n",
      "Inferencing Samples: 100%|██████████| 1/1 [00:01<00:00,  1.63s/ Batches]\n",
      "Inferencing Samples: 100%|██████████| 1/1 [00:01<00:00,  1.99s/ Batches]\n",
      "Inferencing Samples: 100%|██████████| 1/1 [00:02<00:00,  2.37s/ Batches]\n",
      "Inferencing Samples: 100%|██████████| 1/1 [00:01<00:00,  1.32s/ Batches]\n",
      "Inferencing Samples: 100%|██████████| 1/1 [00:01<00:00,  1.66s/ Batches]\n",
      "Inferencing Samples: 100%|██████████| 1/1 [00:01<00:00,  1.32s/ Batches]\n",
      "Inferencing Samples: 100%|██████████| 1/1 [00:01<00:00,  1.32s/ Batches]\n",
      "Inferencing Samples: 100%|██████████| 1/1 [00:01<00:00,  1.88s/ Batches]\n",
      "Inferencing Samples: 100%|██████████| 1/1 [00:02<00:00,  2.16s/ Batches]\n",
      "Inferencing Samples: 100%|██████████| 1/1 [00:03<00:00,  3.70s/ Batches]\n",
      "Inferencing Samples: 100%|██████████| 1/1 [00:01<00:00,  1.87s/ Batches]\n",
      "Inferencing Samples: 100%|██████████| 1/1 [00:01<00:00,  1.43s/ Batches]\n",
      "Inferencing Samples: 100%|██████████| 1/1 [00:02<00:00,  2.20s/ Batches]\n",
      "Inferencing Samples: 100%|██████████| 1/1 [00:01<00:00,  1.76s/ Batches]\n",
      "Inferencing Samples: 100%|██████████| 1/1 [00:01<00:00,  1.73s/ Batches]\n",
      "Inferencing Samples: 100%|██████████| 1/1 [00:01<00:00,  1.77s/ Batches]\n",
      "Inferencing Samples: 100%|██████████| 1/1 [00:02<00:00,  2.06s/ Batches]\n",
      "Inferencing Samples: 100%|██████████| 1/1 [00:01<00:00,  1.69s/ Batches]\n",
      "Inferencing Samples: 100%|██████████| 1/1 [00:01<00:00,  1.43s/ Batches]\n",
      "Inferencing Samples: 100%|██████████| 1/1 [00:01<00:00,  1.70s/ Batches]\n",
      "Inferencing Samples: 100%|██████████| 1/1 [00:01<00:00,  1.04s/ Batches]\n",
      "Inferencing Samples: 100%|██████████| 1/1 [00:02<00:00,  2.38s/ Batches]\n",
      "Inferencing Samples: 100%|██████████| 1/1 [00:02<00:00,  2.51s/ Batches]\n",
      "Inferencing Samples: 100%|██████████| 1/1 [00:01<00:00,  1.35s/ Batches]\n",
      "Inferencing Samples: 100%|██████████| 1/1 [00:02<00:00,  2.65s/ Batches]\n",
      "Inferencing Samples: 100%|██████████| 1/1 [00:01<00:00,  1.34s/ Batches]\n",
      "Inferencing Samples: 100%|██████████| 1/1 [00:01<00:00,  1.68s/ Batches]\n",
      "Inferencing Samples: 100%|██████████| 1/1 [00:02<00:00,  2.36s/ Batches]\n",
      "Inferencing Samples: 100%|██████████| 1/1 [00:02<00:00,  2.33s/ Batches]\n",
      "Inferencing Samples: 100%|██████████| 1/1 [00:01<00:00,  1.35s/ Batches]\n",
      "Inferencing Samples: 100%|██████████| 1/1 [00:02<00:00,  2.32s/ Batches]\n",
      "Inferencing Samples: 100%|██████████| 1/1 [00:01<00:00,  1.33s/ Batches]\n",
      "Inferencing Samples: 100%|██████████| 1/1 [00:01<00:00,  1.32s/ Batches]\n",
      "Inferencing Samples: 100%|██████████| 1/1 [00:01<00:00,  1.30s/ Batches]\n",
      "Inferencing Samples: 100%|██████████| 1/1 [00:01<00:00,  1.71s/ Batches]\n",
      "Inferencing Samples: 100%|██████████| 1/1 [00:01<00:00,  1.67s/ Batches]\n",
      "Inferencing Samples: 100%|██████████| 1/1 [00:01<00:00,  1.02s/ Batches]\n",
      "Inferencing Samples: 100%|██████████| 1/1 [00:01<00:00,  1.63s/ Batches]\n",
      "Inferencing Samples: 100%|██████████| 1/1 [00:01<00:00,  1.65s/ Batches]\n",
      "Inferencing Samples: 100%|██████████| 1/1 [00:01<00:00,  1.97s/ Batches]\n",
      "Inferencing Samples: 100%|██████████| 1/1 [00:01<00:00,  1.67s/ Batches]\n",
      "Inferencing Samples: 100%|██████████| 1/1 [00:01<00:00,  1.32s/ Batches]\n",
      "Inferencing Samples: 100%|██████████| 1/1 [00:00<00:00,  1.02 Batches/s]\n",
      "Inferencing Samples: 100%|██████████| 1/1 [00:01<00:00,  1.32s/ Batches]\n",
      "Inferencing Samples: 100%|██████████| 1/1 [00:01<00:00,  1.72s/ Batches]\n",
      "Inferencing Samples: 100%|██████████| 1/1 [00:01<00:00,  1.66s/ Batches]\n",
      "Inferencing Samples: 100%|██████████| 1/1 [00:01<00:00,  1.34s/ Batches]\n",
      "Inferencing Samples: 100%|██████████| 1/1 [00:01<00:00,  1.67s/ Batches]\n",
      "Inferencing Samples: 100%|██████████| 1/1 [00:02<00:00,  2.01s/ Batches]\n",
      "Inferencing Samples: 100%|██████████| 1/1 [00:00<00:00,  2.86 Batches/s]\n",
      "Inferencing Samples: 100%|██████████| 1/1 [00:02<00:00,  2.01s/ Batches]\n",
      "Inferencing Samples: 100%|██████████| 1/1 [00:01<00:00,  1.65s/ Batches]\n",
      "Inferencing Samples: 100%|██████████| 1/1 [00:02<00:00,  2.37s/ Batches]\n",
      "Inferencing Samples: 100%|██████████| 1/1 [00:02<00:00,  2.69s/ Batches]\n",
      "Inferencing Samples: 100%|██████████| 1/1 [00:02<00:00,  2.05s/ Batches]\n",
      "Inferencing Samples: 100%|██████████| 1/1 [00:02<00:00,  2.04s/ Batches]\n",
      "Inferencing Samples: 100%|██████████| 1/1 [00:01<00:00,  1.67s/ Batches]\n",
      "Inferencing Samples: 100%|██████████| 1/1 [00:02<00:00,  2.35s/ Batches]\n",
      "Inferencing Samples: 100%|██████████| 1/1 [00:01<00:00,  1.98s/ Batches]\n",
      "Inferencing Samples: 100%|██████████| 1/1 [00:01<00:00,  1.96s/ Batches]\n",
      "Inferencing Samples: 100%|██████████| 1/1 [00:01<00:00,  1.94s/ Batches]\n",
      "Inferencing Samples: 100%|██████████| 1/1 [00:02<00:00,  2.62s/ Batches]\n",
      "Inferencing Samples: 100%|██████████| 1/1 [00:02<00:00,  2.32s/ Batches]\n",
      "Inferencing Samples: 100%|██████████| 1/1 [00:02<00:00,  2.59s/ Batches]\n",
      "Inferencing Samples: 100%|██████████| 1/1 [00:02<00:00,  2.22s/ Batches]\n",
      "Inferencing Samples: 100%|██████████| 1/1 [00:01<00:00,  1.28s/ Batches]\n",
      "Inferencing Samples: 100%|██████████| 1/1 [00:01<00:00,  1.66s/ Batches]\n",
      "Inferencing Samples: 100%|██████████| 1/1 [00:02<00:00,  2.29s/ Batches]\n",
      "Inferencing Samples: 100%|██████████| 1/1 [00:01<00:00,  1.34s/ Batches]\n",
      "Inferencing Samples: 100%|██████████| 1/1 [00:01<00:00,  1.61s/ Batches]\n",
      "Inferencing Samples: 100%|██████████| 1/1 [00:01<00:00,  1.93s/ Batches]\n",
      "Inferencing Samples: 100%|██████████| 1/1 [00:01<00:00,  1.29s/ Batches]\n",
      "Inferencing Samples: 100%|██████████| 1/1 [00:01<00:00,  1.31s/ Batches]\n",
      "Inferencing Samples: 100%|██████████| 1/1 [00:01<00:00,  1.78s/ Batches]\n",
      "Inferencing Samples: 100%|██████████| 1/1 [00:01<00:00,  1.96s/ Batches]\n",
      "Inferencing Samples: 100%|██████████| 1/1 [00:01<00:00,  1.94s/ Batches]\n",
      "Inferencing Samples: 100%|██████████| 1/1 [00:01<00:00,  1.03s/ Batches]\n",
      "Inferencing Samples: 100%|██████████| 1/1 [00:02<00:00,  2.61s/ Batches]\n",
      "Inferencing Samples: 100%|██████████| 1/1 [00:00<00:00,  1.03 Batches/s]\n",
      "Inferencing Samples: 100%|██████████| 1/1 [00:01<00:00,  1.68s/ Batches]\n",
      "Inferencing Samples: 100%|██████████| 1/1 [00:02<00:00,  2.32s/ Batches]\n",
      "Inferencing Samples: 100%|██████████| 1/1 [00:01<00:00,  1.28s/ Batches]\n",
      "Inferencing Samples: 100%|██████████| 1/1 [00:01<00:00,  1.59s/ Batches]\n",
      "Inferencing Samples: 100%|██████████| 1/1 [00:02<00:00,  2.35s/ Batches]\n",
      "Inferencing Samples: 100%|██████████| 1/1 [00:02<00:00,  2.60s/ Batches]\n",
      "Inferencing Samples: 100%|██████████| 1/1 [00:01<00:00,  1.91s/ Batches]\n",
      "Inferencing Samples: 100%|██████████| 1/1 [00:02<00:00,  2.33s/ Batches]\n",
      "Inferencing Samples: 100%|██████████| 1/1 [00:01<00:00,  1.94s/ Batches]\n",
      "Inferencing Samples: 100%|██████████| 1/1 [00:01<00:00,  1.30s/ Batches]\n",
      "Inferencing Samples: 100%|██████████| 1/1 [00:01<00:00,  1.64s/ Batches]\n",
      "Inferencing Samples: 100%|██████████| 1/1 [00:01<00:00,  1.35s/ Batches]\n",
      "Inferencing Samples: 100%|██████████| 1/1 [00:01<00:00,  1.30s/ Batches]\n",
      "Inferencing Samples: 100%|██████████| 1/1 [00:00<00:00,  1.00 Batches/s]\n",
      "Inferencing Samples: 100%|██████████| 1/1 [00:01<00:00,  1.00s/ Batches]\n",
      "Inferencing Samples: 100%|██████████| 1/1 [00:02<00:00,  2.29s/ Batches]\n",
      "Inferencing Samples: 100%|██████████| 1/1 [00:02<00:00,  2.31s/ Batches]\n",
      "Inferencing Samples: 100%|██████████| 1/1 [00:01<00:00,  1.03s/ Batches]\n",
      "Inferencing Samples: 100%|██████████| 1/1 [00:01<00:00,  1.98s/ Batches]\n",
      "Inferencing Samples: 100%|██████████| 1/1 [00:02<00:00,  2.64s/ Batches]\n",
      "Inferencing Samples: 100%|██████████| 1/1 [00:01<00:00,  1.68s/ Batches]\n",
      "Inferencing Samples: 100%|██████████| 1/1 [00:01<00:00,  1.34s/ Batches]\n",
      "Inferencing Samples: 100%|██████████| 1/1 [00:01<00:00,  1.33s/ Batches]\n",
      "Inferencing Samples: 100%|██████████| 1/1 [00:01<00:00,  1.37s/ Batches]\n",
      "Inferencing Samples: 100%|██████████| 1/1 [00:01<00:00,  1.34s/ Batches]\n",
      "Inferencing Samples: 100%|██████████| 1/1 [00:01<00:00,  1.36s/ Batches]\n",
      "Inferencing Samples: 100%|██████████| 1/1 [00:00<00:00,  1.46 Batches/s]\n",
      "Inferencing Samples: 100%|██████████| 1/1 [00:02<00:00,  2.03s/ Batches]\n",
      "Inferencing Samples: 100%|██████████| 1/1 [00:01<00:00,  1.96s/ Batches]\n",
      "Inferencing Samples: 100%|██████████| 1/1 [00:01<00:00,  1.32s/ Batches]\n",
      "Inferencing Samples: 100%|██████████| 1/1 [00:01<00:00,  1.63s/ Batches]\n",
      "Inferencing Samples: 100%|██████████| 1/1 [00:00<00:00,  1.50 Batches/s]\n",
      "Inferencing Samples: 100%|██████████| 1/1 [00:02<00:00,  2.61s/ Batches]\n",
      "Inferencing Samples: 100%|██████████| 1/1 [00:01<00:00,  2.00s/ Batches]\n",
      "Inferencing Samples: 100%|██████████| 1/1 [00:01<00:00,  1.83s/ Batches]\n",
      "Inferencing Samples: 100%|██████████| 1/1 [00:01<00:00,  1.04s/ Batches]\n",
      "Inferencing Samples: 100%|██████████| 1/1 [00:00<00:00,  1.52 Batches/s]\n",
      "Inferencing Samples: 100%|██████████| 1/1 [00:00<00:00,  1.01 Batches/s]\n",
      "Inferencing Samples: 100%|██████████| 1/1 [00:01<00:00,  1.31s/ Batches]\n",
      "Inferencing Samples: 100%|██████████| 1/1 [00:01<00:00,  1.64s/ Batches]\n",
      "Inferencing Samples: 100%|██████████| 1/1 [00:02<00:00,  2.31s/ Batches]\n",
      "Inferencing Samples: 100%|██████████| 1/1 [00:01<00:00,  1.40s/ Batches]\n",
      "Inferencing Samples: 100%|██████████| 1/1 [00:01<00:00,  1.29s/ Batches]\n",
      "Inferencing Samples: 100%|██████████| 1/1 [00:01<00:00,  1.65s/ Batches]\n",
      "Inferencing Samples: 100%|██████████| 1/1 [00:01<00:00,  1.72s/ Batches]\n",
      "Inferencing Samples: 100%|██████████| 1/1 [00:01<00:00,  2.00s/ Batches]\n",
      "Inferencing Samples: 100%|██████████| 1/1 [00:02<00:00,  2.35s/ Batches]\n",
      "Inferencing Samples: 100%|██████████| 1/1 [00:02<00:00,  2.32s/ Batches]\n",
      "Inferencing Samples: 100%|██████████| 1/1 [00:01<00:00,  1.99s/ Batches]\n",
      "Inferencing Samples: 100%|██████████| 1/1 [00:01<00:00,  1.64s/ Batches]\n",
      "Inferencing Samples: 100%|██████████| 1/1 [00:01<00:00,  1.98s/ Batches]\n",
      "Inferencing Samples: 100%|██████████| 1/1 [00:02<00:00,  2.35s/ Batches]\n",
      "Inferencing Samples: 100%|██████████| 1/1 [00:01<00:00,  1.34s/ Batches]\n",
      "Inferencing Samples: 100%|██████████| 1/1 [00:01<00:00,  1.68s/ Batches]\n",
      "Inferencing Samples: 100%|██████████| 1/1 [00:01<00:00,  1.67s/ Batches]\n",
      "Inferencing Samples: 100%|██████████| 1/1 [00:02<00:00,  2.01s/ Batches]\n",
      "Inferencing Samples: 100%|██████████| 1/1 [00:01<00:00,  1.36s/ Batches]\n",
      "Inferencing Samples: 100%|██████████| 1/1 [00:02<00:00,  2.07s/ Batches]\n",
      "Inferencing Samples: 100%|██████████| 1/1 [00:01<00:00,  1.69s/ Batches]\n",
      "Inferencing Samples: 100%|██████████| 1/1 [00:01<00:00,  1.70s/ Batches]\n",
      "Inferencing Samples: 100%|██████████| 1/1 [00:01<00:00,  1.01s/ Batches]\n",
      "Inferencing Samples: 100%|██████████| 1/1 [00:01<00:00,  1.36s/ Batches]\n",
      "Inferencing Samples: 100%|██████████| 1/1 [00:01<00:00,  1.04s/ Batches]\n",
      "Inferencing Samples: 100%|██████████| 1/1 [00:01<00:00,  1.71s/ Batches]\n",
      "Inferencing Samples: 100%|██████████| 1/1 [00:01<00:00,  1.71s/ Batches]\n",
      "Inferencing Samples: 100%|██████████| 1/1 [00:01<00:00,  1.38s/ Batches]\n",
      "Inferencing Samples: 100%|██████████| 1/1 [00:02<00:00,  2.06s/ Batches]\n",
      "Inferencing Samples: 100%|██████████| 1/1 [00:01<00:00,  1.06s/ Batches]\n",
      "Inferencing Samples: 100%|██████████| 1/1 [00:01<00:00,  1.78s/ Batches]\n",
      "Inferencing Samples: 100%|██████████| 1/1 [00:00<00:00,  1.39 Batches/s]\n",
      "Inferencing Samples: 100%|██████████| 1/1 [00:05<00:00,  5.90s/ Batches]\n",
      "Inferencing Samples: 100%|██████████| 1/1 [00:01<00:00,  1.01s/ Batches]\n",
      "Inferencing Samples: 100%|██████████| 1/1 [00:01<00:00,  1.69s/ Batches]\n",
      "Inferencing Samples: 100%|██████████| 1/1 [00:01<00:00,  1.05s/ Batches]\n",
      "Inferencing Samples: 100%|██████████| 1/1 [00:02<00:00,  2.08s/ Batches]\n",
      "Inferencing Samples: 100%|██████████| 1/1 [00:01<00:00,  1.38s/ Batches]\n",
      "Inferencing Samples: 100%|██████████| 1/1 [00:01<00:00,  1.71s/ Batches]\n",
      "Inferencing Samples: 100%|██████████| 1/1 [00:02<00:00,  2.54s/ Batches]\n",
      "Inferencing Samples: 100%|██████████| 1/1 [00:02<00:00,  2.35s/ Batches]\n",
      "Inferencing Samples: 100%|██████████| 1/1 [00:01<00:00,  1.48s/ Batches]\n",
      "Inferencing Samples: 100%|██████████| 1/1 [00:02<00:00,  2.06s/ Batches]\n",
      "Inferencing Samples: 100%|██████████| 1/1 [00:01<00:00,  1.72s/ Batches]\n",
      "Inferencing Samples: 100%|██████████| 1/1 [00:01<00:00,  1.75s/ Batches]\n",
      "Inferencing Samples: 100%|██████████| 1/1 [00:01<00:00,  1.33s/ Batches]\n",
      "Inferencing Samples: 100%|██████████| 1/1 [00:02<00:00,  2.01s/ Batches]\n",
      "Inferencing Samples: 100%|██████████| 1/1 [00:02<00:00,  2.00s/ Batches]\n",
      "Inferencing Samples: 100%|██████████| 1/1 [00:01<00:00,  1.69s/ Batches]\n",
      "Inferencing Samples: 100%|██████████| 1/1 [00:00<00:00,  1.44 Batches/s]\n",
      "Inferencing Samples: 100%|██████████| 1/1 [00:01<00:00,  1.35s/ Batches]\n",
      "Inferencing Samples: 100%|██████████| 1/1 [00:01<00:00,  1.70s/ Batches]\n",
      "Inferencing Samples: 100%|██████████| 1/1 [00:01<00:00,  1.70s/ Batches]\n",
      "Inferencing Samples: 100%|██████████| 1/1 [00:02<00:00,  2.41s/ Batches]\n",
      "Inferencing Samples: 100%|██████████| 1/1 [00:02<00:00,  2.41s/ Batches]\n",
      "Inferencing Samples: 100%|██████████| 1/1 [00:02<00:00,  2.03s/ Batches]\n",
      "Inferencing Samples: 100%|██████████| 1/1 [00:01<00:00,  1.68s/ Batches]\n",
      "Inferencing Samples: 100%|██████████| 1/1 [00:02<00:00,  2.36s/ Batches]\n",
      "Inferencing Samples: 100%|██████████| 1/1 [00:01<00:00,  1.03s/ Batches]\n",
      "Inferencing Samples: 100%|██████████| 1/1 [00:01<00:00,  1.71s/ Batches]\n",
      "Inferencing Samples: 100%|██████████| 1/1 [00:02<00:00,  2.79s/ Batches]\n",
      "Inferencing Samples: 100%|██████████| 1/1 [00:01<00:00,  1.66s/ Batches]\n",
      "Inferencing Samples: 100%|██████████| 1/1 [00:01<00:00,  1.34s/ Batches]\n",
      "Inferencing Samples: 100%|██████████| 1/1 [00:02<00:00,  2.34s/ Batches]\n",
      "Inferencing Samples: 100%|██████████| 1/1 [00:01<00:00,  1.68s/ Batches]\n",
      "Inferencing Samples: 100%|██████████| 1/1 [00:01<00:00,  1.35s/ Batches]\n",
      "Inferencing Samples: 100%|██████████| 1/1 [00:02<00:00,  2.40s/ Batches]\n",
      "Inferencing Samples: 100%|██████████| 1/1 [00:02<00:00,  2.38s/ Batches]\n",
      "Inferencing Samples: 100%|██████████| 1/1 [00:02<00:00,  2.74s/ Batches]\n",
      "Inferencing Samples: 100%|██████████| 1/1 [00:01<00:00,  1.38s/ Batches]\n",
      "Inferencing Samples: 100%|██████████| 1/1 [00:01<00:00,  1.02s/ Batches]\n",
      "Inferencing Samples: 100%|██████████| 1/1 [00:02<00:00,  2.38s/ Batches]\n",
      "Inferencing Samples: 100%|██████████| 1/1 [00:02<00:00,  2.06s/ Batches]\n",
      "Inferencing Samples: 100%|██████████| 1/1 [00:01<00:00,  1.68s/ Batches]\n",
      "Inferencing Samples: 100%|██████████| 1/1 [00:01<00:00,  1.35s/ Batches]\n",
      "Inferencing Samples: 100%|██████████| 1/1 [00:02<00:00,  2.32s/ Batches]\n",
      "Inferencing Samples: 100%|██████████| 1/1 [00:02<00:00,  2.04s/ Batches]\n",
      "Inferencing Samples: 100%|██████████| 1/1 [00:02<00:00,  2.04s/ Batches]\n",
      "Inferencing Samples: 100%|██████████| 1/1 [00:01<00:00,  1.67s/ Batches]\n",
      "Inferencing Samples: 100%|██████████| 1/1 [00:02<00:00,  2.02s/ Batches]\n",
      "Inferencing Samples: 100%|██████████| 1/1 [00:02<00:00,  2.02s/ Batches]\n",
      "Inferencing Samples: 100%|██████████| 1/1 [00:01<00:00,  1.34s/ Batches]\n",
      "Inferencing Samples: 100%|██████████| 1/1 [00:01<00:00,  1.37s/ Batches]\n",
      "Inferencing Samples: 100%|██████████| 1/1 [00:01<00:00,  1.68s/ Batches]\n",
      "Inferencing Samples: 100%|██████████| 1/1 [00:02<00:00,  2.34s/ Batches]\n",
      "Inferencing Samples: 100%|██████████| 1/1 [00:01<00:00,  1.74s/ Batches]\n",
      "Inferencing Samples: 100%|██████████| 1/1 [00:01<00:00,  1.03s/ Batches]\n",
      "Inferencing Samples: 100%|██████████| 1/1 [00:01<00:00,  1.36s/ Batches]\n",
      "Inferencing Samples: 100%|██████████| 1/1 [00:01<00:00,  1.72s/ Batches]\n",
      "Inferencing Samples: 100%|██████████| 1/1 [00:02<00:00,  2.72s/ Batches]\n",
      "Inferencing Samples: 100%|██████████| 1/1 [00:02<00:00,  2.41s/ Batches]\n",
      "Inferencing Samples: 100%|██████████| 1/1 [00:01<00:00,  1.37s/ Batches]\n",
      "Inferencing Samples: 100%|██████████| 1/1 [00:01<00:00,  1.36s/ Batches]\n",
      "Inferencing Samples: 100%|██████████| 1/1 [00:02<00:00,  2.41s/ Batches]\n",
      "Inferencing Samples: 100%|██████████| 1/1 [00:01<00:00,  1.35s/ Batches]\n",
      "Inferencing Samples: 100%|██████████| 1/1 [00:01<00:00,  1.68s/ Batches]\n",
      "Inferencing Samples: 100%|██████████| 1/1 [00:02<00:00,  2.72s/ Batches]\n",
      "Inferencing Samples: 100%|██████████| 1/1 [00:01<00:00,  1.37s/ Batches]\n",
      "Inferencing Samples: 100%|██████████| 1/1 [00:02<00:00,  2.71s/ Batches]\n",
      "Inferencing Samples: 100%|██████████| 1/1 [00:02<00:00,  2.04s/ Batches]\n",
      "Inferencing Samples: 100%|██████████| 1/1 [00:01<00:00,  1.70s/ Batches]\n",
      "Inferencing Samples: 100%|██████████| 1/1 [00:01<00:00,  1.68s/ Batches]\n",
      "Inferencing Samples: 100%|██████████| 1/1 [00:02<00:00,  2.42s/ Batches]\n",
      "Inferencing Samples: 100%|██████████| 1/1 [00:01<00:00,  1.42s/ Batches]\n",
      "Inferencing Samples: 100%|██████████| 1/1 [00:02<00:00,  2.06s/ Batches]\n",
      "Inferencing Samples: 100%|██████████| 1/1 [00:01<00:00,  1.34s/ Batches]\n",
      "Inferencing Samples: 100%|██████████| 1/1 [00:01<00:00,  1.68s/ Batches]\n",
      "Inferencing Samples: 100%|██████████| 1/1 [00:01<00:00,  1.75s/ Batches]\n",
      "Inferencing Samples: 100%|██████████| 1/1 [00:01<00:00,  1.68s/ Batches]\n",
      "Inferencing Samples: 100%|██████████| 1/1 [00:01<00:00,  1.02s/ Batches]\n",
      "Inferencing Samples: 100%|██████████| 1/1 [00:01<00:00,  1.06s/ Batches]\n",
      "Inferencing Samples: 100%|██████████| 1/1 [00:01<00:00,  1.35s/ Batches]\n",
      "Inferencing Samples: 100%|██████████| 1/1 [00:01<00:00,  1.68s/ Batches]\n",
      "Inferencing Samples: 100%|██████████| 1/1 [00:01<00:00,  1.67s/ Batches]\n",
      "Inferencing Samples: 100%|██████████| 1/1 [00:02<00:00,  2.00s/ Batches]\n",
      "Inferencing Samples: 100%|██████████| 1/1 [00:03<00:00,  3.07s/ Batches]\n",
      "Inferencing Samples: 100%|██████████| 1/1 [00:01<00:00,  1.38s/ Batches]\n",
      "Inferencing Samples: 100%|██████████| 1/1 [00:01<00:00,  1.67s/ Batches]\n",
      "Inferencing Samples: 100%|██████████| 1/1 [00:02<00:00,  2.31s/ Batches]\n",
      "Inferencing Samples: 100%|██████████| 1/1 [00:01<00:00,  1.68s/ Batches]\n",
      "Inferencing Samples: 100%|██████████| 1/1 [00:01<00:00,  1.99s/ Batches]\n",
      "Inferencing Samples: 100%|██████████| 1/1 [00:01<00:00,  2.00s/ Batches]\n",
      "Inferencing Samples: 100%|██████████| 1/1 [00:01<00:00,  1.71s/ Batches]\n",
      "Inferencing Samples: 100%|██████████| 1/1 [00:02<00:00,  2.01s/ Batches]\n",
      "Inferencing Samples: 100%|██████████| 1/1 [00:02<00:00,  2.36s/ Batches]\n",
      "Inferencing Samples: 100%|██████████| 1/1 [00:02<00:00,  2.34s/ Batches]\n",
      "Inferencing Samples: 100%|██████████| 1/1 [00:01<00:00,  1.40s/ Batches]\n",
      "Inferencing Samples: 100%|██████████| 1/1 [00:02<00:00,  2.37s/ Batches]\n",
      "Inferencing Samples: 100%|██████████| 1/1 [00:01<00:00,  1.69s/ Batches]\n",
      "Inferencing Samples: 100%|██████████| 1/1 [00:01<00:00,  1.38s/ Batches]\n",
      "Inferencing Samples: 100%|██████████| 1/1 [00:01<00:00,  1.33s/ Batches]\n",
      "Inferencing Samples: 100%|██████████| 1/1 [00:02<00:00,  2.01s/ Batches]\n",
      "Inferencing Samples: 100%|██████████| 1/1 [00:00<00:00,  1.43 Batches/s]\n",
      "Inferencing Samples: 100%|██████████| 1/1 [00:02<00:00,  2.02s/ Batches]\n",
      "Inferencing Samples: 100%|██████████| 1/1 [00:01<00:00,  1.71s/ Batches]\n",
      "Inferencing Samples: 100%|██████████| 1/1 [00:02<00:00,  2.98s/ Batches]\n",
      "Inferencing Samples: 100%|██████████| 1/1 [00:02<00:00,  2.05s/ Batches]\n",
      "Inferencing Samples: 100%|██████████| 1/1 [00:02<00:00,  2.43s/ Batches]\n",
      "Inferencing Samples: 100%|██████████| 1/1 [00:01<00:00,  1.38s/ Batches]\n",
      "Inferencing Samples: 100%|██████████| 1/1 [00:01<00:00,  1.01s/ Batches]\n",
      "Inferencing Samples: 100%|██████████| 1/1 [00:02<00:00,  2.35s/ Batches]\n",
      "Inferencing Samples: 100%|██████████| 1/1 [00:02<00:00,  2.37s/ Batches]\n",
      "Inferencing Samples: 100%|██████████| 1/1 [00:01<00:00,  1.01s/ Batches]\n",
      "Inferencing Samples: 100%|██████████| 1/1 [00:01<00:00,  1.99s/ Batches]\n",
      "Inferencing Samples: 100%|██████████| 1/1 [00:01<00:00,  1.32s/ Batches]\n",
      "Inferencing Samples: 100%|██████████| 1/1 [00:02<00:00,  2.35s/ Batches]\n",
      "Inferencing Samples: 100%|██████████| 1/1 [00:02<00:00,  2.72s/ Batches]\n",
      "Inferencing Samples: 100%|██████████| 1/1 [00:03<00:00,  3.05s/ Batches]\n",
      "Inferencing Samples: 100%|██████████| 1/1 [00:02<00:00,  2.07s/ Batches]\n",
      "Inferencing Samples: 100%|██████████| 1/1 [00:02<00:00,  2.34s/ Batches]\n",
      "Inferencing Samples: 100%|██████████| 1/1 [00:01<00:00,  1.67s/ Batches]\n",
      "Inferencing Samples: 100%|██████████| 1/1 [00:01<00:00,  1.39s/ Batches]\n",
      "Inferencing Samples: 100%|██████████| 1/1 [00:02<00:00,  2.08s/ Batches]\n",
      "Inferencing Samples: 100%|██████████| 1/1 [00:02<00:00,  2.05s/ Batches]\n",
      "Inferencing Samples: 100%|██████████| 1/1 [00:02<00:00,  2.37s/ Batches]\n",
      "Inferencing Samples: 100%|██████████| 1/1 [00:02<00:00,  2.33s/ Batches]\n",
      "Inferencing Samples: 100%|██████████| 1/1 [00:01<00:00,  1.41s/ Batches]\n",
      "Inferencing Samples: 100%|██████████| 1/1 [00:01<00:00,  1.36s/ Batches]\n",
      "Inferencing Samples: 100%|██████████| 1/1 [00:02<00:00,  2.07s/ Batches]\n",
      "Inferencing Samples: 100%|██████████| 1/1 [00:02<00:00,  2.00s/ Batches]\n",
      "Inferencing Samples: 100%|██████████| 1/1 [00:01<00:00,  1.81s/ Batches]\n",
      "Inferencing Samples: 100%|██████████| 1/1 [00:01<00:00,  1.71s/ Batches]\n",
      "Inferencing Samples: 100%|██████████| 1/1 [00:02<00:00,  2.05s/ Batches]\n",
      "Inferencing Samples: 100%|██████████| 1/1 [00:02<00:00,  2.34s/ Batches]\n",
      "Inferencing Samples: 100%|██████████| 1/1 [00:01<00:00,  1.70s/ Batches]\n",
      "Inferencing Samples: 100%|██████████| 1/1 [00:01<00:00,  1.36s/ Batches]\n",
      "Inferencing Samples: 100%|██████████| 1/1 [00:02<00:00,  2.01s/ Batches]\n",
      "Inferencing Samples: 100%|██████████| 1/1 [00:01<00:00,  1.06s/ Batches]\n",
      "Inferencing Samples: 100%|██████████| 1/1 [00:01<00:00,  1.44s/ Batches]\n",
      "Inferencing Samples: 100%|██████████| 1/1 [00:02<00:00,  2.34s/ Batches]\n",
      "Inferencing Samples: 100%|██████████| 1/1 [00:01<00:00,  1.83s/ Batches]\n",
      "Inferencing Samples: 100%|██████████| 1/1 [00:04<00:00,  4.86s/ Batches]\n",
      "Inferencing Samples: 100%|██████████| 1/1 [00:01<00:00,  1.47s/ Batches]\n",
      "Inferencing Samples: 100%|██████████| 1/1 [00:01<00:00,  1.02s/ Batches]\n",
      "Inferencing Samples: 100%|██████████| 1/1 [00:01<00:00,  1.38s/ Batches]\n",
      "Inferencing Samples: 100%|██████████| 1/1 [00:01<00:00,  1.33s/ Batches]\n",
      "Inferencing Samples: 100%|██████████| 1/1 [00:01<00:00,  1.99s/ Batches]\n",
      "Inferencing Samples: 100%|██████████| 1/1 [00:02<00:00,  2.04s/ Batches]\n",
      "Inferencing Samples: 100%|██████████| 1/1 [00:00<00:00,  1.39 Batches/s]\n",
      "Inferencing Samples: 100%|██████████| 1/1 [00:02<00:00,  2.04s/ Batches]\n",
      "Inferencing Samples: 100%|██████████| 1/1 [00:01<00:00,  1.68s/ Batches]\n",
      "Inferencing Samples: 100%|██████████| 1/1 [00:00<00:00,  1.46 Batches/s]\n",
      "Inferencing Samples: 100%|██████████| 2/2 [00:32<00:00, 16.49s/ Batches]\n",
      "Inferencing Samples: 100%|██████████| 1/1 [00:06<00:00,  6.80s/ Batches]\n",
      "Inferencing Samples: 100%|██████████| 1/1 [00:00<00:00,  1.47 Batches/s]\n",
      "Inferencing Samples: 100%|██████████| 6/6 [01:34<00:00, 15.81s/ Batches]\n",
      "Inferencing Samples: 100%|██████████| 6/6 [01:37<00:00, 16.23s/ Batches]\n",
      "Inferencing Samples: 100%|██████████| 1/1 [00:02<00:00,  2.70s/ Batches]\n",
      "Inferencing Samples: 100%|██████████| 1/1 [00:02<00:00,  2.02s/ Batches]\n",
      "Inferencing Samples: 100%|██████████| 1/1 [00:01<00:00,  1.76s/ Batches]\n",
      "Inferencing Samples: 100%|██████████| 1/1 [00:01<00:00,  1.04s/ Batches]\n",
      "Inferencing Samples: 100%|██████████| 1/1 [00:01<00:00,  1.68s/ Batches]\n",
      "Inferencing Samples: 100%|██████████| 1/1 [00:01<00:00,  1.67s/ Batches]\n",
      "Inferencing Samples: 100%|██████████| 1/1 [00:02<00:00,  2.07s/ Batches]\n",
      "Inferencing Samples: 100%|██████████| 1/1 [00:02<00:00,  2.03s/ Batches]\n",
      "Inferencing Samples: 100%|██████████| 1/1 [00:02<00:00,  2.01s/ Batches]\n",
      "Inferencing Samples: 100%|██████████| 1/1 [00:02<00:00,  2.01s/ Batches]\n",
      "Inferencing Samples: 100%|██████████| 1/1 [00:02<00:00,  2.07s/ Batches]\n",
      "Inferencing Samples: 100%|██████████| 1/1 [00:01<00:00,  1.69s/ Batches]\n",
      "Inferencing Samples: 100%|██████████| 1/1 [00:01<00:00,  1.69s/ Batches]\n",
      "Inferencing Samples: 100%|██████████| 1/1 [00:02<00:00,  2.38s/ Batches]\n",
      "Inferencing Samples: 100%|██████████| 1/1 [00:01<00:00,  1.02s/ Batches]\n",
      "Inferencing Samples: 100%|██████████| 1/1 [00:01<00:00,  1.35s/ Batches]\n",
      "Inferencing Samples: 100%|██████████| 1/1 [00:01<00:00,  1.34s/ Batches]\n",
      "Inferencing Samples: 100%|██████████| 1/1 [00:02<00:00,  2.07s/ Batches]\n",
      "Inferencing Samples: 100%|██████████| 1/1 [00:02<00:00,  2.75s/ Batches]\n",
      "Inferencing Samples: 100%|██████████| 1/1 [00:01<00:00,  1.72s/ Batches]\n",
      "Inferencing Samples: 100%|██████████| 1/1 [00:01<00:00,  1.71s/ Batches]\n",
      "Inferencing Samples: 100%|██████████| 1/1 [00:01<00:00,  1.66s/ Batches]\n",
      "Inferencing Samples: 100%|██████████| 1/1 [00:02<00:00,  2.38s/ Batches]\n",
      "Inferencing Samples: 100%|██████████| 1/1 [00:00<00:00,  2.76 Batches/s]\n",
      "Inferencing Samples: 100%|██████████| 1/1 [00:01<00:00,  1.76s/ Batches]\n",
      "Inferencing Samples: 100%|██████████| 1/1 [00:01<00:00,  1.41s/ Batches]\n",
      "Inferencing Samples: 100%|██████████| 1/1 [00:02<00:00,  2.03s/ Batches]\n",
      "Inferencing Samples: 100%|██████████| 1/1 [00:02<00:00,  2.39s/ Batches]\n",
      "Inferencing Samples: 100%|██████████| 1/1 [00:00<00:00,  1.43 Batches/s]\n",
      "Inferencing Samples: 100%|██████████| 1/1 [00:04<00:00,  4.99s/ Batches]\n",
      "Inferencing Samples: 100%|██████████| 1/1 [00:02<00:00,  2.79s/ Batches]\n",
      "Inferencing Samples: 100%|██████████| 1/1 [00:01<00:00,  1.36s/ Batches]\n",
      "Inferencing Samples: 100%|██████████| 1/1 [00:02<00:00,  2.05s/ Batches]\n",
      "Inferencing Samples: 100%|██████████| 1/1 [00:01<00:00,  2.00s/ Batches]\n",
      "Inferencing Samples: 100%|██████████| 1/1 [00:02<00:00,  2.00s/ Batches]\n",
      "Inferencing Samples: 100%|██████████| 1/1 [00:01<00:00,  1.75s/ Batches]\n",
      "Inferencing Samples: 100%|██████████| 1/1 [00:01<00:00,  1.69s/ Batches]\n",
      "Inferencing Samples: 100%|██████████| 1/1 [00:02<00:00,  2.06s/ Batches]\n",
      "Inferencing Samples: 100%|██████████| 1/1 [00:01<00:00,  1.41s/ Batches]\n",
      "Inferencing Samples: 100%|██████████| 1/1 [00:02<00:00,  2.09s/ Batches]\n",
      "Inferencing Samples: 100%|██████████| 1/1 [00:01<00:00,  1.69s/ Batches]\n",
      "Inferencing Samples: 100%|██████████| 1/1 [00:01<00:00,  1.43s/ Batches]\n",
      "Inferencing Samples: 100%|██████████| 1/1 [00:02<00:00,  2.09s/ Batches]\n",
      "Inferencing Samples: 100%|██████████| 1/1 [00:02<00:00,  2.13s/ Batches]\n",
      "Inferencing Samples: 100%|██████████| 1/1 [00:01<00:00,  1.67s/ Batches]\n",
      "Inferencing Samples: 100%|██████████| 1/1 [00:01<00:00,  1.40s/ Batches]\n",
      "Inferencing Samples: 100%|██████████| 1/1 [00:01<00:00,  1.36s/ Batches]\n",
      "Inferencing Samples: 100%|██████████| 1/1 [00:01<00:00,  1.73s/ Batches]\n",
      "Inferencing Samples: 100%|██████████| 1/1 [00:01<00:00,  1.38s/ Batches]\n",
      "Inferencing Samples: 100%|██████████| 1/1 [00:01<00:00,  1.38s/ Batches]\n",
      "Inferencing Samples: 100%|██████████| 1/1 [00:02<00:00,  2.55s/ Batches]\n",
      "Inferencing Samples: 100%|██████████| 1/1 [00:01<00:00,  1.73s/ Batches]\n",
      "Inferencing Samples: 100%|██████████| 1/1 [00:02<00:00,  2.46s/ Batches]\n",
      "Inferencing Samples: 100%|██████████| 1/1 [00:01<00:00,  1.76s/ Batches]\n",
      "Inferencing Samples: 100%|██████████| 1/1 [00:01<00:00,  1.79s/ Batches]\n",
      "Inferencing Samples: 100%|██████████| 1/1 [00:01<00:00,  1.05s/ Batches]\n",
      "Inferencing Samples: 100%|██████████| 1/1 [00:01<00:00,  1.74s/ Batches]\n",
      "Inferencing Samples: 100%|██████████| 1/1 [00:03<00:00,  3.14s/ Batches]\n",
      "Inferencing Samples: 100%|██████████| 1/1 [00:01<00:00,  1.40s/ Batches]\n",
      "Inferencing Samples: 100%|██████████| 1/1 [00:00<00:00,  1.43 Batches/s]\n",
      "Inferencing Samples: 100%|██████████| 1/1 [00:01<00:00,  1.82s/ Batches]\n",
      "Inferencing Samples: 100%|██████████| 1/1 [00:02<00:00,  2.07s/ Batches]\n",
      "Inferencing Samples: 100%|██████████| 1/1 [00:02<00:00,  2.46s/ Batches]\n",
      "Inferencing Samples: 100%|██████████| 1/1 [00:00<00:00,  1.40 Batches/s]\n",
      "Inferencing Samples: 100%|██████████| 1/1 [00:02<00:00,  2.15s/ Batches]\n",
      "Inferencing Samples: 100%|██████████| 1/1 [00:02<00:00,  2.62s/ Batches]\n",
      "Inferencing Samples: 100%|██████████| 1/1 [00:02<00:00,  2.88s/ Batches]\n",
      "Inferencing Samples: 100%|██████████| 1/1 [00:01<00:00,  1.47s/ Batches]\n",
      "Inferencing Samples: 100%|██████████| 1/1 [00:02<00:00,  2.52s/ Batches]\n",
      "Inferencing Samples: 100%|██████████| 1/1 [00:02<00:00,  2.09s/ Batches]\n",
      "Inferencing Samples: 100%|██████████| 1/1 [00:01<00:00,  1.43s/ Batches]\n",
      "Inferencing Samples: 100%|██████████| 1/1 [00:01<00:00,  1.39s/ Batches]\n",
      "Inferencing Samples: 100%|██████████| 1/1 [00:02<00:00,  2.43s/ Batches]\n",
      "Inferencing Samples: 100%|██████████| 1/1 [00:00<00:00,  2.79 Batches/s]\n",
      "Inferencing Samples: 100%|██████████| 1/1 [00:05<00:00,  5.57s/ Batches]\n",
      "Inferencing Samples: 100%|██████████| 1/1 [00:01<00:00,  1.68s/ Batches]\n",
      "Inferencing Samples: 100%|██████████| 1/1 [00:01<00:00,  1.35s/ Batches]\n",
      "Inferencing Samples: 100%|██████████| 1/1 [00:02<00:00,  2.35s/ Batches]\n",
      "Inferencing Samples: 100%|██████████| 1/1 [00:01<00:00,  1.82s/ Batches]\n",
      "Inferencing Samples: 100%|██████████| 1/1 [00:02<00:00,  2.42s/ Batches]\n",
      "Inferencing Samples: 100%|██████████| 1/1 [00:01<00:00,  1.36s/ Batches]\n",
      "Inferencing Samples: 100%|██████████| 1/1 [00:01<00:00,  1.68s/ Batches]\n",
      "Inferencing Samples: 100%|██████████| 1/1 [00:01<00:00,  1.68s/ Batches]\n",
      "Inferencing Samples: 100%|██████████| 1/1 [00:02<00:00,  2.35s/ Batches]\n",
      "Inferencing Samples: 100%|██████████| 1/1 [00:02<00:00,  2.10s/ Batches]\n",
      "Inferencing Samples: 100%|██████████| 1/1 [00:02<00:00,  2.16s/ Batches]\n",
      "Inferencing Samples: 100%|██████████| 1/1 [00:01<00:00,  1.46s/ Batches]\n",
      "Inferencing Samples: 100%|██████████| 1/1 [00:01<00:00,  1.77s/ Batches]\n",
      "Inferencing Samples: 100%|██████████| 1/1 [00:02<00:00,  2.54s/ Batches]\n",
      "Inferencing Samples: 100%|██████████| 1/1 [00:03<00:00,  3.10s/ Batches]\n",
      "Inferencing Samples: 100%|██████████| 1/1 [00:01<00:00,  1.45s/ Batches]\n",
      "Inferencing Samples: 100%|██████████| 1/1 [00:01<00:00,  1.80s/ Batches]\n",
      "Inferencing Samples: 100%|██████████| 1/1 [00:01<00:00,  1.45s/ Batches]\n",
      "Inferencing Samples: 100%|██████████| 1/1 [00:02<00:00,  2.12s/ Batches]\n",
      "Inferencing Samples: 100%|██████████| 1/1 [00:02<00:00,  2.52s/ Batches]\n",
      "Inferencing Samples: 100%|██████████| 1/1 [00:01<00:00,  1.09s/ Batches]\n",
      "Inferencing Samples: 100%|██████████| 1/1 [00:01<00:00,  1.41s/ Batches]\n",
      "Inferencing Samples: 100%|██████████| 1/1 [00:01<00:00,  1.09s/ Batches]\n",
      "Inferencing Samples: 100%|██████████| 1/1 [00:01<00:00,  1.39s/ Batches]\n",
      "Inferencing Samples: 100%|██████████| 1/1 [00:01<00:00,  1.41s/ Batches]\n",
      "Inferencing Samples: 100%|██████████| 1/1 [00:00<00:00,  1.20 Batches/s]\n",
      "Inferencing Samples: 100%|██████████| 1/1 [00:01<00:00,  1.76s/ Batches]\n",
      "Inferencing Samples: 100%|██████████| 1/1 [00:02<00:00,  2.10s/ Batches]\n",
      "Inferencing Samples: 100%|██████████| 1/1 [00:02<00:00,  2.07s/ Batches]\n",
      "Inferencing Samples: 100%|██████████| 1/1 [00:01<00:00,  1.05s/ Batches]\n",
      "Inferencing Samples: 100%|██████████| 1/1 [00:01<00:00,  1.73s/ Batches]\n",
      "Inferencing Samples: 100%|██████████| 1/1 [00:01<00:00,  1.73s/ Batches]\n",
      "Inferencing Samples: 100%|██████████| 1/1 [00:02<00:00,  2.08s/ Batches]\n",
      "Inferencing Samples: 100%|██████████| 1/1 [00:02<00:00,  2.83s/ Batches]\n",
      "Inferencing Samples: 100%|██████████| 1/1 [00:01<00:00,  1.41s/ Batches]\n",
      "Inferencing Samples: 100%|██████████| 1/1 [00:01<00:00,  1.38s/ Batches]\n",
      "Inferencing Samples: 100%|██████████| 1/1 [00:02<00:00,  2.07s/ Batches]\n",
      "Inferencing Samples: 100%|██████████| 1/1 [00:02<00:00,  2.09s/ Batches]\n",
      "Inferencing Samples: 100%|██████████| 1/1 [00:00<00:00,  1.40 Batches/s]\n",
      "Inferencing Samples: 100%|██████████| 1/1 [00:01<00:00,  1.72s/ Batches]\n",
      "Inferencing Samples: 100%|██████████| 1/1 [00:01<00:00,  1.04s/ Batches]\n",
      "Inferencing Samples: 100%|██████████| 1/1 [00:02<00:00,  2.13s/ Batches]\n",
      "Inferencing Samples: 100%|██████████| 1/1 [00:01<00:00,  1.72s/ Batches]\n",
      "Inferencing Samples: 100%|██████████| 1/1 [00:01<00:00,  1.69s/ Batches]\n",
      "Inferencing Samples: 100%|██████████| 1/1 [00:03<00:00,  3.40s/ Batches]\n",
      "Inferencing Samples: 100%|██████████| 1/1 [00:01<00:00,  1.70s/ Batches]\n",
      "Inferencing Samples: 100%|██████████| 1/1 [00:01<00:00,  1.35s/ Batches]\n",
      "Inferencing Samples: 100%|██████████| 1/1 [00:01<00:00,  1.02s/ Batches]\n",
      "Inferencing Samples: 100%|██████████| 1/1 [00:01<00:00,  1.74s/ Batches]\n",
      "Inferencing Samples: 100%|██████████| 1/1 [00:02<00:00,  2.39s/ Batches]\n",
      "Inferencing Samples: 100%|██████████| 1/1 [00:01<00:00,  1.34s/ Batches]\n",
      "Inferencing Samples: 100%|██████████| 1/1 [00:01<00:00,  1.69s/ Batches]\n",
      "Inferencing Samples: 100%|██████████| 1/1 [00:02<00:00,  2.16s/ Batches]\n",
      "Inferencing Samples: 100%|██████████| 1/1 [00:00<00:00,  1.00 Batches/s]\n",
      "Inferencing Samples: 100%|██████████| 1/1 [00:01<00:00,  1.37s/ Batches]\n",
      "Inferencing Samples: 100%|██████████| 1/1 [00:02<00:00,  2.03s/ Batches]\n",
      "Inferencing Samples: 100%|██████████| 1/1 [00:01<00:00,  1.36s/ Batches]\n",
      "Inferencing Samples: 100%|██████████| 1/1 [00:01<00:00,  1.69s/ Batches]\n",
      "Inferencing Samples: 100%|██████████| 1/1 [00:01<00:00,  1.71s/ Batches]\n",
      "Inferencing Samples: 100%|██████████| 1/1 [00:01<00:00,  1.37s/ Batches]\n",
      "Inferencing Samples: 100%|██████████| 1/1 [00:01<00:00,  1.74s/ Batches]\n",
      "Inferencing Samples: 100%|██████████| 1/1 [00:01<00:00,  1.74s/ Batches]\n",
      "Inferencing Samples: 100%|██████████| 1/1 [00:01<00:00,  1.72s/ Batches]\n",
      "Inferencing Samples: 100%|██████████| 1/1 [00:01<00:00,  1.75s/ Batches]\n",
      "Inferencing Samples: 100%|██████████| 1/1 [00:01<00:00,  1.70s/ Batches]\n",
      "Inferencing Samples: 100%|██████████| 1/1 [00:02<00:00,  2.45s/ Batches]\n",
      "Inferencing Samples: 100%|██████████| 1/1 [00:02<00:00,  2.07s/ Batches]\n",
      "Inferencing Samples: 100%|██████████| 1/1 [00:01<00:00,  1.04s/ Batches]\n",
      "Inferencing Samples: 100%|██████████| 1/1 [00:02<00:00,  2.09s/ Batches]\n",
      "Inferencing Samples: 100%|██████████| 1/1 [00:01<00:00,  1.75s/ Batches]\n",
      "Inferencing Samples: 100%|██████████| 1/1 [00:01<00:00,  1.72s/ Batches]\n",
      "Inferencing Samples: 100%|██████████| 1/1 [00:01<00:00,  1.03s/ Batches]\n",
      "Inferencing Samples: 100%|██████████| 1/1 [00:01<00:00,  1.03s/ Batches]\n",
      "Inferencing Samples: 100%|██████████| 1/1 [00:01<00:00,  1.04s/ Batches]\n",
      "Inferencing Samples: 100%|██████████| 1/1 [00:02<00:00,  2.79s/ Batches]\n",
      "Inferencing Samples: 100%|██████████| 1/1 [00:02<00:00,  2.10s/ Batches]\n",
      "Inferencing Samples: 100%|██████████| 1/1 [00:01<00:00,  1.74s/ Batches]\n",
      "Inferencing Samples: 100%|██████████| 1/1 [00:03<00:00,  3.97s/ Batches]\n",
      "Inferencing Samples: 100%|██████████| 1/1 [00:06<00:00,  6.42s/ Batches]\n",
      "Inferencing Samples: 100%|██████████| 1/1 [00:01<00:00,  1.04s/ Batches]\n",
      "Inferencing Samples: 100%|██████████| 1/1 [00:07<00:00,  7.30s/ Batches]\n",
      "Inferencing Samples: 100%|██████████| 1/1 [00:05<00:00,  5.01s/ Batches]\n",
      "Inferencing Samples: 100%|██████████| 1/1 [00:05<00:00,  5.50s/ Batches]\n",
      "Inferencing Samples: 100%|██████████| 1/1 [00:01<00:00,  1.42s/ Batches]\n",
      "Inferencing Samples: 100%|██████████| 1/1 [00:01<00:00,  1.39s/ Batches]\n",
      "Inferencing Samples: 100%|██████████| 1/1 [00:02<00:00,  2.10s/ Batches]\n",
      "Inferencing Samples: 100%|██████████| 1/1 [00:02<00:00,  2.08s/ Batches]\n",
      "Inferencing Samples: 100%|██████████| 1/1 [00:02<00:00,  2.05s/ Batches]\n",
      "Inferencing Samples: 100%|██████████| 1/1 [00:01<00:00,  1.72s/ Batches]\n",
      "Inferencing Samples: 100%|██████████| 1/1 [00:01<00:00,  1.06s/ Batches]\n",
      "Inferencing Samples: 100%|██████████| 1/1 [00:07<00:00,  7.18s/ Batches]\n",
      "Inferencing Samples: 100%|██████████| 1/1 [00:01<00:00,  1.17s/ Batches]\n",
      "Inferencing Samples: 100%|██████████| 1/1 [00:01<00:00,  1.70s/ Batches]\n",
      "Inferencing Samples: 100%|██████████| 1/1 [00:02<00:00,  2.46s/ Batches]\n",
      "Inferencing Samples: 100%|██████████| 1/1 [00:01<00:00,  1.69s/ Batches]\n",
      "Inferencing Samples: 100%|██████████| 1/1 [00:01<00:00,  1.70s/ Batches]\n",
      "Inferencing Samples: 100%|██████████| 1/1 [00:01<00:00,  1.04s/ Batches]\n",
      "Inferencing Samples: 100%|██████████| 1/1 [00:02<00:00,  2.37s/ Batches]\n",
      "Inferencing Samples: 100%|██████████| 1/1 [00:01<00:00,  1.78s/ Batches]\n",
      "Inferencing Samples: 100%|██████████| 1/1 [00:01<00:00,  1.71s/ Batches]\n",
      "Inferencing Samples: 100%|██████████| 1/1 [00:02<00:00,  2.02s/ Batches]\n",
      "Inferencing Samples: 100%|██████████| 1/1 [00:01<00:00,  1.35s/ Batches]\n",
      "Inferencing Samples: 100%|██████████| 1/1 [00:02<00:00,  2.13s/ Batches]\n",
      "Inferencing Samples: 100%|██████████| 1/1 [00:02<00:00,  2.03s/ Batches]\n",
      "Inferencing Samples: 100%|██████████| 1/1 [00:01<00:00,  1.39s/ Batches]\n",
      "Inferencing Samples: 100%|██████████| 1/1 [00:02<00:00,  2.05s/ Batches]\n",
      "Inferencing Samples: 100%|██████████| 1/1 [00:01<00:00,  1.37s/ Batches]\n",
      "Inferencing Samples: 100%|██████████| 1/1 [00:01<00:00,  1.69s/ Batches]\n",
      "Inferencing Samples: 100%|██████████| 1/1 [00:01<00:00,  1.71s/ Batches]\n",
      "Inferencing Samples: 100%|██████████| 1/1 [00:01<00:00,  1.75s/ Batches]\n",
      "Inferencing Samples: 100%|██████████| 1/1 [00:01<00:00,  1.38s/ Batches]\n",
      "Inferencing Samples: 100%|██████████| 1/1 [00:01<00:00,  1.75s/ Batches]\n",
      "Inferencing Samples: 100%|██████████| 1/1 [00:01<00:00,  1.79s/ Batches]\n",
      "Inferencing Samples: 100%|██████████| 1/1 [00:01<00:00,  1.35s/ Batches]\n",
      "Inferencing Samples: 100%|██████████| 1/1 [00:01<00:00,  1.68s/ Batches]\n",
      "Inferencing Samples: 100%|██████████| 1/1 [00:02<00:00,  2.36s/ Batches]\n",
      "Inferencing Samples: 100%|██████████| 1/1 [00:02<00:00,  2.03s/ Batches]\n",
      "Inferencing Samples: 100%|██████████| 1/1 [00:01<00:00,  1.36s/ Batches]\n",
      "Inferencing Samples: 100%|██████████| 1/1 [00:01<00:00,  1.00s/ Batches]\n",
      "Inferencing Samples: 100%|██████████| 1/1 [00:01<00:00,  1.99s/ Batches]\n",
      "Inferencing Samples: 100%|██████████| 1/1 [00:02<00:00,  2.02s/ Batches]\n",
      "Inferencing Samples: 100%|██████████| 1/1 [00:02<00:00,  2.48s/ Batches]\n",
      "Inferencing Samples: 100%|██████████| 1/1 [00:01<00:00,  1.71s/ Batches]\n",
      "Inferencing Samples: 100%|██████████| 1/1 [00:01<00:00,  1.38s/ Batches]\n",
      "Inferencing Samples: 100%|██████████| 1/1 [00:01<00:00,  1.38s/ Batches]\n",
      "Inferencing Samples: 100%|██████████| 1/1 [00:02<00:00,  2.01s/ Batches]\n",
      "Inferencing Samples: 100%|██████████| 1/1 [00:02<00:00,  2.36s/ Batches]\n",
      "Inferencing Samples: 100%|██████████| 1/1 [00:01<00:00,  1.67s/ Batches]\n",
      "Inferencing Samples: 100%|██████████| 1/1 [00:01<00:00,  1.75s/ Batches]\n",
      "Inferencing Samples: 100%|██████████| 1/1 [00:01<00:00,  1.71s/ Batches]\n",
      "Inferencing Samples: 100%|██████████| 1/1 [00:02<00:00,  2.04s/ Batches]\n",
      "Inferencing Samples: 100%|██████████| 1/1 [00:00<00:00,  2.85 Batches/s]\n",
      "Inferencing Samples: 100%|██████████| 1/1 [00:01<00:00,  1.39s/ Batches]\n",
      "Inferencing Samples: 100%|██████████| 1/1 [00:01<00:00,  1.69s/ Batches]\n",
      "Inferencing Samples: 100%|██████████| 1/1 [00:00<00:00,  1.01 Batches/s]\n",
      "Inferencing Samples: 100%|██████████| 1/1 [00:15<00:00, 15.05s/ Batches]\n",
      "Inferencing Samples: 100%|██████████| 1/1 [00:02<00:00,  2.38s/ Batches]\n",
      "Inferencing Samples: 100%|██████████| 1/1 [00:02<00:00,  2.00s/ Batches]\n",
      "Inferencing Samples: 100%|██████████| 1/1 [00:01<00:00,  2.00s/ Batches]\n",
      "Inferencing Samples: 100%|██████████| 1/1 [00:01<00:00,  1.66s/ Batches]\n",
      "Inferencing Samples: 100%|██████████| 1/1 [00:01<00:00,  1.34s/ Batches]\n",
      "Inferencing Samples: 100%|██████████| 1/1 [00:01<00:00,  1.68s/ Batches]\n",
      "Inferencing Samples: 100%|██████████| 1/1 [00:01<00:00,  1.91s/ Batches]\n",
      "Inferencing Samples: 100%|██████████| 1/1 [00:01<00:00,  1.61s/ Batches]\n",
      "Inferencing Samples: 100%|██████████| 1/1 [00:02<00:00,  2.92s/ Batches]\n",
      "Inferencing Samples: 100%|██████████| 1/1 [00:01<00:00,  1.66s/ Batches]\n",
      "Inferencing Samples: 100%|██████████| 1/1 [00:02<00:00,  2.02s/ Batches]\n",
      "Inferencing Samples: 100%|██████████| 1/1 [00:02<00:00,  2.33s/ Batches]\n",
      "Inferencing Samples: 100%|██████████| 1/1 [00:02<00:00,  2.30s/ Batches]\n",
      "Inferencing Samples: 100%|██████████| 1/1 [00:00<00:00,  1.47 Batches/s]\n",
      "Inferencing Samples: 100%|██████████| 1/1 [00:01<00:00,  1.36s/ Batches]\n",
      "Inferencing Samples: 100%|██████████| 1/1 [00:01<00:00,  1.29s/ Batches]\n",
      "Inferencing Samples: 100%|██████████| 1/1 [00:01<00:00,  1.63s/ Batches]\n",
      "Inferencing Samples: 100%|██████████| 1/1 [00:01<00:00,  1.33s/ Batches]\n",
      "Inferencing Samples: 100%|██████████| 1/1 [00:01<00:00,  1.60s/ Batches]\n",
      "Inferencing Samples: 100%|██████████| 1/1 [00:01<00:00,  1.94s/ Batches]\n",
      "Inferencing Samples: 100%|██████████| 1/1 [00:01<00:00,  1.69s/ Batches]\n",
      "Inferencing Samples: 100%|██████████| 1/1 [00:01<00:00,  1.97s/ Batches]\n",
      "Inferencing Samples: 100%|██████████| 1/1 [00:01<00:00,  1.66s/ Batches]\n",
      "Inferencing Samples: 100%|██████████| 1/1 [00:01<00:00,  1.33s/ Batches]\n",
      "Inferencing Samples: 100%|██████████| 1/1 [00:00<00:00,  1.02 Batches/s]\n",
      "Inferencing Samples: 100%|██████████| 1/1 [00:01<00:00,  2.00s/ Batches]\n",
      "Inferencing Samples: 100%|██████████| 1/1 [00:01<00:00,  1.04s/ Batches]\n",
      "Inferencing Samples: 100%|██████████| 1/1 [00:02<00:00,  2.62s/ Batches]\n",
      "Inferencing Samples: 100%|██████████| 1/1 [00:01<00:00,  1.30s/ Batches]\n",
      "Inferencing Samples: 100%|██████████| 1/1 [00:01<00:00,  1.63s/ Batches]\n",
      "Inferencing Samples: 100%|██████████| 1/1 [00:00<00:00,  1.01 Batches/s]\n",
      "Inferencing Samples: 100%|██████████| 1/1 [00:02<00:00,  2.00s/ Batches]\n",
      "Inferencing Samples: 100%|██████████| 1/1 [00:00<00:00,  1.47 Batches/s]\n",
      "Inferencing Samples: 100%|██████████| 1/1 [00:02<00:00,  2.26s/ Batches]\n",
      "Inferencing Samples: 100%|██████████| 1/1 [00:00<00:00,  1.03 Batches/s]\n",
      "Inferencing Samples: 100%|██████████| 1/1 [00:01<00:00,  1.30s/ Batches]\n",
      "Inferencing Samples: 100%|██████████| 1/1 [00:00<00:00,  1.50 Batches/s]\n",
      "Inferencing Samples: 100%|██████████| 1/1 [00:01<00:00,  1.94s/ Batches]\n",
      "Inferencing Samples: 100%|██████████| 1/1 [00:01<00:00,  1.63s/ Batches]\n",
      "Inferencing Samples: 100%|██████████| 1/1 [00:02<00:00,  2.35s/ Batches]\n",
      "Inferencing Samples: 100%|██████████| 1/1 [00:01<00:00,  1.60s/ Batches]\n",
      "Inferencing Samples: 100%|██████████| 1/1 [00:01<00:00,  1.44s/ Batches]\n",
      "Inferencing Samples: 100%|██████████| 1/1 [00:01<00:00,  1.91s/ Batches]\n",
      "Inferencing Samples: 100%|██████████| 1/1 [00:02<00:00,  2.26s/ Batches]\n",
      "Inferencing Samples: 100%|██████████| 1/1 [00:02<00:00,  2.31s/ Batches]\n",
      "Inferencing Samples: 100%|██████████| 1/1 [00:01<00:00,  1.92s/ Batches]\n",
      "Inferencing Samples: 100%|██████████| 1/1 [00:01<00:00,  1.30s/ Batches]\n",
      "Inferencing Samples: 100%|██████████| 1/1 [00:01<00:00,  1.93s/ Batches]\n",
      "Inferencing Samples: 100%|██████████| 1/1 [00:02<00:00,  2.61s/ Batches]\n",
      "Inferencing Samples: 100%|██████████| 1/1 [00:01<00:00,  1.33s/ Batches]\n",
      "Inferencing Samples: 100%|██████████| 1/1 [00:01<00:00,  1.36s/ Batches]\n",
      "Inferencing Samples: 100%|██████████| 1/1 [00:02<00:00,  2.31s/ Batches]\n",
      "Inferencing Samples: 100%|██████████| 1/1 [00:01<00:00,  1.97s/ Batches]\n",
      "Inferencing Samples: 100%|██████████| 1/1 [00:02<00:00,  2.90s/ Batches]\n",
      "Inferencing Samples: 100%|██████████| 1/1 [00:01<00:00,  1.98s/ Batches]\n",
      "Inferencing Samples: 100%|██████████| 1/1 [00:00<00:00,  1.57 Batches/s]\n",
      "Inferencing Samples: 100%|██████████| 1/1 [00:01<00:00,  1.70s/ Batches]\n",
      "Inferencing Samples: 100%|██████████| 1/1 [00:01<00:00,  1.62s/ Batches]\n",
      "Inferencing Samples: 100%|██████████| 1/1 [00:01<00:00,  1.65s/ Batches]\n",
      "Inferencing Samples: 100%|██████████| 1/1 [00:01<00:00,  1.31s/ Batches]\n",
      "Inferencing Samples: 100%|██████████| 1/1 [00:01<00:00,  1.31s/ Batches]\n",
      "Inferencing Samples: 100%|██████████| 1/1 [00:01<00:00,  1.30s/ Batches]\n",
      "Inferencing Samples: 100%|██████████| 1/1 [00:01<00:00,  1.61s/ Batches]\n",
      "Inferencing Samples: 100%|██████████| 1/1 [00:02<00:00,  2.48s/ Batches]\n",
      "Inferencing Samples: 100%|██████████| 1/1 [00:02<00:00,  2.33s/ Batches]\n",
      "Inferencing Samples: 100%|██████████| 1/1 [00:01<00:00,  1.67s/ Batches]\n",
      "Inferencing Samples: 100%|██████████| 1/1 [00:01<00:00,  1.94s/ Batches]\n",
      "Inferencing Samples: 100%|██████████| 1/1 [00:02<00:00,  2.29s/ Batches]\n",
      "Inferencing Samples: 100%|██████████| 1/1 [00:02<00:00,  2.43s/ Batches]\n",
      "Inferencing Samples: 100%|██████████| 1/1 [00:02<00:00,  2.36s/ Batches]\n",
      "Inferencing Samples: 100%|██████████| 1/1 [00:01<00:00,  1.94s/ Batches]\n",
      "Inferencing Samples: 100%|██████████| 1/1 [00:00<00:00,  1.22 Batches/s]\n",
      "Inferencing Samples: 100%|██████████| 1/1 [00:04<00:00,  4.62s/ Batches]\n",
      "Inferencing Samples: 100%|██████████| 1/1 [00:01<00:00,  1.68s/ Batches]\n",
      "Inferencing Samples: 100%|██████████| 1/1 [00:01<00:00,  1.32s/ Batches]\n",
      "Inferencing Samples: 100%|██████████| 1/1 [00:01<00:00,  1.66s/ Batches]\n",
      "Inferencing Samples: 100%|██████████| 1/1 [00:01<00:00,  1.26s/ Batches]\n",
      "Inferencing Samples: 100%|██████████| 1/1 [00:01<00:00,  1.29s/ Batches]\n",
      "Inferencing Samples: 100%|██████████| 1/1 [00:02<00:00,  2.06s/ Batches]\n",
      "Inferencing Samples: 100%|██████████| 1/1 [00:02<00:00,  2.71s/ Batches]\n",
      "Inferencing Samples: 100%|██████████| 1/1 [00:01<00:00,  1.35s/ Batches]\n",
      "Inferencing Samples: 100%|██████████| 1/1 [00:02<00:00,  2.12s/ Batches]\n",
      "Inferencing Samples: 100%|██████████| 1/1 [00:02<00:00,  2.56s/ Batches]\n",
      "Inferencing Samples: 100%|██████████| 1/1 [00:01<00:00,  1.49s/ Batches]\n",
      "Inferencing Samples: 100%|██████████| 1/1 [00:02<00:00,  2.19s/ Batches]\n",
      "Inferencing Samples: 100%|██████████| 1/1 [00:01<00:00,  1.11s/ Batches]\n",
      "Inferencing Samples: 100%|██████████| 1/1 [00:01<00:00,  1.79s/ Batches]\n",
      "Inferencing Samples: 100%|██████████| 1/1 [00:01<00:00,  1.72s/ Batches]\n",
      "Inferencing Samples: 100%|██████████| 1/1 [00:02<00:00,  2.11s/ Batches]\n",
      "Inferencing Samples: 100%|██████████| 1/1 [00:02<00:00,  2.14s/ Batches]\n",
      "Inferencing Samples: 100%|██████████| 1/1 [00:02<00:00,  2.54s/ Batches]\n",
      "Inferencing Samples: 100%|██████████| 1/1 [00:01<00:00,  1.40s/ Batches]\n",
      "Inferencing Samples: 100%|██████████| 1/1 [00:01<00:00,  1.01s/ Batches]\n",
      "Inferencing Samples: 100%|██████████| 1/1 [00:02<00:00,  2.53s/ Batches]\n",
      "Inferencing Samples: 100%|██████████| 1/1 [00:02<00:00,  2.10s/ Batches]\n",
      "Inferencing Samples: 100%|██████████| 1/1 [00:02<00:00,  2.09s/ Batches]\n",
      "Inferencing Samples: 100%|██████████| 1/1 [00:02<00:00,  2.14s/ Batches]\n",
      "Inferencing Samples: 100%|██████████| 1/1 [00:01<00:00,  1.44s/ Batches]\n",
      "Inferencing Samples: 100%|██████████| 1/1 [00:01<00:00,  1.37s/ Batches]\n",
      "Inferencing Samples: 100%|██████████| 1/1 [00:02<00:00,  2.66s/ Batches]\n",
      "Inferencing Samples: 100%|██████████| 1/1 [00:02<00:00,  2.00s/ Batches]\n",
      "Inferencing Samples: 100%|██████████| 1/1 [00:01<00:00,  1.68s/ Batches]\n",
      "Inferencing Samples: 100%|██████████| 1/1 [00:02<00:00,  2.32s/ Batches]\n",
      "Inferencing Samples: 100%|██████████| 1/1 [00:01<00:00,  1.28s/ Batches]\n",
      "Inferencing Samples: 100%|██████████| 1/1 [00:01<00:00,  1.62s/ Batches]\n",
      "Inferencing Samples: 100%|██████████| 1/1 [00:01<00:00,  1.94s/ Batches]\n",
      "Inferencing Samples: 100%|██████████| 1/1 [00:01<00:00,  1.61s/ Batches]\n",
      "Inferencing Samples: 100%|██████████| 1/1 [00:01<00:00,  1.62s/ Batches]\n",
      "Inferencing Samples: 100%|██████████| 1/1 [00:02<00:00,  2.98s/ Batches]\n",
      "Inferencing Samples: 100%|██████████| 1/1 [00:02<00:00,  2.63s/ Batches]\n",
      "Inferencing Samples: 100%|██████████| 1/1 [00:00<00:00,  1.03 Batches/s]\n",
      "Inferencing Samples: 100%|██████████| 1/1 [00:02<00:00,  2.32s/ Batches]\n",
      "Inferencing Samples: 100%|██████████| 1/1 [00:01<00:00,  1.91s/ Batches]\n",
      "Inferencing Samples: 100%|██████████| 1/1 [00:01<00:00,  1.59s/ Batches]\n",
      "Inferencing Samples: 100%|██████████| 1/1 [00:01<00:00,  1.64s/ Batches]\n",
      "Inferencing Samples: 100%|██████████| 1/1 [00:01<00:00,  1.92s/ Batches]\n",
      "Inferencing Samples: 100%|██████████| 1/1 [00:01<00:00,  1.64s/ Batches]\n",
      "Inferencing Samples: 100%|██████████| 1/1 [00:00<00:00,  1.53 Batches/s]\n",
      "Inferencing Samples: 100%|██████████| 1/1 [00:01<00:00,  1.30s/ Batches]\n",
      "Inferencing Samples: 100%|██████████| 1/1 [00:01<00:00,  1.31s/ Batches]\n",
      "Inferencing Samples: 100%|██████████| 1/1 [00:01<00:00,  1.60s/ Batches]\n",
      "Inferencing Samples: 100%|██████████| 1/1 [00:01<00:00,  1.45s/ Batches]\n",
      "Inferencing Samples: 100%|██████████| 1/1 [00:02<00:00,  2.59s/ Batches]\n",
      "Inferencing Samples: 100%|██████████| 1/1 [00:01<00:00,  1.94s/ Batches]\n",
      "Inferencing Samples: 100%|██████████| 1/1 [00:01<00:00,  1.59s/ Batches]\n",
      "Inferencing Samples: 100%|██████████| 1/1 [00:01<00:00,  1.59s/ Batches]\n",
      "Inferencing Samples: 100%|██████████| 1/1 [00:02<00:00,  2.45s/ Batches]\n",
      "Inferencing Samples: 100%|██████████| 1/1 [00:03<00:00,  3.12s/ Batches]\n",
      "Inferencing Samples: 100%|██████████| 1/1 [00:02<00:00,  2.05s/ Batches]\n",
      "Inferencing Samples: 100%|██████████| 1/1 [00:03<00:00,  3.19s/ Batches]\n",
      "Inferencing Samples: 100%|██████████| 1/1 [00:02<00:00,  2.13s/ Batches]\n",
      "Inferencing Samples: 100%|██████████| 1/1 [00:01<00:00,  1.07s/ Batches]\n",
      "Inferencing Samples: 100%|██████████| 1/1 [00:01<00:00,  1.77s/ Batches]\n",
      "Inferencing Samples: 100%|██████████| 1/1 [00:01<00:00,  1.97s/ Batches]\n",
      "Inferencing Samples: 100%|██████████| 1/1 [00:02<00:00,  2.35s/ Batches]\n",
      "Inferencing Samples: 100%|██████████| 1/1 [00:02<00:00,  2.37s/ Batches]\n",
      "Inferencing Samples: 100%|██████████| 1/1 [00:02<00:00,  2.65s/ Batches]\n",
      "Inferencing Samples: 100%|██████████| 1/1 [00:02<00:00,  2.06s/ Batches]\n",
      "Inferencing Samples: 100%|██████████| 1/1 [00:01<00:00,  1.95s/ Batches]\n",
      "Inferencing Samples: 100%|██████████| 1/1 [00:01<00:00,  1.00s/ Batches]\n",
      "Inferencing Samples: 100%|██████████| 1/1 [00:01<00:00,  1.34s/ Batches]\n",
      "Inferencing Samples: 100%|██████████| 1/1 [00:01<00:00,  1.00s/ Batches]\n",
      "Inferencing Samples: 100%|██████████| 1/1 [00:01<00:00,  1.99s/ Batches]\n",
      "Inferencing Samples: 100%|██████████| 1/1 [00:01<00:00,  1.98s/ Batches]\n",
      "Inferencing Samples: 100%|██████████| 1/1 [00:01<00:00,  1.96s/ Batches]\n",
      "Inferencing Samples: 100%|██████████| 1/1 [00:02<00:00,  2.78s/ Batches]\n",
      "Inferencing Samples: 100%|██████████| 1/1 [00:01<00:00,  1.99s/ Batches]\n",
      "Inferencing Samples: 100%|██████████| 1/1 [00:01<00:00,  1.64s/ Batches]\n",
      "Inferencing Samples: 100%|██████████| 1/1 [00:01<00:00,  1.32s/ Batches]\n",
      "Inferencing Samples: 100%|██████████| 1/1 [00:03<00:00,  3.40s/ Batches]\n",
      "Inferencing Samples: 100%|██████████| 1/1 [00:01<00:00,  1.99s/ Batches]\n",
      "Inferencing Samples: 100%|██████████| 1/1 [00:01<00:00,  1.66s/ Batches]\n",
      "Inferencing Samples: 100%|██████████| 1/1 [00:02<00:00,  2.32s/ Batches]\n",
      "Inferencing Samples: 100%|██████████| 1/1 [00:05<00:00,  5.40s/ Batches]\n",
      "Inferencing Samples: 100%|██████████| 1/1 [00:01<00:00,  1.66s/ Batches]\n",
      "Inferencing Samples: 100%|██████████| 1/1 [00:01<00:00,  1.98s/ Batches]\n",
      "Inferencing Samples: 100%|██████████| 1/1 [00:01<00:00,  1.34s/ Batches]\n",
      "Inferencing Samples: 100%|██████████| 1/1 [00:01<00:00,  1.62s/ Batches]\n",
      "Inferencing Samples: 100%|██████████| 1/1 [00:02<00:00,  2.42s/ Batches]\n",
      "Inferencing Samples: 100%|██████████| 1/1 [00:02<00:00,  2.40s/ Batches]\n",
      "Inferencing Samples: 100%|██████████| 1/1 [00:01<00:00,  1.65s/ Batches]\n",
      "Inferencing Samples: 100%|██████████| 1/1 [00:01<00:00,  1.65s/ Batches]\n",
      "Inferencing Samples: 100%|██████████| 1/1 [00:00<00:00,  1.01 Batches/s]\n",
      "Inferencing Samples: 100%|██████████| 1/1 [00:01<00:00,  1.68s/ Batches]\n",
      "Inferencing Samples: 100%|██████████| 1/1 [00:01<00:00,  1.97s/ Batches]\n",
      "Inferencing Samples: 100%|██████████| 1/1 [00:01<00:00,  1.69s/ Batches]\n",
      "Inferencing Samples: 100%|██████████| 1/1 [00:01<00:00,  1.71s/ Batches]\n",
      "Inferencing Samples: 100%|██████████| 1/1 [00:01<00:00,  1.97s/ Batches]\n",
      "Inferencing Samples: 100%|██████████| 1/1 [00:01<00:00,  1.66s/ Batches]\n",
      "Inferencing Samples: 100%|██████████| 1/1 [00:02<00:00,  2.38s/ Batches]\n",
      "Inferencing Samples: 100%|██████████| 1/1 [00:01<00:00,  1.73s/ Batches]\n",
      "Inferencing Samples: 100%|██████████| 1/1 [00:01<00:00,  1.33s/ Batches]\n",
      "Inferencing Samples: 100%|██████████| 1/1 [00:01<00:00,  1.30s/ Batches]\n",
      "Inferencing Samples: 100%|██████████| 1/1 [00:01<00:00,  1.35s/ Batches]\n",
      "Inferencing Samples: 100%|██████████| 1/1 [00:01<00:00,  1.93s/ Batches]\n",
      "Inferencing Samples: 100%|██████████| 1/1 [00:01<00:00,  1.96s/ Batches]\n",
      "Inferencing Samples: 100%|██████████| 1/1 [00:01<00:00,  1.94s/ Batches]\n",
      "Inferencing Samples: 100%|██████████| 1/1 [00:02<00:00,  2.01s/ Batches]\n",
      "Inferencing Samples: 100%|██████████| 1/1 [00:00<00:00,  1.02 Batches/s]\n",
      "Inferencing Samples: 100%|██████████| 1/1 [00:00<00:00,  1.43 Batches/s]\n",
      "Inferencing Samples: 100%|██████████| 1/1 [00:01<00:00,  1.65s/ Batches]\n",
      "Inferencing Samples: 100%|██████████| 1/1 [00:01<00:00,  1.38s/ Batches]\n",
      "Inferencing Samples: 100%|██████████| 1/1 [00:00<00:00,  1.47 Batches/s]\n",
      "Inferencing Samples: 100%|██████████| 1/1 [00:01<00:00,  1.36s/ Batches]\n",
      "Inferencing Samples: 100%|██████████| 1/1 [00:00<00:00,  2.88 Batches/s]\n",
      "Inferencing Samples: 100%|██████████| 1/1 [00:07<00:00,  7.05s/ Batches]\n",
      "Inferencing Samples: 100%|██████████| 1/1 [00:01<00:00,  1.33s/ Batches]\n",
      "Inferencing Samples: 100%|██████████| 1/1 [00:01<00:00,  1.94s/ Batches]\n",
      "Inferencing Samples: 100%|██████████| 1/1 [00:01<00:00,  1.01s/ Batches]\n",
      "Inferencing Samples: 100%|██████████| 1/1 [00:01<00:00,  1.30s/ Batches]\n",
      "Inferencing Samples: 100%|██████████| 1/1 [00:00<00:00,  1.01 Batches/s]\n",
      "Inferencing Samples: 100%|██████████| 1/1 [00:08<00:00,  8.44s/ Batches]\n",
      "Inferencing Samples: 100%|██████████| 1/1 [00:00<00:00,  2.85 Batches/s]\n",
      "Inferencing Samples: 100%|██████████| 1/1 [00:01<00:00,  1.67s/ Batches]\n",
      "Inferencing Samples: 100%|██████████| 1/1 [00:01<00:00,  1.96s/ Batches]\n",
      "Inferencing Samples: 100%|██████████| 1/1 [00:04<00:00,  4.38s/ Batches]\n",
      "Inferencing Samples: 100%|██████████| 1/1 [00:01<00:00,  1.68s/ Batches]\n",
      "Inferencing Samples: 100%|██████████| 1/1 [00:01<00:00,  1.33s/ Batches]\n",
      "Inferencing Samples: 100%|██████████| 1/1 [00:02<00:00,  2.43s/ Batches]\n",
      "Inferencing Samples: 100%|██████████| 1/1 [00:01<00:00,  1.64s/ Batches]\n",
      "Inferencing Samples: 100%|██████████| 1/1 [00:01<00:00,  1.98s/ Batches]\n",
      "Inferencing Samples: 100%|██████████| 1/1 [00:01<00:00,  1.31s/ Batches]\n",
      "Inferencing Samples: 100%|██████████| 1/1 [00:00<00:00,  1.01 Batches/s]\n",
      "Inferencing Samples: 100%|██████████| 1/1 [00:01<00:00,  1.65s/ Batches]\n",
      "Inferencing Samples: 100%|██████████| 1/1 [00:01<00:00,  1.74s/ Batches]\n",
      "Inferencing Samples: 100%|██████████| 1/1 [00:02<00:00,  2.27s/ Batches]\n",
      "Inferencing Samples: 100%|██████████| 1/1 [00:01<00:00,  1.28s/ Batches]\n",
      "Inferencing Samples: 100%|██████████| 1/1 [00:02<00:00,  2.62s/ Batches]\n",
      "Inferencing Samples: 100%|██████████| 1/1 [00:02<00:00,  2.07s/ Batches]\n",
      "Inferencing Samples: 100%|██████████| 1/1 [00:01<00:00,  1.65s/ Batches]\n",
      "Inferencing Samples: 100%|██████████| 1/1 [00:06<00:00,  6.12s/ Batches]\n",
      "Inferencing Samples: 100%|██████████| 1/1 [00:01<00:00,  1.65s/ Batches]\n",
      "Inferencing Samples: 100%|██████████| 1/1 [00:00<00:00,  1.45 Batches/s]\n",
      "Inferencing Samples: 100%|██████████| 1/1 [00:01<00:00,  1.63s/ Batches]\n",
      "Inferencing Samples: 100%|██████████| 1/1 [00:01<00:00,  1.63s/ Batches]\n",
      "Inferencing Samples: 100%|██████████| 1/1 [00:02<00:00,  2.04s/ Batches]\n",
      "Inferencing Samples: 100%|██████████| 1/1 [00:01<00:00,  1.30s/ Batches]\n",
      "Inferencing Samples: 100%|██████████| 1/1 [00:01<00:00,  1.00s/ Batches]\n",
      "Inferencing Samples: 100%|██████████| 1/1 [00:01<00:00,  1.70s/ Batches]\n",
      "Inferencing Samples:   0%|          | 0/1 [00:00<?, ? Batches/s]\n",
      "Inferencing Samples: 100%|██████████| 1/1 [00:01<00:00,  1.31s/ Batches]\n",
      "Inferencing Samples: 100%|██████████| 1/1 [00:01<00:00,  1.70s/ Batches]\n",
      "Inferencing Samples: 100%|██████████| 1/1 [00:01<00:00,  1.68s/ Batches]\n",
      "Inferencing Samples: 100%|██████████| 1/1 [00:02<00:00,  2.03s/ Batches]\n",
      "Inferencing Samples: 100%|██████████| 1/1 [00:01<00:00,  1.71s/ Batches]\n",
      "Inferencing Samples: 100%|██████████| 1/1 [00:02<00:00,  2.50s/ Batches]\n",
      "Inferencing Samples: 100%|██████████| 1/1 [00:02<00:00,  2.43s/ Batches]\n",
      "Inferencing Samples: 100%|██████████| 1/1 [00:02<00:00,  2.76s/ Batches]\n",
      "Inferencing Samples: 100%|██████████| 1/1 [00:02<00:00,  2.03s/ Batches]\n",
      "Inferencing Samples: 100%|██████████| 1/1 [00:02<00:00,  2.78s/ Batches]\n",
      "Inferencing Samples: 100%|██████████| 1/1 [00:01<00:00,  1.41s/ Batches]\n",
      "Inferencing Samples: 100%|██████████| 1/1 [00:01<00:00,  1.67s/ Batches]\n",
      "Inferencing Samples: 100%|██████████| 1/1 [00:01<00:00,  1.69s/ Batches]\n",
      "Inferencing Samples: 100%|██████████| 1/1 [00:01<00:00,  1.38s/ Batches]\n",
      "Inferencing Samples: 100%|██████████| 1/1 [00:01<00:00,  1.75s/ Batches]\n",
      "Inferencing Samples: 100%|██████████| 1/1 [00:00<00:00,  1.45 Batches/s]\n",
      "Inferencing Samples: 100%|██████████| 1/1 [00:03<00:00,  3.13s/ Batches]\n",
      "Inferencing Samples: 100%|██████████| 1/1 [00:01<00:00,  1.68s/ Batches]\n",
      "Inferencing Samples: 100%|██████████| 1/1 [00:02<00:00,  2.40s/ Batches]\n",
      "Inferencing Samples: 100%|██████████| 1/1 [00:02<00:00,  2.77s/ Batches]\n",
      "Inferencing Samples: 100%|██████████| 1/1 [00:02<00:00,  2.38s/ Batches]\n",
      "Inferencing Samples: 100%|██████████| 1/1 [00:01<00:00,  1.71s/ Batches]\n",
      "Inferencing Samples: 100%|██████████| 1/1 [00:01<00:00,  1.91s/ Batches]\n",
      "Inferencing Samples: 100%|██████████| 1/1 [00:02<00:00,  2.63s/ Batches]\n",
      "Inferencing Samples: 100%|██████████| 1/1 [00:00<00:00,  2.85 Batches/s]\n",
      "Inferencing Samples: 100%|██████████| 1/1 [00:05<00:00,  5.52s/ Batches]\n",
      "Inferencing Samples: 100%|██████████| 1/1 [00:01<00:00,  1.27s/ Batches]\n",
      "Inferencing Samples: 100%|██████████| 1/1 [00:12<00:00, 12.58s/ Batches]\n",
      "Inferencing Samples: 100%|██████████| 1/1 [00:02<00:00,  2.64s/ Batches]\n",
      "Inferencing Samples: 100%|██████████| 1/1 [00:02<00:00,  2.35s/ Batches]\n",
      "Inferencing Samples: 100%|██████████| 1/1 [00:01<00:00,  1.32s/ Batches]\n",
      "Inferencing Samples: 100%|██████████| 1/1 [00:02<00:00,  2.35s/ Batches]\n",
      "Inferencing Samples: 100%|██████████| 1/1 [00:00<00:00,  1.44 Batches/s]\n",
      "Inferencing Samples: 100%|██████████| 1/1 [00:00<00:00,  1.02 Batches/s]\n",
      "Inferencing Samples: 100%|██████████| 1/1 [00:01<00:00,  1.30s/ Batches]\n",
      "Inferencing Samples: 100%|██████████| 1/1 [00:00<00:00,  1.51 Batches/s]\n",
      "Inferencing Samples: 100%|██████████| 1/1 [00:00<00:00,  1.01 Batches/s]\n",
      "Inferencing Samples: 100%|██████████| 1/1 [00:01<00:00,  1.96s/ Batches]\n",
      "Inferencing Samples: 100%|██████████| 1/1 [00:00<00:00,  1.48 Batches/s]\n",
      "Inferencing Samples: 100%|██████████| 1/1 [00:05<00:00,  5.85s/ Batches]\n",
      "Inferencing Samples: 100%|██████████| 1/1 [00:01<00:00,  1.63s/ Batches]\n",
      "Inferencing Samples: 100%|██████████| 1/1 [00:01<00:00,  1.32s/ Batches]\n",
      "Inferencing Samples: 100%|██████████| 1/1 [00:01<00:00,  1.80s/ Batches]\n",
      "Inferencing Samples: 100%|██████████| 1/1 [00:01<00:00,  1.61s/ Batches]\n",
      "Inferencing Samples: 100%|██████████| 1/1 [00:01<00:00,  1.63s/ Batches]\n",
      "Inferencing Samples: 100%|██████████| 1/1 [00:01<00:00,  1.68s/ Batches]\n",
      "Inferencing Samples: 100%|██████████| 1/1 [00:01<00:00,  1.92s/ Batches]\n",
      "Inferencing Samples: 100%|██████████| 1/1 [00:00<00:00,  1.02 Batches/s]\n",
      "Inferencing Samples: 100%|██████████| 1/1 [00:01<00:00,  1.32s/ Batches]\n",
      "Inferencing Samples: 100%|██████████| 1/1 [00:03<00:00,  3.69s/ Batches]\n",
      "Inferencing Samples: 100%|██████████| 1/1 [00:01<00:00,  1.31s/ Batches]\n",
      "Inferencing Samples: 100%|██████████| 1/1 [00:01<00:00,  1.71s/ Batches]\n",
      "Inferencing Samples: 100%|██████████| 1/1 [00:01<00:00,  1.29s/ Batches]\n",
      "Inferencing Samples: 100%|██████████| 1/1 [00:01<00:00,  1.93s/ Batches]\n",
      "Inferencing Samples: 100%|██████████| 1/1 [00:02<00:00,  2.36s/ Batches]\n",
      "Inferencing Samples: 100%|██████████| 1/1 [00:00<00:00,  1.49 Batches/s]\n",
      "Inferencing Samples: 100%|██████████| 1/1 [00:03<00:00,  3.02s/ Batches]\n",
      "Inferencing Samples: 100%|██████████| 1/1 [00:01<00:00,  1.31s/ Batches]\n",
      "Inferencing Samples: 100%|██████████| 1/1 [00:00<00:00,  1.01 Batches/s]\n",
      "Inferencing Samples: 100%|██████████| 2/2 [00:31<00:00, 15.62s/ Batches]\n",
      "Inferencing Samples: 100%|██████████| 1/1 [00:01<00:00,  1.00s/ Batches]\n",
      "Inferencing Samples: 100%|██████████| 1/1 [00:00<00:00,  1.02 Batches/s]\n",
      "Inferencing Samples: 100%|██████████| 1/1 [00:01<00:00,  1.92s/ Batches]\n",
      "Inferencing Samples: 100%|██████████| 1/1 [00:00<00:00,  1.52 Batches/s]\n",
      "Inferencing Samples: 100%|██████████| 1/1 [00:03<00:00,  3.25s/ Batches]\n",
      "Inferencing Samples: 100%|██████████| 1/1 [00:00<00:00,  1.03 Batches/s]\n",
      "Inferencing Samples: 100%|██████████| 1/1 [00:01<00:00,  1.99s/ Batches]\n",
      "Inferencing Samples: 100%|██████████| 1/1 [00:02<00:00,  2.67s/ Batches]\n",
      "Inferencing Samples: 100%|██████████| 1/1 [00:02<00:00,  2.29s/ Batches]\n",
      "Inferencing Samples: 100%|██████████| 1/1 [00:01<00:00,  1.28s/ Batches]\n",
      "Inferencing Samples: 100%|██████████| 1/1 [00:01<00:00,  1.67s/ Batches]\n",
      "Inferencing Samples: 100%|██████████| 1/1 [00:14<00:00, 14.39s/ Batches]\n",
      "Inferencing Samples: 100%|██████████| 1/1 [00:00<00:00,  1.03 Batches/s]\n",
      "Inferencing Samples: 100%|██████████| 2/2 [00:25<00:00, 12.72s/ Batches]\n",
      "Inferencing Samples: 100%|██████████| 1/1 [00:01<00:00,  1.62s/ Batches]\n",
      "Inferencing Samples: 100%|██████████| 1/1 [00:02<00:00,  2.01s/ Batches]\n",
      "Inferencing Samples: 100%|██████████| 1/1 [00:02<00:00,  2.78s/ Batches]\n",
      "Inferencing Samples: 100%|██████████| 1/1 [00:02<00:00,  2.53s/ Batches]\n",
      "Inferencing Samples: 100%|██████████| 1/1 [00:02<00:00,  2.69s/ Batches]\n",
      "Inferencing Samples: 100%|██████████| 1/1 [00:03<00:00,  3.04s/ Batches]\n",
      "Inferencing Samples: 100%|██████████| 1/1 [00:00<00:00,  1.49 Batches/s]\n",
      "Inferencing Samples: 100%|██████████| 1/1 [00:01<00:00,  1.31s/ Batches]\n",
      "Inferencing Samples: 100%|██████████| 1/1 [00:01<00:00,  1.96s/ Batches]\n",
      "Inferencing Samples: 100%|██████████| 1/1 [00:03<00:00,  3.08s/ Batches]\n",
      "Inferencing Samples: 100%|██████████| 1/1 [00:04<00:00,  4.20s/ Batches]\n",
      "Inferencing Samples: 100%|██████████| 1/1 [00:01<00:00,  1.38s/ Batches]\n",
      "Inferencing Samples: 100%|██████████| 1/1 [00:01<00:00,  1.37s/ Batches]\n",
      "Inferencing Samples: 100%|██████████| 1/1 [00:08<00:00,  8.60s/ Batches]\n",
      "Inferencing Samples: 100%|██████████| 1/1 [00:02<00:00,  2.04s/ Batches]\n",
      "Inferencing Samples: 100%|██████████| 1/1 [00:01<00:00,  1.03s/ Batches]\n",
      "Inferencing Samples: 100%|██████████| 1/1 [00:03<00:00,  3.15s/ Batches]\n",
      "Inferencing Samples: 100%|██████████| 1/1 [00:02<00:00,  2.95s/ Batches]\n",
      "Inferencing Samples: 100%|██████████| 1/1 [00:01<00:00,  1.32s/ Batches]\n",
      "Inferencing Samples: 100%|██████████| 1/1 [00:01<00:00,  1.69s/ Batches]\n",
      "Inferencing Samples: 100%|██████████| 1/1 [00:01<00:00,  1.70s/ Batches]\n",
      "Inferencing Samples: 100%|██████████| 1/1 [00:01<00:00,  1.03s/ Batches]\n",
      "Inferencing Samples: 100%|██████████| 1/1 [00:04<00:00,  4.27s/ Batches]\n",
      "Inferencing Samples: 100%|██████████| 1/1 [00:01<00:00,  1.65s/ Batches]\n",
      "Inferencing Samples: 100%|██████████| 1/1 [00:01<00:00,  1.65s/ Batches]\n",
      "Inferencing Samples: 100%|██████████| 1/1 [00:01<00:00,  1.68s/ Batches]\n",
      "Inferencing Samples: 100%|██████████| 1/1 [00:02<00:00,  2.02s/ Batches]\n",
      "Inferencing Samples: 100%|██████████| 1/1 [00:01<00:00,  1.06s/ Batches]\n",
      "Inferencing Samples: 100%|██████████| 1/1 [00:02<00:00,  2.72s/ Batches]\n",
      "Inferencing Samples: 100%|██████████| 1/1 [00:01<00:00,  1.98s/ Batches]\n",
      "Inferencing Samples: 100%|██████████| 1/1 [00:02<00:00,  2.04s/ Batches]\n",
      "Inferencing Samples: 100%|██████████| 1/1 [00:02<00:00,  2.42s/ Batches]\n",
      "Inferencing Samples: 100%|██████████| 1/1 [00:02<00:00,  2.79s/ Batches]\n",
      "Inferencing Samples: 100%|██████████| 1/1 [00:01<00:00,  1.37s/ Batches]\n",
      "Inferencing Samples: 100%|██████████| 1/1 [00:01<00:00,  1.68s/ Batches]\n",
      "Inferencing Samples: 100%|██████████| 1/1 [00:01<00:00,  1.69s/ Batches]\n",
      "Inferencing Samples: 100%|██████████| 1/1 [00:01<00:00,  1.34s/ Batches]\n",
      "Inferencing Samples: 100%|██████████| 1/1 [00:00<00:00,  1.45 Batches/s]\n",
      "Inferencing Samples: 100%|██████████| 1/1 [00:02<00:00,  2.39s/ Batches]\n",
      "Inferencing Samples: 100%|██████████| 1/1 [00:02<00:00,  2.04s/ Batches]\n",
      "Inferencing Samples: 100%|██████████| 1/1 [00:01<00:00,  1.33s/ Batches]\n",
      "Inferencing Samples: 100%|██████████| 1/1 [00:01<00:00,  1.38s/ Batches]\n",
      "Inferencing Samples: 100%|██████████| 1/1 [00:02<00:00,  2.17s/ Batches]\n",
      "Inferencing Samples: 100%|██████████| 1/1 [00:01<00:00,  1.05s/ Batches]\n",
      "Inferencing Samples: 100%|██████████| 1/1 [00:01<00:00,  1.06s/ Batches]\n",
      "Inferencing Samples: 100%|██████████| 1/1 [00:02<00:00,  2.43s/ Batches]\n",
      "Inferencing Samples: 100%|██████████| 1/1 [00:01<00:00,  1.40s/ Batches]\n",
      "Inferencing Samples: 100%|██████████| 1/1 [00:04<00:00,  4.76s/ Batches]\n",
      "Inferencing Samples: 100%|██████████| 1/1 [00:00<00:00,  1.40 Batches/s]\n",
      "Inferencing Samples: 100%|██████████| 1/1 [00:04<00:00,  4.16s/ Batches]\n",
      "Inferencing Samples: 100%|██████████| 1/1 [00:05<00:00,  5.46s/ Batches]\n",
      "Inferencing Samples: 100%|██████████| 1/1 [00:00<00:00,  1.44 Batches/s]\n",
      "Inferencing Samples: 100%|██████████| 1/1 [00:01<00:00,  1.40s/ Batches]\n",
      "Inferencing Samples: 100%|██████████| 1/1 [00:05<00:00,  5.11s/ Batches]\n",
      "Inferencing Samples: 100%|██████████| 1/1 [00:02<00:00,  2.09s/ Batches]\n",
      "Inferencing Samples: 100%|██████████| 1/1 [00:01<00:00,  1.78s/ Batches]\n",
      "Inferencing Samples: 100%|██████████| 1/1 [00:01<00:00,  1.48s/ Batches]\n",
      "Inferencing Samples: 100%|██████████| 1/1 [00:02<00:00,  2.48s/ Batches]\n",
      "Inferencing Samples: 100%|██████████| 1/1 [00:02<00:00,  2.10s/ Batches]\n",
      "Inferencing Samples: 100%|██████████| 1/1 [00:02<00:00,  2.08s/ Batches]\n",
      "Inferencing Samples: 100%|██████████| 1/1 [00:01<00:00,  1.05s/ Batches]\n",
      "Inferencing Samples: 100%|██████████| 1/1 [00:01<00:00,  1.72s/ Batches]\n",
      "Inferencing Samples: 100%|██████████| 1/1 [00:01<00:00,  2.00s/ Batches]\n",
      "Inferencing Samples: 100%|██████████| 1/1 [00:01<00:00,  1.01s/ Batches]\n",
      "Inferencing Samples: 100%|██████████| 1/1 [00:01<00:00,  1.69s/ Batches]\n",
      "Inferencing Samples: 100%|██████████| 1/1 [00:02<00:00,  2.40s/ Batches]\n",
      "Inferencing Samples: 100%|██████████| 1/1 [00:02<00:00,  2.04s/ Batches]\n",
      "Inferencing Samples: 100%|██████████| 1/1 [00:02<00:00,  2.39s/ Batches]\n",
      "Inferencing Samples: 100%|██████████| 1/1 [00:02<00:00,  2.39s/ Batches]\n",
      "Inferencing Samples: 100%|██████████| 1/1 [00:01<00:00,  1.32s/ Batches]\n",
      "Inferencing Samples: 100%|██████████| 1/1 [00:01<00:00,  1.70s/ Batches]\n",
      "Inferencing Samples: 100%|██████████| 1/1 [00:01<00:00,  1.69s/ Batches]\n",
      "Inferencing Samples: 100%|██████████| 1/1 [00:01<00:00,  1.06s/ Batches]\n",
      "Inferencing Samples: 100%|██████████| 1/1 [00:02<00:00,  2.08s/ Batches]\n",
      "Inferencing Samples: 100%|██████████| 1/1 [00:01<00:00,  1.99s/ Batches]\n",
      "Inferencing Samples: 100%|██████████| 1/1 [00:01<00:00,  1.70s/ Batches]\n",
      "Inferencing Samples: 100%|██████████| 1/1 [00:02<00:00,  2.08s/ Batches]\n",
      "Inferencing Samples: 100%|██████████| 1/1 [00:02<00:00,  2.72s/ Batches]\n",
      "Inferencing Samples: 100%|██████████| 1/1 [00:01<00:00,  1.44s/ Batches]\n",
      "Inferencing Samples: 100%|██████████| 1/1 [00:00<00:00,  1.00 Batches/s]\n",
      "Inferencing Samples: 100%|██████████| 1/1 [00:01<00:00,  1.29s/ Batches]\n",
      "Inferencing Samples: 100%|██████████| 1/1 [00:01<00:00,  1.00s/ Batches]\n",
      "Inferencing Samples: 100%|██████████| 1/1 [00:02<00:00,  2.29s/ Batches]\n",
      "Inferencing Samples: 100%|██████████| 1/1 [00:02<00:00,  2.02s/ Batches]\n",
      "Inferencing Samples: 100%|██████████| 1/1 [00:02<00:00,  2.29s/ Batches]\n",
      "Inferencing Samples: 100%|██████████| 1/1 [00:01<00:00,  1.96s/ Batches]\n",
      "Inferencing Samples: 100%|██████████| 1/1 [00:01<00:00,  1.92s/ Batches]\n",
      "Inferencing Samples: 100%|██████████| 1/1 [00:01<00:00,  1.30s/ Batches]\n",
      "Inferencing Samples: 100%|██████████| 1/1 [00:01<00:00,  1.62s/ Batches]\n",
      "Inferencing Samples: 100%|██████████| 1/1 [00:01<00:00,  1.96s/ Batches]\n",
      "Inferencing Samples: 100%|██████████| 1/1 [00:01<00:00,  1.95s/ Batches]\n",
      "Inferencing Samples: 100%|██████████| 1/1 [00:01<00:00,  1.64s/ Batches]\n",
      "Inferencing Samples: 100%|██████████| 1/1 [00:01<00:00,  1.94s/ Batches]\n",
      "Inferencing Samples: 100%|██████████| 1/1 [00:01<00:00,  1.32s/ Batches]\n",
      "Inferencing Samples: 100%|██████████| 1/1 [00:02<00:00,  2.03s/ Batches]\n",
      "Inferencing Samples: 100%|██████████| 1/1 [00:02<00:00,  2.69s/ Batches]\n",
      "Inferencing Samples: 100%|██████████| 1/1 [00:01<00:00,  1.62s/ Batches]\n",
      "Inferencing Samples: 100%|██████████| 1/1 [00:00<00:00,  1.01 Batches/s]\n",
      "Inferencing Samples: 100%|██████████| 1/1 [00:01<00:00,  1.99s/ Batches]\n",
      "Inferencing Samples: 100%|██████████| 1/1 [00:01<00:00,  1.65s/ Batches]\n",
      "Inferencing Samples: 100%|██████████| 1/1 [00:01<00:00,  1.31s/ Batches]\n",
      "Inferencing Samples: 100%|██████████| 1/1 [00:01<00:00,  1.51s/ Batches]\n",
      "Inferencing Samples: 100%|██████████| 1/1 [00:01<00:00,  1.95s/ Batches]\n",
      "Inferencing Samples: 100%|██████████| 1/1 [00:01<00:00,  1.63s/ Batches]\n",
      "Inferencing Samples: 100%|██████████| 1/1 [00:01<00:00,  1.63s/ Batches]\n",
      "Inferencing Samples: 100%|██████████| 1/1 [00:02<00:00,  2.63s/ Batches]\n",
      "Inferencing Samples: 100%|██████████| 1/1 [00:00<00:00,  1.01 Batches/s]\n",
      "Inferencing Samples: 100%|██████████| 1/1 [00:01<00:00,  1.37s/ Batches]\n",
      "Inferencing Samples: 100%|██████████| 1/1 [00:01<00:00,  1.99s/ Batches]\n",
      "Inferencing Samples: 100%|██████████| 1/1 [00:01<00:00,  1.65s/ Batches]\n",
      "Inferencing Samples: 100%|██████████| 1/1 [00:01<00:00,  1.99s/ Batches]\n",
      "Inferencing Samples: 100%|██████████| 1/1 [00:01<00:00,  1.66s/ Batches]\n",
      "Inferencing Samples: 100%|██████████| 1/1 [00:01<00:00,  1.48s/ Batches]\n",
      "Inferencing Samples: 100%|██████████| 1/1 [00:01<00:00,  1.32s/ Batches]\n",
      "Inferencing Samples: 100%|██████████| 1/1 [00:02<00:00,  2.63s/ Batches]\n",
      "Inferencing Samples: 100%|██████████| 1/1 [00:01<00:00,  1.65s/ Batches]\n",
      "Inferencing Samples: 100%|██████████| 1/1 [00:01<00:00,  1.66s/ Batches]\n",
      "Inferencing Samples: 100%|██████████| 1/1 [00:00<00:00,  1.02 Batches/s]\n",
      "Inferencing Samples: 100%|██████████| 1/1 [00:02<00:00,  2.05s/ Batches]\n",
      "Inferencing Samples: 100%|██████████| 1/1 [00:01<00:00,  1.64s/ Batches]\n",
      "Inferencing Samples: 100%|██████████| 1/1 [00:02<00:00,  2.31s/ Batches]\n",
      "Inferencing Samples: 100%|██████████| 1/1 [00:01<00:00,  1.66s/ Batches]\n",
      "Inferencing Samples: 100%|██████████| 1/1 [00:01<00:00,  1.96s/ Batches]\n",
      "Inferencing Samples: 100%|██████████| 1/1 [00:02<00:00,  2.77s/ Batches]\n",
      "Inferencing Samples: 100%|██████████| 1/1 [00:01<00:00,  1.60s/ Batches]\n",
      "Inferencing Samples: 100%|██████████| 1/1 [00:01<00:00,  1.31s/ Batches]\n",
      "Inferencing Samples: 100%|██████████| 1/1 [00:01<00:00,  1.32s/ Batches]\n",
      "Inferencing Samples: 100%|██████████| 1/1 [00:01<00:00,  1.64s/ Batches]\n",
      "Inferencing Samples: 100%|██████████| 1/1 [00:01<00:00,  1.93s/ Batches]\n",
      "Inferencing Samples: 100%|██████████| 1/1 [00:00<00:00,  1.02 Batches/s]\n",
      "Inferencing Samples: 100%|██████████| 1/1 [00:01<00:00,  1.94s/ Batches]\n",
      "Inferencing Samples: 100%|██████████| 1/1 [00:00<00:00,  1.54 Batches/s]\n",
      "Inferencing Samples: 100%|██████████| 1/1 [00:02<00:00,  2.67s/ Batches]\n",
      "Inferencing Samples: 100%|██████████| 1/1 [00:01<00:00,  1.96s/ Batches]\n",
      "Inferencing Samples: 100%|██████████| 1/1 [00:01<00:00,  1.33s/ Batches]\n",
      "Inferencing Samples: 100%|██████████| 1/1 [00:00<00:00,  1.02 Batches/s]\n",
      "Inferencing Samples: 100%|██████████| 1/1 [00:01<00:00,  1.98s/ Batches]\n",
      "Inferencing Samples: 100%|██████████| 1/1 [00:01<00:00,  1.96s/ Batches]\n",
      "Inferencing Samples: 100%|██████████| 1/1 [00:01<00:00,  1.95s/ Batches]\n",
      "Inferencing Samples: 100%|██████████| 1/1 [00:01<00:00,  1.68s/ Batches]\n",
      "Inferencing Samples: 100%|██████████| 1/1 [00:01<00:00,  1.31s/ Batches]\n",
      "Inferencing Samples: 100%|██████████| 1/1 [00:00<00:00,  2.94 Batches/s]\n",
      "Inferencing Samples: 100%|██████████| 1/1 [00:01<00:00,  1.67s/ Batches]\n",
      "Inferencing Samples: 100%|██████████| 1/1 [00:01<00:00,  1.65s/ Batches]\n",
      "Inferencing Samples: 100%|██████████| 1/1 [00:02<00:00,  2.77s/ Batches]\n",
      "Inferencing Samples: 100%|██████████| 1/1 [00:01<00:00,  1.96s/ Batches]\n",
      "Inferencing Samples: 100%|██████████| 1/1 [00:01<00:00,  1.31s/ Batches]\n",
      "Inferencing Samples: 100%|██████████| 1/1 [00:01<00:00,  1.32s/ Batches]\n",
      "Inferencing Samples: 100%|██████████| 1/1 [00:03<00:00,  3.02s/ Batches]\n",
      "Inferencing Samples: 100%|██████████| 1/1 [00:00<00:00,  1.47 Batches/s]\n",
      "Inferencing Samples: 100%|██████████| 1/1 [00:01<00:00,  1.71s/ Batches]\n",
      "Inferencing Samples: 100%|██████████| 1/1 [00:01<00:00,  1.66s/ Batches]\n",
      "Inferencing Samples: 100%|██████████| 1/1 [00:01<00:00,  1.64s/ Batches]\n",
      "Inferencing Samples: 100%|██████████| 1/1 [00:01<00:00,  1.61s/ Batches]\n",
      "Inferencing Samples: 100%|██████████| 1/1 [00:02<00:00,  2.37s/ Batches]\n",
      "Inferencing Samples: 100%|██████████| 1/1 [00:02<00:00,  2.12s/ Batches]\n",
      "Inferencing Samples: 100%|██████████| 1/1 [00:02<00:00,  2.02s/ Batches]\n",
      "Inferencing Samples: 100%|██████████| 1/1 [00:01<00:00,  1.98s/ Batches]\n",
      "Inferencing Samples: 100%|██████████| 1/1 [00:01<00:00,  1.67s/ Batches]\n",
      "Inferencing Samples: 100%|██████████| 1/1 [00:01<00:00,  1.69s/ Batches]\n",
      "Inferencing Samples: 100%|██████████| 1/1 [00:02<00:00,  2.05s/ Batches]\n",
      "Inferencing Samples: 100%|██████████| 1/1 [00:01<00:00,  1.69s/ Batches]\n",
      "Inferencing Samples: 100%|██████████| 1/1 [00:01<00:00,  1.60s/ Batches]\n",
      "Inferencing Samples: 100%|██████████| 1/1 [00:01<00:00,  1.32s/ Batches]\n",
      "Inferencing Samples: 100%|██████████| 1/1 [00:01<00:00,  1.96s/ Batches]\n",
      "Inferencing Samples: 100%|██████████| 1/1 [00:01<00:00,  1.71s/ Batches]\n",
      "Inferencing Samples: 100%|██████████| 1/1 [00:02<00:00,  2.01s/ Batches]\n",
      "Inferencing Samples: 100%|██████████| 1/1 [00:01<00:00,  1.65s/ Batches]\n",
      "Inferencing Samples: 100%|██████████| 1/1 [00:01<00:00,  1.67s/ Batches]\n",
      "Inferencing Samples: 100%|██████████| 1/1 [00:02<00:00,  2.13s/ Batches]\n",
      "Inferencing Samples: 100%|██████████| 1/1 [00:01<00:00,  1.71s/ Batches]\n",
      "Inferencing Samples: 100%|██████████| 1/1 [00:02<00:00,  2.76s/ Batches]\n",
      "Inferencing Samples: 100%|██████████| 1/1 [00:02<00:00,  2.09s/ Batches]\n",
      "Inferencing Samples: 100%|██████████| 1/1 [00:02<00:00,  2.21s/ Batches]\n",
      "Inferencing Samples: 100%|██████████| 1/1 [00:02<00:00,  2.27s/ Batches]\n",
      "Inferencing Samples: 100%|██████████| 1/1 [00:01<00:00,  1.12s/ Batches]\n",
      "Inferencing Samples: 100%|██████████| 1/1 [00:01<00:00,  1.82s/ Batches]\n",
      "Inferencing Samples: 100%|██████████| 1/1 [00:01<00:00,  1.11s/ Batches]\n",
      "Inferencing Samples: 100%|██████████| 1/1 [00:02<00:00,  2.13s/ Batches]\n",
      "Inferencing Samples: 100%|██████████| 1/1 [00:01<00:00,  1.02s/ Batches]\n",
      "Inferencing Samples: 100%|██████████| 1/1 [00:01<00:00,  1.47s/ Batches]\n",
      "Inferencing Samples: 100%|██████████| 1/1 [00:01<00:00,  1.67s/ Batches]\n",
      "Inferencing Samples: 100%|██████████| 1/1 [00:00<00:00,  1.33 Batches/s]\n",
      "Inferencing Samples: 100%|██████████| 1/1 [00:02<00:00,  2.51s/ Batches]\n",
      "Inferencing Samples: 100%|██████████| 1/1 [00:01<00:00,  1.36s/ Batches]\n",
      "Inferencing Samples: 100%|██████████| 1/1 [00:01<00:00,  1.38s/ Batches]\n",
      "Inferencing Samples: 100%|██████████| 1/1 [00:02<00:00,  2.19s/ Batches]\n",
      "Inferencing Samples: 100%|██████████| 1/1 [00:01<00:00,  1.04s/ Batches]\n",
      "Inferencing Samples: 100%|██████████| 1/1 [00:02<00:00,  2.09s/ Batches]\n",
      "Inferencing Samples: 100%|██████████| 1/1 [00:02<00:00,  2.03s/ Batches]\n",
      "Inferencing Samples: 100%|██████████| 1/1 [00:02<00:00,  2.11s/ Batches]\n",
      "Inferencing Samples: 100%|██████████| 1/1 [00:01<00:00,  1.64s/ Batches]\n",
      "Inferencing Samples: 100%|██████████| 1/1 [00:02<00:00,  2.76s/ Batches]\n",
      "Inferencing Samples: 100%|██████████| 1/1 [00:02<00:00,  2.28s/ Batches]\n",
      "Inferencing Samples: 100%|██████████| 1/1 [00:01<00:00,  1.64s/ Batches]\n",
      "Inferencing Samples: 100%|██████████| 1/1 [00:01<00:00,  1.97s/ Batches]\n",
      "Inferencing Samples: 100%|██████████| 1/1 [00:02<00:00,  2.36s/ Batches]\n",
      "Inferencing Samples: 100%|██████████| 1/1 [00:01<00:00,  1.94s/ Batches]\n",
      "Inferencing Samples: 100%|██████████| 1/1 [00:01<00:00,  1.66s/ Batches]\n",
      "Inferencing Samples: 100%|██████████| 1/1 [00:02<00:00,  2.71s/ Batches]\n",
      "Inferencing Samples: 100%|██████████| 1/1 [00:02<00:00,  2.02s/ Batches]\n",
      "Inferencing Samples: 100%|██████████| 1/1 [00:02<00:00,  2.02s/ Batches]\n",
      "Inferencing Samples: 100%|██████████| 1/1 [00:01<00:00,  1.35s/ Batches]\n",
      "Inferencing Samples: 100%|██████████| 1/1 [00:02<00:00,  2.42s/ Batches]\n",
      "Inferencing Samples: 100%|██████████| 1/1 [00:01<00:00,  1.34s/ Batches]\n",
      "Inferencing Samples: 100%|██████████| 1/1 [00:01<00:00,  1.35s/ Batches]\n",
      "Inferencing Samples: 100%|██████████| 1/1 [00:01<00:00,  1.02s/ Batches]\n",
      "Inferencing Samples: 100%|██████████| 1/1 [00:01<00:00,  1.67s/ Batches]\n",
      "Inferencing Samples: 100%|██████████| 1/1 [00:03<00:00,  3.38s/ Batches]\n",
      "Inferencing Samples: 100%|██████████| 1/1 [00:01<00:00,  1.99s/ Batches]\n",
      "Inferencing Samples: 100%|██████████| 1/1 [00:02<00:00,  2.06s/ Batches]\n",
      "Inferencing Samples: 100%|██████████| 1/1 [00:00<00:00,  1.45 Batches/s]\n",
      "Inferencing Samples: 100%|██████████| 1/1 [00:01<00:00,  1.70s/ Batches]\n",
      "Inferencing Samples: 100%|██████████| 1/1 [00:02<00:00,  2.04s/ Batches]\n",
      "Inferencing Samples: 100%|██████████| 1/1 [00:02<00:00,  2.03s/ Batches]\n",
      "Inferencing Samples: 100%|██████████| 1/1 [00:02<00:00,  2.02s/ Batches]\n",
      "Inferencing Samples: 100%|██████████| 1/1 [00:01<00:00,  2.00s/ Batches]\n",
      "Inferencing Samples: 100%|██████████| 1/1 [00:01<00:00,  1.71s/ Batches]\n",
      "Inferencing Samples: 100%|██████████| 1/1 [00:02<00:00,  2.02s/ Batches]\n",
      "Inferencing Samples: 100%|██████████| 1/1 [00:01<00:00,  1.35s/ Batches]\n",
      "Inferencing Samples: 100%|██████████| 1/1 [00:01<00:00,  1.34s/ Batches]\n",
      "Inferencing Samples: 100%|██████████| 1/1 [00:02<00:00,  2.73s/ Batches]\n",
      "Inferencing Samples: 100%|██████████| 1/1 [00:03<00:00,  3.06s/ Batches]\n",
      "Inferencing Samples: 100%|██████████| 1/1 [00:02<00:00,  2.39s/ Batches]\n",
      "Inferencing Samples: 100%|██████████| 1/1 [00:01<00:00,  1.35s/ Batches]\n",
      "Inferencing Samples: 100%|██████████| 1/1 [00:03<00:00,  3.06s/ Batches]\n",
      "Inferencing Samples: 100%|██████████| 1/1 [00:01<00:00,  1.49s/ Batches]\n",
      "Inferencing Samples: 100%|██████████| 1/1 [00:00<00:00,  1.47 Batches/s]\n",
      "Inferencing Samples: 100%|██████████| 1/1 [00:01<00:00,  1.33s/ Batches]\n",
      "Inferencing Samples: 100%|██████████| 1/1 [00:01<00:00,  1.68s/ Batches]\n",
      "Inferencing Samples: 100%|██████████| 1/1 [00:01<00:00,  1.09s/ Batches]\n",
      "Inferencing Samples: 100%|██████████| 1/1 [00:01<00:00,  1.70s/ Batches]\n",
      "Inferencing Samples: 100%|██████████| 1/1 [00:03<00:00,  3.05s/ Batches]\n",
      "Inferencing Samples: 100%|██████████| 1/1 [00:01<00:00,  1.68s/ Batches]\n",
      "Inferencing Samples: 100%|██████████| 1/1 [00:01<00:00,  1.72s/ Batches]\n",
      "Inferencing Samples: 100%|██████████| 1/1 [00:03<00:00,  3.14s/ Batches]\n",
      "Inferencing Samples: 100%|██████████| 1/1 [00:02<00:00,  2.54s/ Batches]\n",
      "Inferencing Samples: 100%|██████████| 1/1 [00:01<00:00,  1.36s/ Batches]\n",
      "Inferencing Samples: 100%|██████████| 1/1 [00:01<00:00,  1.03s/ Batches]\n",
      "Inferencing Samples: 100%|██████████| 1/1 [00:02<00:00,  2.05s/ Batches]\n",
      "Inferencing Samples: 100%|██████████| 1/1 [00:02<00:00,  2.48s/ Batches]\n",
      "Inferencing Samples: 100%|██████████| 1/1 [00:02<00:00,  2.56s/ Batches]\n",
      "Inferencing Samples: 100%|██████████| 1/1 [00:02<00:00,  2.97s/ Batches]\n",
      "Inferencing Samples: 100%|██████████| 1/1 [00:01<00:00,  1.71s/ Batches]\n",
      "Inferencing Samples: 100%|██████████| 1/1 [00:01<00:00,  1.93s/ Batches]\n",
      "Inferencing Samples: 100%|██████████| 1/1 [00:01<00:00,  1.93s/ Batches]\n",
      "Inferencing Samples: 100%|██████████| 1/1 [00:02<00:00,  2.30s/ Batches]\n",
      "Inferencing Samples: 100%|██████████| 1/1 [00:02<00:00,  2.34s/ Batches]\n",
      "Inferencing Samples: 100%|██████████| 1/1 [00:02<00:00,  2.27s/ Batches]\n",
      "Inferencing Samples: 100%|██████████| 1/1 [00:02<00:00,  2.65s/ Batches]\n",
      "Inferencing Samples: 100%|██████████| 1/1 [00:01<00:00,  1.99s/ Batches]\n",
      "Inferencing Samples: 100%|██████████| 1/1 [00:01<00:00,  1.64s/ Batches]\n",
      "Inferencing Samples: 100%|██████████| 1/1 [00:02<00:00,  2.35s/ Batches]\n",
      "Inferencing Samples: 100%|██████████| 1/1 [00:01<00:00,  1.32s/ Batches]\n",
      "Inferencing Samples: 100%|██████████| 1/1 [00:01<00:00,  1.95s/ Batches]\n",
      "Inferencing Samples: 100%|██████████| 1/1 [00:00<00:00,  2.89 Batches/s]\n",
      "Inferencing Samples: 100%|██████████| 1/1 [00:01<00:00,  1.61s/ Batches]\n",
      "Inferencing Samples: 100%|██████████| 1/1 [00:00<00:00,  1.56 Batches/s]\n",
      "Inferencing Samples: 100%|██████████| 1/1 [00:01<00:00,  1.63s/ Batches]\n",
      "Inferencing Samples: 100%|██████████| 1/1 [00:04<00:00,  4.53s/ Batches]\n",
      "Inferencing Samples: 100%|██████████| 1/1 [00:01<00:00,  1.64s/ Batches]\n",
      "Inferencing Samples: 100%|██████████| 1/1 [00:01<00:00,  1.29s/ Batches]\n",
      "Inferencing Samples: 100%|██████████| 1/1 [00:02<00:00,  2.97s/ Batches]\n",
      "Inferencing Samples: 100%|██████████| 1/1 [00:00<00:00,  1.00 Batches/s]\n",
      "Inferencing Samples: 100%|██████████| 1/1 [00:00<00:00,  1.53 Batches/s]\n",
      "Inferencing Samples: 100%|██████████| 1/1 [00:01<00:00,  1.92s/ Batches]\n",
      "Inferencing Samples: 100%|██████████| 1/1 [00:01<00:00,  1.59s/ Batches]\n",
      "Inferencing Samples: 100%|██████████| 1/1 [00:02<00:00,  2.67s/ Batches]\n",
      "Inferencing Samples: 100%|██████████| 1/1 [00:00<00:00,  1.48 Batches/s]\n",
      "Inferencing Samples: 100%|██████████| 1/1 [00:02<00:00,  2.27s/ Batches]\n",
      "Inferencing Samples: 100%|██████████| 1/1 [00:00<00:00,  1.02 Batches/s]\n",
      "Inferencing Samples: 100%|██████████| 1/1 [00:01<00:00,  1.34s/ Batches]\n",
      "Inferencing Samples: 100%|██████████| 1/1 [00:01<00:00,  1.91s/ Batches]\n",
      "Inferencing Samples: 100%|██████████| 1/1 [00:01<00:00,  1.91s/ Batches]\n",
      "Inferencing Samples: 100%|██████████| 1/1 [00:00<00:00,  1.05 Batches/s]\n",
      "Inferencing Samples: 100%|██████████| 1/1 [00:01<00:00,  1.97s/ Batches]\n",
      "Inferencing Samples: 100%|██████████| 1/1 [00:01<00:00,  1.92s/ Batches]\n",
      "Inferencing Samples: 100%|██████████| 1/1 [00:02<00:00,  2.58s/ Batches]\n",
      "Inferencing Samples: 100%|██████████| 1/1 [00:01<00:00,  1.64s/ Batches]\n",
      "Inferencing Samples: 100%|██████████| 1/1 [00:01<00:00,  1.27s/ Batches]\n",
      "Inferencing Samples: 100%|██████████| 1/1 [00:01<00:00,  1.55s/ Batches]\n",
      "Inferencing Samples: 100%|██████████| 1/1 [00:01<00:00,  1.90s/ Batches]\n",
      "Inferencing Samples: 100%|██████████| 1/1 [00:02<00:00,  2.24s/ Batches]\n",
      "Inferencing Samples: 100%|██████████| 1/1 [00:01<00:00,  1.60s/ Batches]\n",
      "Inferencing Samples: 100%|██████████| 1/1 [00:01<00:00,  1.90s/ Batches]\n",
      "Inferencing Samples: 100%|██████████| 1/1 [00:01<00:00,  1.28s/ Batches]\n",
      "Inferencing Samples: 100%|██████████| 1/1 [00:02<00:00,  2.41s/ Batches]\n",
      "Inferencing Samples: 100%|██████████| 1/1 [00:01<00:00,  1.30s/ Batches]\n",
      "Inferencing Samples: 100%|██████████| 1/1 [00:02<00:00,  2.27s/ Batches]\n",
      "Inferencing Samples: 100%|██████████| 1/1 [00:00<00:00,  1.05 Batches/s]\n",
      "Inferencing Samples: 100%|██████████| 1/1 [00:01<00:00,  1.62s/ Batches]\n",
      "Inferencing Samples: 100%|██████████| 1/1 [00:02<00:00,  2.31s/ Batches]\n",
      "Inferencing Samples: 100%|██████████| 1/1 [00:01<00:00,  1.32s/ Batches]\n",
      "Inferencing Samples: 100%|██████████| 1/1 [00:01<00:00,  1.65s/ Batches]\n",
      "Inferencing Samples: 100%|██████████| 1/1 [00:01<00:00,  1.07s/ Batches]\n",
      "Inferencing Samples: 100%|██████████| 1/1 [00:01<00:00,  1.93s/ Batches]\n",
      "Inferencing Samples: 100%|██████████| 1/1 [00:02<00:00,  2.70s/ Batches]\n",
      "Inferencing Samples: 100%|██████████| 1/1 [00:01<00:00,  1.61s/ Batches]\n",
      "Inferencing Samples: 100%|██████████| 1/1 [00:01<00:00,  1.02s/ Batches]\n",
      "Inferencing Samples: 100%|██████████| 1/1 [00:01<00:00,  1.33s/ Batches]\n",
      "Inferencing Samples: 100%|██████████| 1/1 [00:00<00:00,  1.43 Batches/s]\n",
      "Inferencing Samples: 100%|██████████| 1/1 [00:00<00:00,  1.01 Batches/s]\n",
      "Inferencing Samples: 100%|██████████| 1/1 [00:02<00:00,  2.02s/ Batches]\n",
      "Inferencing Samples: 100%|██████████| 1/1 [00:01<00:00,  1.37s/ Batches]\n",
      "Inferencing Samples: 100%|██████████| 1/1 [00:02<00:00,  2.40s/ Batches]\n",
      "Inferencing Samples: 100%|██████████| 1/1 [00:01<00:00,  1.39s/ Batches]\n",
      "Inferencing Samples: 100%|██████████| 1/1 [00:01<00:00,  1.41s/ Batches]\n",
      "Inferencing Samples: 100%|██████████| 1/1 [00:01<00:00,  1.75s/ Batches]\n",
      "Inferencing Samples: 100%|██████████| 1/1 [00:01<00:00,  1.06s/ Batches]\n",
      "Inferencing Samples: 100%|██████████| 1/1 [00:02<00:00,  2.04s/ Batches]\n",
      "Inferencing Samples: 100%|██████████| 1/1 [00:01<00:00,  1.07s/ Batches]\n",
      "Inferencing Samples: 100%|██████████| 1/1 [00:02<00:00,  2.36s/ Batches]\n",
      "Inferencing Samples: 100%|██████████| 1/1 [00:01<00:00,  1.69s/ Batches]\n",
      "Inferencing Samples: 100%|██████████| 1/1 [00:01<00:00,  1.02s/ Batches]\n",
      "Inferencing Samples: 100%|██████████| 1/1 [00:01<00:00,  1.32s/ Batches]\n",
      "Inferencing Samples: 100%|██████████| 1/1 [00:01<00:00,  1.69s/ Batches]\n",
      "Inferencing Samples: 100%|██████████| 1/1 [00:01<00:00,  1.69s/ Batches]\n",
      "Inferencing Samples: 100%|██████████| 1/1 [00:01<00:00,  1.34s/ Batches]\n",
      "Inferencing Samples: 100%|██████████| 1/1 [00:01<00:00,  1.01s/ Batches]\n",
      "Inferencing Samples: 100%|██████████| 1/1 [00:01<00:00,  1.73s/ Batches]\n",
      "Inferencing Samples: 100%|██████████| 1/1 [00:02<00:00,  2.07s/ Batches]\n",
      "Inferencing Samples: 100%|██████████| 1/1 [00:03<00:00,  3.57s/ Batches]\n",
      "Inferencing Samples: 100%|██████████| 1/1 [00:01<00:00,  1.72s/ Batches]\n",
      "Inferencing Samples: 100%|██████████| 1/1 [00:04<00:00,  4.65s/ Batches]\n",
      "Inferencing Samples: 100%|██████████| 1/1 [00:03<00:00,  3.07s/ Batches]\n",
      "Inferencing Samples: 100%|██████████| 1/1 [00:05<00:00,  5.08s/ Batches]\n",
      "Inferencing Samples: 100%|██████████| 1/1 [00:01<00:00,  1.71s/ Batches]\n",
      "Inferencing Samples: 100%|██████████| 1/1 [00:04<00:00,  4.53s/ Batches]\n",
      "Inferencing Samples: 100%|██████████| 1/1 [00:04<00:00,  4.96s/ Batches]\n",
      "Inferencing Samples: 100%|██████████| 1/1 [00:04<00:00,  4.91s/ Batches]\n",
      "Inferencing Samples: 100%|██████████| 1/1 [00:03<00:00,  3.82s/ Batches]\n",
      "Inferencing Samples: 100%|██████████| 1/1 [00:01<00:00,  1.48s/ Batches]\n",
      "Inferencing Samples: 100%|██████████| 1/1 [00:00<00:00,  1.39 Batches/s]\n",
      "Inferencing Samples: 100%|██████████| 1/1 [00:01<00:00,  1.71s/ Batches]\n",
      "Inferencing Samples: 100%|██████████| 1/1 [00:02<00:00,  2.02s/ Batches]\n",
      "Inferencing Samples: 100%|██████████| 1/1 [00:02<00:00,  2.38s/ Batches]\n",
      "Inferencing Samples: 100%|██████████| 1/1 [00:02<00:00,  2.73s/ Batches]\n",
      "Inferencing Samples: 100%|██████████| 1/1 [00:02<00:00,  2.04s/ Batches]\n",
      "Inferencing Samples: 100%|██████████| 1/1 [00:02<00:00,  2.66s/ Batches]\n",
      "Inferencing Samples: 100%|██████████| 1/1 [00:01<00:00,  1.99s/ Batches]\n",
      "Inferencing Samples: 100%|██████████| 1/1 [00:01<00:00,  1.38s/ Batches]\n",
      "Inferencing Samples: 100%|██████████| 1/1 [00:01<00:00,  1.77s/ Batches]\n",
      "Inferencing Samples: 100%|██████████| 1/1 [00:02<00:00,  2.45s/ Batches]\n",
      "Inferencing Samples: 100%|██████████| 1/1 [00:01<00:00,  1.16s/ Batches]\n",
      "Inferencing Samples: 100%|██████████| 1/1 [00:01<00:00,  1.78s/ Batches]\n",
      "Inferencing Samples: 100%|██████████| 1/1 [00:02<00:00,  2.46s/ Batches]\n",
      "Inferencing Samples: 100%|██████████| 1/1 [00:02<00:00,  2.12s/ Batches]\n",
      "Inferencing Samples: 100%|██████████| 1/1 [00:02<00:00,  2.12s/ Batches]\n",
      "Inferencing Samples: 100%|██████████| 1/1 [00:01<00:00,  1.74s/ Batches]\n",
      "Inferencing Samples: 100%|██████████| 1/1 [00:00<00:00,  2.77 Batches/s]\n",
      "Inferencing Samples: 100%|██████████| 1/1 [00:05<00:00,  5.45s/ Batches]\n",
      "Inferencing Samples: 100%|██████████| 1/1 [00:02<00:00,  2.34s/ Batches]\n",
      "Inferencing Samples: 100%|██████████| 1/1 [00:02<00:00,  2.36s/ Batches]\n",
      "Inferencing Samples: 100%|██████████| 1/1 [00:01<00:00,  1.99s/ Batches]\n",
      "Inferencing Samples: 100%|██████████| 1/1 [00:01<00:00,  1.42s/ Batches]\n",
      "Inferencing Samples: 100%|██████████| 1/1 [00:00<00:00,  1.43 Batches/s]\n",
      "Inferencing Samples: 100%|██████████| 1/1 [00:01<00:00,  1.33s/ Batches]\n",
      "Inferencing Samples: 100%|██████████| 2/2 [00:21<00:00, 10.61s/ Batches]\n",
      "Inferencing Samples: 100%|██████████| 1/1 [00:03<00:00,  3.26s/ Batches]\n",
      "Inferencing Samples: 100%|██████████| 1/1 [00:02<00:00,  2.61s/ Batches]\n",
      "Inferencing Samples: 100%|██████████| 1/1 [00:01<00:00,  1.69s/ Batches]\n",
      "Inferencing Samples: 100%|██████████| 1/1 [00:01<00:00,  1.69s/ Batches]\n",
      "Inferencing Samples: 100%|██████████| 1/1 [00:01<00:00,  1.64s/ Batches]\n",
      "Inferencing Samples: 100%|██████████| 2/2 [00:21<00:00, 10.56s/ Batches]\n",
      "Inferencing Samples: 100%|██████████| 1/1 [00:01<00:00,  1.95s/ Batches]\n",
      "Inferencing Samples: 100%|██████████| 1/1 [00:01<00:00,  1.91s/ Batches]\n",
      "Inferencing Samples: 100%|██████████| 1/1 [00:01<00:00,  1.26s/ Batches]\n",
      "Inferencing Samples: 100%|██████████| 1/1 [00:01<00:00,  1.70s/ Batches]\n",
      "Inferencing Samples: 100%|██████████| 1/1 [00:01<00:00,  1.30s/ Batches]\n",
      "Inferencing Samples: 100%|██████████| 1/1 [00:01<00:00,  1.30s/ Batches]\n",
      "Inferencing Samples: 100%|██████████| 1/1 [00:01<00:00,  1.62s/ Batches]\n",
      "Inferencing Samples: 100%|██████████| 1/1 [00:01<00:00,  1.65s/ Batches]\n",
      "Inferencing Samples: 100%|██████████| 1/1 [00:01<00:00,  1.60s/ Batches]\n",
      "Inferencing Samples: 100%|██████████| 1/1 [00:01<00:00,  1.63s/ Batches]\n",
      "Inferencing Samples: 100%|██████████| 1/1 [00:00<00:00,  1.04 Batches/s]\n",
      "Inferencing Samples: 100%|██████████| 1/1 [00:01<00:00,  1.64s/ Batches]\n",
      "Inferencing Samples: 100%|██████████| 1/1 [00:00<00:00,  1.55 Batches/s]\n"
     ]
    }
   ],
   "source": [
    "results = []\n",
    "for doc in document_store:\n",
    "    results.append(qag_pipeline.run(documents=[doc]))"
   ]
  },
  {
   "cell_type": "code",
   "execution_count": 119,
   "id": "c1b2b5a2-31dd-4f41-a055-f17d16c3ef49",
   "metadata": {
    "collapsed": true,
    "jupyter": {
     "outputs_hidden": true
    },
    "tags": []
   },
   "outputs": [
    {
     "data": {
      "text/plain": [
       "[{'queries': ['What can happen to some people after getting a COVID-19 Vaccine?',\n",
       "   'What should go away in a few days?',\n",
       "   'What should you do if you have a fever?',\n",
       "   'How do you treat a headache?',\n",
       "   'What is the name of the washcloth that you apply to the area of the shot?',\n",
       "   'What can you do if you have fever?',\n",
       "   'What is the name of the person who can give you medicine?'],\n",
       "  'answers': [[<Answer {'answer': 'side effects', 'type': 'extractive', 'score': 0.8363351225852966, 'context': ' Expect after Getting a COVID-19 Vaccine\\nThe COVID-19 shot may cause side effects in some people. Side effects should go away in a few days. On the ar', 'offsets_in_document': [{'start': 96, 'end': 108}], 'offsets_in_context': [{'start': 69, 'end': 81}], 'document_id': 'f059e215ee14a89be75d577ec5ad4eb2', 'meta': {'_split_id': 0}}>],\n",
       "   [<Answer {'answer': 'Side effects', 'type': 'extractive', 'score': 0.6684945821762085, 'context': '-19 Vaccine\\nThe COVID-19 shot may cause side effects in some people. Side effects should go away in a few days. On the arm where you got the shot:\\n• P', 'offsets_in_document': [{'start': 125, 'end': 137}], 'offsets_in_context': [{'start': 69, 'end': 81}], 'document_id': 'f059e215ee14a89be75d577ec5ad4eb2', 'meta': {'_split_id': 0}}>],\n",
       "   [<Answer {'answer': 'Drink a lot of water', 'type': 'extractive', 'score': 0.3283005952835083, 'context': 'er the area\\n• Use or move your arm gently\\nIf you have a fever:\\n• Drink a lot of water\\n• Get plenty of rest\\n• Dress lightly\\nIf you have pain, headache,', 'offsets_in_document': [{'start': 375, 'end': 395}], 'offsets_in_context': [{'start': 65, 'end': 85}], 'document_id': 'f059e215ee14a89be75d577ec5ad4eb2', 'meta': {'_split_id': 0}}>],\n",
       "   [<Answer {'answer': 'ask a healthcare provider (or facility\\nstaff) if you can have medicine', 'type': 'extractive', 'score': 0.01796908862888813, 'context': 'ter\\n• Get plenty of rest\\n• Dress lightly\\nIf you have pain, headache, or fever, ask a healthcare provider (or facility\\nstaff) if you can have medicine.', 'offsets_in_document': [{'start': 471, 'end': 541}], 'offsets_in_context': [{'start': 79, 'end': 149}], 'document_id': 'f059e215ee14a89be75d577ec5ad4eb2', 'meta': {'_split_id': 0}}>],\n",
       "   [<Answer {'answer': 'clean, cool, wet', 'type': 'extractive', 'score': 0.5172806978225708, 'context': 'dness\\n• Swelling\\nIf you are sore where you got the shot:\\n• Apply a clean, cool, wet washcloth over the area\\n• Use or move your arm gently\\nIf you have ', 'offsets_in_document': [{'start': 281, 'end': 297}], 'offsets_in_context': [{'start': 67, 'end': 83}], 'document_id': 'f059e215ee14a89be75d577ec5ad4eb2', 'meta': {'_split_id': 0}}>],\n",
       "   [<Answer {'answer': 'Drink a lot of water', 'type': 'extractive', 'score': 0.34779030084609985, 'context': 'er the area\\n• Use or move your arm gently\\nIf you have a fever:\\n• Drink a lot of water\\n• Get plenty of rest\\n• Dress lightly\\nIf you have pain, headache,', 'offsets_in_document': [{'start': 375, 'end': 395}], 'offsets_in_context': [{'start': 65, 'end': 85}], 'document_id': 'f059e215ee14a89be75d577ec5ad4eb2', 'meta': {'_split_id': 0}}>],\n",
       "   [<Answer {'answer': 'healthcare provider', 'type': 'extractive', 'score': 0.6243108510971069, 'context': 'ter\\n• Get plenty of rest\\n• Dress lightly\\nIf you have pain, headache, or fever, ask a healthcare provider (or facility\\nstaff) if you can have medicine.', 'offsets_in_document': [{'start': 477, 'end': 496}], 'offsets_in_context': [{'start': 85, 'end': 104}], 'document_id': 'f059e215ee14a89be75d577ec5ad4eb2', 'meta': {'_split_id': 0}}>]],\n",
       "  'no_ans_gaps': [9.010706186294556,\n",
       "   4.517369508743286,\n",
       "   0.5282201766967773,\n",
       "   -8.128799557685852,\n",
       "   4.470386505126953,\n",
       "   0.673454761505127,\n",
       "   2.621795654296875],\n",
       "  'documents': [[<Document: {'content': 'cdc.gov/coronavirus\\nWhat to Expect after Getting a COVID-19 Vaccine\\nThe COVID-19 shot may cause side effects in some people. Side effects should go away in a few days. On the arm where you got the shot:\\n• Pain\\n• Redness\\n• Swelling\\nIf you are sore where you got the shot:\\n• Apply a clean, cool, wet washcloth over the area\\n• Use or move your arm gently\\nIf you have a fever:\\n• Drink a lot of water\\n• Get plenty of rest\\n• Dress lightly\\nIf you have pain, headache, or fever, ask a healthcare provider (or facility\\nstaff) if you can have medicine.', 'content_type': 'text', 'score': None, 'meta': {'_split_id': 0}, 'embedding': None, 'id': 'f059e215ee14a89be75d577ec5ad4eb2'}>],\n",
       "   [<Document: {'content': 'cdc.gov/coronavirus\\nWhat to Expect after Getting a COVID-19 Vaccine\\nThe COVID-19 shot may cause side effects in some people. Side effects should go away in a few days. On the arm where you got the shot:\\n• Pain\\n• Redness\\n• Swelling\\nIf you are sore where you got the shot:\\n• Apply a clean, cool, wet washcloth over the area\\n• Use or move your arm gently\\nIf you have a fever:\\n• Drink a lot of water\\n• Get plenty of rest\\n• Dress lightly\\nIf you have pain, headache, or fever, ask a healthcare provider (or facility\\nstaff) if you can have medicine.', 'content_type': 'text', 'score': None, 'meta': {'_split_id': 0}, 'embedding': None, 'id': 'f059e215ee14a89be75d577ec5ad4eb2'}>],\n",
       "   [<Document: {'content': 'cdc.gov/coronavirus\\nWhat to Expect after Getting a COVID-19 Vaccine\\nThe COVID-19 shot may cause side effects in some people. Side effects should go away in a few days. On the arm where you got the shot:\\n• Pain\\n• Redness\\n• Swelling\\nIf you are sore where you got the shot:\\n• Apply a clean, cool, wet washcloth over the area\\n• Use or move your arm gently\\nIf you have a fever:\\n• Drink a lot of water\\n• Get plenty of rest\\n• Dress lightly\\nIf you have pain, headache, or fever, ask a healthcare provider (or facility\\nstaff) if you can have medicine.', 'content_type': 'text', 'score': None, 'meta': {'_split_id': 0}, 'embedding': None, 'id': 'f059e215ee14a89be75d577ec5ad4eb2'}>],\n",
       "   [<Document: {'content': 'cdc.gov/coronavirus\\nWhat to Expect after Getting a COVID-19 Vaccine\\nThe COVID-19 shot may cause side effects in some people. Side effects should go away in a few days. On the arm where you got the shot:\\n• Pain\\n• Redness\\n• Swelling\\nIf you are sore where you got the shot:\\n• Apply a clean, cool, wet washcloth over the area\\n• Use or move your arm gently\\nIf you have a fever:\\n• Drink a lot of water\\n• Get plenty of rest\\n• Dress lightly\\nIf you have pain, headache, or fever, ask a healthcare provider (or facility\\nstaff) if you can have medicine.', 'content_type': 'text', 'score': None, 'meta': {'_split_id': 0}, 'embedding': None, 'id': 'f059e215ee14a89be75d577ec5ad4eb2'}>],\n",
       "   [<Document: {'content': 'cdc.gov/coronavirus\\nWhat to Expect after Getting a COVID-19 Vaccine\\nThe COVID-19 shot may cause side effects in some people. Side effects should go away in a few days. On the arm where you got the shot:\\n• Pain\\n• Redness\\n• Swelling\\nIf you are sore where you got the shot:\\n• Apply a clean, cool, wet washcloth over the area\\n• Use or move your arm gently\\nIf you have a fever:\\n• Drink a lot of water\\n• Get plenty of rest\\n• Dress lightly\\nIf you have pain, headache, or fever, ask a healthcare provider (or facility\\nstaff) if you can have medicine.', 'content_type': 'text', 'score': None, 'meta': {'_split_id': 0}, 'embedding': None, 'id': 'f059e215ee14a89be75d577ec5ad4eb2'}>],\n",
       "   [<Document: {'content': 'cdc.gov/coronavirus\\nWhat to Expect after Getting a COVID-19 Vaccine\\nThe COVID-19 shot may cause side effects in some people. Side effects should go away in a few days. On the arm where you got the shot:\\n• Pain\\n• Redness\\n• Swelling\\nIf you are sore where you got the shot:\\n• Apply a clean, cool, wet washcloth over the area\\n• Use or move your arm gently\\nIf you have a fever:\\n• Drink a lot of water\\n• Get plenty of rest\\n• Dress lightly\\nIf you have pain, headache, or fever, ask a healthcare provider (or facility\\nstaff) if you can have medicine.', 'content_type': 'text', 'score': None, 'meta': {'_split_id': 0}, 'embedding': None, 'id': 'f059e215ee14a89be75d577ec5ad4eb2'}>],\n",
       "   [<Document: {'content': 'cdc.gov/coronavirus\\nWhat to Expect after Getting a COVID-19 Vaccine\\nThe COVID-19 shot may cause side effects in some people. Side effects should go away in a few days. On the arm where you got the shot:\\n• Pain\\n• Redness\\n• Swelling\\nIf you are sore where you got the shot:\\n• Apply a clean, cool, wet washcloth over the area\\n• Use or move your arm gently\\nIf you have a fever:\\n• Drink a lot of water\\n• Get plenty of rest\\n• Dress lightly\\nIf you have pain, headache, or fever, ask a healthcare provider (or facility\\nstaff) if you can have medicine.', 'content_type': 'text', 'score': None, 'meta': {'_split_id': 0}, 'embedding': None, 'id': 'f059e215ee14a89be75d577ec5ad4eb2'}>]],\n",
       "  'root_node': 'Query',\n",
       "  'params': {},\n",
       "  'node_id': 'Reader'},\n",
       " {'queries': ['What should you wear when you are in a correctional facility?',\n",
       "   'How far away from others should you stay from others?',\n",
       "   'What can side effects of COVID-19 make you feel?',\n",
       "   'What should go away in a few days?',\n",
       "   'Staff and residents should stay up to date on what?',\n",
       "   'What may not fully protect you until a week or two after your final shot?',\n",
       "   'How long does it take for your body to build protection after a vaccination?'],\n",
       "  'answers': [[<Answer {'answer': 'a well-fitting mask', 'type': 'extractive', 'score': 0.7163498401641846, 'context': 're in a correctional facility, it’s important\\nto continue wearing a well-fitting mask, try to stay at least 6 feet away from others as\\nmuch as possibl', 'offsets_in_document': [{'start': 114, 'end': 133}], 'offsets_in_context': [{'start': 66, 'end': 85}], 'document_id': 'd7bba6b692a38859debc1bf7955686d5', 'meta': {'_split_id': 1}}>],\n",
       "   [<Answer {'answer': '6 feet', 'type': 'extractive', 'score': 0.7959473133087158, 'context': 'important\\nto continue wearing a well-fitting mask, try to stay at least 6 feet away from others as\\nmuch as possible, and wash your hands often. Side e', 'offsets_in_document': [{'start': 156, 'end': 162}], 'offsets_in_context': [{'start': 72, 'end': 78}], 'document_id': 'd7bba6b692a38859debc1bf7955686d5', 'meta': {'_split_id': 1}}>],\n",
       "   [<Answer {'answer': 'a little sick', 'type': 'extractive', 'score': 0.7491577863693237, 'context': ' possible, and wash your hands often. Side effects may make\\nyou feel a little sick or\\neven make it hard to\\ndo daily activities, but\\nthey should go awa', 'offsets_in_document': [{'start': 259, 'end': 272}], 'offsets_in_context': [{'start': 69, 'end': 82}], 'document_id': 'd7bba6b692a38859debc1bf7955686d5', 'meta': {'_split_id': 1}}>],\n",
       "   [<Answer {'answer': 'Side effects', 'type': 'extractive', 'score': 0.8123641610145569, 'context': 'eet away from others as\\nmuch as possible, and wash your hands often. Side effects may make\\nyou feel a little sick or\\neven make it hard to\\ndo daily act', 'offsets_in_document': [{'start': 228, 'end': 240}], 'offsets_in_context': [{'start': 69, 'end': 81}], 'document_id': 'd7bba6b692a38859debc1bf7955686d5', 'meta': {'_split_id': 1}}>],\n",
       "   [<Answer {'answer': 'COVID-19 vaccines', 'type': 'extractive', 'score': 0.7546091675758362, 'context': 'rates and\\nensure that staff and\\nresidents stay up to date\\non their COVID-19 vaccines. COVID-19 vaccines may\\nnot fully protect you\\nuntil a week or two ', 'offsets_in_document': [{'start': 436, 'end': 453}], 'offsets_in_context': [{'start': 67, 'end': 84}], 'document_id': 'd7bba6b692a38859debc1bf7955686d5', 'meta': {'_split_id': 1}}>],\n",
       "   [<Answer {'answer': 'COVID-19 vaccines', 'type': 'extractive', 'score': 0.9304671287536621, 'context': 'at staff and\\nresidents stay up to date\\non their COVID-19 vaccines. COVID-19 vaccines may\\nnot fully protect you\\nuntil a week or two after\\nyour final sh', 'offsets_in_document': [{'start': 455, 'end': 472}], 'offsets_in_context': [{'start': 67, 'end': 84}], 'document_id': 'd7bba6b692a38859debc1bf7955686d5', 'meta': {'_split_id': 1}}>],\n",
       "   [<Answer {'answer': 'It takes\\ntime', 'type': 'extractive', 'score': 0.2589397728443146, 'context': '9 vaccines may\\nnot fully protect you\\nuntil a week or two after\\nyour final shot. It takes\\ntime for your body to\\nbuild protection after\\nany vaccination.', 'offsets_in_document': [{'start': 542, 'end': 555}], 'offsets_in_context': [{'start': 80, 'end': 93}], 'document_id': 'd7bba6b692a38859debc1bf7955686d5', 'meta': {'_split_id': 1}}>]],\n",
       "  'no_ans_gaps': [7.925323486328125,\n",
       "   5.960910320281982,\n",
       "   8.538694143295288,\n",
       "   7.067813873291016,\n",
       "   7.51009464263916,\n",
       "   10.032347559928894,\n",
       "   -0.7360639572143555],\n",
       "  'documents': [[<Document: {'content': 'Even after your COVID-19 vaccination, when you are in a correctional facility, it’s important\\nto continue wearing a well-fitting mask, try to stay at least 6 feet away from others as\\nmuch as possible, and wash your hands often. Side effects may make\\nyou feel a little sick or\\neven make it hard to\\ndo daily activities, but\\nthey should go away\\nin a few days. vaccination rates and\\nensure that staff and\\nresidents stay up to date\\non their COVID-19 vaccines. COVID-19 vaccines may\\nnot fully protect you\\nuntil a week or two after\\nyour final shot. It takes\\ntime for your body to\\nbuild protection after\\nany vaccination.', 'content_type': 'text', 'score': None, 'meta': {'_split_id': 1}, 'embedding': None, 'id': 'd7bba6b692a38859debc1bf7955686d5'}>],\n",
       "   [<Document: {'content': 'Even after your COVID-19 vaccination, when you are in a correctional facility, it’s important\\nto continue wearing a well-fitting mask, try to stay at least 6 feet away from others as\\nmuch as possible, and wash your hands often. Side effects may make\\nyou feel a little sick or\\neven make it hard to\\ndo daily activities, but\\nthey should go away\\nin a few days. vaccination rates and\\nensure that staff and\\nresidents stay up to date\\non their COVID-19 vaccines. COVID-19 vaccines may\\nnot fully protect you\\nuntil a week or two after\\nyour final shot. It takes\\ntime for your body to\\nbuild protection after\\nany vaccination.', 'content_type': 'text', 'score': None, 'meta': {'_split_id': 1}, 'embedding': None, 'id': 'd7bba6b692a38859debc1bf7955686d5'}>],\n",
       "   [<Document: {'content': 'Even after your COVID-19 vaccination, when you are in a correctional facility, it’s important\\nto continue wearing a well-fitting mask, try to stay at least 6 feet away from others as\\nmuch as possible, and wash your hands often. Side effects may make\\nyou feel a little sick or\\neven make it hard to\\ndo daily activities, but\\nthey should go away\\nin a few days. vaccination rates and\\nensure that staff and\\nresidents stay up to date\\non their COVID-19 vaccines. COVID-19 vaccines may\\nnot fully protect you\\nuntil a week or two after\\nyour final shot. It takes\\ntime for your body to\\nbuild protection after\\nany vaccination.', 'content_type': 'text', 'score': None, 'meta': {'_split_id': 1}, 'embedding': None, 'id': 'd7bba6b692a38859debc1bf7955686d5'}>],\n",
       "   [<Document: {'content': 'Even after your COVID-19 vaccination, when you are in a correctional facility, it’s important\\nto continue wearing a well-fitting mask, try to stay at least 6 feet away from others as\\nmuch as possible, and wash your hands often. Side effects may make\\nyou feel a little sick or\\neven make it hard to\\ndo daily activities, but\\nthey should go away\\nin a few days. vaccination rates and\\nensure that staff and\\nresidents stay up to date\\non their COVID-19 vaccines. COVID-19 vaccines may\\nnot fully protect you\\nuntil a week or two after\\nyour final shot. It takes\\ntime for your body to\\nbuild protection after\\nany vaccination.', 'content_type': 'text', 'score': None, 'meta': {'_split_id': 1}, 'embedding': None, 'id': 'd7bba6b692a38859debc1bf7955686d5'}>],\n",
       "   [<Document: {'content': 'Even after your COVID-19 vaccination, when you are in a correctional facility, it’s important\\nto continue wearing a well-fitting mask, try to stay at least 6 feet away from others as\\nmuch as possible, and wash your hands often. Side effects may make\\nyou feel a little sick or\\neven make it hard to\\ndo daily activities, but\\nthey should go away\\nin a few days. vaccination rates and\\nensure that staff and\\nresidents stay up to date\\non their COVID-19 vaccines. COVID-19 vaccines may\\nnot fully protect you\\nuntil a week or two after\\nyour final shot. It takes\\ntime for your body to\\nbuild protection after\\nany vaccination.', 'content_type': 'text', 'score': None, 'meta': {'_split_id': 1}, 'embedding': None, 'id': 'd7bba6b692a38859debc1bf7955686d5'}>],\n",
       "   [<Document: {'content': 'Even after your COVID-19 vaccination, when you are in a correctional facility, it’s important\\nto continue wearing a well-fitting mask, try to stay at least 6 feet away from others as\\nmuch as possible, and wash your hands often. Side effects may make\\nyou feel a little sick or\\neven make it hard to\\ndo daily activities, but\\nthey should go away\\nin a few days. vaccination rates and\\nensure that staff and\\nresidents stay up to date\\non their COVID-19 vaccines. COVID-19 vaccines may\\nnot fully protect you\\nuntil a week or two after\\nyour final shot. It takes\\ntime for your body to\\nbuild protection after\\nany vaccination.', 'content_type': 'text', 'score': None, 'meta': {'_split_id': 1}, 'embedding': None, 'id': 'd7bba6b692a38859debc1bf7955686d5'}>],\n",
       "   [<Document: {'content': 'Even after your COVID-19 vaccination, when you are in a correctional facility, it’s important\\nto continue wearing a well-fitting mask, try to stay at least 6 feet away from others as\\nmuch as possible, and wash your hands often. Side effects may make\\nyou feel a little sick or\\neven make it hard to\\ndo daily activities, but\\nthey should go away\\nin a few days. vaccination rates and\\nensure that staff and\\nresidents stay up to date\\non their COVID-19 vaccines. COVID-19 vaccines may\\nnot fully protect you\\nuntil a week or two after\\nyour final shot. It takes\\ntime for your body to\\nbuild protection after\\nany vaccination.', 'content_type': 'text', 'score': None, 'meta': {'_split_id': 1}, 'embedding': None, 'id': 'd7bba6b692a38859debc1bf7955686d5'}>]],\n",
       "  'root_node': 'Query',\n",
       "  'params': {},\n",
       "  'node_id': 'Reader'},\n",
       " {'queries': ['What is the name of the person who can help you if you have side effects after a shot?',\n",
       "   'How long does it take for the redness or pain to get better?',\n",
       "   'What is another name for the person that can help with side effects?',\n",
       "   'What is a common side effect of HELPFUL TIPS?',\n",
       "   'After a few days what is the rest of your body affected by?'],\n",
       "  'answers': [[<Answer {'answer': 'facility healthcare provider', 'type': 'extractive', 'score': 0.7430647611618042, 'context': 'Ask the facility healthcare provider (or facility staff) for help if:\\n• The redness or pain where you got the shot gets worse after 24 hours\\n• Your si', 'offsets_in_document': [{'start': 8, 'end': 36}], 'offsets_in_context': [{'start': 8, 'end': 36}], 'document_id': 'a2ebbe91c5fbc2888446cd5e8e0e63c8', 'meta': {'_split_id': 2}}>],\n",
       "   [<Answer {'answer': '24 hours', 'type': 'extractive', 'score': 0.39044618606567383, 'context': 'help if:\\n• The redness or pain where you got the shot gets worse after 24 hours\\n• Your side effects are worrying you\\n• Your side effects do not seem t', 'offsets_in_document': [{'start': 132, 'end': 140}], 'offsets_in_context': [{'start': 71, 'end': 79}], 'document_id': 'a2ebbe91c5fbc2888446cd5e8e0e63c8', 'meta': {'_split_id': 2}}>],\n",
       "   [<Answer {'answer': 'facility healthcare provider', 'type': 'extractive', 'score': 0.5851841568946838, 'context': 'Ask the facility healthcare provider (or facility staff) for help if:\\n• The redness or pain where you got the shot gets worse after 24 hours\\n• Your si', 'offsets_in_document': [{'start': 8, 'end': 36}], 'offsets_in_context': [{'start': 8, 'end': 36}], 'document_id': 'a2ebbe91c5fbc2888446cd5e8e0e63c8', 'meta': {'_split_id': 2}}>],\n",
       "   [<Answer {'answer': 'Nausea', 'type': 'extractive', 'score': 0.7342822551727295, 'context': 'ay after a few days\\nIn the rest of your body:\\n• Fever\\n• Chills\\n• Tiredness\\n• Headache\\n• Muscle pain\\n• Nausea\\nCOMMON SIDE EFFECTS\\nHELPFUL TIPS\\nREMEMBER', 'offsets_in_document': [{'start': 326, 'end': 332}], 'offsets_in_context': [{'start': 102, 'end': 108}], 'document_id': 'a2ebbe91c5fbc2888446cd5e8e0e63c8', 'meta': {'_split_id': 2}}>],\n",
       "   [<Answer {'answer': 'side effects', 'type': 'extractive', 'score': 0.09493867307901382, 'context': 'ets worse after 24 hours\\n• Your side effects are worrying you\\n• Your side effects do not seem to be going away after a few days\\nIn the rest of your bo', 'offsets_in_document': [{'start': 185, 'end': 197}], 'offsets_in_context': [{'start': 69, 'end': 81}], 'document_id': 'a2ebbe91c5fbc2888446cd5e8e0e63c8', 'meta': {'_split_id': 2}}>]],\n",
       "  'no_ans_gaps': [7.6740007400512695,\n",
       "   -0.7659912109375,\n",
       "   4.611483573913574,\n",
       "   2.466704845428467,\n",
       "   -3.6881714463233948],\n",
       "  'documents': [[<Document: {'content': 'Ask the facility healthcare provider (or facility staff) for help if:\\n• The redness or pain where you got the shot gets worse after 24 hours\\n• Your side effects are worrying you\\n• Your side effects do not seem to be going away after a few days\\nIn the rest of your body:\\n• Fever\\n• Chills\\n• Tiredness\\n• Headache\\n• Muscle pain\\n• Nausea\\nCOMMON SIDE EFFECTS\\nHELPFUL TIPS\\nREMEMBER', 'content_type': 'text', 'score': None, 'meta': {'_split_id': 2}, 'embedding': None, 'id': 'a2ebbe91c5fbc2888446cd5e8e0e63c8'}>],\n",
       "   [<Document: {'content': 'Ask the facility healthcare provider (or facility staff) for help if:\\n• The redness or pain where you got the shot gets worse after 24 hours\\n• Your side effects are worrying you\\n• Your side effects do not seem to be going away after a few days\\nIn the rest of your body:\\n• Fever\\n• Chills\\n• Tiredness\\n• Headache\\n• Muscle pain\\n• Nausea\\nCOMMON SIDE EFFECTS\\nHELPFUL TIPS\\nREMEMBER', 'content_type': 'text', 'score': None, 'meta': {'_split_id': 2}, 'embedding': None, 'id': 'a2ebbe91c5fbc2888446cd5e8e0e63c8'}>],\n",
       "   [<Document: {'content': 'Ask the facility healthcare provider (or facility staff) for help if:\\n• The redness or pain where you got the shot gets worse after 24 hours\\n• Your side effects are worrying you\\n• Your side effects do not seem to be going away after a few days\\nIn the rest of your body:\\n• Fever\\n• Chills\\n• Tiredness\\n• Headache\\n• Muscle pain\\n• Nausea\\nCOMMON SIDE EFFECTS\\nHELPFUL TIPS\\nREMEMBER', 'content_type': 'text', 'score': None, 'meta': {'_split_id': 2}, 'embedding': None, 'id': 'a2ebbe91c5fbc2888446cd5e8e0e63c8'}>],\n",
       "   [<Document: {'content': 'Ask the facility healthcare provider (or facility staff) for help if:\\n• The redness or pain where you got the shot gets worse after 24 hours\\n• Your side effects are worrying you\\n• Your side effects do not seem to be going away after a few days\\nIn the rest of your body:\\n• Fever\\n• Chills\\n• Tiredness\\n• Headache\\n• Muscle pain\\n• Nausea\\nCOMMON SIDE EFFECTS\\nHELPFUL TIPS\\nREMEMBER', 'content_type': 'text', 'score': None, 'meta': {'_split_id': 2}, 'embedding': None, 'id': 'a2ebbe91c5fbc2888446cd5e8e0e63c8'}>],\n",
       "   [<Document: {'content': 'Ask the facility healthcare provider (or facility staff) for help if:\\n• The redness or pain where you got the shot gets worse after 24 hours\\n• Your side effects are worrying you\\n• Your side effects do not seem to be going away after a few days\\nIn the rest of your body:\\n• Fever\\n• Chills\\n• Tiredness\\n• Headache\\n• Muscle pain\\n• Nausea\\nCOMMON SIDE EFFECTS\\nHELPFUL TIPS\\nREMEMBER', 'content_type': 'text', 'score': None, 'meta': {'_split_id': 2}, 'embedding': None, 'id': 'a2ebbe91c5fbc2888446cd5e8e0e63c8'}>]],\n",
       "  'root_node': 'Query',\n",
       "  'params': {},\n",
       "  'node_id': 'Reader'},\n",
       " {'queries': ['Who recommends COVID-19 vaccines for everyone 6 months and older?',\n",
       "   'What does CDC recommend for everyone 5 years and older if eligible?',\n",
       "   'How do you find a COVID-19 vaccine near you?',\n",
       "   'What is a quick, easy, and free way to get a vaccine?',\n",
       "   'What is the cost of getting a COVID-19 vaccine near you?'],\n",
       "  'answers': [[<Answer {'answer': 'CDC', 'type': 'extractive', 'score': 0.9181573987007141, 'context': 'nguages\\nAbout COVID-19 Vaccines\\nCOVID-19 vaccines are safe and effective. CDC recommends COVID-19 vaccines for everyone 6 months and older and booster', 'offsets_in_document': [{'start': 140, 'end': 143}], 'offsets_in_context': [{'start': 74, 'end': 77}], 'document_id': '81fd262a74141ee213c771449bcfd8a4', 'meta': {'_split_id': 0}}>],\n",
       "   [<Answer {'answer': 'boosters', 'type': 'extractive', 'score': 0.825333297252655, 'context': '. CDC recommends COVID-19 vaccines for everyone 6 months and older and boosters\\nfor everyone 5 years and older, if eligible. Learn about the different', 'offsets_in_document': [{'start': 209, 'end': 217}], 'offsets_in_context': [{'start': 71, 'end': 79}], 'document_id': '81fd262a74141ee213c771449bcfd8a4', 'meta': {'_split_id': 0}}>],\n",
       "   [<Answer {'answer': 'Search vaccines.gov, text your zip\\ncode to 438829, or call 1-800-232-0233', 'type': 'extractive', 'score': 0.5798695683479309, 'context': '. To find a COVID-19 vaccine near you: Search vaccines.gov, text your zip\\ncode to 438829, or call 1-800-232-0233 to find COVID-19 vaccine locations ne', 'offsets_in_document': [{'start': 346, 'end': 419}], 'offsets_in_context': [{'start': 39, 'end': 112}], 'document_id': '81fd262a74141ee213c771449bcfd8a4', 'meta': {'_split_id': 0}}>],\n",
       "   [<Answer {'answer': 'Getting a COVID-19 vaccine is fast, easy, and free. Learn how to find a COVID-19 vaccine near you, and get your vaccine\\ntoday', 'type': 'extractive', 'score': 0.14295810461044312, 'context': 'Asked Questions\\n•\\n•\\n•\\n•\\nGetting a COVID-19 vaccine is fast, easy, and free. Learn how to find a COVID-19 vaccine near you, and get your vaccine\\ntoday!', 'offsets_in_document': [{'start': 531, 'end': 656}], 'offsets_in_context': [{'start': 24, 'end': 149}], 'document_id': '81fd262a74141ee213c771449bcfd8a4', 'meta': {'_split_id': 0}}>],\n",
       "   [<Answer {'answer': 'free', 'type': 'extractive', 'score': 0.5066945552825928, 'context': 'ly Asked Questions\\n•\\n•\\n•\\n•\\nGetting a COVID-19 vaccine is fast, easy, and free. Learn how to find a COVID-19 vaccine near you, and get your vaccine\\ntod', 'offsets_in_document': [{'start': 577, 'end': 581}], 'offsets_in_context': [{'start': 73, 'end': 77}], 'document_id': '81fd262a74141ee213c771449bcfd8a4', 'meta': {'_split_id': 0}}>]],\n",
       "  'no_ans_gaps': [5.865114450454712,\n",
       "   4.635716199874878,\n",
       "   5.827907562255859,\n",
       "   -1.257835030555725,\n",
       "   1.2392725944519043],\n",
       "  'documents': [[<Document: {'content': '10/30/22, 9:34 AM About COVID-19 Vaccines | CDC\\nEspañol | Other Languages\\nAbout COVID-19 Vaccines\\nCOVID-19 vaccines are safe and effective. CDC recommends COVID-19 vaccines for everyone 6 months and older and boosters\\nfor everyone 5 years and older, if eligible. Learn about the different vaccines available. To find a COVID-19 vaccine near you: Search vaccines.gov, text your zip\\ncode to 438829, or call 1-800-232-0233 to find COVID-19 vaccine locations near you. Benefits of Getting Vaccinated\\nFrequently Asked Questions\\n•\\n•\\n•\\n•\\nGetting a COVID-19 vaccine is fast, easy, and free. Learn how to find a COVID-19 vaccine near you, and get your vaccine\\ntoday!', 'content_type': 'text', 'score': None, 'meta': {'_split_id': 0}, 'embedding': None, 'id': '81fd262a74141ee213c771449bcfd8a4'}>],\n",
       "   [<Document: {'content': '10/30/22, 9:34 AM About COVID-19 Vaccines | CDC\\nEspañol | Other Languages\\nAbout COVID-19 Vaccines\\nCOVID-19 vaccines are safe and effective. CDC recommends COVID-19 vaccines for everyone 6 months and older and boosters\\nfor everyone 5 years and older, if eligible. Learn about the different vaccines available. To find a COVID-19 vaccine near you: Search vaccines.gov, text your zip\\ncode to 438829, or call 1-800-232-0233 to find COVID-19 vaccine locations near you. Benefits of Getting Vaccinated\\nFrequently Asked Questions\\n•\\n•\\n•\\n•\\nGetting a COVID-19 vaccine is fast, easy, and free. Learn how to find a COVID-19 vaccine near you, and get your vaccine\\ntoday!', 'content_type': 'text', 'score': None, 'meta': {'_split_id': 0}, 'embedding': None, 'id': '81fd262a74141ee213c771449bcfd8a4'}>],\n",
       "   [<Document: {'content': '10/30/22, 9:34 AM About COVID-19 Vaccines | CDC\\nEspañol | Other Languages\\nAbout COVID-19 Vaccines\\nCOVID-19 vaccines are safe and effective. CDC recommends COVID-19 vaccines for everyone 6 months and older and boosters\\nfor everyone 5 years and older, if eligible. Learn about the different vaccines available. To find a COVID-19 vaccine near you: Search vaccines.gov, text your zip\\ncode to 438829, or call 1-800-232-0233 to find COVID-19 vaccine locations near you. Benefits of Getting Vaccinated\\nFrequently Asked Questions\\n•\\n•\\n•\\n•\\nGetting a COVID-19 vaccine is fast, easy, and free. Learn how to find a COVID-19 vaccine near you, and get your vaccine\\ntoday!', 'content_type': 'text', 'score': None, 'meta': {'_split_id': 0}, 'embedding': None, 'id': '81fd262a74141ee213c771449bcfd8a4'}>],\n",
       "   [<Document: {'content': '10/30/22, 9:34 AM About COVID-19 Vaccines | CDC\\nEspañol | Other Languages\\nAbout COVID-19 Vaccines\\nCOVID-19 vaccines are safe and effective. CDC recommends COVID-19 vaccines for everyone 6 months and older and boosters\\nfor everyone 5 years and older, if eligible. Learn about the different vaccines available. To find a COVID-19 vaccine near you: Search vaccines.gov, text your zip\\ncode to 438829, or call 1-800-232-0233 to find COVID-19 vaccine locations near you. Benefits of Getting Vaccinated\\nFrequently Asked Questions\\n•\\n•\\n•\\n•\\nGetting a COVID-19 vaccine is fast, easy, and free. Learn how to find a COVID-19 vaccine near you, and get your vaccine\\ntoday!', 'content_type': 'text', 'score': None, 'meta': {'_split_id': 0}, 'embedding': None, 'id': '81fd262a74141ee213c771449bcfd8a4'}>],\n",
       "   [<Document: {'content': '10/30/22, 9:34 AM About COVID-19 Vaccines | CDC\\nEspañol | Other Languages\\nAbout COVID-19 Vaccines\\nCOVID-19 vaccines are safe and effective. CDC recommends COVID-19 vaccines for everyone 6 months and older and boosters\\nfor everyone 5 years and older, if eligible. Learn about the different vaccines available. To find a COVID-19 vaccine near you: Search vaccines.gov, text your zip\\ncode to 438829, or call 1-800-232-0233 to find COVID-19 vaccine locations near you. Benefits of Getting Vaccinated\\nFrequently Asked Questions\\n•\\n•\\n•\\n•\\nGetting a COVID-19 vaccine is fast, easy, and free. Learn how to find a COVID-19 vaccine near you, and get your vaccine\\ntoday!', 'content_type': 'text', 'score': None, 'meta': {'_split_id': 0}, 'embedding': None, 'id': '81fd262a74141ee213c771449bcfd8a4'}>]],\n",
       "  'root_node': 'Query',\n",
       "  'params': {},\n",
       "  'node_id': 'Reader'},\n",
       " {'queries': ['How do Vaccines Get to You?',\n",
       "   'When was the last update for COVID-19 vaccines?'],\n",
       "  'answers': [[<Answer {'answer': 'Reporting Vaccine Data', 'type': 'extractive', 'score': 0.11378803849220276, 'context': '\\uf294 Vaccine Data\\nVaccine Data\\n›\\nReporting Vaccine Data\\n›\\n\\uf3c2 How Vaccines Get to You\\nDeveloping COVID-19 vaccines\\n›\\n\\uf2ff For Healthcare and Public Health\\nUse', 'offsets_in_document': [{'start': 29, 'end': 51}], 'offsets_in_context': [{'start': 29, 'end': 51}], 'document_id': 'da98716b643874423d2b1e104481ee65', 'meta': {'_split_id': 1}}>],\n",
       "   [<Answer {'answer': 'July 13, 2022', 'type': 'extractive', 'score': 0.9713864326477051, 'context': 'accines\\n›\\n\\uf2ff For Healthcare and Public Health\\nUse of COVID-19 Vaccines in the United States: Interim Clinical Considerations\\nLast Updated July 13, 2022', 'offsets_in_document': [{'start': 239, 'end': 252}], 'offsets_in_context': [{'start': 137, 'end': 150}], 'document_id': 'da98716b643874423d2b1e104481ee65', 'meta': {'_split_id': 1}}>]],\n",
       "  'no_ans_gaps': [-2.971740424633026, 9.518305778503418],\n",
       "  'documents': [[<Document: {'content': '\\uf294 Vaccine Data\\nVaccine Data\\n›\\nReporting Vaccine Data\\n›\\n\\uf3c2 How Vaccines Get to You\\nDeveloping COVID-19 vaccines\\n›\\n\\uf2ff For Healthcare and Public Health\\nUse of COVID-19 Vaccines in the United States: Interim Clinical Considerations\\nLast Updated July 13, 2022', 'content_type': 'text', 'score': None, 'meta': {'_split_id': 1}, 'embedding': None, 'id': 'da98716b643874423d2b1e104481ee65'}>],\n",
       "   [<Document: {'content': '\\uf294 Vaccine Data\\nVaccine Data\\n›\\nReporting Vaccine Data\\n›\\n\\uf3c2 How Vaccines Get to You\\nDeveloping COVID-19 vaccines\\n›\\n\\uf2ff For Healthcare and Public Health\\nUse of COVID-19 Vaccines in the United States: Interim Clinical Considerations\\nLast Updated July 13, 2022', 'content_type': 'text', 'score': None, 'meta': {'_split_id': 1}, 'embedding': None, 'id': 'da98716b643874423d2b1e104481ee65'}>]],\n",
       "  'root_node': 'Query',\n",
       "  'params': {},\n",
       "  'node_id': 'Reader'}]"
      ]
     },
     "execution_count": 119,
     "metadata": {},
     "output_type": "execute_result"
    }
   ],
   "source": [
    "results[:5]"
   ]
  },
  {
   "cell_type": "code",
   "execution_count": 120,
   "id": "53ab96e3-baf6-456a-9666-4fa50f2c9de4",
   "metadata": {},
   "outputs": [
    {
     "data": {
      "text/plain": [
       "1865"
      ]
     },
     "execution_count": 120,
     "metadata": {},
     "output_type": "execute_result"
    }
   ],
   "source": [
    "len(results)"
   ]
  },
  {
   "cell_type": "code",
   "execution_count": 121,
   "id": "96078b5e-fb2a-4bf2-a2f4-a22e96369e5f",
   "metadata": {},
   "outputs": [
    {
     "data": {
      "text/plain": [
       "list"
      ]
     },
     "execution_count": 121,
     "metadata": {},
     "output_type": "execute_result"
    }
   ],
   "source": [
    "type(results)"
   ]
  },
  {
   "cell_type": "code",
   "execution_count": 123,
   "id": "c9394cbe-ddeb-46a5-b496-61abb2b65c80",
   "metadata": {},
   "outputs": [],
   "source": [
    "with open('myresults.txt', 'w') as filehandle:\n",
    "    for listitem in results:\n",
    "        filehandle.write(f'{listitem}\\n')"
   ]
  },
  {
   "cell_type": "code",
   "execution_count": 124,
   "id": "b0e80f68-0cd8-4d95-b705-f266e2289ec9",
   "metadata": {},
   "outputs": [
    {
     "data": {
      "text/plain": [
       "<haystack.document_stores.memory.InMemoryDocumentStore at 0x7f3adabd71d0>"
      ]
     },
     "execution_count": 124,
     "metadata": {},
     "output_type": "execute_result"
    }
   ],
   "source": [
    "document_store"
   ]
  },
  {
   "cell_type": "code",
   "execution_count": 131,
   "id": "25e2fd6e-039e-47db-bb0b-71da3c2cd514",
   "metadata": {},
   "outputs": [],
   "source": [
    "with open('doc_store.txt', 'w') as filehandle:\n",
    "    for doc in document_store:\n",
    "        filehandle.write(f'{doc}\\n')"
   ]
  },
  {
   "cell_type": "code",
   "execution_count": 133,
   "id": "c42f36ce-8550-425f-ad1d-f672a7a78032",
   "metadata": {},
   "outputs": [
    {
     "data": {
      "text/plain": [
       "['What can happen to some people after getting a COVID-19 Vaccine?',\n",
       " 'What should go away in a few days?',\n",
       " 'What should you do if you have a fever?',\n",
       " 'How do you treat a headache?',\n",
       " 'What is the name of the washcloth that you apply to the area of the shot?',\n",
       " 'What can you do if you have fever?',\n",
       " 'What is the name of the person who can give you medicine?']"
      ]
     },
     "execution_count": 133,
     "metadata": {},
     "output_type": "execute_result"
    }
   ],
   "source": [
    "results[0]['queries']"
   ]
  },
  {
   "cell_type": "code",
   "execution_count": 145,
   "id": "527ec1b1-c5ac-4e04-b8e5-968cb12a655c",
   "metadata": {},
   "outputs": [],
   "source": [
    "test = results[0]['answers'][0][0].to_dict()"
   ]
  },
  {
   "cell_type": "code",
   "execution_count": 146,
   "id": "35637b5a-8b53-4b58-afe7-916fd8f8119f",
   "metadata": {},
   "outputs": [
    {
     "data": {
      "text/plain": [
       "{'answer': 'side effects',\n",
       " 'type': 'extractive',\n",
       " 'score': 0.8363351225852966,\n",
       " 'context': ' Expect after Getting a COVID-19 Vaccine\\nThe COVID-19 shot may cause side effects in some people. Side effects should go away in a few days. On the ar',\n",
       " 'offsets_in_document': [{'start': 96, 'end': 108}],\n",
       " 'offsets_in_context': [{'start': 69, 'end': 81}],\n",
       " 'document_id': 'f059e215ee14a89be75d577ec5ad4eb2',\n",
       " 'meta': {'_split_id': 0}}"
      ]
     },
     "execution_count": 146,
     "metadata": {},
     "output_type": "execute_result"
    }
   ],
   "source": [
    "test"
   ]
  },
  {
   "cell_type": "code",
   "execution_count": 172,
   "id": "aeaffbe0-7a69-4a57-8a9c-667e3d2da48f",
   "metadata": {},
   "outputs": [
    {
     "data": {
      "text/plain": [
       "'side effects'"
      ]
     },
     "execution_count": 172,
     "metadata": {},
     "output_type": "execute_result"
    }
   ],
   "source": [
    "test['answer']"
   ]
  },
  {
   "cell_type": "code",
   "execution_count": 147,
   "id": "06de1244-3439-4cdc-a4a3-fe5974ec2039",
   "metadata": {},
   "outputs": [
    {
     "data": {
      "text/plain": [
       "'f059e215ee14a89be75d577ec5ad4eb2'"
      ]
     },
     "execution_count": 147,
     "metadata": {},
     "output_type": "execute_result"
    }
   ],
   "source": [
    "test['document_id']"
   ]
  },
  {
   "cell_type": "code",
   "execution_count": 156,
   "id": "69a5f59a-5644-459b-8a72-1d0ee2c67ed1",
   "metadata": {},
   "outputs": [],
   "source": [
    "testoff = test['offsets_in_document'][0]['start']"
   ]
  },
  {
   "cell_type": "code",
   "execution_count": 157,
   "id": "e86614e1-6d36-48d5-8e6a-a1d7df2022f1",
   "metadata": {},
   "outputs": [
    {
     "data": {
      "text/plain": [
       "96"
      ]
     },
     "execution_count": 157,
     "metadata": {},
     "output_type": "execute_result"
    }
   ],
   "source": [
    "testoff"
   ]
  },
  {
   "cell_type": "code",
   "execution_count": 165,
   "id": "3c30f5f3-90b8-492e-92e7-1ef60e54ad62",
   "metadata": {},
   "outputs": [],
   "source": [
    "contextest = results[0]['documents'][0][0].to_dict()"
   ]
  },
  {
   "cell_type": "code",
   "execution_count": 167,
   "id": "5231d260-a19f-42e0-abdc-b348d3c004bf",
   "metadata": {},
   "outputs": [
    {
     "data": {
      "text/plain": [
       "'cdc.gov/coronavirus\\nWhat to Expect after Getting a COVID-19 Vaccine\\nThe COVID-19 shot may cause side effects in some people. Side effects should go away in a few days. On the arm where you got the shot:\\n• Pain\\n• Redness\\n• Swelling\\nIf you are sore where you got the shot:\\n• Apply a clean, cool, wet washcloth over the area\\n• Use or move your arm gently\\nIf you have a fever:\\n• Drink a lot of water\\n• Get plenty of rest\\n• Dress lightly\\nIf you have pain, headache, or fever, ask a healthcare provider (or facility\\nstaff) if you can have medicine.'"
      ]
     },
     "execution_count": 167,
     "metadata": {},
     "output_type": "execute_result"
    }
   ],
   "source": [
    "contextest['content']"
   ]
  },
  {
   "cell_type": "code",
   "execution_count": null,
   "id": "4ebe4bff-f1f4-485e-94b5-65bec3f7fe90",
   "metadata": {},
   "outputs": [],
   "source": [
    "# {'id': 'str', 'title': 'str', 'context': 'str', 'question': 'str', 'answers': {'text': ['str'], 'answer_start': [int]}}\n",
    "\n",
    "# id - unique 24 character string\n",
    "# title - document ID >> Later we can figure out how to map back to original PDF or web page link / name \n",
    "# context - haystack document content\n",
    "# question - query\n",
    "# answers - top answer, highest confidence score, only\n",
    "# answer_start - answer_start"
   ]
  },
  {
   "cell_type": "code",
   "execution_count": 212,
   "id": "29d76090-c4d5-4080-9201-aac39f11618d",
   "metadata": {},
   "outputs": [
    {
     "data": {
      "text/plain": [
       "0"
      ]
     },
     "execution_count": 212,
     "metadata": {},
     "output_type": "execute_result"
    }
   ],
   "source": [
    "len(results[208]['answers'][7])"
   ]
  },
  {
   "cell_type": "code",
   "execution_count": 229,
   "id": "26cd8350-bf0e-4917-b12b-bebf34b0137e",
   "metadata": {
    "tags": []
   },
   "outputs": [],
   "source": [
    "ids = []\n",
    "title = []\n",
    "context = []\n",
    "question = []\n",
    "answer_text = []\n",
    "answer_start = []\n",
    "doc_num = 0\n",
    "q_num = 0\n",
    "id_current_int = 100000000000000000000000\n",
    "\n",
    "for doc in results:\n",
    "    \n",
    "    #print(\"doc_num {}\".format(doc_num))\n",
    "    #print(doc_num)\n",
    "    anums = 0\n",
    "    \n",
    "    for q in doc['queries']:\n",
    "        question.append(q)\n",
    "        anums += 1\n",
    "        q_num += 1\n",
    "        \n",
    "        new_id = id_current_int + q_num\n",
    "        ids.append(str(new_id))\n",
    "        \n",
    "    #for item in doc['answers']:\n",
    "    for x in range(0,anums):  \n",
    "        #for a in item:\n",
    "            #a_dict = a.to_dict()\n",
    "            #print(a_dict)\n",
    "        if len(doc['answers'][x]) != 0:\n",
    "            a_dict = doc['answers'][x][0].to_dict() #have to make sure just grabbing first, most probable correct answer if more than one response available\n",
    "            a_txt = a_dict.get('answer')\n",
    "            a_txt = a_txt.replace('-\\n-\\n•\\n•\\n•\\n•\\n\\uf3ba', ' ')\n",
    "            a_txt = a_txt.replace('\\n', ' ')\n",
    "            #print(a_txt)\n",
    "            answer_text.append(a_txt)\n",
    "        else:\n",
    "            answer_text.append(\"answer undefined\")\n",
    "        \n",
    "        a_title = a_dict.get('document_id')\n",
    "        title.append(a_title)\n",
    "        \n",
    "        a_context_todict = doc['documents'][0][0].to_dict()\n",
    "        a_context = a_context_todict['content']\n",
    "        context.append(a_context)\n",
    "        \n",
    "        a_ans_start = a_dict['offsets_in_document'][0]['start']\n",
    "        answer_start.append(a_ans_start)\n",
    "        \n",
    "            \n",
    "    #if(len(questions))!=(len(answers)):\n",
    "    #print(doc_num)\n",
    "    #print(len(questions))\n",
    "    #print(len(answers))\n",
    "        \n",
    "    doc_num = doc_num+1\n",
    "    \n",
    "#print(len(questions))\n",
    "#print(len(answers))"
   ]
  },
  {
   "cell_type": "code",
   "execution_count": 189,
   "id": "037f2eb2-73df-465b-b418-d013a3f6e74d",
   "metadata": {
    "tags": []
   },
   "outputs": [],
   "source": [
    "#import pandas as pd"
   ]
  },
  {
   "cell_type": "code",
   "execution_count": 191,
   "id": "a4b5d438-e5e9-4f02-9e04-d11d51b87923",
   "metadata": {
    "tags": []
   },
   "outputs": [],
   "source": [
    "#df_check = pd.DataFrame()"
   ]
  },
  {
   "cell_type": "code",
   "execution_count": 194,
   "id": "7842da8d-aeac-4d37-a442-0efc179bab12",
   "metadata": {
    "tags": []
   },
   "outputs": [],
   "source": [
    "#df_check['id'] = ids\n",
    "#df_check['title'] = title\n",
    "#df_check['context'] = context\n",
    "#df_check['question'] = questions\n",
    "#df_check['answer_text'] = answers\n",
    "#df_check['answer_start'] = answer_start"
   ]
  },
  {
   "cell_type": "code",
   "execution_count": 195,
   "id": "1caf45f1-d96d-42a4-ac60-1358f9ed1a5b",
   "metadata": {
    "tags": []
   },
   "outputs": [],
   "source": [
    "#df_check"
   ]
  },
  {
   "cell_type": "code",
   "execution_count": 227,
   "id": "12e9cf39-cf0c-47b9-8e2f-9b692fc31b60",
   "metadata": {},
   "outputs": [
    {
     "data": {
      "text/plain": [
       "10156"
      ]
     },
     "execution_count": 227,
     "metadata": {},
     "output_type": "execute_result"
    }
   ],
   "source": [
    "len(answer_text)"
   ]
  },
  {
   "cell_type": "code",
   "execution_count": 228,
   "id": "2380f64c-c439-4b68-8c2d-ef74b3f76e57",
   "metadata": {},
   "outputs": [
    {
     "data": {
      "text/plain": [
       "['side effects']"
      ]
     },
     "execution_count": 228,
     "metadata": {},
     "output_type": "execute_result"
    }
   ],
   "source": [
    "answer_text[0]"
   ]
  },
  {
   "cell_type": "code",
   "execution_count": 239,
   "id": "c9c19f94-b324-4885-a5eb-e158ca22a4d7",
   "metadata": {},
   "outputs": [],
   "source": [
    "#answers = {'text':answer_text,'answer_start':answer_start}"
   ]
  },
  {
   "cell_type": "code",
   "execution_count": 240,
   "id": "87d175fc-558c-4582-9e82-01a3f7e21c7e",
   "metadata": {},
   "outputs": [],
   "source": [
    "#answers"
   ]
  },
  {
   "cell_type": "code",
   "execution_count": 232,
   "id": "a6536a45-7092-43a7-8048-e12fc63d82fc",
   "metadata": {},
   "outputs": [],
   "source": [
    "#for x in range(0,1):\n",
    "#    answers = {'text':[],'answer_start':[]}\n",
    "#    answers['text'].append(answer_text[x])\n",
    "#    answers['answer_start'].append(answer_start[x])\n",
    "    "
   ]
  },
  {
   "cell_type": "code",
   "execution_count": 242,
   "id": "6748cab9-dcb0-4e11-bdb7-1d07670c6442",
   "metadata": {},
   "outputs": [],
   "source": [
    "#answers"
   ]
  },
  {
   "cell_type": "code",
   "execution_count": 245,
   "id": "4a0ab279-3c27-4ea1-b4bb-8e6b92116cb1",
   "metadata": {},
   "outputs": [],
   "source": [
    "df_check = pd.DataFrame()\n",
    "df_check['id'] = ids\n",
    "df_check['title'] = title\n",
    "df_check['context'] = context\n",
    "df_check['question'] = question\n",
    "df_check['answer_text'] = answer_text\n",
    "df_check['answer_start'] = answer_start"
   ]
  },
  {
   "cell_type": "code",
   "execution_count": 247,
   "id": "4b67d69a-db74-49ea-aeef-91276e813627",
   "metadata": {},
   "outputs": [
    {
     "data": {
      "text/html": [
       "<div>\n",
       "<style scoped>\n",
       "    .dataframe tbody tr th:only-of-type {\n",
       "        vertical-align: middle;\n",
       "    }\n",
       "\n",
       "    .dataframe tbody tr th {\n",
       "        vertical-align: top;\n",
       "    }\n",
       "\n",
       "    .dataframe thead th {\n",
       "        text-align: right;\n",
       "    }\n",
       "</style>\n",
       "<table border=\"1\" class=\"dataframe\">\n",
       "  <thead>\n",
       "    <tr style=\"text-align: right;\">\n",
       "      <th></th>\n",
       "      <th>id</th>\n",
       "      <th>title</th>\n",
       "      <th>context</th>\n",
       "      <th>question</th>\n",
       "      <th>answer_text</th>\n",
       "      <th>answer_start</th>\n",
       "    </tr>\n",
       "  </thead>\n",
       "  <tbody>\n",
       "    <tr>\n",
       "      <th>0</th>\n",
       "      <td>100000000000000000000001</td>\n",
       "      <td>f059e215ee14a89be75d577ec5ad4eb2</td>\n",
       "      <td>cdc.gov/coronavirus\\nWhat to Expect after Getting a COVID-19 Vaccine\\nThe CO...</td>\n",
       "      <td>What can happen to some people after getting a COVID-19 Vaccine?</td>\n",
       "      <td>side effects</td>\n",
       "      <td>96</td>\n",
       "    </tr>\n",
       "    <tr>\n",
       "      <th>1</th>\n",
       "      <td>100000000000000000000002</td>\n",
       "      <td>f059e215ee14a89be75d577ec5ad4eb2</td>\n",
       "      <td>cdc.gov/coronavirus\\nWhat to Expect after Getting a COVID-19 Vaccine\\nThe CO...</td>\n",
       "      <td>What should go away in a few days?</td>\n",
       "      <td>Side effects</td>\n",
       "      <td>125</td>\n",
       "    </tr>\n",
       "    <tr>\n",
       "      <th>2</th>\n",
       "      <td>100000000000000000000003</td>\n",
       "      <td>f059e215ee14a89be75d577ec5ad4eb2</td>\n",
       "      <td>cdc.gov/coronavirus\\nWhat to Expect after Getting a COVID-19 Vaccine\\nThe CO...</td>\n",
       "      <td>What should you do if you have a fever?</td>\n",
       "      <td>Drink a lot of water</td>\n",
       "      <td>375</td>\n",
       "    </tr>\n",
       "    <tr>\n",
       "      <th>3</th>\n",
       "      <td>100000000000000000000004</td>\n",
       "      <td>f059e215ee14a89be75d577ec5ad4eb2</td>\n",
       "      <td>cdc.gov/coronavirus\\nWhat to Expect after Getting a COVID-19 Vaccine\\nThe CO...</td>\n",
       "      <td>How do you treat a headache?</td>\n",
       "      <td>ask a healthcare provider (or facility staff) if you can have medicine</td>\n",
       "      <td>471</td>\n",
       "    </tr>\n",
       "    <tr>\n",
       "      <th>4</th>\n",
       "      <td>100000000000000000000005</td>\n",
       "      <td>f059e215ee14a89be75d577ec5ad4eb2</td>\n",
       "      <td>cdc.gov/coronavirus\\nWhat to Expect after Getting a COVID-19 Vaccine\\nThe CO...</td>\n",
       "      <td>What is the name of the washcloth that you apply to the area of the shot?</td>\n",
       "      <td>clean, cool, wet</td>\n",
       "      <td>281</td>\n",
       "    </tr>\n",
       "  </tbody>\n",
       "</table>\n",
       "</div>"
      ],
      "text/plain": [
       "                         id                             title  \\\n",
       "0  100000000000000000000001  f059e215ee14a89be75d577ec5ad4eb2   \n",
       "1  100000000000000000000002  f059e215ee14a89be75d577ec5ad4eb2   \n",
       "2  100000000000000000000003  f059e215ee14a89be75d577ec5ad4eb2   \n",
       "3  100000000000000000000004  f059e215ee14a89be75d577ec5ad4eb2   \n",
       "4  100000000000000000000005  f059e215ee14a89be75d577ec5ad4eb2   \n",
       "\n",
       "                                                                           context  \\\n",
       "0  cdc.gov/coronavirus\\nWhat to Expect after Getting a COVID-19 Vaccine\\nThe CO...   \n",
       "1  cdc.gov/coronavirus\\nWhat to Expect after Getting a COVID-19 Vaccine\\nThe CO...   \n",
       "2  cdc.gov/coronavirus\\nWhat to Expect after Getting a COVID-19 Vaccine\\nThe CO...   \n",
       "3  cdc.gov/coronavirus\\nWhat to Expect after Getting a COVID-19 Vaccine\\nThe CO...   \n",
       "4  cdc.gov/coronavirus\\nWhat to Expect after Getting a COVID-19 Vaccine\\nThe CO...   \n",
       "\n",
       "                                                                    question  \\\n",
       "0           What can happen to some people after getting a COVID-19 Vaccine?   \n",
       "1                                         What should go away in a few days?   \n",
       "2                                    What should you do if you have a fever?   \n",
       "3                                               How do you treat a headache?   \n",
       "4  What is the name of the washcloth that you apply to the area of the shot?   \n",
       "\n",
       "                                                              answer_text  \\\n",
       "0                                                            side effects   \n",
       "1                                                            Side effects   \n",
       "2                                                    Drink a lot of water   \n",
       "3  ask a healthcare provider (or facility staff) if you can have medicine   \n",
       "4                                                        clean, cool, wet   \n",
       "\n",
       "   answer_start  \n",
       "0            96  \n",
       "1           125  \n",
       "2           375  \n",
       "3           471  \n",
       "4           281  "
      ]
     },
     "execution_count": 247,
     "metadata": {},
     "output_type": "execute_result"
    }
   ],
   "source": [
    "df_check.head()"
   ]
  },
  {
   "cell_type": "code",
   "execution_count": 251,
   "id": "d8b1512f-bc93-4f33-8755-c324f0729e35",
   "metadata": {},
   "outputs": [],
   "source": [
    "df_check.to_csv('csv_qa_pairs.csv')"
   ]
  },
  {
   "cell_type": "code",
   "execution_count": 252,
   "id": "6dea9ffd-ab2a-45e3-b1d9-8d8019b03733",
   "metadata": {},
   "outputs": [],
   "source": [
    "from datasets import load_dataset"
   ]
  },
  {
   "cell_type": "code",
   "execution_count": 254,
   "id": "f22e0dcf-476e-4fc8-b600-3edbbf8f412d",
   "metadata": {},
   "outputs": [
    {
     "data": {
      "text/plain": [
       "'/home/jupyter/haystack'"
      ]
     },
     "execution_count": 254,
     "metadata": {},
     "output_type": "execute_result"
    }
   ],
   "source": [
    "pwd"
   ]
  },
  {
   "cell_type": "code",
   "execution_count": 255,
   "id": "47164f13-c8f0-4d09-9724-c976545ae443",
   "metadata": {
    "collapsed": true,
    "jupyter": {
     "outputs_hidden": true
    },
    "tags": []
   },
   "outputs": [
    {
     "ename": "FileNotFoundError",
     "evalue": "Couldn't find a dataset script at /home/jupyter/haystack/csv_qa_pairs.csv/csv_qa_pairs.csv.py or any data file in the same directory.",
     "output_type": "error",
     "traceback": [
      "\u001b[0;31m---------------------------------------------------------------------------\u001b[0m",
      "\u001b[0;31mFileNotFoundError\u001b[0m                         Traceback (most recent call last)",
      "\u001b[0;32m/tmp/ipykernel_5811/2983611839.py\u001b[0m in \u001b[0;36m<module>\u001b[0;34m\u001b[0m\n\u001b[0;32m----> 1\u001b[0;31m \u001b[0mload_dataset\u001b[0m\u001b[0;34m(\u001b[0m\u001b[0;34m\"/home/jupyter/haystack/csv_qa_pairs.csv\"\u001b[0m\u001b[0;34m)\u001b[0m\u001b[0;34m\u001b[0m\u001b[0;34m\u001b[0m\u001b[0m\n\u001b[0m",
      "\u001b[0;32m/opt/conda/lib/python3.7/site-packages/datasets/load.py\u001b[0m in \u001b[0;36mload_dataset\u001b[0;34m(path, name, data_dir, data_files, split, cache_dir, features, download_config, download_mode, ignore_verifications, keep_in_memory, save_infos, revision, use_auth_token, task, streaming, **config_kwargs)\u001b[0m\n\u001b[1;32m   1728\u001b[0m         \u001b[0mrevision\u001b[0m\u001b[0;34m=\u001b[0m\u001b[0mrevision\u001b[0m\u001b[0;34m,\u001b[0m\u001b[0;34m\u001b[0m\u001b[0;34m\u001b[0m\u001b[0m\n\u001b[1;32m   1729\u001b[0m         \u001b[0muse_auth_token\u001b[0m\u001b[0;34m=\u001b[0m\u001b[0muse_auth_token\u001b[0m\u001b[0;34m,\u001b[0m\u001b[0;34m\u001b[0m\u001b[0;34m\u001b[0m\u001b[0m\n\u001b[0;32m-> 1730\u001b[0;31m         \u001b[0;34m**\u001b[0m\u001b[0mconfig_kwargs\u001b[0m\u001b[0;34m,\u001b[0m\u001b[0;34m\u001b[0m\u001b[0;34m\u001b[0m\u001b[0m\n\u001b[0m\u001b[1;32m   1731\u001b[0m     )\n\u001b[1;32m   1732\u001b[0m \u001b[0;34m\u001b[0m\u001b[0m\n",
      "\u001b[0;32m/opt/conda/lib/python3.7/site-packages/datasets/load.py\u001b[0m in \u001b[0;36mload_dataset_builder\u001b[0;34m(path, name, data_dir, data_files, cache_dir, features, download_config, download_mode, revision, use_auth_token, **config_kwargs)\u001b[0m\n\u001b[1;32m   1501\u001b[0m         \u001b[0mdownload_mode\u001b[0m\u001b[0;34m=\u001b[0m\u001b[0mdownload_mode\u001b[0m\u001b[0;34m,\u001b[0m\u001b[0;34m\u001b[0m\u001b[0;34m\u001b[0m\u001b[0m\n\u001b[1;32m   1502\u001b[0m         \u001b[0mdata_dir\u001b[0m\u001b[0;34m=\u001b[0m\u001b[0mdata_dir\u001b[0m\u001b[0;34m,\u001b[0m\u001b[0;34m\u001b[0m\u001b[0;34m\u001b[0m\u001b[0m\n\u001b[0;32m-> 1503\u001b[0;31m         \u001b[0mdata_files\u001b[0m\u001b[0;34m=\u001b[0m\u001b[0mdata_files\u001b[0m\u001b[0;34m,\u001b[0m\u001b[0;34m\u001b[0m\u001b[0;34m\u001b[0m\u001b[0m\n\u001b[0m\u001b[1;32m   1504\u001b[0m     )\n\u001b[1;32m   1505\u001b[0m \u001b[0;34m\u001b[0m\u001b[0m\n",
      "\u001b[0;32m/opt/conda/lib/python3.7/site-packages/datasets/load.py\u001b[0m in \u001b[0;36mdataset_module_factory\u001b[0;34m(path, revision, download_config, download_mode, dynamic_modules_path, data_dir, data_files, **download_kwargs)\u001b[0m\n\u001b[1;32m   1223\u001b[0m     \u001b[0;32melse\u001b[0m\u001b[0;34m:\u001b[0m\u001b[0;34m\u001b[0m\u001b[0;34m\u001b[0m\u001b[0m\n\u001b[1;32m   1224\u001b[0m         raise FileNotFoundError(\n\u001b[0;32m-> 1225\u001b[0;31m             \u001b[0;34mf\"Couldn't find a dataset script at {relative_to_absolute_path(combined_path)} or any data file in the same directory.\"\u001b[0m\u001b[0;34m\u001b[0m\u001b[0;34m\u001b[0m\u001b[0m\n\u001b[0m\u001b[1;32m   1226\u001b[0m         )\n\u001b[1;32m   1227\u001b[0m \u001b[0;34m\u001b[0m\u001b[0m\n",
      "\u001b[0;31mFileNotFoundError\u001b[0m: Couldn't find a dataset script at /home/jupyter/haystack/csv_qa_pairs.csv/csv_qa_pairs.csv.py or any data file in the same directory."
     ]
    }
   ],
   "source": [
    "load_dataset(\"/home/jupyter/haystack/csv_qa_pairs.csv\")"
   ]
  },
  {
   "cell_type": "code",
   "execution_count": 256,
   "id": "1a749549-699f-4eef-922f-15538a7690a3",
   "metadata": {},
   "outputs": [
    {
     "name": "stderr",
     "output_type": "stream",
     "text": [
      "WARNING:datasets.builder:Using custom data configuration default-244a8159ed99f199\n"
     ]
    },
    {
     "name": "stdout",
     "output_type": "stream",
     "text": [
      "Downloading and preparing dataset csv/default to /home/jupyter/.cache/huggingface/datasets/csv/default-244a8159ed99f199/0.0.0/6b34fb8fcf56f7c8ba51dc895bfa2bfbe43546f190a60fcf74bb5e8afdcc2317...\n"
     ]
    },
    {
     "name": "stderr",
     "output_type": "stream",
     "text": [
      "Downloading data files: 100%|██████████| 1/1 [00:00<00:00, 3771.86it/s]\n",
      "Extracting data files: 100%|██████████| 1/1 [00:00<00:00, 801.36it/s]\n",
      "2 tables [00:00, 19.31 tables/s]/opt/conda/lib/python3.7/site-packages/tqdm/std.py:1195: ResourceWarning: unclosed file <_io.BufferedReader name='/home/jupyter/haystack/csv_qa_pairs.csv'>\n",
      "ResourceWarning: Enable tracemalloc to get the object allocation traceback\n",
      "                                \r"
     ]
    },
    {
     "name": "stdout",
     "output_type": "stream",
     "text": [
      "Dataset csv downloaded and prepared to /home/jupyter/.cache/huggingface/datasets/csv/default-244a8159ed99f199/0.0.0/6b34fb8fcf56f7c8ba51dc895bfa2bfbe43546f190a60fcf74bb5e8afdcc2317. Subsequent calls will reuse this data.\n"
     ]
    },
    {
     "name": "stderr",
     "output_type": "stream",
     "text": [
      "100%|██████████| 1/1 [00:00<00:00, 334.53it/s]\n"
     ]
    }
   ],
   "source": [
    "dataset = load_dataset(\"csv\", data_files=\"csv_qa_pairs.csv\")"
   ]
  },
  {
   "cell_type": "code",
   "execution_count": 257,
   "id": "fadac5ba-10f1-41b4-b1a4-8fd711586a0d",
   "metadata": {},
   "outputs": [
    {
     "data": {
      "text/plain": [
       "DatasetDict({\n",
       "    train: Dataset({\n",
       "        features: ['Unnamed: 0', 'id', 'title', 'context', 'question', 'answer_text', 'answer_start'],\n",
       "        num_rows: 10156\n",
       "    })\n",
       "})"
      ]
     },
     "execution_count": 257,
     "metadata": {},
     "output_type": "execute_result"
    }
   ],
   "source": [
    "dataset"
   ]
  },
  {
   "cell_type": "code",
   "execution_count": 261,
   "id": "43d53e13-5ccc-4491-b01e-2519ca0d6796",
   "metadata": {},
   "outputs": [
    {
     "data": {
      "text/plain": [
       "{'Unnamed: 0': 0,\n",
       " 'id': '100000000000000000000001',\n",
       " 'title': 'f059e215ee14a89be75d577ec5ad4eb2',\n",
       " 'context': 'cdc.gov/coronavirus\\nWhat to Expect after Getting a COVID-19 Vaccine\\nThe COVID-19 shot may cause side effects in some people. Side effects should go away in a few days. On the arm where you got the shot:\\n• Pain\\n• Redness\\n• Swelling\\nIf you are sore where you got the shot:\\n• Apply a clean, cool, wet washcloth over the area\\n• Use or move your arm gently\\nIf you have a fever:\\n• Drink a lot of water\\n• Get plenty of rest\\n• Dress lightly\\nIf you have pain, headache, or fever, ask a healthcare provider (or facility\\nstaff) if you can have medicine.',\n",
       " 'question': 'What can happen to some people after getting a COVID-19 Vaccine?',\n",
       " 'answer_text': 'side effects',\n",
       " 'answer_start': 96}"
      ]
     },
     "execution_count": 261,
     "metadata": {},
     "output_type": "execute_result"
    }
   ],
   "source": [
    "dataset[\"train\"][0]"
   ]
  },
  {
   "cell_type": "code",
   "execution_count": 263,
   "id": "9130009b-b5e4-4b5e-9f07-24c68bb33794",
   "metadata": {},
   "outputs": [],
   "source": [
    "df_check.to_json('json_qa_pairs.json')"
   ]
  },
  {
   "cell_type": "code",
   "execution_count": 277,
   "id": "385abe9c-829b-4dc7-a1be-d4024b38909c",
   "metadata": {
    "tags": []
   },
   "outputs": [],
   "source": [
    "#https://huggingface.co/datasets/squad/blob/main/squad.py\n",
    "\n",
    "# coding=utf-8\n",
    "# Copyright 2020 The TensorFlow Datasets Authors and the HuggingFace Datasets Authors.\n",
    "#\n",
    "# Licensed under the Apache License, Version 2.0 (the \"License\");\n",
    "# you may not use this file except in compliance with the License.\n",
    "# You may obtain a copy of the License at\n",
    "#\n",
    "#     http://www.apache.org/licenses/LICENSE-2.0\n",
    "#\n",
    "# Unless required by applicable law or agreed to in writing, software\n",
    "# distributed under the License is distributed on an \"AS IS\" BASIS,\n",
    "# WITHOUT WARRANTIES OR CONDITIONS OF ANY KIND, either express or implied.\n",
    "# See the License for the specific language governing permissions and\n",
    "# limitations under the License.\n",
    "\n",
    "# Lint as: python3\n",
    "\"\"\"SQUAD: The Stanford Question Answering Dataset.\"\"\"\n",
    "\n",
    "\n",
    "import json\n",
    "\n",
    "import datasets\n",
    "from datasets.tasks import QuestionAnsweringExtractive\n",
    "\n",
    "\n",
    "logger = datasets.logging.get_logger(__name__)\n",
    "\n",
    "\n",
    "_CITATION = \"\"\"\\\n",
    "@article{2016arXiv160605250R,\n",
    "       author = {{Rajpurkar}, Pranav and {Zhang}, Jian and {Lopyrev},\n",
    "                 Konstantin and {Liang}, Percy},\n",
    "        title = \"{SQuAD: 100,000+ Questions for Machine Comprehension of Text}\",\n",
    "      journal = {arXiv e-prints},\n",
    "         year = 2016,\n",
    "          eid = {arXiv:1606.05250},\n",
    "        pages = {arXiv:1606.05250},\n",
    "archivePrefix = {arXiv},\n",
    "       eprint = {1606.05250},\n",
    "}\n",
    "\"\"\"\n",
    "\n",
    "_DESCRIPTION = \"\"\"\\\n",
    "Stanford Question Answering Dataset (SQuAD) is a reading comprehension \\\n",
    "dataset, consisting of questions posed by crowdworkers on a set of Wikipedia \\\n",
    "articles, where the answer to every question is a segment of text, or span, \\\n",
    "from the corresponding reading passage, or the question might be unanswerable.\n",
    "\"\"\"\n",
    "\n",
    "_URL = \"json_qa_pairs.json\"\n",
    "#_URLS = {\n",
    "#    \"train\": _URL + \"train-v1.1.json\",\n",
    "#    \"dev\": _URL + \"dev-v1.1.json\",\n",
    "#}\n",
    "\n",
    "\n",
    "class SquadConfig(datasets.BuilderConfig):\n",
    "    \"\"\"BuilderConfig for SQUAD.\"\"\"\n",
    "\n",
    "    def __init__(self, **kwargs):\n",
    "        \"\"\"BuilderConfig for SQUAD.\n",
    "        Args:\n",
    "          **kwargs: keyword arguments forwarded to super.\n",
    "        \"\"\"\n",
    "        super(SquadConfig, self).__init__(**kwargs)\n",
    "\n",
    "\n",
    "class Squad(datasets.GeneratorBasedBuilder):\n",
    "    \"\"\"SQUAD: The Stanford Question Answering Dataset. Version 1.1.\"\"\"\n",
    "\n",
    "    BUILDER_CONFIGS = [\n",
    "        SquadConfig(\n",
    "            name=\"plain_text\",\n",
    "            version=datasets.Version(\"1.0.0\", \"\"),\n",
    "            description=\"Plain text\",\n",
    "        ),\n",
    "    ]\n",
    "\n",
    "    def _info(self):\n",
    "        return datasets.DatasetInfo(\n",
    "            description=_DESCRIPTION,\n",
    "            features=datasets.Features(\n",
    "                {\n",
    "                    \"id\": datasets.Value(\"string\"),\n",
    "                    \"title\": datasets.Value(\"string\"),\n",
    "                    \"context\": datasets.Value(\"string\"),\n",
    "                    \"question\": datasets.Value(\"string\"),\n",
    "                    \"answers\": datasets.features.Sequence(\n",
    "                        {\n",
    "                            \"text\": datasets.Value(\"string\"),\n",
    "                            \"answer_start\": datasets.Value(\"int32\"),\n",
    "                        }\n",
    "                    ),\n",
    "                }\n",
    "            ),\n",
    "            # No default supervised_keys (as we have to pass both question\n",
    "            # and context as input).\n",
    "            supervised_keys=None,\n",
    "            homepage=\"http://cdc.gov\",\n",
    "            citation=_CITATION,\n",
    "            task_templates=[\n",
    "                QuestionAnsweringExtractive(\n",
    "                    question_column=\"question\", context_column=\"context\", answers_column=\"answers\"\n",
    "                )\n",
    "            ],\n",
    "        )\n",
    "\n",
    "#    def _split_generators(self, dl_manager):\n",
    "#        downloaded_files = dl_manager.download_and_extract(_URLS)\n",
    "#\n",
    "#        return [\n",
    "#            datasets.SplitGenerator(name=datasets.Split.TRAIN, gen_kwargs={\"filepath\": downloaded_files[\"train\"]}),\n",
    "#            datasets.SplitGenerator(name=datasets.Split.VALIDATION, gen_kwargs={\"filepath\": downloaded_files[\"dev\"]}),\n",
    "#        ]\n",
    "\n",
    "    def _generate_examples(self, filepath):\n",
    "        \"\"\"This function returns the examples in the raw (text) form.\"\"\"\n",
    "        logger.info(\"generating examples from = %s\", filepath)\n",
    "        key = 0\n",
    "        with open(filepath, encoding=\"utf-8\") as f:\n",
    "            cdcdata = json.load(f)\n",
    "            for article in cdcdata['root']:\n",
    "                title = article['title']\n",
    "                context = article['context']\n",
    "                answer_starts = article['answer_start']\n",
    "                answers = article['answer_text']\n",
    "                question = article['question']\n",
    "                ids = article['ids']\n",
    "\n",
    "                yield key, {\n",
    "                    \"title\": title,\n",
    "                    \"context\": context,\n",
    "                    \"question\": question,\n",
    "                    \"id\": ids,\n",
    "                    \"answers\": {\n",
    "                        \"answer_start\": answer_starts,\n",
    "                        \"text\": answers,\n",
    "                    },\n",
    "                }\n",
    "                key += 1"
   ]
  },
  {
   "cell_type": "code",
   "execution_count": 278,
   "id": "cf54dbd7-064a-4c1d-bfd1-ea41e9cf28c7",
   "metadata": {},
   "outputs": [],
   "source": [
    "cdc = SquadConfig()"
   ]
  },
  {
   "cell_type": "code",
   "execution_count": 279,
   "id": "eace437d-5e97-4d00-8c2c-9059ca0c2463",
   "metadata": {},
   "outputs": [
    {
     "ename": "AttributeError",
     "evalue": "'SquadConfig' object has no attribute 'generate_examples'",
     "output_type": "error",
     "traceback": [
      "\u001b[0;31m---------------------------------------------------------------------------\u001b[0m",
      "\u001b[0;31mAttributeError\u001b[0m                            Traceback (most recent call last)",
      "\u001b[0;32m/tmp/ipykernel_5811/694407301.py\u001b[0m in \u001b[0;36m<module>\u001b[0;34m\u001b[0m\n\u001b[0;32m----> 1\u001b[0;31m \u001b[0mcdc\u001b[0m\u001b[0;34m.\u001b[0m\u001b[0mgenerate_examples\u001b[0m\u001b[0;34m(\u001b[0m\u001b[0;34m'json_qa_pairs.json'\u001b[0m\u001b[0;34m)\u001b[0m\u001b[0;34m\u001b[0m\u001b[0;34m\u001b[0m\u001b[0m\n\u001b[0m",
      "\u001b[0;31mAttributeError\u001b[0m: 'SquadConfig' object has no attribute 'generate_examples'"
     ]
    }
   ],
   "source": [
    "cdc.generate_examples('json_qa_pairs.json')"
   ]
  },
  {
   "cell_type": "code",
   "execution_count": 299,
   "id": "0108c7d0-d092-4a0d-a76b-78e5d04cc2c6",
   "metadata": {},
   "outputs": [],
   "source": [
    "with open('json_qa_pairs.json', encoding=\"utf-8\") as f:\n",
    "            cdcdata = json.load(f)"
   ]
  },
  {
   "cell_type": "code",
   "execution_count": 311,
   "id": "9181b6f1-e76a-44de-a5b4-93cf72d09ec0",
   "metadata": {
    "tags": []
   },
   "outputs": [
    {
     "data": {
      "text/plain": [
       "'100000000000000000000001'"
      ]
     },
     "execution_count": 311,
     "metadata": {},
     "output_type": "execute_result"
    }
   ],
   "source": [
    "cdcdata['id']['0']"
   ]
  },
  {
   "cell_type": "code",
   "execution_count": 314,
   "id": "a5d54005-6709-4000-98cb-e3ba5ebe1dbe",
   "metadata": {},
   "outputs": [
    {
     "data": {
      "text/plain": [
       "10156"
      ]
     },
     "execution_count": 314,
     "metadata": {},
     "output_type": "execute_result"
    }
   ],
   "source": [
    "len(cdcdata['id'])"
   ]
  },
  {
   "cell_type": "code",
   "execution_count": 319,
   "id": "ce31a1fb-67d8-4a04-86f0-06f5594881fa",
   "metadata": {
    "tags": []
   },
   "outputs": [
    {
     "name": "stdout",
     "output_type": "stream",
     "text": [
      "100000000000000000000001\n",
      "100000000000000000000002\n",
      "100000000000000000000003\n",
      "100000000000000000000004\n",
      "100000000000000000000005\n",
      "100000000000000000000006\n",
      "100000000000000000000007\n",
      "100000000000000000000008\n",
      "100000000000000000000009\n",
      "100000000000000000000010\n"
     ]
    }
   ],
   "source": [
    "for x in range(0,10):\n",
    "    curr = str(x)\n",
    "    #print(curr)\n",
    "    #print(type(curr))\n",
    "    print(cdcdata['id'][curr])"
   ]
  },
  {
   "cell_type": "code",
   "execution_count": null,
   "id": "54e05591-b2e0-4bc0-9ddb-22d994ccec12",
   "metadata": {},
   "outputs": [],
   "source": []
  },
  {
   "cell_type": "code",
   "execution_count": null,
   "id": "6ddd16a4-a95e-47e8-aa7a-57d3f1aaca5e",
   "metadata": {},
   "outputs": [],
   "source": []
  },
  {
   "cell_type": "code",
   "execution_count": null,
   "id": "82baf832-9f7b-4c9e-86a5-9ae6e7471db9",
   "metadata": {},
   "outputs": [],
   "source": []
  },
  {
   "cell_type": "code",
   "execution_count": 330,
   "id": "bea84c64-c7a5-40b9-aff9-1be1e091967a",
   "metadata": {
    "tags": []
   },
   "outputs": [],
   "source": [
    "    def generate_examples(filepath):\n",
    "        \"\"\"This function returns the examples in the raw (text) form.\"\"\"\n",
    "        logger.info(\"generating examples from = %s\", filepath)\n",
    "        key = 0\n",
    "        with open(filepath, encoding=\"utf-8\") as f:\n",
    "            cdcdata = json.load(f)\n",
    "            for x in range(0,len(cdcdata['id'])):\n",
    "                curr = str(x)\n",
    "                title = cdcdata['title'][curr]\n",
    "                context = cdcdata['context'][curr]\n",
    "                answer_starts = cdcdata['answer_start'][curr]\n",
    "                answers = cdcdata['answer_text'][curr]\n",
    "                question = cdcdata['question'][curr]\n",
    "                ids = cdcdata['id'][curr]\n",
    "\n",
    "                yield key, {\n",
    "                    \"title\": title,\n",
    "                    \"context\": context,\n",
    "                    \"question\": question,\n",
    "                    \"id\": ids,\n",
    "                    \"answers\": {\n",
    "                        \"answer_start\": answer_starts,\n",
    "                        \"text\": answers,\n",
    "                    },\n",
    "                }\n",
    "                key += 1"
   ]
  },
  {
   "cell_type": "code",
   "execution_count": 1,
   "id": "1bcf306c-014c-4d83-b055-b09c6fd43d83",
   "metadata": {},
   "outputs": [
    {
     "ename": "NameError",
     "evalue": "name 'generate_examples' is not defined",
     "output_type": "error",
     "traceback": [
      "\u001b[0;31m---------------------------------------------------------------------------\u001b[0m",
      "\u001b[0;31mNameError\u001b[0m                                 Traceback (most recent call last)",
      "\u001b[0;32m/tmp/ipykernel_26100/1278976062.py\u001b[0m in \u001b[0;36m<module>\u001b[0;34m\u001b[0m\n\u001b[0;32m----> 1\u001b[0;31m \u001b[0mcdctest\u001b[0m \u001b[0;34m=\u001b[0m \u001b[0mgenerate_examples\u001b[0m\u001b[0;34m(\u001b[0m\u001b[0;34m'json_qa_pairs.json'\u001b[0m\u001b[0;34m)\u001b[0m\u001b[0;34m\u001b[0m\u001b[0;34m\u001b[0m\u001b[0m\n\u001b[0m",
      "\u001b[0;31mNameError\u001b[0m: name 'generate_examples' is not defined"
     ]
    }
   ],
   "source": [
    "cdctest = generate_examples('json_qa_pairs.json')"
   ]
  },
  {
   "cell_type": "code",
   "execution_count": 337,
   "id": "0a289986-8c65-4080-9ef4-9b7bf66aff7e",
   "metadata": {},
   "outputs": [
    {
     "ename": "StopIteration",
     "evalue": "",
     "output_type": "error",
     "traceback": [
      "\u001b[0;31m---------------------------------------------------------------------------\u001b[0m",
      "\u001b[0;31mStopIteration\u001b[0m                             Traceback (most recent call last)",
      "\u001b[0;32m/tmp/ipykernel_5811/2981540839.py\u001b[0m in \u001b[0;36m<module>\u001b[0;34m\u001b[0m\n\u001b[0;32m----> 1\u001b[0;31m \u001b[0mprint\u001b[0m\u001b[0;34m(\u001b[0m\u001b[0mnext\u001b[0m\u001b[0;34m(\u001b[0m\u001b[0mcdctest\u001b[0m\u001b[0;34m)\u001b[0m\u001b[0;34m)\u001b[0m\u001b[0;34m\u001b[0m\u001b[0;34m\u001b[0m\u001b[0m\n\u001b[0m",
      "\u001b[0;31mStopIteration\u001b[0m: "
     ]
    }
   ],
   "source": [
    "print(next(cdctest))"
   ]
  },
  {
   "cell_type": "code",
   "execution_count": null,
   "id": "30f07cea-e395-483e-a829-5273afbd2b48",
   "metadata": {},
   "outputs": [],
   "source": []
  }
 ],
 "metadata": {
  "environment": {
   "kernel": "python3",
   "name": "common-cu110.m98",
   "type": "gcloud",
   "uri": "gcr.io/deeplearning-platform-release/base-cu110:m98"
  },
  "kernelspec": {
   "display_name": "Python 3",
   "language": "python",
   "name": "python3"
  },
  "language_info": {
   "codemirror_mode": {
    "name": "ipython",
    "version": 3
   },
   "file_extension": ".py",
   "mimetype": "text/x-python",
   "name": "python",
   "nbconvert_exporter": "python",
   "pygments_lexer": "ipython3",
   "version": "3.7.12"
  }
 },
 "nbformat": 4,
 "nbformat_minor": 5
}
