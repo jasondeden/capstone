{
 "cells": [
  {
   "cell_type": "code",
   "execution_count": 17,
   "id": "93201f97-a865-4c7c-9703-f4ace00886e0",
   "metadata": {},
   "outputs": [],
   "source": [
    "import transformers"
   ]
  },
  {
   "cell_type": "code",
   "execution_count": 1,
   "id": "471e36d8-06c6-4cc0-846f-9b45c891c1d6",
   "metadata": {},
   "outputs": [
    {
     "name": "stderr",
     "output_type": "stream",
     "text": [
      "/opt/conda/lib/python3.7/site-packages/tqdm/auto.py:22: TqdmWarning: IProgress not found. Please update jupyter and ipywidgets. See https://ipywidgets.readthedocs.io/en/stable/user_install.html\n",
      "  from .autonotebook import tqdm as notebook_tqdm\n"
     ]
    }
   ],
   "source": [
    "from transformers import pipeline"
   ]
  },
  {
   "cell_type": "code",
   "execution_count": 3,
   "id": "8115c725-138f-4901-a9a5-d4fd3dc2bd9f",
   "metadata": {},
   "outputs": [],
   "source": [
    "## First establish baseline with no tuning model"
   ]
  },
  {
   "cell_type": "code",
   "execution_count": 2,
   "id": "ee6c9b70-cfe4-46ba-b87e-989c28850d57",
   "metadata": {},
   "outputs": [
    {
     "name": "stderr",
     "output_type": "stream",
     "text": [
      "No model was supplied, defaulted to distilbert-base-cased-distilled-squad and revision 626af31 (https://huggingface.co/distilbert-base-cased-distilled-squad).\n",
      "Using a pipeline without specifying a model name and revision in production is not recommended.\n",
      "Downloading: 100%|██████████| 473/473 [00:00<00:00, 406kB/s]\n",
      "Downloading: 100%|██████████| 261M/261M [00:07<00:00, 33.0MB/s] \n",
      "Downloading: 100%|██████████| 29.0/29.0 [00:00<00:00, 24.0kB/s]\n",
      "Downloading: 100%|██████████| 213k/213k [00:00<00:00, 1.94MB/s]\n",
      "Downloading: 100%|██████████| 436k/436k [00:00<00:00, 3.68MB/s]\n"
     ]
    }
   ],
   "source": [
    "qna = pipeline(\"question-answering\")"
   ]
  },
  {
   "cell_type": "code",
   "execution_count": 4,
   "id": "000374dd-b0b2-418c-bc0c-be8e3eab4767",
   "metadata": {},
   "outputs": [
    {
     "data": {
      "text/plain": [
       "{'score': 0.8729990124702454,\n",
       " 'start': 114,\n",
       " 'end': 133,\n",
       " 'answer': 'a well-fitting mask'}"
      ]
     },
     "execution_count": 4,
     "metadata": {},
     "output_type": "execute_result"
    }
   ],
   "source": [
    "qna(\n",
    "    question=\"What should you wear when you are in a correctional facility?\",\n",
    "    context=\"Even after your COVID-19 vaccination, when you are in a correctional facility, it’s important to continue wearing a well-fitting mask, try to stay at least 6 feet away from others as much as possible, and wash your hands often. Side effects may make you feel a little sick or even make it hard to do daily activities, but they should go away in a few days. vaccination rates and ensure that staff and residents stay up to date on their COVID-19 vaccines. COVID-19 vaccines may not fully protect you until a week or two after your final shot. It takes time for your body to build protection after any vaccination.\",\n",
    ")"
   ]
  },
  {
   "cell_type": "code",
   "execution_count": 5,
   "id": "a83adbbb-a189-49fc-ab2a-3c7e79e2a248",
   "metadata": {},
   "outputs": [],
   "source": [
    "#Answer is correct"
   ]
  },
  {
   "cell_type": "code",
   "execution_count": 7,
   "id": "97e40574-4c0a-43a2-94ec-1454ec7ff934",
   "metadata": {},
   "outputs": [
    {
     "data": {
      "text/plain": [
       "{'score': 0.9638301730155945,\n",
       " 'start': 34,\n",
       " 'end': 48,\n",
       " 'answer': 'March 13, 2021'}"
      ]
     },
     "execution_count": 7,
     "metadata": {},
     "output_type": "execute_result"
    }
   ],
   "source": [
    "qna(\n",
    "    question=\"On what date were 4,575,496 new doses administered?\",\n",
    "    context=\"Due to a delay in data syncing on March 13, 2021, 4,575,496 new doses administered were initially reported, which included records that were reported after 6:00 AM ET (the regular cutoff time for daily reporting). The site has since been updated to reflect the totals reported as of March 13 at 6:00 AM ET. Totals for March 14, 2021reflect the number of doses reported through the regular daily reporting period. Dose counts for the state of Connecticut were updated March 13, 2021to correct for data transmission errors that began on February 20, 2021.\",\n",
    ")"
   ]
  },
  {
   "cell_type": "code",
   "execution_count": 8,
   "id": "bf6861e6-48d7-4936-9f67-7fd9b6424874",
   "metadata": {},
   "outputs": [],
   "source": [
    "## Not surprising, as the model answering the questions is also the model that was used to generate them. :)"
   ]
  },
  {
   "cell_type": "code",
   "execution_count": 19,
   "id": "a5712585-ebaa-4155-bc21-80c706d28029",
   "metadata": {},
   "outputs": [
    {
     "name": "stderr",
     "output_type": "stream",
     "text": [
      "Downloading: 100%|██████████| 798/798 [00:00<00:00, 757kB/s]\n",
      "Downloading: 100%|██████████| 2.24G/2.24G [00:33<00:00, 66.6MB/s]\n",
      "Downloading: 100%|██████████| 268/268 [00:00<00:00, 153kB/s]\n",
      "Downloading: 100%|██████████| 14.5M/14.5M [00:00<00:00, 55.0MB/s]\n",
      "Downloading: 100%|██████████| 96.0/96.0 [00:00<00:00, 121kB/s]\n"
     ]
    }
   ],
   "source": [
    "qnaB = pipeline(\"question-answering\", model=\"jasoneden/bloom560m-squad-helloworld\")"
   ]
  },
  {
   "cell_type": "code",
   "execution_count": 20,
   "id": "f40a0c0d-1396-462f-91dc-686c585a9e8c",
   "metadata": {},
   "outputs": [
    {
     "name": "stderr",
     "output_type": "stream",
     "text": [
      "/opt/conda/lib/python3.7/site-packages/transformers/models/bloom/modeling_bloom.py:659: FutureWarning: `position_ids` have no functionality in BLOOM and will be removed in v5.0.0. You can safely ignore passing `position_ids`.\n",
      "  FutureWarning,\n"
     ]
    },
    {
     "data": {
      "text/plain": [
       "{'score': 0.035508133471012115, 'start': 155, 'end': 162, 'answer': ' 6 feet'}"
      ]
     },
     "execution_count": 20,
     "metadata": {},
     "output_type": "execute_result"
    }
   ],
   "source": [
    "qnaB(\n",
    "    question=\"What should you wear when you are in a correctional facility?\",\n",
    "    context=\"Even after your COVID-19 vaccination, when you are in a correctional facility, it’s important to continue wearing a well-fitting mask, try to stay at least 6 feet away from others as much as possible, and wash your hands often. Side effects may make you feel a little sick or even make it hard to do daily activities, but they should go away in a few days. vaccination rates and ensure that staff and residents stay up to date on their COVID-19 vaccines. COVID-19 vaccines may not fully protect you until a week or two after your final shot. It takes time for your body to build protection after any vaccination.\",\n",
    ")"
   ]
  },
  {
   "cell_type": "code",
   "execution_count": 21,
   "id": "2ea2751b-cdf1-41ec-9b5a-d5f295caf9e6",
   "metadata": {},
   "outputs": [
    {
     "data": {
      "text/plain": [
       "{'score': 0.1236937940120697,\n",
       " 'start': 33,\n",
       " 'end': 59,\n",
       " 'answer': ' March 13, 2021, 4,575,496'}"
      ]
     },
     "execution_count": 21,
     "metadata": {},
     "output_type": "execute_result"
    }
   ],
   "source": [
    "qnaB(\n",
    "    question=\"On what date were 4,575,496 new doses administered?\",\n",
    "    context=\"Due to a delay in data syncing on March 13, 2021, 4,575,496 new doses administered were initially reported, which included records that were reported after 6:00 AM ET (the regular cutoff time for daily reporting). The site has since been updated to reflect the totals reported as of March 13 at 6:00 AM ET. Totals for March 14, 2021reflect the number of doses reported through the regular daily reporting period. Dose counts for the state of Connecticut were updated March 13, 2021to correct for data transmission errors that began on February 20, 2021.\",\n",
    ")"
   ]
  },
  {
   "cell_type": "code",
   "execution_count": 22,
   "id": "80809ca7-848a-4452-a6a6-2e04ea9d38e9",
   "metadata": {},
   "outputs": [
    {
     "data": {
      "text/plain": [
       "{'score': 0.0524912066757679,\n",
       " 'start': 39,\n",
       " 'end': 118,\n",
       " 'answer': ' COVID-19, and vaccination against COVID-19 is recommended for everyone 5 years'}"
      ]
     },
     "execution_count": 22,
     "metadata": {},
     "output_type": "execute_result"
    }
   ],
   "source": [
    "qnaB(\n",
    "    question=\"What is the term for a person who has antibodies to SARS-CoV-2 who may become infected after vaccination?\",\n",
    "    context=\"Getting a vaccine is safer than getting COVID-19, and vaccination against COVID-19 is recommended for everyone 5 years of age and older. If someone has already had COVID-19, vaccination against COVID-19 increases their body’s antibody response, which improves their protection. It is important to remember that some people with antibodies to SARS-CoV-2 may become infected after vaccination (vaccine breakthrough infection) or after recovering from a past infection (reinfected). Based on what we know right now, risk of reinfection is low for at least the first 6 months following an infection with the virus that causes COVID-19 diagnosed by a laboratory test.\",\n",
    ")"
   ]
  },
  {
   "cell_type": "code",
   "execution_count": 23,
   "id": "ccbc17e3-faa1-4ada-a06d-ce0a9add0652",
   "metadata": {},
   "outputs": [
    {
     "data": {
      "text/plain": [
       "{'score': 0.9321550726890564,\n",
       " 'start': 392,\n",
       " 'end': 422,\n",
       " 'answer': 'vaccine breakthrough infection'}"
      ]
     },
     "execution_count": 23,
     "metadata": {},
     "output_type": "execute_result"
    }
   ],
   "source": [
    "qna(\n",
    "    question=\"What is the term for a person who has antibodies to SARS-CoV-2 who may become infected after vaccination?\",\n",
    "    context=\"Getting a vaccine is safer than getting COVID-19, and vaccination against COVID-19 is recommended for everyone 5 years of age and older. If someone has already had COVID-19, vaccination against COVID-19 increases their body’s antibody response, which improves their protection. It is important to remember that some people with antibodies to SARS-CoV-2 may become infected after vaccination (vaccine breakthrough infection) or after recovering from a past infection (reinfected). Based on what we know right now, risk of reinfection is low for at least the first 6 months following an infection with the virus that causes COVID-19 diagnosed by a laboratory test.\",\n",
    ")"
   ]
  },
  {
   "cell_type": "code",
   "execution_count": 25,
   "id": "0c59e617-1fed-4c9e-8436-e93b2df8cabf",
   "metadata": {},
   "outputs": [],
   "source": [
    "# Unsurprisingly, the BLOOM model is not performing very well on the question answering task as given, and especially not\n",
    "# when compared to a basic BERT-based model."
   ]
  },
  {
   "cell_type": "code",
   "execution_count": null,
   "id": "aa82a1bd-8934-45c4-aa1b-bba7423f8e4e",
   "metadata": {},
   "outputs": [],
   "source": []
  }
 ],
 "metadata": {
  "environment": {
   "kernel": "python3",
   "name": "common-cu110.m98",
   "type": "gcloud",
   "uri": "gcr.io/deeplearning-platform-release/base-cu110:m98"
  },
  "kernelspec": {
   "display_name": "Python 3",
   "language": "python",
   "name": "python3"
  },
  "language_info": {
   "codemirror_mode": {
    "name": "ipython",
    "version": 3
   },
   "file_extension": ".py",
   "mimetype": "text/x-python",
   "name": "python",
   "nbconvert_exporter": "python",
   "pygments_lexer": "ipython3",
   "version": "3.7.12"
  }
 },
 "nbformat": 4,
 "nbformat_minor": 5
}
